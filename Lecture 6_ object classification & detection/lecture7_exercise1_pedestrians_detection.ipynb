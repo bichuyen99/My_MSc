{
 "cells": [
  {
   "cell_type": "code",
   "execution_count": null,
   "metadata": {},
   "outputs": [],
   "source": [
    "# !pip install xmltodict"
   ]
  },
  {
   "cell_type": "markdown",
   "metadata": {},
   "source": [
    "### Reading utils\n",
    "Data source: http://www.robots.ox.ac.uk/ActiveVision/Research/Projects/2009bbenfold_headpose/Datasets/\n",
    "\n",
    "The extracted images are in canvas. Also, the same zip can be found here: https://box.skoltech.ru/index.php/s/GpkIScLyG9zM5YF"
   ]
  },
  {
   "cell_type": "code",
   "execution_count": null,
   "metadata": {},
   "outputs": [],
   "source": [
    "import matplotlib.pyplot as plt\n",
    "from matplotlib import cm\n",
    "%matplotlib inline"
   ]
  },
  {
   "cell_type": "code",
   "execution_count": null,
   "metadata": {},
   "outputs": [],
   "source": [
    "from skimage import io\n",
    "from skimage import data\n",
    "from skimage.color import rgb2gray\n",
    "from skimage.draw import rectangle_perimeter"
   ]
  },
  {
   "cell_type": "code",
   "execution_count": null,
   "metadata": {},
   "outputs": [],
   "source": [
    "import glob\n",
    "from os.path import join\n",
    "import xmltodict\n",
    "import numpy as np\n",
    "\n",
    "XML_PATH = './pedestrian_hog/annotations/xmls/'\n",
    "TRAIN_PATH = './pedestrian_hog/images/'\n",
    "TEST_PATH = './pedestrian_hog/test_images/'\n",
    "TEST_STARTS_WITH = 3600"
   ]
  },
  {
   "cell_type": "code",
   "execution_count": null,
   "metadata": {},
   "outputs": [],
   "source": [
    "def _bbox_to_np(bbox):\n",
    "    rect = np.array([[bbox['xmin'], bbox['xmax']], \n",
    "                 [bbox['ymin'], bbox['ymax']]\n",
    "                ])  \n",
    "    return rect.astype(int)\n",
    "\n",
    "def _read_annotation_xml(fname):\n",
    "    with open (fname, \"r\") as file:\n",
    "        xml = file.readlines()\n",
    "    annotation_dict = xmltodict.parse(''.join(xml))\n",
    "    return [_bbox_to_np(x['bndbox']) \n",
    "            for x in annotation_dict['annotation']['object']]\n",
    "\n",
    "def _get_pair(num):\n",
    "    image_path = TRAIN_PATH if num < TEST_STARTS_WITH else TEST_PATH\n",
    "    image = io.imread(join(image_path, '{}.jpg'.format(num)))\n",
    "    image = rgb2gray(image)\n",
    "    annotations = _read_annotation_xml(join(XML_PATH, '{}.xml'.format(num)))\n",
    "    return image, annotations    \n",
    "    \n",
    "def get_train_sample(truncate=3000, step=10):\n",
    "    return [_get_pair(i) for i in range(0, truncate, step)]\n",
    "\n",
    "def get_test_sample(truncate=1000, step=100):\n",
    "    return [_get_pair(i + TEST_STARTS_WITH) \n",
    "            for i in range(0, truncate, step)]"
   ]
  },
  {
   "cell_type": "code",
   "execution_count": null,
   "metadata": {},
   "outputs": [],
   "source": [
    "train = get_train_sample()\n",
    "test = get_test_sample()"
   ]
  },
  {
   "cell_type": "code",
   "execution_count": null,
   "metadata": {},
   "outputs": [],
   "source": [
    "len(train), len(test)"
   ]
  },
  {
   "cell_type": "code",
   "execution_count": null,
   "metadata": {},
   "outputs": [],
   "source": [
    "train[0][1][0]  # [[x1, x2], [y1, y2]]"
   ]
  },
  {
   "cell_type": "markdown",
   "metadata": {},
   "source": [
    "#### Now we have a set of annotated images"
   ]
  },
  {
   "cell_type": "code",
   "execution_count": null,
   "metadata": {},
   "outputs": [],
   "source": [
    "def plot_frame(image, bboxes, c=None):\n",
    "    plt.figure(figsize=[10, 7])\n",
    "    plt.imshow(image, cmap=cm.gray)\n",
    "    \n",
    "    for bbox in bboxes:\n",
    "        plt.plot(*rectangle_perimeter(bbox[:, 0], bbox[:, 1]), c=c)\n",
    "        \n",
    "    plt.xlim([0, image.shape[1]])\n",
    "    plt.ylim([image.shape[0], 0])"
   ]
  },
  {
   "cell_type": "code",
   "execution_count": null,
   "metadata": {},
   "outputs": [],
   "source": [
    "image, bboxes = train[0]"
   ]
  },
  {
   "cell_type": "code",
   "execution_count": null,
   "metadata": {},
   "outputs": [],
   "source": [
    "def get_patch(image, bbox):\n",
    "    xmin = max(0, bbox[1, 0])\n",
    "    xmax = bbox[1, 1]\n",
    "    ymin = max(0, bbox[0, 0])\n",
    "    ymax = bbox[0, 1]\n",
    "    return image[xmin:xmax, ymin:ymax]"
   ]
  },
  {
   "cell_type": "code",
   "execution_count": null,
   "metadata": {},
   "outputs": [],
   "source": [
    "plt.figure(figsize=[10, 5])\n",
    "for i in range(4):\n",
    "    plt.subplot(1, 4, i+1)\n",
    "    io.imshow(get_patch(image, bboxes[i]))"
   ]
  },
  {
   "cell_type": "code",
   "execution_count": null,
   "metadata": {},
   "outputs": [],
   "source": [
    "plot_frame(image, bboxes)"
   ]
  },
  {
   "cell_type": "markdown",
   "metadata": {},
   "source": [
    "### Part 1: prepare the dataset\n",
    "#### a. write a function to extract positive samples\n",
    "#### b. write a function to extract negative samples"
   ]
  },
  {
   "cell_type": "code",
   "execution_count": null,
   "metadata": {},
   "outputs": [],
   "source": [
    "from random import choice, randint"
   ]
  },
  {
   "cell_type": "code",
   "execution_count": null,
   "metadata": {},
   "outputs": [],
   "source": [
    "def positive_generator(data):\n",
    "    \n",
    "    for img, ann in data:  # looping over the dataset\n",
    "        for bbox in ann:  # looping over bounding boxes within one image\n",
    "            yield get_patch(img, bbox), bbox"
   ]
  },
  {
   "cell_type": "code",
   "execution_count": null,
   "metadata": {},
   "outputs": [],
   "source": [
    "pos_gen = positive_generator(train)"
   ]
  },
  {
   "cell_type": "code",
   "execution_count": null,
   "metadata": {},
   "outputs": [],
   "source": [
    "for img, bbox in pos_gen:\n",
    "    \n",
    "    io.imshow(img)\n",
    "    print(bbox)\n",
    "    \n",
    "    break"
   ]
  },
  {
   "cell_type": "code",
   "execution_count": null,
   "metadata": {},
   "outputs": [],
   "source": [
    "# len(list(pos_gen))"
   ]
  },
  {
   "cell_type": "code",
   "execution_count": null,
   "metadata": {},
   "outputs": [],
   "source": []
  },
  {
   "cell_type": "code",
   "execution_count": null,
   "metadata": {},
   "outputs": [],
   "source": [
    "def get_data_stats(data):\n",
    "    \n",
    "    num_samples = len(list(positive_generator(data)))\n",
    "    ws, hs = [], []\n",
    "    \n",
    "    for _, bbox in positive_generator(data):\n",
    "        ws.append(bbox[0][1] - bbox[0][0])\n",
    "        hs.append(bbox[1][1] - bbox[1][0])\n",
    "    \n",
    "    ws, hs = np.array(ws), np.array(hs)\n",
    "    return num_samples, (ws.mean(), ws.std()), (hs.mean(), hs.std())"
   ]
  },
  {
   "cell_type": "code",
   "execution_count": null,
   "metadata": {},
   "outputs": [],
   "source": [
    "get_data_stats(train)"
   ]
  },
  {
   "cell_type": "code",
   "execution_count": null,
   "metadata": {},
   "outputs": [],
   "source": [
    "from IPython.display import Image\n",
    "Image(filename='iou.png') "
   ]
  },
  {
   "cell_type": "code",
   "execution_count": null,
   "metadata": {},
   "outputs": [],
   "source": [
    "def get_iou(bbox1, bbox2):\n",
    "    \n",
    "    assert bbox1[0][0] < bbox1[0][1]\n",
    "    assert bbox1[1][0] < bbox1[1][1]\n",
    "    assert bbox2[0][0] < bbox2[0][1]\n",
    "    assert bbox2[1][0] < bbox2[1][1]\n",
    "\n",
    "    x_left = max(bbox1[0][0], bbox2[0][0])\n",
    "    y_top = max(bbox1[1][0], bbox2[1][0])\n",
    "    x_right = min(bbox1[0][1], bbox2[0][1])\n",
    "    y_bottom = min(bbox1[1][1], bbox2[1][1])\n",
    "\n",
    "    if x_right < x_left or y_bottom < y_top:\n",
    "        return 0.0\n",
    "\n",
    "    intersection_area = (x_right - x_left) * (y_bottom - y_top)\n",
    "\n",
    "    bbox1_area = (bbox1[0][1] - bbox1[0][0]) * (bbox1[1][1] - bbox1[1][0])\n",
    "    bbox2_area = (bbox2[0][1] - bbox2[0][0]) * (bbox2[1][1] - bbox2[1][0])\n",
    "\n",
    "    iou = intersection_area / float(bbox1_area + bbox2_area - intersection_area)\n",
    "    \n",
    "    assert iou >= 0.0\n",
    "    assert iou <= 1.0\n",
    "    \n",
    "    return iou"
   ]
  },
  {
   "cell_type": "code",
   "execution_count": null,
   "metadata": {},
   "outputs": [],
   "source": [
    "def negative_generator(data, neg_pos_ratio=1.0, min_iou=0, max_iou=0.2):\n",
    "    MIN_WIDTH, MIN_HEIGHT = 15, 60\n",
    "    pos_samples, w_stats, h_stats = get_data_stats(train)\n",
    "    num_samples = int(pos_samples * neg_pos_ratio)\n",
    "    \n",
    "    for i in range(num_samples):\n",
    "        img, ann = choice(data)\n",
    "        bad_sample = True\n",
    "        \n",
    "        while bad_sample:\n",
    "            \n",
    "            # Generate a random bbox\n",
    "            w = int(np.random.normal(*w_stats, 1)[0])\n",
    "            h = int(np.random.normal(*h_stats, 1)[0])\n",
    "            \n",
    "            if w < MIN_WIDTH or h < MIN_HEIGHT:\n",
    "                continue\n",
    "            \n",
    "            x0 = randint(0, img.shape[1] - w - 1)\n",
    "            y0 = randint(0, img.shape[0] - h - 1)\n",
    "            \n",
    "            bbox_candidate = np.array([[x0, x0+w], [y0, y0+h]])\n",
    "            \n",
    "            # Compare with positive bboxes\n",
    "            candidate_max_iou = 0\n",
    "            for pos_bbox in ann:\n",
    "                iou = get_iou(bbox_candidate, pos_bbox)\n",
    "                candidate_max_iou = max(candidate_max_iou, iou)\n",
    "                \n",
    "            if candidate_max_iou >= min_iou and candidate_max_iou <= max_iou:\n",
    "                bad_sample = False\n",
    "            \n",
    "        yield get_patch(img, bbox_candidate), bbox_candidate"
   ]
  },
  {
   "cell_type": "code",
   "execution_count": null,
   "metadata": {},
   "outputs": [],
   "source": [
    "neg_gen = negative_generator(train)"
   ]
  },
  {
   "cell_type": "code",
   "execution_count": null,
   "metadata": {},
   "outputs": [],
   "source": [
    "# neg_gen = negative_generator(train, min_iou=0.05, max_iou=0.3)"
   ]
  },
  {
   "cell_type": "code",
   "execution_count": null,
   "metadata": {},
   "outputs": [],
   "source": [
    "for img, bbox in neg_gen:\n",
    "    \n",
    "    io.imshow(img)\n",
    "    print(bbox)\n",
    "    \n",
    "    break"
   ]
  },
  {
   "cell_type": "code",
   "execution_count": null,
   "metadata": {},
   "outputs": [],
   "source": []
  },
  {
   "cell_type": "code",
   "execution_count": null,
   "metadata": {},
   "outputs": [],
   "source": []
  },
  {
   "cell_type": "markdown",
   "metadata": {},
   "source": [
    "### Part 2: Classification\n",
    "#### a. Extract HOG features\n",
    "#### b. Train linear SVM and estimate prediciton quality using cross-validation\n",
    "#### c. Train linear SVM with hard-negative samples"
   ]
  },
  {
   "cell_type": "code",
   "execution_count": null,
   "metadata": {},
   "outputs": [],
   "source": [
    "from skimage.feature import hog\n",
    "from skimage import data, exposure\n",
    "from skimage.transform import resize"
   ]
  },
  {
   "cell_type": "markdown",
   "metadata": {},
   "source": [
    "Resize images to a fixed size to have fixed-sized HOG features"
   ]
  },
  {
   "cell_type": "code",
   "execution_count": null,
   "metadata": {},
   "outputs": [],
   "source": [
    "img, bbox = next(iter(pos_gen))\n",
    "\n",
    "image_resized = resize(img, (64, 32),\n",
    "                       anti_aliasing=True)\n",
    "\n",
    "fd, hog_image = hog(image_resized, orientations=4, pixels_per_cell=(4, 4),\n",
    "                cells_per_block=(2, 2), visualize=True)\n",
    "print(img.shape, fd.shape)\n",
    "\n",
    "fig, (ax1, ax2) = plt.subplots(1, 2, figsize=(12, 8), sharex=True, sharey=True)\n",
    "\n",
    "ax1.axis('off')\n",
    "ax1.imshow(image_resized, cmap=plt.cm.gray)\n",
    "ax1.set_title('Input image')\n",
    "\n",
    "# Rescale histogram for better display\n",
    "hog_image_rescaled = exposure.rescale_intensity(hog_image, in_range=(0, 10))\n",
    "\n",
    "ax2.axis('off')\n",
    "ax2.imshow(hog_image_rescaled, cmap=plt.cm.gray)\n",
    "ax2.set_title('Histogram of Oriented Gradients')\n",
    "plt.show()"
   ]
  },
  {
   "cell_type": "code",
   "execution_count": null,
   "metadata": {},
   "outputs": [],
   "source": [
    "def img2hog(img):\n",
    "    image_resized = resize(img, (64, 32), anti_aliasing=True)\n",
    "    fd = hog(image_resized, orientations=4, pixels_per_cell=(4, 4),\n",
    "                    cells_per_block=(2, 2), visualize=False)\n",
    "    return fd"
   ]
  },
  {
   "cell_type": "code",
   "execution_count": null,
   "metadata": {},
   "outputs": [],
   "source": [
    "def get_hog_features(data, neg_pos_ratio=1.0, hard_neg=False):\n",
    "    \n",
    "    X, y = [], []\n",
    "    pos_gen = positive_generator(data)\n",
    "    \n",
    "    if hard_neg:\n",
    "        neg_gen = negative_generator(train, min_iou=0.05, max_iou=0.3)\n",
    "    else:\n",
    "        neg_gen = negative_generator(data)\n",
    "    \n",
    "    \n",
    "    for img, _ in pos_gen:\n",
    "        X.append(img2hog(img))\n",
    "        y.append(1)\n",
    "    \n",
    "    for img, _ in neg_gen:\n",
    "        X.append(img2hog(img))\n",
    "        y.append(0)\n",
    "    \n",
    "    idxs = np.arange(len(y))\n",
    "    np.random.shuffle(idxs)\n",
    "    \n",
    "    return np.array(X)[idxs], np.array(y)[idxs]"
   ]
  },
  {
   "cell_type": "markdown",
   "metadata": {},
   "source": [
    "Generate training and test data"
   ]
  },
  {
   "cell_type": "code",
   "execution_count": null,
   "metadata": {},
   "outputs": [],
   "source": [
    "%%time\n",
    "X, y = get_hog_features(train)"
   ]
  },
  {
   "cell_type": "code",
   "execution_count": null,
   "metadata": {},
   "outputs": [],
   "source": [
    "X.shape, y.shape"
   ]
  },
  {
   "cell_type": "code",
   "execution_count": null,
   "metadata": {},
   "outputs": [],
   "source": [
    "%%time\n",
    "X_test, y_test = get_hog_features(test)"
   ]
  },
  {
   "cell_type": "code",
   "execution_count": null,
   "metadata": {},
   "outputs": [],
   "source": [
    "X_test.shape, y_test.shape"
   ]
  },
  {
   "cell_type": "markdown",
   "metadata": {},
   "source": [
    "Train an SVM classifier"
   ]
  },
  {
   "cell_type": "code",
   "execution_count": null,
   "metadata": {},
   "outputs": [],
   "source": [
    "from sklearn.svm import SVC\n",
    "from sklearn.model_selection import cross_val_score\n",
    "from joblib import dump, load\n",
    "from sklearn.metrics import accuracy_score"
   ]
  },
  {
   "cell_type": "code",
   "execution_count": null,
   "metadata": {},
   "outputs": [],
   "source": [
    "%%time\n",
    "scores = cross_val_score(SVC(), X, y, cv=3, n_jobs=3)"
   ]
  },
  {
   "cell_type": "code",
   "execution_count": null,
   "metadata": {},
   "outputs": [],
   "source": [
    "scores"
   ]
  },
  {
   "cell_type": "code",
   "execution_count": null,
   "metadata": {},
   "outputs": [],
   "source": [
    "clf = SVC(probability=True)\n",
    "clf.fit(X, y)"
   ]
  },
  {
   "cell_type": "markdown",
   "metadata": {},
   "source": [
    "Save the trained model"
   ]
  },
  {
   "cell_type": "code",
   "execution_count": null,
   "metadata": {},
   "outputs": [],
   "source": [
    "dump(clf, 'pedestrian_svm.joblib') "
   ]
  },
  {
   "cell_type": "code",
   "execution_count": null,
   "metadata": {},
   "outputs": [],
   "source": [
    "clf = load('pedestrian_svm.joblib') "
   ]
  },
  {
   "cell_type": "code",
   "execution_count": null,
   "metadata": {},
   "outputs": [],
   "source": [
    "n = 0\n",
    "clf.predict_proba(X[n].reshape(1, -1)), y[n]"
   ]
  },
  {
   "cell_type": "code",
   "execution_count": null,
   "metadata": {},
   "outputs": [],
   "source": [
    "clf.predict(X[n].reshape(1, -1)), y[n]"
   ]
  },
  {
   "cell_type": "markdown",
   "metadata": {},
   "source": [
    "Re-train a classifier with hard-negative samples"
   ]
  },
  {
   "cell_type": "code",
   "execution_count": null,
   "metadata": {},
   "outputs": [],
   "source": [
    "X_hard, y_hard = get_hog_features(train, hard_neg=True)"
   ]
  },
  {
   "cell_type": "code",
   "execution_count": null,
   "metadata": {},
   "outputs": [],
   "source": [
    "%%time\n",
    "scores_hard = cross_val_score(SVC(), X_hard, y_hard, cv=3, n_jobs=3)"
   ]
  },
  {
   "cell_type": "code",
   "execution_count": null,
   "metadata": {},
   "outputs": [],
   "source": [
    "scores_hard"
   ]
  },
  {
   "cell_type": "code",
   "execution_count": null,
   "metadata": {},
   "outputs": [],
   "source": [
    "clf_hard = SVC(probability=True)\n",
    "clf_hard.fit(X_hard, y_hard)"
   ]
  },
  {
   "cell_type": "markdown",
   "metadata": {},
   "source": [
    "Check models performance on the test set"
   ]
  },
  {
   "cell_type": "code",
   "execution_count": null,
   "metadata": {},
   "outputs": [],
   "source": [
    "%%time\n",
    "accuracy_score(clf.predict(X_test), y_test, normalize=True)"
   ]
  },
  {
   "cell_type": "code",
   "execution_count": null,
   "metadata": {},
   "outputs": [],
   "source": [
    "accuracy_score(clf_hard.predict(X_test), y_test, normalize=True)"
   ]
  },
  {
   "cell_type": "code",
   "execution_count": null,
   "metadata": {},
   "outputs": [],
   "source": []
  },
  {
   "cell_type": "markdown",
   "metadata": {},
   "source": [
    "## Part 3: Object detection"
   ]
  },
  {
   "cell_type": "markdown",
   "metadata": {},
   "source": [
    "Generate moving windows acrosss an image"
   ]
  },
  {
   "cell_type": "code",
   "execution_count": null,
   "metadata": {},
   "outputs": [],
   "source": [
    "def moving_window_generator(img, stride=(1, 1), anchors=None):\n",
    "    \n",
    "    if anchors is None:\n",
    "        anchors = [\n",
    "            (100, 40)        \n",
    "        ]\n",
    "    \n",
    "    for (bbox_h, bbox_w) in anchors:\n",
    "        for y0 in range(0, img.shape[0] - bbox_h - 1, stride[0]):\n",
    "            for x0 in range(0, img.shape[1] - bbox_w - 1, stride[1]):\n",
    "                yield np.array([\n",
    "                    [x0, x0 + bbox_w],\n",
    "                    [y0, y0 + bbox_h]\n",
    "                ])"
   ]
  },
  {
   "cell_type": "code",
   "execution_count": null,
   "metadata": {},
   "outputs": [],
   "source": [
    "plot_frame(image, [bbox for bbox in moving_window_generator(image, stride=(10, 10))])"
   ]
  },
  {
   "cell_type": "code",
   "execution_count": null,
   "metadata": {},
   "outputs": [],
   "source": [
    "plot_frame(image, [bbox for bbox in moving_window_generator(image, stride=(50, 20))])"
   ]
  },
  {
   "cell_type": "code",
   "execution_count": null,
   "metadata": {},
   "outputs": [],
   "source": [
    "plot_frame(image, [bbox for bbox in moving_window_generator(image, stride=(150, 150),\n",
    "    anchors=[\n",
    "        [80, 30],\n",
    "        [100, 40],\n",
    "        [120, 50],\n",
    "        \n",
    "        [80, 50],\n",
    "        [80, 60]\n",
    "    ])])"
   ]
  },
  {
   "cell_type": "markdown",
   "metadata": {},
   "source": [
    "Make prediction for each window"
   ]
  },
  {
   "cell_type": "code",
   "execution_count": null,
   "metadata": {},
   "outputs": [],
   "source": [
    "def detect(img, clf, thres=.5):\n",
    "    \n",
    "    candidate_bboxes = []\n",
    "    confs = []\n",
    "    \n",
    "    for bbox in moving_window_generator(image, stride=(10, 10),\n",
    "        anchors=[\n",
    "            [80, 30],\n",
    "            [100, 40],\n",
    "            [120, 50],\n",
    "\n",
    "            [80, 50],\n",
    "            [80, 60]\n",
    "        ]):\n",
    "        patch = get_patch(img, bbox)\n",
    "        hog = img2hog(patch)\n",
    "        proba = clf.predict_proba(hog.reshape(1, -1))\n",
    "        \n",
    "        if proba[0][1] > thres:\n",
    "            candidate_bboxes.append(bbox)\n",
    "            confs.append(proba[0][1])\n",
    "        \n",
    "    return np.array(candidate_bboxes), np.array(confs)"
   ]
  },
  {
   "cell_type": "code",
   "execution_count": null,
   "metadata": {},
   "outputs": [],
   "source": [
    "%%time\n",
    "n = 0\n",
    "plot_frame(test[n][0], detect(test[n][0], clf_hard, thres=.5)[0])"
   ]
  },
  {
   "cell_type": "code",
   "execution_count": null,
   "metadata": {},
   "outputs": [],
   "source": [
    "%%time\n",
    "n = 0\n",
    "tmp_pred, tmp_confs = detect(test[n][0], clf_hard, thres=.95)\n",
    "plot_frame(test[n][0], tmp_pred)"
   ]
  },
  {
   "cell_type": "markdown",
   "metadata": {},
   "source": [
    "#### In addition to some number of false positives, we also have highly overlapping bboxes. To remove them, we need to apply non-maximum suppression"
   ]
  },
  {
   "cell_type": "code",
   "execution_count": null,
   "metadata": {},
   "outputs": [],
   "source": [
    "def nms(bboxes, confs, iou_thres=0.3):\n",
    "    \n",
    "    final_bboxes = []\n",
    "    idxs = np.argsort(confs)[::-1]\n",
    "    confs = confs[idxs]\n",
    "    bboxes = list(bboxes[idxs])\n",
    "    \n",
    "    while len(bboxes) > 0:\n",
    "        \n",
    "        major_bbox = bboxes[0]\n",
    "        bboxes = bboxes[1:]\n",
    "        final_bboxes.append(major_bbox)\n",
    "        overlapped_idxs = []\n",
    "        \n",
    "        for i, bbox in enumerate(bboxes):\n",
    "            if get_iou(major_bbox, bbox) > iou_thres:\n",
    "                overlapped_idxs.append(i)\n",
    "        \n",
    "        overlapped_idxs = sorted(overlapped_idxs, reverse=True)\n",
    "        for idx in overlapped_idxs:\n",
    "            bboxes.pop(idx)\n",
    "        \n",
    "    return np.array(final_bboxes)"
   ]
  },
  {
   "cell_type": "code",
   "execution_count": null,
   "metadata": {},
   "outputs": [],
   "source": [
    "%%time\n",
    "bboxes = nms(tmp_pred, tmp_confs)"
   ]
  },
  {
   "cell_type": "code",
   "execution_count": null,
   "metadata": {},
   "outputs": [],
   "source": [
    "plot_frame(test[n][0], bboxes)"
   ]
  },
  {
   "cell_type": "markdown",
   "metadata": {},
   "source": [
    "Visulize all test set"
   ]
  },
  {
   "cell_type": "code",
   "execution_count": null,
   "metadata": {},
   "outputs": [],
   "source": [
    "%%time\n",
    "fig, axs = plt.subplots(len(test), 2, figsize=(15, 5 * len(test)), sharex=True, sharey=True)\n",
    "\n",
    "for i, (img, gt_bbox) in enumerate(test):\n",
    "    gt_bbox = np.array(gt_bbox)\n",
    "    pred_bbox, pred_confs = detect(img, clf_hard, thres=.95)\n",
    "    pred_bbox = nms(pred_bbox, pred_confs)\n",
    "    \n",
    "    axs[i, 0].imshow(img, cmap=cm.gray)\n",
    "    for bbox in gt_bbox:\n",
    "        axs[i, 0].plot(*rectangle_perimeter(bbox[:, 0], bbox[:, 1]))\n",
    "    \n",
    "    axs[i, 1].imshow(img, cmap=cm.gray)\n",
    "    for bbox in pred_bbox:\n",
    "        axs[i, 1].plot(*rectangle_perimeter(bbox[:, 0], bbox[:, 1]))\n",
    "\n",
    "plt.show();"
   ]
  },
  {
   "cell_type": "code",
   "execution_count": null,
   "metadata": {},
   "outputs": [],
   "source": []
  },
  {
   "cell_type": "markdown",
   "metadata": {},
   "source": [
    "Further improvements:\n",
    "* Find better anchors via clustering\n",
    "* Tune SVM (and try other classifiers)\n",
    "* Image augmentations\n",
    "* Tune HOG parameters"
   ]
  }
 ],
 "metadata": {
  "kernelspec": {
   "display_name": "Python 3 (ipykernel)",
   "language": "python",
   "name": "python3"
  },
  "language_info": {
   "codemirror_mode": {
    "name": "ipython",
    "version": 3
   },
   "file_extension": ".py",
   "mimetype": "text/x-python",
   "name": "python",
   "nbconvert_exporter": "python",
   "pygments_lexer": "ipython3",
   "version": "3.9.12"
  }
 },
 "nbformat": 4,
 "nbformat_minor": 4
}
