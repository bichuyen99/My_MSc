{
  "nbformat": 4,
  "nbformat_minor": 0,
  "metadata": {
    "colab": {
      "provenance": []
    },
    "kernelspec": {
      "name": "python3",
      "display_name": "Python 3"
    },
    "language_info": {
      "name": "python"
    }
  },
  "cells": [
    {
      "cell_type": "markdown",
      "source": [
        "# Problem SVD\n"
      ],
      "metadata": {
        "id": "3Udz-pfv8cNL"
      }
    },
    {
      "cell_type": "markdown",
      "source": [
        "Show that the SVD decomposition exists for any $ m \\times n $ matrix $A$ with rank $r$.\n",
        "\n",
        "**Subproblem 1** : Prove that $A^TA$ is (Hermitian) symmetric and positive semi-definite. \\\\\n",
        "**Subproblem 2**: Show that $rank(A^TA) = r$. \\\\\n",
        "**Subproblem 3**: Prove that the eigenvalues of $A^T A$ are non negative. \\\\\n",
        "**Subproblem 4**: Prove the following lemma. \\\\\n",
        "**Lemma:** $v,u$ are right and left singular vectors of $A$ with singular value $\\sigma$ if and only if $v$ is an eigenvector of $A^{\\top}A$ with corresponding eigenvalue $σ^2$ and $u = σ^{-1}Av$ is an eigenvector of $AA^{\\top}$ with corresponding eigenvalue $σ^2$. \\\\\n",
        "**Subproblem 5**: Define the following vectors:\n",
        "$$v_1 = \\underset{v\\in R^n: \\|v\\|=1}{\\operatorname{argmax}}\\|Av\\|$$ \n",
        "$$v_2 = \\underset{\\underset{<v,v_1=0>}{v\\in R^n: \\|v\\|=1}}{\\operatorname{argmax}}\\|Av\\|$$ \n",
        "$$...$$\n",
        "$$v_r = \\underset{\\underset{∀i<r, <v,v_i=0>}{v\\in R^n: \\|v\\|=1}}{\\operatorname{argmax}}\\|Av\\|$$ \n",
        "Then, $v_1,...,v_r$ is an orthonormal set of right singular vectors of $A$. \n",
        "\n"
      ],
      "metadata": {
        "id": "dQ1Pmk-CMbg6"
      }
    },
    {
      "cell_type": "markdown",
      "source": [
        "**Proof**"
      ],
      "metadata": {
        "id": "U1ZPekL1DLwU"
      }
    },
    {
      "cell_type": "markdown",
      "source": [
        "1. \n",
        "$G = A^{\\top} A$ is symmetric and positive semi-definite iff $x^{\\top} Gx \\geq 0,    \\forall x \\in \\mathbb{R^n}$\n",
        "$$\n",
        "x^{\\top} G x = x^{\\top} A^{\\top} A x = (Ax)^{\\top} Ax = \\sum_{i=1}^n (Ax)^2  \\geq 0 \n",
        "⇒ x^{\\top} G x \\geq 0, \\forall x \\in \\mathbb{R^n}\n",
        "$$\n",
        "\n",
        "\n"
      ],
      "metadata": {
        "id": "BTv0Few6DSPj"
      }
    },
    {
      "cell_type": "markdown",
      "source": [
        "2. To show that $rank(A^{\\top}A) = r$, we have to show that $Ax = 0$ and $A^{\\top} A x = 0$ have the same solution. \\\\\n",
        "If $Ax =0$, then $A^{\\top} (Ax) = A^{\\top} 0 = 0$ \\\\\n",
        "If $A^{\\top}Ax = 0$, then:\n",
        "$$\n",
        "A^{\\top}Ax = 0\\\\\n",
        "x^{\\top} A^{\\top} Ax = 0 \\\\\n",
        "(Ax)^{\\top}Ax = 0\n",
        "$$\n",
        "For any vector $v$, by definition of the inner product, $v^{\\top}v = 0 ⟺ v=0 $"
      ],
      "metadata": {
        "id": "zeHk5KDRPLQA"
      }
    },
    {
      "cell_type": "markdown",
      "source": [
        "3. First, let us show that eigenvalues of $A^T A $ are non negative. Let $G = A^T A$. From subproblem 1, we know that $G$ is positive semi-definitie and symmetric. Thus, we can find the eigen decomposition of $G$ and deduce:\n",
        "$$\n",
        "G = U D U^{\\top} = \\sum_{n=1}^N u_n \\lambda_n u_n^{\\top}\n",
        "$$\n",
        "$$\n",
        "\\begin{align*}\n",
        "x^T G x = & x^T \\left( \\sum_{n=1}^N u_n \\lambda_n u_n^{\\top}\\right) x \\\\\n",
        "= & \\sum_{i=1}^N \\lambda_n x^{\\top} u_n u_n^{\\top} x \\\\\n",
        "= &\\sum_{n=1}^N \\lambda_n (x^{\\top} u_n)^2\n",
        "\\end{align*}\n",
        "$$\n",
        "The last expression must be greater or equal to $0$ since $G$ is PSD. Thus, $\\lambda_n \\geq 0$ for that statement to hold. \n"
      ],
      "metadata": {
        "id": "s0HdNcyjPLaI"
      }
    },
    {
      "cell_type": "markdown",
      "source": [
        "4. Supposed that $σ$ is a singular value of $A$ with $v \\in R^n$ being the corresponding right singular vector.\n",
        "Then,\n",
        "$$A^{\\top}Av = σA^{\\top}u=σ^2v$$\n",
        "$$AA^{\\top}u = σAv=σ^2u$$"
      ],
      "metadata": {
        "id": "sVuuSstSPHMo"
      }
    },
    {
      "cell_type": "markdown",
      "source": [
        "5. We have the rank of $A$ is $r$, so that the range of $A$ is a subspace of dimension $r$. Therefore, $∀ i = 1,...,r; \\|Av_i\\|>0$. \\\\\n",
        "Let's consider the eigenvalue decomposition of $A^{\\top}A$ \n",
        "$$A^{\\top}A = UDU^{\\top}$$ \n",
        "where $U \\in R^{n × n}$ is an orthonormal matrix, $D$ is a diagonal matrix with $\\lambda_1 \\geq \\lambda_2 \\geq ... \\geq 0$ \\\\\n",
        "We have to prove that $v_1,...,v_r$ are eigenvectors of $A^{\\top}A$ that correspond to nonzero eigenvalues, then using lemma in task 1, we can confirm that these are also right singular vectors of $A$. \\\\\n",
        "Proof by using induction. \\\\\n",
        "Vector $v$ can be written as $v = Ux,$ where $x = U^{\\top}v$ and $\\|x\\| = 1.$\n",
        "Then,\n",
        "$$\\|Av\\|^2 = \\|AUx\\|^2=\\|UDU^{\\top}Ux\\|^2 = \\|UDx\\|^2 = \\|Dx\\|^2 = \\sum_{i=1}^{n}\\lambda_i^2x_i^{2}$$\n",
        "Therefore,\n",
        "$$\\max_{v:\\|v\\|=1}\\|Av\\|^2 = \\max_{x:\\|x\\|=1}\\sum_{i=1}^{n}\\lambda_i^2x_i^{2}$$\n",
        "Set $x=(1,0,...,0)$ which implies that $v_1$ is the first eigenvector of $A^{\\top}A.$ Since $\\|Av_1\\|>0 ⇒ \\lambda_1 > 0$ as required. \\\\\n",
        "Assume that the claim holds for $1 \\leq t \\leq r-1.$ Then, any $v$ which is orthogonal to $v_1,...,v_t$ can be written as $v=Ux$ with all the first $t$ elements of $x$ being zero. \n",
        "$$\\max_{v:\\|v\\|=1,∀i\\leq t,v^{\\top}v_i=0}\\|Av\\|^2 = \\max_{x:\\|x\\|=1}\\sum_{i=t+1}^{n}\\lambda_i^2x_i^{2}$$\n",
        "The solution of the right-hand side is the all zeros vector except $x_{t+1}=1$. So $v_{t+1}$ is the $(t+1)$-th column of $U$. Finally, since $\\|Av_{t+1}\\| > 0$ it follows that $\\lambda_{t+1}>0$ as required. This concludes our proof.\n"
      ],
      "metadata": {
        "id": "ezoZzPeR7ovr"
      }
    }
  ]
}