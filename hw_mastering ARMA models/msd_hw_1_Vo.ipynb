{
  "cells": [
    {
      "cell_type": "markdown",
      "metadata": {
        "id": "KmepH2rvzlYm"
      },
      "source": [
        "# Homework 1\n",
        "## by Vo Ngoc Bich Uyen\n",
        "## for the course \"Models of sequential data\"\n",
        "\n",
        "We will consider the estimation for MA model for a particular dataset.\n",
        "There are 5 problems in this homework.\n",
        "* The first 4 problems are obligatory. \n",
        "* You can earn bonus points by making progress on the problem 5.\n",
        "\n",
        "You have two weeks to complete the homework. The strict deadline is **17:00 $7$th of December, Moscow time**. \n",
        "No points will be awarded for the homework submitted after the deadline.\n",
        "\n",
        "\n",
        "The name of the notebook should be in format *msd_hw_1_xxx.ipynb*, where *xxx* is your last name. E.g. *msd_hw_1_zaytsev.ipynb*.\n",
        "Homeworks that fail to meet these guidelines, would have zero points as the grade."
      ]
    },
    {
      "cell_type": "markdown",
      "metadata": {
        "id": "5X0fqn0fzlYv"
      },
      "source": [
        "## Problems 1-3. Estimation for MA models\n",
        "\n",
        "### Problem 1. [10 points] \n",
        "Write a python class that defines ARMA model. \n",
        "* Problem 1.1. [5 points] Define the *initialize* method to initialize parameters of the model given orders for $ARMA(p, q)$\n",
        "* Problem 1.2. [5 points] Define the *predict* method that can use ARMA to predict for one step and for $k$ steps ahead given the parameters of the model"
      ]
    },
    {
      "cell_type": "markdown",
      "source": [
        "### Problem 2. [15 points] \n",
        "Write a python method to *fit* the MA model of order $q$. \n",
        "I suggest to use the Least Squares method from the book \"Time Series Analysis with Applications in R\", Section 7.2 Least Squares Estimation. The book is freely available on the internet."
      ],
      "metadata": {
        "id": "qETuWW97K0yh"
      }
    },
    {
      "cell_type": "code",
      "source": [
        "import numpy as np\n",
        "import matplotlib.pyplot as plt\n",
        "from scipy.optimize import minimize\n",
        "import warnings\n",
        "warnings.filterwarnings(\"ignore\")\n",
        "np.random.seed(0)"
      ],
      "metadata": {
        "id": "uuahVSyTSZZc"
      },
      "execution_count": 30,
      "outputs": []
    },
    {
      "cell_type": "code",
      "source": [
        "class ARMA:\n",
        "  #1.1. Define the initialize method to initialize parameters of the model given orders for ARMA(p,q)\n",
        "  def __init__(self, p, q):\n",
        "    self.p = p\n",
        "    self.q = q\n",
        "    self.ar_para = np.random.normal(0, 0.1, p)\n",
        "    self.ma_para = np.random.normal(0, 0.1, q)\n",
        "\n",
        "  def set_para (self, ar_para, ma_para):\n",
        "    assert len(ar_para) == self.p, \"Number of AR parameters are not equal p\"\n",
        "    assert len(ma_para) == self.q, \"Number of MA parameters are not equal q\"\n",
        "\n",
        "    self.ar_para = ar_para\n",
        "    self.ma_para = ma_para\n",
        "    \n",
        "  #1.2. Define the predict method for one step and for k steps ahead given the parameters of the model\n",
        "  def predict(self, M, k):\n",
        "    n = len(M)\n",
        "    M = np.hstack([np.zeros(self.p), M, np.zeros(self.q)])\n",
        "    errors = np.zeros(self.q + n + k)\n",
        "    for i in range (n):\n",
        "      ar_pred = np.dot(self.ar_para, M[i:i+self.p][::-1]) if self.p > 0 else 0\n",
        "      ma_pred = np.dot(self.ma_para, errors[i:i+self.q][::-1]) if self.q > 0 else 0\n",
        "      errors[i+self.q] = M[i+self.p] - ar_pred - ma_pred\n",
        "      M = M[-(k+self.p):]\n",
        "      errors = errors[-(k+self.q):]\n",
        "      for i in range(k):\n",
        "        ar_pred = np.dot(self.ar_para, M[i:i+self.p][::-1]) if self.p > 0 else 0\n",
        "        ma_pred = np.dot(self.ma_para, errors[i:i+self.q][::-1]) if self.q > 0 else 0\n",
        "        M[i+self.p] = ar_pred + ma_pred\n",
        "      return M[self.p:]\n",
        "\n",
        "    #2. Method to fit the MA model of order  q\n",
        "  def fit_ma(self, M):\n",
        "    def MSE(ma_para, M, q):\n",
        "        errors = np.zeros(q+len(M))\n",
        "        for i in range(len(M)):\n",
        "          errors[i+q] = M[i] - errors[i:i+q][::-1] @ ma_para\n",
        "        return np.sum(errors**2)\n",
        "    mini = minimize(MSE, np.ones(q)*0.01, args = (M,self.q), method = \"SLSQP\")\n",
        "    ma_para = mini.x\n",
        "    self.ma_para = ma_para\n",
        "    return ma_para"
      ],
      "metadata": {
        "id": "bRCtwUqNVDNS"
      },
      "execution_count": 31,
      "outputs": []
    },
    {
      "cell_type": "markdown",
      "metadata": {
        "id": "IELl1Ao6zlYy"
      },
      "source": [
        "### Problem 3. [15 points] \n",
        "Validate the *fit* method you wrote\n",
        "* Problem 3.1. [5 points] Write a procedure that generates a sequense for $MA(p)$ process with pre-defined parameters\n",
        "* Problem 3.2. [10 points] Fit it using your methods and check the quality of forecasting and the quality of the parameter estimation. You can use scatter plots and MSE error for validation in this case."
      ]
    },
    {
      "cell_type": "code",
      "execution_count": 32,
      "metadata": {
        "id": "WDbR2tVnzlYy"
      },
      "outputs": [],
      "source": [
        "# 3.1. Generate a sequense for MA(p) process with pre-defined parameters\n",
        "def seq_ma(n, ma_para, q):\n",
        "  errors = np.concatenate([np.zeros(q), np.random.normal(loc=0,scale=1,size=n)])\n",
        "  M = np.array([errors[i+q] + np.dot(ma_para,errors[i:i+q][::-1]) for i in range(1,n)])\n",
        "  return M"
      ]
    },
    {
      "cell_type": "code",
      "source": [
        "#3.2. Fit it using your methods and check the quality of forecasting and the quality of the parameter estimation.\n",
        "from statsmodels.tsa.arima.model import ARIMA\n",
        "\n",
        "q = 3\n",
        "ma_para = np.array([1,0.9,0.3])\n",
        "\n",
        "n_experiments = 10\n",
        "n_seq = 1000\n",
        "\n",
        "test_size = q\n",
        "k = q\n",
        "\n",
        "errors_para_self = np.zeros([n_experiments, q])\n",
        "errors_para_stat = np.zeros([n_experiments, q])\n",
        "\n",
        "tests = np.zeros([n_experiments, k])\n",
        "pred_self = np.zeros([n_experiments, k])\n",
        "pred_stat = np.zeros([n_experiments, k])\n",
        "\n",
        "for i in range(n_experiments):\n",
        "  M = seq_ma(n_seq, ma_para, q)\n",
        "  M_train, M_test = M[:-test_size], M[-test_size:]\n",
        "\n",
        "  model = ARMA(0, q)\n",
        "  ma_pred_self = model.fit_ma(M_train)\n",
        "  M_pred_self = model.predict(M_train, k = k)\n",
        "\n",
        "  model = ARIMA(M_train, order=(0,0,q))\n",
        "  results = model.fit()\n",
        "  ma_pred_stat = results.polynomial_ma[1:]\n",
        "  M_pred_stat = results.forecast(3)\n",
        "\n",
        "  errors_para_self[i] = (ma_para - ma_pred_self) ** 2\n",
        "  errors_para_stat[i] = (ma_para - ma_pred_stat) ** 2\n",
        "\n",
        "  pred_self = M_pred_self\n",
        "  pred_stat = M_pred_stat\n",
        "\n",
        "  tests[i] = M_test[-k:]\n",
        "\n",
        "print(\"MSE error of my prediction:\", np.mean((pred_self-tests)**2))\n",
        "print(\"MSE error of statsmodels prediction:\", np.mean((pred_stat-tests)**2))"
      ],
      "metadata": {
        "colab": {
          "base_uri": "https://localhost:8080/"
        },
        "id": "aDTzSVdQn0Ue",
        "outputId": "82f11cf1-7c22-45b3-e7f2-6c081809d1ff"
      },
      "execution_count": 41,
      "outputs": [
        {
          "output_type": "stream",
          "name": "stdout",
          "text": [
            "MSE error of my prediction: 2.1834637245987705\n",
            "MSE error of statsmodels prediction: 2.130118371742841\n"
          ]
        }
      ]
    },
    {
      "cell_type": "markdown",
      "metadata": {
        "id": "1MYpxUJnzlYy"
      },
      "source": [
        "## Problem 4.  Stationarity for AR process [10 points]\n",
        "It is known, that the AR(p) process defined by the equation of the form \n",
        "$$\n",
        "y_t = \\phi_1 y_{t - 1} + \\phi_2 y_{t - 2} + \\ldots + \\phi_p y_{t - p}.\n",
        "$$\n",
        "is weakly stationary if only if all roots of the regular characteristic polynomial have absolute values smaller than $1$.\n",
        "The  regular characteristic polynomial has the form:\n",
        "$$\n",
        "R(\\lambda) = \\lambda^p - \\phi_1 \\lambda^{p - 1} - \\ldots - \\phi_p.\n",
        "$$\n",
        "Its roots are $\\lambda_i$, $ i = 1, \\ldots, p$. So, $\\forall{i} \\,\\,  R(\\lambda_i) = 0$.\n",
        "\n",
        "Prove:\n",
        "* Problem 4.1. [5 points] *Necessary condition:* If the process $AR(p)$ is weakly stationary, then $\\sum_{i = 1}^p \\phi_i < 1$.\n",
        "* Problem 4.2. [5 points] *Sufficient condition:* If $\\sum_{i = 1}^p |\\phi_i| < 1$, then the corresponding process $AR(p)$ is weakly stationary."
      ]
    },
    {
      "cell_type": "markdown",
      "source": [
        "**Problem 4.1.**\n",
        "+ In case p = 1:\n",
        "$$ y_t = \\phi_1 y_{t - 1} $$\n",
        "$$ R(\\lambda) = \\lambda - \\phi_1 ⇒ R(\\lambda_1) = \\lambda_1 - \\phi_1 = 0 ⇒ \\lambda_1 = \\phi_1 $$\n",
        "The process $AR(1)$ is weakly stationary, so $|\\lambda_1| < 1 ⇒ |\\phi_1| < 1$ \\\\\n",
        "+ In case p = 2:\n",
        "$$ y_t = \\phi_1 y_{t - 1} + \\phi_2 y_{t - 2} $$\n",
        "$$ R(\\lambda) = \\lambda^2 - \\phi_1\\lambda - \\phi_2 $$\n",
        "$$ ⇒ R(\\lambda_i) = 0 ⇔ \\delta = \\phi_1^2 + 4\\phi_2 \\geq 0 $$\n",
        "$$-1 < \\lambda_1 \\leq \\lambda_2 < 1 $$\n",
        "Apply Vieta's formula for quadratics: \n",
        "$$ \\lambda_1  \\lambda_2 = - \\phi_2 $$\n",
        "$$ \\lambda_1  + \\lambda_2 = \\phi_1 $$\n",
        "$$⇒ \\phi_1 + \\phi_2 + \\lambda_1  \\lambda_2 = \\lambda_1 + \\lambda_2 $$\n",
        "$$⇒ |\\phi_1 + \\phi_2 + \\lambda_1  \\lambda_2| = |\\lambda_1 + \\lambda_2| \\leq |\\lambda_1| + |\\lambda_2| < 2 $$\n",
        "$$⇒ -2 < \\phi_1 + \\phi_2 + \\lambda_1  \\lambda_2 < 2 $$\n",
        "$$⇒ -2 - \\lambda_1  \\lambda_2 < \\phi_1 + \\phi_2 < 2 - \\lambda_1  \\lambda_2 $$\n",
        "Because $|\\lambda_1\\lambda_2| < 1 ⇒ -1 < -\\lambda_1\\lambda_2 \\leq \\lambda_1\\lambda_2 < 1$\n",
        "$$⇒ -1 < \\phi_1 + \\phi_2 < 1 $$\n",
        "$$⇒ |\\phi_1 + \\phi_2| < 1 $$\n",
        "+ In case p > 2: \\\\\n",
        "\n",
        "**Problem 4.2.**\n",
        "+ In case p = 1:\n",
        "$$ y_t = \\phi_1 y_{t - 1} $$\n",
        "$$ R(\\lambda) = \\lambda - \\phi_1 ⇒ R(\\lambda_1) = \\lambda_1 - \\phi_1 = 0 ⇒ \\lambda_1 = \\phi_1 $$\n",
        "If $|\\phi_1| < 1 ⇒ |\\lambda_1| < 1$, therefore the process $AR(1)$ is weakly stationary.\n",
        "+ In case p = 2:\n",
        "$$ y_t = \\phi_1 y_{t - 1} + \\phi_2 y_{t - 2} $$\n",
        "$$ R(\\lambda) = \\lambda^2 - \\phi_1\\lambda - \\phi_2 $$\n",
        "$$ ⇒ R(\\lambda_i) = 0 ⇔ \\delta = \\phi_1^2 + 4\\phi_2 \\geq 0 $$\n",
        "$$\\lambda_1 = \\frac{\\phi_1 - \\sqrt{\\phi_1^2 + 4\\phi_2}}{2}$$\n",
        "$$\\lambda_2 = \\frac{\\phi_1 + \\sqrt{\\phi_1^2 + 4\\phi_2}}{2}$$\n",
        "We have $|\\phi_1 + \\phi_2| < 1 ⇒ -1 - \\phi_1 < \\phi_2 < 1 -\\phi_1$\n",
        "$$\\delta = \\phi_1^2 + 4\\phi_2 <  \\phi_1^2 + 4(1 -\\phi_1) = (\\phi_1 - 2)^2$$\n",
        "$$⇒ \\lambda_2 < \\frac{\\phi_1 - \\phi_1 + 2}{2} = 1$$\n",
        "$$~~~~~~ \\lambda_1 > \\frac{\\phi_1 - \\phi_1 + 2}{2} = 1$$\n",
        "Because  $\\lambda_1 \\leq \\lambda_2 ⇒ -1 < \\lambda_1 \\leq \\lambda_2 < 1 ⇒ |\\lambda_i| < 1, i= 1,2$, the process $AR(2)$ is weakly stationary.\n",
        "+ In case p > 2: \\\\\n",
        "\n",
        "\n",
        "\n"
      ],
      "metadata": {
        "id": "4mtE29zlHxOS"
      }
    },
    {
      "cell_type": "markdown",
      "metadata": {
        "id": "sQS3eKyjzlYz"
      },
      "source": [
        "## Problem 5. Gradient explosion* [20 points]\n",
        "\n",
        "We consider a block in the recurrent neural network $h^t, x^t \\in \\mathbb{R}$:\n",
        "$$\n",
        "h^t = \\phi(w_x x^t + w_h h^{t - 1} + b),\n",
        "$$\n",
        "where $\\phi$ is the activation for the probit regression, CDF for the Gaussian distribution $\\mathcal{N}(0, \\sigma^2)$.\n",
        "* Problem 5.1. [5 points] Find numerically or analytically (check, if possible) the expectation of the $\\frac{\\partial h^t}{\\partial w_h}$ given $w_h \\sim \\mathcal{N}(0, \\sigma^2)$.\n",
        "* Problem 5.2. [5 points] Find numerically or analytically (check, if possible) the expectation of the $h^t$ given $w_h \\sim \\mathcal{N}(0, \\sigma^2)$. In what cases we can get a stationary distribution for $h^t$?\n",
        "* Problem 5.3. [10 points] Find the critical values for $\\sigma^2$: in what case we'll have the explosion of the norm $\\prod_{t = 1}^\\infty \\|\\frac{\\partial h^t}{\\partial w_h} \\| $? Provide numerical or analytical solution, if possible."
      ]
    }
  ],
  "metadata": {
    "kernelspec": {
      "display_name": "Python 3",
      "language": "python",
      "name": "python3"
    },
    "language_info": {
      "codemirror_mode": {
        "name": "ipython",
        "version": 3
      },
      "file_extension": ".py",
      "mimetype": "text/x-python",
      "name": "python",
      "nbconvert_exporter": "python",
      "pygments_lexer": "ipython3",
      "version": "3.6.5"
    },
    "colab": {
      "provenance": []
    }
  },
  "nbformat": 4,
  "nbformat_minor": 0
}