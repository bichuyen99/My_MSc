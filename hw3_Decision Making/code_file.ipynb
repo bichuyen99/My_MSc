{
  "nbformat": 4,
  "nbformat_minor": 0,
  "metadata": {
    "colab": {
      "provenance": []
    },
    "kernelspec": {
      "name": "python3",
      "display_name": "Python 3"
    },
    "language_info": {
      "name": "python"
    }
  },
  "cells": [
    {
      "cell_type": "code",
      "source": [
        "import numpy as np\n",
        "from typing import Tuple\n",
        "import matplotlib.pyplot as plt\n",
        "import matplotlib.animation as animation\n",
        "from tqdm import tqdm\n",
        "import math\n",
        "import time\n",
        "from collections import defaultdict\n",
        "import itertools"
      ],
      "metadata": {
        "id": "R5K0yStAPJQE"
      },
      "execution_count": 115,
      "outputs": []
    },
    {
      "cell_type": "markdown",
      "source": [
        "<h2>Task 1: Value Iteration </h2>\n",
        "A. Enumerate the action space. The coordinates of actions are u = (row; column)"
      ],
      "metadata": {
        "id": "2Vmxa2dGJ-Dw"
      }
    },
    {
      "cell_type": "code",
      "source": [
        "# this is the set of possible actions admitted in this problem\n",
        "action_space = [(-1, 0), (0, -1), (1, 0), (0, 1)]\n",
        "for index, action in enumerate(action_space):\n",
        "    u_row = action[0]\n",
        "    u_col = action[1]\n",
        "    print(f'u{index}:=({u_row};{u_col})')"
      ],
      "metadata": {
        "colab": {
          "base_uri": "https://localhost:8080/"
        },
        "id": "vgRQNV6WEKVP",
        "outputId": "3badeb96-74b3-4491-a2ab-9bf24c6cf093"
      },
      "execution_count": null,
      "outputs": [
        {
          "output_type": "stream",
          "name": "stdout",
          "text": [
            "u0:=(-1;0)\n",
            "u1:=(0;-1)\n",
            "u2:=(1;0)\n",
            "u3:=(0;1)\n"
          ]
        }
      ]
    },
    {
      "cell_type": "markdown",
      "source": [
        "B. Formulate the optimal cost-to-go G∗ in recursive form. Also formulate how to obtain the optimal policy u∗ from G∗."
      ],
      "metadata": {
        "id": "vl63t1eyHcXX"
      }
    },
    {
      "cell_type": "markdown",
      "source": [
        "+ Formula of the optimal cost-to-go $G^*:$\n",
        "$$G^*_k(x_k)= min(G^*_{k+1}(f(x_k,u_k))+l(x_k,u_k))$$\n",
        "where $l(x_k,u_k)$ - cost of traversing from node $x_k$ to $x_{k+1}$ by action $u_k$.  \\\\\n",
        "For finite length sequences: \n",
        "$$G_F^*(x_F)=l_F(x_F)= \\begin{cases}\n",
        "0 ~~~\\text{ if } x_F \\in X_G \\\\\n",
        "\\infty ~\\text{ if } x_F \\notin X_G\n",
        "\\end{cases} $$ \n",
        "where $x_F$ - final state; $X_G$ - goal space \n",
        "+ Formula of the optimal policy $u^*$ from $G^*:$\n",
        "$$u^* = argmin(G^*(f(x,u))+l(x,u)) $$\n",
        "\n",
        "\n",
        "\n",
        "\n"
      ],
      "metadata": {
        "id": "82GsAPXbWVbi"
      }
    },
    {
      "cell_type": "markdown",
      "source": [
        "C. Implement the VI algorithm for infinite length sequences. To show this, you are asked to include a picture of G∗ after convergence. Attach a video of the animation. The cost of traversing each node l(x; u) = 1 only if propagation is possible (there is not obstacle or out of\n",
        "bounds)."
      ],
      "metadata": {
        "id": "8rWRxQzPYK1x"
      }
    },
    {
      "cell_type": "code",
      "source": [
        "def state_consistency_check(env: np.array, x: Tuple) -> bool:\n",
        "    \"\"\"Checks wether or not the proposed state is a valid state, i.e. is in colision or our of bounds\"\"\"\n",
        "    # check for collision\n",
        "    if x[0] < 0 or x[1] < 0 or x[0] >= env.shape[0] or x[1] >= env.shape[1]:\n",
        "        return False\n",
        "    if env[x] >= 1.0 - 1e-4:\n",
        "        return False\n",
        "    return True\n",
        "\n",
        "def pursuer_policy(x_e: Tuple, x_p: Tuple) -> int:\n",
        "    \"\"\"Returns the pursuer action\"\"\"\n",
        "    ds = np.array(x_e) - np.array(x_p)\n",
        "    theta = np.arctan2(ds[1], ds[0])\n",
        "    theta = (theta + np.pi) / np.pi * 2\n",
        "    u_index = np.floor(theta)\n",
        "    delta = theta - u_index\n",
        "    if np.random.rand() < delta:\n",
        "        u_index += 1\n",
        "    if u_index == 4:\n",
        "        u_index = 0  # this is due to action 0  equals action 4 in this particular order of th action space\n",
        "\n",
        "    return int(u_index)\n",
        "\n",
        "def transition_function(env: np.array, x: Tuple, u: Tuple) -> (Tuple, bool):\n",
        "    xnew = np.array(x) + np.array(u)\n",
        "    xnew = tuple(xnew)\n",
        "    if state_consistency_check(env, xnew):\n",
        "        return xnew, True\n",
        "    return x, False"
      ],
      "metadata": {
        "id": "CK-_h6T4cntX"
      },
      "execution_count": 56,
      "outputs": []
    },
    {
      "cell_type": "code",
      "source": [
        "def vi(env: np.array, goal: Tuple) -> Tuple[np.array, np.array]:\n",
        "    policy, cost_to_go = np.zeros(env.shape, 'b'), np.ones(env.shape) * 1e2\n",
        "    cost_to_go[goal] = 0\n",
        "    while True:\n",
        "        is_new = False\n",
        "        for i in range(len(cost_to_go)):\n",
        "            for j in range(len(cost_to_go)):\n",
        "              index = [i,j]\n",
        "              for act_idx, action in enumerate(action_space):\n",
        "                  idx, no_collise = transition_function(env, index , action)\n",
        "                  if no_collise:\n",
        "                      new_cost = 1 + cost_to_go[idx]\n",
        "                      if new_cost < cost_to_go[i,j]:\n",
        "                          is_new = True\n",
        "                          cost_to_go[i,j] = new_cost\n",
        "                          policy[i,j] = act_idx\n",
        "        assert cost_to_go[goal] == 0\n",
        "        if not is_new:\n",
        "            break\n",
        "    return policy, cost_to_go"
      ],
      "metadata": {
        "id": "2uXPOJ4DTM3T"
      },
      "execution_count": 157,
      "outputs": []
    },
    {
      "cell_type": "code",
      "execution_count": 97,
      "metadata": {
        "id": "pD9jV0yNJHYW"
      },
      "outputs": [],
      "source": [
        "def plot_joint_enviroment(env: np.array, x_e: Tuple, x_p: Tuple, goal: Tuple) -> np.array:\n",
        "    current_env = np.copy(env)\n",
        "    # plot evader\n",
        "    current_env[x_e] = 0.9  # yellow\n",
        "    # plot pursuer\n",
        "    current_env[x_p] = 0.6  # cyan-ish\n",
        "    # plot goal\n",
        "    current_env[goal] = 0.3\n",
        "    return current_env"
      ]
    },
    {
      "cell_type": "code",
      "source": [
        "data = np.load('/data_ps3.npz')\n",
        "environment = data['environment']\n",
        "# plt.matshow(environment)\n",
        "# (row index, colum index). In the image row corresponds to y, and colum to x.\n",
        "x_e = tuple(data[\"x_e\"])  # (11, 6) you free to use it as np array if you prefer, but utils.py is expecting a tuple\n",
        "x_p = tuple(data[\"x_p\"])  # (7, 25)\n",
        "goal = tuple(data[\"goal\"])  # (15, 29)\n",
        "# task 1 VI for evader\n",
        "# ======================================\n",
        "default_policy, Gopt = vi(environment, goal)\n",
        "# visualize the optimal policy\n",
        "plt.matshow(Gopt)\n",
        "# Visualization\n",
        "# ======================================\n",
        "im = plot_joint_enviroment(environment, x_e, x_p, goal)\n",
        "plt.matshow(im)\n",
        "plt.show()\n",
        "# The Game\n",
        "fig = plt.figure()\n",
        "imgs = []\n",
        "pbar = tqdm(range(100))\n",
        "for s in pbar:\n",
        "    im = plot_joint_enviroment(environment, x_e, x_p, goal)\n",
        "    plot = plt.imshow(im)\n",
        "    imgs.append([plot])\n",
        "    # according to the optimal policy of the evader, move the evader\n",
        "    u_e = action_space[default_policy[x_e]]  # default_policy without taking into account the pursuer\n",
        "    # u_e = mcts(environment, x_e, x_p, goal, 100, default_policy)  # taking into account pursuer, simulating the game\n",
        "    x_e, _ = transition_function(environment, x_e, u_e)\n",
        "    if x_e == goal:\n",
        "        print('WIN!')\n",
        "        break\n",
        "    # propagate the pursuer: TODO uncomment the next line to release the beast\n",
        "    # x_p = pursuer_transition(environment,x_e, x_p)\n",
        "    if x_p == x_e:\n",
        "        print('game over((')\n",
        "        break\n",
        "    pbar.set_description(f'x_e: {x_e}, x_p: {x_p},'\n",
        "                         f' distance to goal: {np.linalg.norm(np.array(x_e) - np.array(goal)):0.2f}'\n",
        "                         f' distance to pursuer: {np.linalg.norm(np.array(x_e) - np.array(x_p)):0.2f}')\n",
        "im = plot_joint_enviroment(environment, x_e, x_p, goal)\n",
        "plot = plt.imshow(im)\n",
        "imgs.append([plot])\n",
        "ani = animation.ArtistAnimation(fig, imgs, interval=100, blit=True)\n",
        "ani.save('/escape_vi.mp4')\n",
        "plt.show()\n"
      ],
      "metadata": {
        "colab": {
          "base_uri": "https://localhost:8080/",
          "height": 817
        },
        "id": "9wOpjOLMOEn0",
        "outputId": "62f77630-5902-40ab-f358-edfa164062f7"
      },
      "execution_count": 125,
      "outputs": [
        {
          "output_type": "display_data",
          "data": {
            "text/plain": [
              "<Figure size 288x288 with 1 Axes>"
            ],
            "image/png": "[encoded data removed]"
          },
          "metadata": {
            "needs_background": "light"
          }
        },
        {
          "output_type": "display_data",
          "data": {
            "text/plain": [
              "<Figure size 288x288 with 1 Axes>"
            ],
            "image/png": "[encoded data removed]"
          },
          "metadata": {
            "needs_background": "light"
          }
        },
        {
          "output_type": "stream",
          "name": "stderr",
          "text": [
            "x_e: (15, 28), x_p: (7, 25), distance to goal: 1.00 distance to pursuer: 8.54:  40%|████      | 40/100 [00:00<00:00, 227.43it/s]\n"
          ]
        },
        {
          "output_type": "stream",
          "name": "stdout",
          "text": [
            "WIN!\n"
          ]
        },
        {
          "output_type": "display_data",
          "data": {
            "text/plain": [
              "<Figure size 432x288 with 1 Axes>"
            ],
            "image/png": "[encoded data removed]"
          },
          "metadata": {
            "needs_background": "light"
          }
        }
      ]
    },
    {
      "cell_type": "markdown",
      "source": [
        "D. Un-comment the pursuer transition function in line 54. Did you escape?"
      ],
      "metadata": {
        "id": "EA3NlG3hdZT9"
      }
    },
    {
      "cell_type": "code",
      "source": [
        "def pursuer_transition(env: np.array, x_e: Tuple, x_p: Tuple) -> Tuple:\n",
        "    \"\"\"\n",
        "    compact function for the transition function and policy for the pursuer\n",
        "    5% is the probability of the pursuer to make a double move\n",
        "\n",
        "    env - enviroment\n",
        "    x_e - evader state\n",
        "    x_p - pursuer state\n",
        "    returns the new state of the pursuer\n",
        "    \"\"\"\n",
        "    iters = 1\n",
        "    if np.random.rand() < 0.05:\n",
        "        iters = 2\n",
        "    for i in range(iters):\n",
        "        u_p = pursuer_policy(x_e, x_p)\n",
        "        x_p, _ = transition_function(env, x_p, action_space[u_p])\n",
        "    return x_p"
      ],
      "metadata": {
        "id": "rkGusp7FdzaU"
      },
      "execution_count": 126,
      "outputs": []
    },
    {
      "cell_type": "code",
      "source": [
        "# (row index, colum index). In the image row corresponds to y, and colum to x.\n",
        "x_e = tuple(data[\"x_e\"])  # (11, 6) you free to use it as np array if you prefer, but utils.py is expecting a tuple\n",
        "x_p = tuple(data[\"x_p\"])  # (7, 25)\n",
        "goal = tuple(data[\"goal\"])  # (15, 29)\n",
        "# task 1 VI for evader\n",
        "# ======================================\n",
        "default_policy, Gopt = vi(environment, goal)\n",
        "# visualize the optimal policy\n",
        "plt.matshow(Gopt)\n",
        "# Visualization\n",
        "# ======================================\n",
        "im = plot_joint_enviroment(environment, x_e, x_p, goal)\n",
        "plt.matshow(im)\n",
        "plt.show()\n",
        "\n",
        "# The Game\n",
        "fig = plt.figure()\n",
        "imgs = []\n",
        "pbar = tqdm(range(100))\n",
        "for s in pbar:\n",
        "    im = plot_joint_enviroment(environment, x_e, x_p, goal)\n",
        "    plot = plt.imshow(im)\n",
        "    imgs.append([plot])\n",
        "    # according to the optimal policy of the evader, move the evader\n",
        "    u_e = action_space[default_policy[x_e]]  # default_policy without taking into account the pursuer\n",
        "    x_e, _ = transition_function(environment, x_e, u_e)\n",
        "    if x_e == goal:\n",
        "        print('WIN!')\n",
        "        break\n",
        "    # propagate the pursuer: TODO uncomment the next line to release the beast\n",
        "    x_p = pursuer_transition(environment,x_e, x_p)\n",
        "    if x_p == x_e:\n",
        "        print('game over((')\n",
        "        break\n",
        "    pbar.set_description(f'x_e: {x_e}, x_p: {x_p},'\n",
        "                         f' distance to goal: {np.linalg.norm(np.array(x_e) - np.array(goal)):0.2f}'\n",
        "                         f' distance to pursuer: {np.linalg.norm(np.array(x_e) - np.array(x_p)):0.2f}')\n",
        "im = plot_joint_enviroment(environment, x_e, x_p, goal)\n",
        "plot = plt.imshow(im)\n",
        "imgs.append([plot])\n",
        "ani = animation.ArtistAnimation(fig, imgs, interval=100, blit=True)\n",
        "ani.save('/escape_vi1.mp4')\n",
        "plt.show()"
      ],
      "metadata": {
        "colab": {
          "base_uri": "https://localhost:8080/",
          "height": 817
        },
        "id": "-k7nYQ8LdsJn",
        "outputId": "061fdecd-7f49-41b4-c381-a49a73f54199"
      },
      "execution_count": 127,
      "outputs": [
        {
          "output_type": "display_data",
          "data": {
            "text/plain": [
              "<Figure size 288x288 with 1 Axes>"
            ],
            "image/png": "[encoded data removed]"
          },
          "metadata": {
            "needs_background": "light"
          }
        },
        {
          "output_type": "display_data",
          "data": {
            "text/plain": [
              "<Figure size 288x288 with 1 Axes>"
            ],
            "image/png": "[encoded data removed]"
          },
          "metadata": {
            "needs_background": "light"
          }
        },
        {
          "output_type": "stream",
          "name": "stderr",
          "text": [
            "x_e: (4, 15), x_p: (5, 15), distance to goal: 17.80 distance to pursuer: 1.00:  16%|█▌        | 16/100 [00:00<00:00, 242.91it/s]\n"
          ]
        },
        {
          "output_type": "stream",
          "name": "stdout",
          "text": [
            "game over((\n"
          ]
        },
        {
          "output_type": "display_data",
          "data": {
            "text/plain": [
              "<Figure size 432x288 with 1 Axes>"
            ],
            "image/png": "[encoded data removed]"
          },
          "metadata": {
            "needs_background": "light"
          }
        }
      ]
    },
    {
      "cell_type": "markdown",
      "source": [
        "No, I did not escape"
      ],
      "metadata": {
        "id": "B8q9ETFGdmeO"
      }
    },
    {
      "cell_type": "markdown",
      "source": [
        "<h2> Task 2: Monte Carlo Tree Search </h2>"
      ],
      "metadata": {
        "id": "-2H39Tw5iGc-"
      }
    },
    {
      "cell_type": "markdown",
      "source": [
        "A. Why do you think we have proposed the restriction of expanding only non-visited states?"
      ],
      "metadata": {
        "id": "rTSp427wzY77"
      }
    },
    {
      "cell_type": "markdown",
      "source": [
        "The restriction of expanding only non-visited states have been proposed because we couldn't ensure that the policy tree would expand appropriately with a restricted amount of samples."
      ],
      "metadata": {
        "id": "5SEB-QmmFOY3"
      }
    },
    {
      "cell_type": "markdown",
      "source": [
        "B. Implement MCTS."
      ],
      "metadata": {
        "id": "sRuYXwcN2Zvo"
      }
    },
    {
      "cell_type": "code",
      "source": [
        "class State:\n",
        "\tdef __init__(self,x_e,x_p,turn,goal,is_expanded=False,is_simulated=False, parent=None):\n",
        "\t\tself.evader = x_e\n",
        "\t\tself.pursuer = x_p\n",
        "\t\tself.turn = turn\n",
        "\t\tself.goal = goal\n",
        "\t\tself.is_expanded = is_expanded\n",
        "\t\tself.is_simulated = is_simulated\n",
        "\t\tself.visited = 0\n",
        "\t\tself.reward = 0\n",
        "\t\tself.parent = parent\n",
        "\t\tself.children = 0\n",
        "\t\tself.is_terminal = self.evader == self.goal\n",
        "\tdef __str__(self):\n",
        "\t\treturn f\"\"\"evader={self.evader}, pursuer={self.pursuer}, turn={self.turn},\n",
        "\t\t{self.is_expanded =},{self.is_simulated =}, {self.visited =}, reward={self.reward}\"\"\"\n",
        "\tdef get_action(self, root):\n",
        "\t\taction = tuple(np.array(self.evader)-np.array(root.evader))\n",
        "\t\tassert action in action_space, f'{action}'\n",
        "\t\treturn action\n",
        "\tdef get_location(self):\n",
        "\t\treturn [self.evader,self.pursuer,self.turn]\n",
        "\n",
        "def unexplored_node(env, node, Tree):\n",
        "\tif len(Tree[node]) == 0:\n",
        "\t\treturn True\n",
        "\tfor child in Tree[node]:\n",
        "\t\tif child.is_simulated == False:\n",
        "\t\t\treturn True\n",
        "\treturn False\n",
        "\n",
        "def get_children(env,state,discovered_nodes):\n",
        "\t\tassert state.children == 0\n",
        "\t\tif state.evader == state.goal:\n",
        "\t\t\treturn []\n",
        "\t\tchildren =[]\n",
        "\t\tfor action in action_space:\n",
        "\t\t\tif state.turn == 'evader':\n",
        "\t\t\t\tnode = state.evader\n",
        "\t\t\telif state.turn == 'pursuer':\n",
        "\t\t\t\tnode = state.pursuer\n",
        "\t\t\tmay_child, is_child = transition_function(env, node, action)\n",
        "\t\t\tif is_child:\n",
        "\t\t\t\tif state.turn == 'evader':\n",
        "\t\t\t\t\tchild_state = State(may_child,state.pursuer,'pursuer',state.goal,parent=state)\n",
        "\t\t\t\telif state.turn == 'pursuer':\n",
        "\t\t\t\t\tchild_state = State(state.evader,may_child,'evader',state.goal,parent=state)\n",
        "\t\t\t\tif child_state.get_location() not in discovered_nodes:\n",
        "\t\t\t\t\tchildren.append(child_state)\n",
        "\t\tstate.children = len(children)\n",
        "\t\treturn children\n",
        "\n",
        "def expand(env, node, Tree, discovered_nodes):\n",
        "\tif not node.is_expanded:\n",
        "\t\tchildren = get_children(env, node, discovered_nodes)\n",
        "\t\tTree[node] = children\n",
        "\t\tdiscovered_nodes.extend([child.get_location() for child in children])\n",
        "\t\tnode.is_expanded = True\n",
        "\n",
        "def child_select(node, Tree, weight=2**0.5):\n",
        "\t\tchildren = Tree[node]\n",
        "\t\tassert all(child.is_simulated for child in children)\n",
        "\t\tvertex = math.log(node.visited)\n",
        "\t\tdef bound(child):\n",
        "\t\t\t\treturn child.reward / child.visited + weight * (vertex / child.visited)**0.5\n",
        "\t\treturn max(children, key=bound)\n",
        "\n",
        "def simulation(x_e=x_e, x_p=x_p, turn:str='evader', policy=default_policy):\n",
        "    accumulated_reward = 0\n",
        "    for s in range(100):\n",
        "        distance_to_goal = np.linalg.norm(np.array(x_e) - np.array(goal))\n",
        "        if distance_to_goal != 0:\n",
        "            accumulated_reward += 0.1/distance_to_goal\n",
        "        else:\n",
        "            accumulated_reward += 100\n",
        "        # according to the optimal policy of the evader, move the evader\n",
        "        u_e = action_space[policy[x_e]]  # default_policy without taking into account the pursuer\n",
        "        if not (s == 0 and turn=='pursuer'):\n",
        "            x_e, _ = transition_function(environment, x_e, u_e)\n",
        "        \n",
        "        if x_e == goal:\n",
        "            return 100 + accumulated_reward - (s+1)\n",
        "\n",
        "        # propagate the pursuer: TODO uncomment the next line to release the beast\n",
        "        x_p = pursuer_transition(environment,x_e, x_p)\n",
        "        if x_p == x_e:\n",
        "            return 0\n",
        "    return accumulated_reward\n",
        "\n",
        "def re_simulation(node, policy):\n",
        "\treturn simulation(node.evader, node.pursuer, node.turn, policy)\n",
        "\n",
        "def is_root(node):\n",
        "\treturn node.parent is None\n",
        "\n",
        "def backpropagate(node, reward):\n",
        "\tnode.visited += 1\n",
        "\tnode.reward += reward\n",
        "\tif node.parent is None: return\n",
        "\tbackpropagate(node.parent, reward)\n",
        "\n",
        "def best_child(node, Tree):\n",
        "\tchildren = Tree[node]\n",
        "\tdef visits(child):\n",
        "\t\treturn child.visited\n",
        "\treturn max(children.visited)\n",
        "\n",
        "def plot_explored(env, Tree, node):\n",
        "\tcurrent_env = np.copy(env)\n",
        "\tfor node_ in Tree.keys():\n",
        "\t\tchildren = Tree[node_]\n",
        "\t\tevaders = [child.evader for child in children]+[node_.evader]\n",
        "\t\tpursuers = [child.pursuer for child in children]+[node_.pursuer]\n",
        "\t\tgoal = node_.goal\n",
        "\t\tfor evader in evaders:\n",
        "\t\t\tcurrent_env[evader] = 0.9  # yellow\n",
        "\t\tcurrent_env[node.evader] = 1\n",
        "\t\t# plot pursuer\n",
        "\t\tfor pursuer in pursuers:\n",
        "\t\t\tcurrent_env[pursuer] = 0.6  # cyan-ish\n",
        "\t\tcurrent_env[node.pursuer] = 0.4  # cyan-ish\n",
        "\t\t# plot goal\n",
        "\t\tcurrent_env[goal] = 0.3\n",
        "\tplt.close()\n",
        "\tfig = plt.figure()\n",
        "\tax = fig.gca()\n",
        "\tax.pcolormesh(current_env, edgecolors='k', linewidth=1)\n",
        "\tax.set_aspect('equal')\n",
        "\tax.invert_yaxis()\n",
        "\tplt.show()"
      ],
      "metadata": {
        "id": "5DWg6Fa22dEa"
      },
      "execution_count": 156,
      "outputs": []
    },
    {
      "cell_type": "code",
      "source": [
        "def mcts(env: np.array, x_e: Tuple, x_p: Tuple, goal: Tuple, k: int, default_policy) -> Tuple:\n",
        "\t\"\"\"\n",
        "\tMonte-Carlo tree search\n",
        "\tenv is the grid enviroment\n",
        "\tx_e evader\n",
        "\tx_p pursuer\n",
        "\tgoal is the goal state\n",
        "\tu is an optimal action\n",
        "\t\"\"\"\n",
        "\tTree = defaultdict(list)\n",
        "\troot = State(x_e, x_p,'evader', goal, False)\n",
        "\tdiscovered_nodes = [root.get_location()]\n",
        "\texpand(env, root, Tree, discovered_nodes)\n",
        "\tfor child in Tree[root]:\n",
        "\t\tif child.is_terminal:\n",
        "\t\t\treturn child.get_action(root)\n",
        "\tpbar = tqdm(total=k, desc='inner_loop', leave=False)\n",
        "\twhile k > 0:\n",
        "\t\tnode = root\n",
        "\t\twhile not unexplored_node(env, node, Tree):\n",
        "\t\t\tnode = child_select(node,Tree)\n",
        "\t\tif node.visited != 0 or is_root(node) : # or not node.is_simulated i guess\n",
        "\t\t\texpand(env, node, Tree, discovered_nodes)\n",
        "\t\t\tnot_explored_children = [child for child in Tree[node] if child.visited == 0]\n",
        "\t\t\tif len(not_explored_children) != 0:\n",
        "\t\t\t\tnode = np.random.choice(not_explored_children)\n",
        "\t\treward = re_simulation(node, default_policy)\n",
        "\t\tnode.is_simulated = True\n",
        "\t\tbackpropagate(node, reward)\n",
        "\t\tk-=1\n",
        "\t\tpbar.update(1)\n",
        "\tu = best_child(root,Tree).get_action(root)\n",
        "\treturn u"
      ],
      "metadata": {
        "id": "u4IkFTk7Nx9M"
      },
      "execution_count": 154,
      "outputs": []
    },
    {
      "cell_type": "code",
      "source": [
        "# (row index, colum index). In the image row corresponds to y, and colum to x.\n",
        "x_e = tuple(data[\"x_e\"])  # (11, 6) you free to use it as np array if you prefer, but utils.py is expecting a tuple\n",
        "x_p = tuple(data[\"x_p\"])  # (7, 25)\n",
        "goal = tuple(data[\"goal\"])  # (15, 29)\n",
        "\n",
        "# task 1 VI for evader\n",
        "# ======================================\n",
        "default_policy, Gopt = vi(environment, goal)\n",
        "\n",
        "# visualize the optimal policy\n",
        "#plt.matshow(Gopt)\n",
        "\n",
        "# task2 MCTS\n",
        "# ======================================\n",
        "u = mcts(environment, x_e, x_p, goal, 100, default_policy)  # here is just to check\n",
        "\n",
        "# Visualization\n",
        "# ======================================\n",
        "im = plot_joint_enviroment(environment, x_e, x_p, goal)\n",
        "plt.matshow(im)\n",
        "plt.show()\n",
        "\n",
        "# The Game\n",
        "fig = plt.figure()\n",
        "imgs = []\n",
        "pbar = tqdm(range(100))\n",
        "for s in pbar:\n",
        "    im = plot_joint_enviroment(environment, x_e, x_p, goal)\n",
        "    plot = plt.imshow(im)\n",
        "    imgs.append([plot])\n",
        "    # according to the optimal policy of the evader, move the evader\n",
        "    #u_e = action_space[default_policy[x_e]]  # default_policy without taking into account the pursuer\n",
        "    u_e = mcts(environment, x_e, x_p, goal, 100, default_policy)  # taking into account pursuer, simulating the game\n",
        "    x_e, _ = transition_function(environment, x_e, u_e)\n",
        "    if x_e == goal:\n",
        "        print('WIN!')\n",
        "        break\n",
        "    # propagate the pursuer: TODO uncomment the next line to release the beast\n",
        "    x_p = pursuer_transition(environment,x_e, x_p)\n",
        "    if x_p == x_e:\n",
        "        print('game over((')\n",
        "        break\n",
        "    pbar.set_description(f'x_e: {x_e}, x_p: {x_p},'\n",
        "                         f' distance to goal: {np.linalg.norm(np.array(x_e) - np.array(goal)):0.2f}'\n",
        "                         f' distance to pursuer: {np.linalg.norm(np.array(x_e) - np.array(x_p)):0.2f}')\n",
        "im = plot_joint_enviroment(environment, x_e, x_p, goal)\n",
        "plot = plt.imshow(im)\n",
        "imgs.append([plot])\n",
        "ani = animation.ArtistAnimation(fig, imgs, interval=100, blit=True)\n",
        "ani.save('/escape_mcts.mp4')\n",
        "plt.show()"
      ],
      "metadata": {
        "colab": {
          "base_uri": "https://localhost:8080/",
          "height": 1000
        },
        "id": "FomCtJEr51Xi",
        "outputId": "a46d5d08-6cf7-41c8-8206-ae485a3a6b95"
      },
      "execution_count": 155,
      "outputs": [
        {
          "output_type": "stream",
          "name": "stderr",
          "text": [
            "\n",
            "inner_loop:   0%|          | 0/100 [00:00<?, ?it/s]\u001b[A\n",
            "                                                   \u001b[A"
          ]
        },
        {
          "output_type": "display_data",
          "data": {
            "text/plain": [
              "<Figure size 288x288 with 1 Axes>"
            ],
            "image/png": "[encoded data removed]"
          },
          "metadata": {
            "needs_background": "light"
          }
        },
        {
          "output_type": "stream",
          "name": "stderr",
          "text": [
            "\n",
            "  0%|          | 0/100 [00:00<?, ?it/s]\u001b[A\n",
            "\n",
            "inner_loop:   0%|          | 0/100 [00:00<?, ?it/s]\u001b[A\u001b[A\n",
            "\n",
            "inner_loop:  84%|████████▍ | 84/100 [00:00<00:00, 834.53it/s]\u001b[A\u001b[A\n",
            "\n",
            "                                                             \u001b[A\u001b[A\n",
            "x_e: (12, 6), x_p: (7, 24), distance to goal: 23.19 distance to pursuer: 18.68:   0%|          | 0/100 [00:00<?, ?it/s]\u001b[A\n",
            "x_e: (12, 6), x_p: (7, 24), distance to goal: 23.19 distance to pursuer: 18.68:   1%|          | 1/100 [00:00<00:17,  5.66it/s]\u001b[A\n",
            "\n",
            "inner_loop:   0%|          | 0/100 [00:00<?, ?it/s]\u001b[A\u001b[A\n",
            "\n",
            "                                                   \u001b[A\u001b[A\n",
            "x_e: (11, 6), x_p: (7, 23), distance to goal: 23.35 distance to pursuer: 17.46:   1%|          | 1/100 [00:00<00:17,  5.66it/s]\u001b[A\n",
            "x_e: (11, 6), x_p: (7, 23), distance to goal: 23.35 distance to pursuer: 17.46:   2%|▏         | 2/100 [00:00<00:14,  6.81it/s]\u001b[A\n",
            "\n",
            "inner_loop:   0%|          | 0/100 [00:00<?, ?it/s]\u001b[A\u001b[A\n",
            "\n",
            "inner_loop:  77%|███████▋  | 77/100 [00:00<00:00, 762.71it/s]\u001b[A\u001b[A\n",
            "\n",
            "                                                             \u001b[A\u001b[A\n",
            "x_e: (12, 6), x_p: (7, 22), distance to goal: 23.19 distance to pursuer: 16.76:   2%|▏         | 2/100 [00:00<00:14,  6.81it/s]\u001b[A\n",
            "x_e: (12, 6), x_p: (7, 22), distance to goal: 23.19 distance to pursuer: 16.76:   3%|▎         | 3/100 [00:00<00:15,  6.45it/s]\u001b[A\n",
            "\n",
            "inner_loop:   0%|          | 0/100 [00:00<?, ?it/s]\u001b[A\u001b[A\n",
            "\n",
            "inner_loop:  75%|███████▌  | 75/100 [00:00<00:00, 746.92it/s]\u001b[A\u001b[A\n",
            "\n",
            "                                                             \u001b[A\u001b[A\n",
            "x_e: (13, 6), x_p: (7, 21), distance to goal: 23.09 distance to pursuer: 16.16:   3%|▎         | 3/100 [00:00<00:15,  6.45it/s]\u001b[A\n",
            "x_e: (13, 6), x_p: (7, 21), distance to goal: 23.09 distance to pursuer: 16.16:   4%|▍         | 4/100 [00:00<00:15,  6.28it/s]\u001b[A\n",
            "\n",
            "inner_loop:   0%|          | 0/100 [00:00<?, ?it/s]\u001b[A\u001b[A\n",
            "\n",
            "inner_loop:  67%|██████▋   | 67/100 [00:00<00:00, 665.96it/s]\u001b[A\u001b[A\n",
            "\n",
            "                                                             \u001b[A\u001b[A\n",
            "x_e: (14, 6), x_p: (8, 21), distance to goal: 23.02 distance to pursuer: 16.16:   4%|▍         | 4/100 [00:00<00:15,  6.28it/s]\u001b[A\n",
            "x_e: (14, 6), x_p: (8, 21), distance to goal: 23.02 distance to pursuer: 16.16:   5%|▌         | 5/100 [00:00<00:16,  5.94it/s]\u001b[A\n",
            "\n",
            "inner_loop:   0%|          | 0/100 [00:00<?, ?it/s]\u001b[A\u001b[A\n",
            "\n",
            "inner_loop:  72%|███████▏  | 72/100 [00:00<00:00, 715.05it/s]\u001b[A\u001b[A\n",
            "\n",
            "                                                             \u001b[A\u001b[A\n",
            "x_e: (15, 6), x_p: (8, 20), distance to goal: 23.00 distance to pursuer: 15.65:   5%|▌         | 5/100 [00:00<00:16,  5.94it/s]\u001b[A\n",
            "x_e: (15, 6), x_p: (8, 20), distance to goal: 23.00 distance to pursuer: 15.65:   6%|▌         | 6/100 [00:00<00:15,  5.91it/s]\u001b[A\n",
            "\n",
            "inner_loop:   0%|          | 0/100 [00:00<?, ?it/s]\u001b[A\u001b[A\n",
            "\n",
            "inner_loop:  64%|██████▍   | 64/100 [00:00<00:00, 635.76it/s]\u001b[A\u001b[A\n",
            "\n",
            "                                                             \u001b[A\u001b[A\n",
            "x_e: (16, 6), x_p: (8, 19), distance to goal: 23.02 distance to pursuer: 15.26:   6%|▌         | 6/100 [00:01<00:15,  5.91it/s]\u001b[A\n",
            "x_e: (16, 6), x_p: (8, 19), distance to goal: 23.02 distance to pursuer: 15.26:   7%|▋         | 7/100 [00:01<00:16,  5.76it/s]\u001b[A\n",
            "\n",
            "inner_loop:   0%|          | 0/100 [00:00<?, ?it/s]\u001b[A\u001b[A\n",
            "\n",
            "inner_loop:  72%|███████▏  | 72/100 [00:00<00:00, 714.64it/s]\u001b[A\u001b[A\n",
            "\n",
            "                                                             \u001b[A\u001b[A\n",
            "x_e: (17, 6), x_p: (9, 19), distance to goal: 23.09 distance to pursuer: 15.26:   7%|▋         | 7/100 [00:01<00:16,  5.76it/s]\u001b[A\n",
            "x_e: (17, 6), x_p: (9, 19), distance to goal: 23.09 distance to pursuer: 15.26:   8%|▊         | 8/100 [00:01<00:16,  5.74it/s]\u001b[A\n",
            "\n",
            "inner_loop:   0%|          | 0/100 [00:00<?, ?it/s]\u001b[A\u001b[A\n",
            "\n",
            "inner_loop:  66%|██████▌   | 66/100 [00:00<00:00, 658.36it/s]\u001b[A\u001b[A\n",
            "\n",
            "                                                             \u001b[A\u001b[A\n",
            "x_e: (18, 6), x_p: (9, 18), distance to goal: 23.19 distance to pursuer: 15.00:   8%|▊         | 8/100 [00:01<00:16,  5.74it/s]\u001b[A\n",
            "x_e: (18, 6), x_p: (9, 18), distance to goal: 23.19 distance to pursuer: 15.00:   9%|▉         | 9/100 [00:01<00:15,  5.79it/s]\u001b[A\n",
            "\n",
            "inner_loop:   0%|          | 0/100 [00:00<?, ?it/s]\u001b[A\u001b[A\n",
            "\n",
            "inner_loop:  83%|████████▎ | 83/100 [00:00<00:00, 824.40it/s]\u001b[A\u001b[A\n",
            "\n",
            "                                                             \u001b[A\u001b[A\n",
            "x_e: (19, 6), x_p: (9, 17), distance to goal: 23.35 distance to pursuer: 14.87:   9%|▉         | 9/100 [00:01<00:15,  5.79it/s]\u001b[A\n",
            "x_e: (19, 6), x_p: (9, 17), distance to goal: 23.35 distance to pursuer: 14.87:  10%|█         | 10/100 [00:01<00:14,  6.06it/s]\u001b[A\n",
            "\n",
            "inner_loop:   0%|          | 0/100 [00:00<?, ?it/s]\u001b[A\u001b[A\n",
            "\n",
            "inner_loop:  57%|█████▋    | 57/100 [00:00<00:00, 566.62it/s]\u001b[A\u001b[A\n",
            "\n",
            "                                                             \u001b[A\u001b[A\n",
            "x_e: (19, 7), x_p: (10, 17), distance to goal: 22.36 distance to pursuer: 13.45:  10%|█         | 10/100 [00:01<00:14,  6.06it/s]\u001b[A\n",
            "x_e: (19, 7), x_p: (10, 17), distance to goal: 22.36 distance to pursuer: 13.45:  11%|█         | 11/100 [00:01<00:15,  5.74it/s]\u001b[A\n",
            "\n",
            "inner_loop:   0%|          | 0/100 [00:00<?, ?it/s]\u001b[A\u001b[A\n",
            "\n",
            "inner_loop:  93%|█████████▎| 93/100 [00:00<00:00, 924.77it/s]\u001b[A\u001b[A\n",
            "\n",
            "                                                             \u001b[A\u001b[A\n",
            "x_e: (19, 8), x_p: (10, 16), distance to goal: 21.38 distance to pursuer: 12.04:  11%|█         | 11/100 [00:02<00:15,  5.74it/s]\u001b[A\n",
            "x_e: (19, 8), x_p: (10, 16), distance to goal: 21.38 distance to pursuer: 12.04:  12%|█▏        | 12/100 [00:02<00:14,  5.99it/s]\u001b[A\n",
            "\n",
            "inner_loop:   0%|          | 0/100 [00:00<?, ?it/s]\u001b[A\u001b[A\n",
            "\n",
            "inner_loop:  77%|███████▋  | 77/100 [00:00<00:00, 764.39it/s]\u001b[A\u001b[A\n",
            "\n",
            "                                                             \u001b[A\u001b[A\n",
            "x_e: (20, 8), x_p: (11, 15), distance to goal: 21.59 distance to pursuer: 11.40:  12%|█▏        | 12/100 [00:02<00:14,  5.99it/s]\u001b[A\n",
            "x_e: (20, 8), x_p: (11, 15), distance to goal: 21.59 distance to pursuer: 11.40:  13%|█▎        | 13/100 [00:02<00:14,  5.88it/s]\u001b[A\n",
            "\n",
            "inner_loop:   0%|          | 0/100 [00:00<?, ?it/s]\u001b[A\u001b[A\n",
            "\n",
            "inner_loop:  83%|████████▎ | 83/100 [00:00<00:00, 824.15it/s]\u001b[A\u001b[A\n",
            "\n",
            "                                                             \u001b[A\u001b[A\n",
            "x_e: (21, 8), x_p: (11, 15), distance to goal: 21.84 distance to pursuer: 12.21:  13%|█▎        | 13/100 [00:02<00:14,  5.88it/s]\u001b[A\n",
            "x_e: (21, 8), x_p: (11, 15), distance to goal: 21.84 distance to pursuer: 12.21:  14%|█▍        | 14/100 [00:02<00:14,  5.86it/s]\u001b[A\n",
            "\n",
            "inner_loop:   0%|          | 0/100 [00:00<?, ?it/s]\u001b[A\u001b[A\n",
            "\n",
            "inner_loop:  62%|██████▏   | 62/100 [00:00<00:00, 616.67it/s]\u001b[A\u001b[A\n",
            "\n",
            "                                                             \u001b[A\u001b[A\n",
            "x_e: (22, 8), x_p: (11, 15), distance to goal: 22.14 distance to pursuer: 13.04:  14%|█▍        | 14/100 [00:02<00:14,  5.86it/s]\u001b[A\n",
            "x_e: (22, 8), x_p: (11, 15), distance to goal: 22.14 distance to pursuer: 13.04:  15%|█▌        | 15/100 [00:02<00:14,  5.76it/s]\u001b[A\n",
            "\n",
            "inner_loop:   0%|          | 0/100 [00:00<?, ?it/s]\u001b[A\u001b[A\n",
            "\n",
            "inner_loop:  99%|█████████▉| 99/100 [00:00<00:00, 984.40it/s]\u001b[A\u001b[A\n",
            "\n",
            "                                                             \u001b[A\u001b[A\n",
            "x_e: (23, 8), x_p: (11, 15), distance to goal: 22.47 distance to pursuer: 13.89:  15%|█▌        | 15/100 [00:02<00:14,  5.76it/s]\u001b[A\n",
            "x_e: (23, 8), x_p: (11, 15), distance to goal: 22.47 distance to pursuer: 13.89:  16%|█▌        | 16/100 [00:02<00:14,  5.97it/s]\u001b[A\n",
            "\n",
            "inner_loop:   0%|          | 0/100 [00:00<?, ?it/s]\u001b[A\u001b[A\n",
            "\n",
            "inner_loop:  69%|██████▉   | 69/100 [00:00<00:00, 687.10it/s]\u001b[A\u001b[A\n",
            "\n",
            "                                                             \u001b[A\u001b[A\n",
            "x_e: (24, 8), x_p: (11, 15), distance to goal: 22.85 distance to pursuer: 14.76:  16%|█▌        | 16/100 [00:02<00:14,  5.97it/s]\u001b[A\n",
            "x_e: (24, 8), x_p: (11, 15), distance to goal: 22.85 distance to pursuer: 14.76:  17%|█▋        | 17/100 [00:02<00:13,  5.94it/s]\u001b[A\n",
            "\n",
            "inner_loop:   0%|          | 0/100 [00:00<?, ?it/s]\u001b[A\u001b[A\n",
            "\n",
            "inner_loop:  96%|█████████▌| 96/100 [00:00<00:00, 956.40it/s]\u001b[A\u001b[A\n",
            "\n",
            "                                                             \u001b[A\u001b[A\n",
            "x_e: (24, 9), x_p: (11, 15), distance to goal: 21.93 distance to pursuer: 14.32:  17%|█▋        | 17/100 [00:03<00:13,  5.94it/s]\u001b[A\n",
            "x_e: (24, 9), x_p: (11, 15), distance to goal: 21.93 distance to pursuer: 14.32:  18%|█▊        | 18/100 [00:03<00:13,  6.02it/s]\u001b[A\n",
            "\n",
            "inner_loop:   0%|          | 0/100 [00:00<?, ?it/s]\u001b[A\u001b[A\n",
            "\n",
            "inner_loop:  89%|████████▉ | 89/100 [00:00<00:00, 889.83it/s]\u001b[A\u001b[A\n",
            "\n",
            "                                                             \u001b[A\u001b[A\n",
            "x_e: (24, 10), x_p: (11, 15), distance to goal: 21.02 distance to pursuer: 13.93:  18%|█▊        | 18/100 [00:03<00:13,  6.02it/s]\u001b[A\n",
            "x_e: (24, 10), x_p: (11, 15), distance to goal: 21.02 distance to pursuer: 13.93:  19%|█▉        | 19/100 [00:03<00:13,  6.08it/s]\u001b[A\n",
            "\n",
            "inner_loop:   0%|          | 0/100 [00:00<?, ?it/s]\u001b[A\u001b[A\n",
            "\n",
            "inner_loop:  57%|█████▋    | 57/100 [00:00<00:00, 557.52it/s]\u001b[A\u001b[A\n",
            "\n",
            "                                                             \u001b[A\u001b[A\n",
            "x_e: (24, 11), x_p: (11, 15), distance to goal: 20.12 distance to pursuer: 13.60:  19%|█▉        | 19/100 [00:03<00:13,  6.08it/s]\u001b[A\n",
            "x_e: (24, 11), x_p: (11, 15), distance to goal: 20.12 distance to pursuer: 13.60:  20%|██        | 20/100 [00:03<00:14,  5.59it/s]\u001b[A\n",
            "\n",
            "inner_loop:   0%|          | 0/100 [00:00<?, ?it/s]\u001b[A\u001b[A\n",
            "\n",
            "inner_loop:  59%|█████▉    | 59/100 [00:00<00:00, 587.16it/s]\u001b[A\u001b[A\n",
            "\n",
            "                                                             \u001b[A\u001b[A\n",
            "x_e: (24, 12), x_p: (11, 15), distance to goal: 19.24 distance to pursuer: 13.34:  20%|██        | 20/100 [00:03<00:14,  5.59it/s]\u001b[A\n",
            "x_e: (24, 12), x_p: (11, 15), distance to goal: 19.24 distance to pursuer: 13.34:  21%|██        | 21/100 [00:03<00:14,  5.31it/s]\u001b[A\n",
            "\n",
            "inner_loop:   0%|          | 0/100 [00:00<?, ?it/s]\u001b[A\u001b[A\n",
            "\n",
            "                                                   \u001b[A\u001b[A\n",
            "x_e: (24, 13), x_p: (11, 15), distance to goal: 18.36 distance to pursuer: 13.15:  21%|██        | 21/100 [00:03<00:14,  5.31it/s]\u001b[A\n",
            "x_e: (24, 13), x_p: (11, 15), distance to goal: 18.36 distance to pursuer: 13.15:  22%|██▏       | 22/100 [00:03<00:13,  5.84it/s]\u001b[A\n",
            "\n",
            "inner_loop:   0%|          | 0/100 [00:00<?, ?it/s]\u001b[A\u001b[A\n",
            "\n",
            "                                                   \u001b[A\u001b[A\n",
            "x_e: (24, 14), x_p: (11, 15), distance to goal: 17.49 distance to pursuer: 13.04:  22%|██▏       | 22/100 [00:03<00:13,  5.84it/s]\u001b[A\n",
            "x_e: (24, 14), x_p: (11, 15), distance to goal: 17.49 distance to pursuer: 13.04:  23%|██▎       | 23/100 [00:03<00:12,  6.33it/s]\u001b[A\n",
            "\n",
            "inner_loop:   0%|          | 0/100 [00:00<?, ?it/s]\u001b[A\u001b[A\n",
            "\n",
            "                                                   \u001b[A\u001b[A\n",
            "x_e: (24, 15), x_p: (11, 15), distance to goal: 16.64 distance to pursuer: 13.00:  23%|██▎       | 23/100 [00:03<00:12,  6.33it/s]\u001b[A\n",
            "x_e: (24, 15), x_p: (11, 15), distance to goal: 16.64 distance to pursuer: 13.00:  24%|██▍       | 24/100 [00:03<00:11,  6.86it/s]\u001b[A\n",
            "\n",
            "inner_loop:   0%|          | 0/100 [00:00<?, ?it/s]\u001b[A\u001b[A\n",
            "\n",
            "                                                   \u001b[A\u001b[A\n",
            "x_e: (24, 16), x_p: (11, 15), distance to goal: 15.81 distance to pursuer: 13.04:  24%|██▍       | 24/100 [00:04<00:11,  6.86it/s]\u001b[A\n",
            "x_e: (24, 16), x_p: (11, 15), distance to goal: 15.81 distance to pursuer: 13.04:  25%|██▌       | 25/100 [00:04<00:10,  7.23it/s]\u001b[A\n",
            "\n",
            "inner_loop:   0%|          | 0/100 [00:00<?, ?it/s]\u001b[A\u001b[A\n",
            "\n",
            "                                                   \u001b[A\u001b[A\n",
            "x_e: (24, 17), x_p: (11, 15), distance to goal: 15.00 distance to pursuer: 13.15:  25%|██▌       | 25/100 [00:04<00:10,  7.23it/s]\u001b[A\n",
            "x_e: (24, 17), x_p: (11, 15), distance to goal: 15.00 distance to pursuer: 13.15:  26%|██▌       | 26/100 [00:04<00:09,  7.74it/s]\u001b[A\n",
            "\n",
            "inner_loop:   0%|          | 0/100 [00:00<?, ?it/s]\u001b[A\u001b[A\n",
            "\n",
            "                                                   \u001b[A\u001b[A\n",
            "x_e: (24, 18), x_p: (11, 15), distance to goal: 14.21 distance to pursuer: 13.34:  26%|██▌       | 26/100 [00:04<00:09,  7.74it/s]\u001b[A\n",
            "x_e: (24, 18), x_p: (11, 15), distance to goal: 14.21 distance to pursuer: 13.34:  27%|██▋       | 27/100 [00:04<00:09,  7.98it/s]\u001b[A\n",
            "\n",
            "inner_loop:   0%|          | 0/100 [00:00<?, ?it/s]\u001b[A\u001b[A\n",
            "\n",
            "                                                   \u001b[A\u001b[A\n",
            "x_e: (24, 19), x_p: (11, 15), distance to goal: 13.45 distance to pursuer: 13.60:  27%|██▋       | 27/100 [00:04<00:09,  7.98it/s]\u001b[A\n",
            "x_e: (24, 19), x_p: (11, 15), distance to goal: 13.45 distance to pursuer: 13.60:  28%|██▊       | 28/100 [00:04<00:08,  8.44it/s]\u001b[A\n",
            "\n",
            "inner_loop:   0%|          | 0/100 [00:00<?, ?it/s]\u001b[A\u001b[A\n",
            "\n",
            "inner_loop:  98%|█████████▊| 98/100 [00:00<00:00, 964.49it/s]\u001b[A\u001b[A\n",
            "\n",
            "                                                             \u001b[A\u001b[A\n",
            "x_e: (24, 20), x_p: (11, 15), distance to goal: 12.73 distance to pursuer: 13.93:  28%|██▊       | 28/100 [00:04<00:08,  8.44it/s]\u001b[A\n",
            "x_e: (24, 20), x_p: (11, 15), distance to goal: 12.73 distance to pursuer: 13.93:  29%|██▉       | 29/100 [00:04<00:08,  7.89it/s]\u001b[A\n",
            "\n",
            "inner_loop:   0%|          | 0/100 [00:00<?, ?it/s]\u001b[A\u001b[A\n",
            "\n",
            "                                                   \u001b[A\u001b[A\n",
            "x_e: (24, 21), x_p: (11, 15), distance to goal: 12.04 distance to pursuer: 14.32:  29%|██▉       | 29/100 [00:04<00:08,  7.89it/s]\u001b[A\n",
            "x_e: (24, 21), x_p: (11, 15), distance to goal: 12.04 distance to pursuer: 14.32:  30%|███       | 30/100 [00:04<00:08,  8.26it/s]\u001b[A\n",
            "\n",
            "inner_loop:   0%|          | 0/100 [00:00<?, ?it/s]\u001b[A\u001b[A\n",
            "\n",
            "                                                   \u001b[A\u001b[A\n",
            "x_e: (24, 22), x_p: (11, 15), distance to goal: 11.40 distance to pursuer: 14.76:  30%|███       | 30/100 [00:04<00:08,  8.26it/s]\u001b[A\n",
            "\n",
            "inner_loop:   0%|          | 0/100 [00:00<?, ?it/s]\u001b[A\u001b[A\n",
            "\n",
            "                                                   \u001b[A\u001b[A\n",
            "x_e: (24, 23), x_p: (11, 16), distance to goal: 10.82 distance to pursuer: 14.76:  30%|███       | 30/100 [00:04<00:08,  8.26it/s]\u001b[A\n",
            "x_e: (24, 23), x_p: (11, 16), distance to goal: 10.82 distance to pursuer: 14.76:  32%|███▏      | 32/100 [00:04<00:07,  9.33it/s]\u001b[A\n",
            "\n",
            "inner_loop:   0%|          | 0/100 [00:00<?, ?it/s]\u001b[A\u001b[A\n",
            "\n",
            "                                                   \u001b[A\u001b[A\n",
            "x_e: (24, 24), x_p: (12, 16), distance to goal: 10.30 distance to pursuer: 14.42:  32%|███▏      | 32/100 [00:04<00:07,  9.33it/s]\u001b[A\n",
            "\n",
            "inner_loop:   0%|          | 0/100 [00:00<?, ?it/s]\u001b[A\u001b[A\n",
            "\n",
            "                                                   \u001b[A\u001b[A\n",
            "x_e: (24, 25), x_p: (12, 16), distance to goal: 9.85 distance to pursuer: 15.00:  32%|███▏      | 32/100 [00:05<00:07,  9.33it/s] \u001b[A\n",
            "x_e: (24, 25), x_p: (12, 16), distance to goal: 9.85 distance to pursuer: 15.00:  34%|███▍      | 34/100 [00:05<00:06, 10.28it/s]\u001b[A\n",
            "\n",
            "inner_loop:   0%|          | 0/100 [00:00<?, ?it/s]\u001b[A\u001b[A\n",
            "x_e: (24, 26), x_p: (12, 16), distance to goal: 9.49 distance to pursuer: 15.62:  34%|███▍      | 34/100 [00:05<00:06, 10.28it/s]\u001b[A\n",
            "\n",
            "                                                   \u001b[A\u001b[A\n",
            "\n",
            "\n",
            "inner_loop:   0%|          | 0/100 [00:00<?, ?it/s]\u001b[A\u001b[A\u001b[A\n",
            "\n",
            "\n",
            "                                                   \u001b[A\u001b[A\u001b[A\n",
            "x_e: (25, 26), x_p: (12, 17), distance to goal: 10.44 distance to pursuer: 15.81:  34%|███▍      | 34/100 [00:05<00:06, 10.28it/s]\u001b[A\n",
            "x_e: (25, 26), x_p: (12, 17), distance to goal: 10.44 distance to pursuer: 15.81:  36%|███▌      | 36/100 [00:05<00:05, 10.70it/s]\u001b[A\n",
            "\n",
            "inner_loop:   0%|          | 0/100 [00:00<?, ?it/s]\u001b[A\u001b[A\n",
            "\n",
            "                                                   \u001b[A\u001b[A\n",
            "x_e: (25, 27), x_p: (13, 17), distance to goal: 10.20 distance to pursuer: 15.62:  36%|███▌      | 36/100 [00:05<00:05, 10.70it/s]\u001b[A\n",
            "\n",
            "inner_loop:   0%|          | 0/100 [00:00<?, ?it/s]\u001b[A\u001b[A\n",
            "\n",
            "                                                   \u001b[A\u001b[A\n",
            "x_e: (25, 28), x_p: (13, 17), distance to goal: 10.05 distance to pursuer: 16.28:  36%|███▌      | 36/100 [00:05<00:05, 10.70it/s]\u001b[A\n",
            "x_e: (25, 28), x_p: (13, 17), distance to goal: 10.05 distance to pursuer: 16.28:  38%|███▊      | 38/100 [00:05<00:05, 11.07it/s]\u001b[A\n",
            "\n",
            "inner_loop:   0%|          | 0/100 [00:00<?, ?it/s]\u001b[A\u001b[A\n",
            "\n",
            "                                                   \u001b[A\u001b[A\n",
            "x_e: (24, 28), x_p: (13, 17), distance to goal: 9.06 distance to pursuer: 15.56:  38%|███▊      | 38/100 [00:05<00:05, 11.07it/s] \u001b[A\n",
            "\n",
            "inner_loop:   0%|          | 0/100 [00:00<?, ?it/s]\u001b[A\u001b[A\n",
            "\n",
            "                                                   \u001b[A\u001b[A\n",
            "x_e: (23, 28), x_p: (13, 18), distance to goal: 8.06 distance to pursuer: 14.14:  38%|███▊      | 38/100 [00:05<00:05, 11.07it/s]\u001b[A\n",
            "x_e: (23, 28), x_p: (13, 18), distance to goal: 8.06 distance to pursuer: 14.14:  40%|████      | 40/100 [00:05<00:05, 11.43it/s]\u001b[A\n",
            "\n",
            "inner_loop:   0%|          | 0/100 [00:00<?, ?it/s]\u001b[A\u001b[A\n",
            "\n",
            "                                                   \u001b[A\u001b[A\n",
            "x_e: (22, 28), x_p: (14, 18), distance to goal: 7.07 distance to pursuer: 12.81:  40%|████      | 40/100 [00:05<00:05, 11.43it/s]\u001b[A\n",
            "\n",
            "inner_loop:   0%|          | 0/100 [00:00<?, ?it/s]\u001b[A\u001b[A\n",
            "\n",
            "                                                   \u001b[A\u001b[A\n",
            "x_e: (21, 28), x_p: (14, 18), distance to goal: 6.08 distance to pursuer: 12.21:  40%|████      | 40/100 [00:05<00:05, 11.43it/s]\u001b[A\n",
            "x_e: (21, 28), x_p: (14, 18), distance to goal: 6.08 distance to pursuer: 12.21:  42%|████▏     | 42/100 [00:05<00:04, 12.32it/s]\u001b[A\n",
            "\n",
            "inner_loop:   0%|          | 0/100 [00:00<?, ?it/s]\u001b[A\u001b[A\n",
            "\n",
            "                                                   \u001b[A\u001b[A\n",
            "x_e: (20, 28), x_p: (14, 19), distance to goal: 5.10 distance to pursuer: 10.82:  42%|████▏     | 42/100 [00:05<00:04, 12.32it/s]\u001b[A\n",
            "\n",
            "inner_loop:   0%|          | 0/100 [00:00<?, ?it/s]\u001b[A\u001b[A\n",
            "\n",
            "                                                   \u001b[A\u001b[A\n",
            "x_e: (19, 28), x_p: (14, 20), distance to goal: 4.12 distance to pursuer: 9.43:  42%|████▏     | 42/100 [00:05<00:04, 12.32it/s] \u001b[A\n",
            "x_e: (19, 28), x_p: (14, 20), distance to goal: 4.12 distance to pursuer: 9.43:  44%|████▍     | 44/100 [00:05<00:04, 13.44it/s]\u001b[A\n",
            "\n",
            "inner_loop:   0%|          | 0/100 [00:00<?, ?it/s]\u001b[A\u001b[A\n",
            "\n",
            "                                                   \u001b[A\u001b[A\n",
            "x_e: (18, 28), x_p: (14, 21), distance to goal: 3.16 distance to pursuer: 8.06:  44%|████▍     | 44/100 [00:05<00:04, 13.44it/s]\u001b[A\n",
            "\n",
            "inner_loop:   0%|          | 0/100 [00:00<?, ?it/s]\u001b[A\u001b[A\n",
            "\n",
            "                                                   \u001b[A\u001b[A\n",
            "x_e: (17, 28), x_p: (15, 21), distance to goal: 2.24 distance to pursuer: 7.28:  44%|████▍     | 44/100 [00:05<00:04, 13.44it/s]\u001b[A\n",
            "x_e: (17, 28), x_p: (15, 21), distance to goal: 2.24 distance to pursuer: 7.28:  46%|████▌     | 46/100 [00:05<00:03, 14.81it/s]\u001b[A\n",
            "\n",
            "inner_loop:   0%|          | 0/100 [00:00<?, ?it/s]\u001b[A\u001b[A\n",
            "\n",
            "                                                   \u001b[A\u001b[A\n",
            "x_e: (16, 28), x_p: (15, 22), distance to goal: 1.41 distance to pursuer: 6.08:  46%|████▌     | 46/100 [00:05<00:03, 14.81it/s]\u001b[A\n",
            "\n",
            "inner_loop:   0%|          | 0/100 [00:00<?, ?it/s]\u001b[A\u001b[A\n",
            "\n",
            "                                                   \u001b[A\u001b[A\n",
            "x_e: (15, 28), x_p: (15, 23), distance to goal: 1.00 distance to pursuer: 5.00:  48%|████▊     | 48/100 [00:05<00:06,  8.04it/s]\n"
          ]
        },
        {
          "output_type": "stream",
          "name": "stdout",
          "text": [
            "WIN!\n"
          ]
        },
        {
          "output_type": "display_data",
          "data": {
            "text/plain": [
              "<Figure size 432x288 with 1 Axes>"
            ],
            "image/png": "[encoded data removed]"
          },
          "metadata": {
            "needs_background": "light"
          }
        }
      ]
    }
  ]
}