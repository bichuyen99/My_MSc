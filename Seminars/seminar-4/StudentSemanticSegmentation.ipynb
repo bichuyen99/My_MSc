{
  "cells": [
    {
      "attachments": {},
      "cell_type": "markdown",
      "metadata": {
        "id": "EVDGqBfrv65o"
      },
      "source": [
        "# Semantic Segmentation\n",
        "\n",
        "![](doge_segmentation.png)"
      ]
    },
    {
      "attachments": {},
      "cell_type": "markdown",
      "metadata": {
        "id": "NKdW1cevvhxf"
      },
      "source": [
        "## Unet architecture\n",
        "\n",
        "![](unet.png)"
      ]
    },
    {
      "cell_type": "code",
      "execution_count": null,
      "metadata": {
        "id": "_Qq06tfXvftM"
      },
      "outputs": [],
      "source": [
        "import torch\n",
        "import torchvision\n",
        "from torchvision import transforms\n",
        "import numpy as np\n",
        "import matplotlib.pyplot as plt\n",
        "%matplotlib inline\n",
        "import gdown"
      ]
    },
    {
      "cell_type": "code",
      "execution_count": null,
      "metadata": {
        "id": "SiKSXyXG4PGS"
      },
      "outputs": [],
      "source": [
        "gdown.download(url=\"https://drive.google.com/file/d/1kiR9pPP3gIqoyT9bWUnA0rgZuRTiUv7q/view?usp=share_link\", output=\"./unet_dict.pt\", quiet=False, fuzzy=True)"
      ]
    },
    {
      "cell_type": "code",
      "execution_count": null,
      "metadata": {
        "id": "yAOnVdD3wLZ4"
      },
      "outputs": [],
      "source": [
        "class Encoder_Block(torch.nn.Module):\n",
        "  def __init__(self,inp_channels,out_channels):\n",
        "    super().__init__()\n",
        "    self.model = torch.nn.Sequential(\n",
        "        #implement encoder block\n",
        "    )\n",
        "    self.pooling = # implement pooling\n",
        "  def forward(self,x):\n",
        "    #compute intermediate output (before pooling)\n",
        "    return # return intermediate and after pooling outputs\n",
        "\n",
        "class Decoder_Block(torch.nn.Module):\n",
        "  def __init__(self,inp_channels,out_channels):\n",
        "    super().__init__()\n",
        "    self.upsample = # implement upsampling using transposed convolution\n",
        "    self.model = torch.nn.Sequential(\n",
        "        #implement decoder block\n",
        "    )\n",
        "  def forward(self,x,enc_x):\n",
        "    x = #make upsampling\n",
        "    x = #concatenate upscaled input with encoder block output (enc_x)\n",
        "    return self.model(x)"
      ]
    },
    {
      "cell_type": "markdown",
      "metadata": {
        "id": "OkSaNiMExvDp"
      },
      "source": [
        "# Let's check our implementation"
      ]
    },
    {
      "cell_type": "code",
      "execution_count": null,
      "metadata": {
        "id": "rezzfYzzzXaF"
      },
      "outputs": [],
      "source": [
        "enc = Encoder_Block(64,128)\n",
        "dec = Decoder_Block(256,128)\n",
        "inp = torch.randn(1,64,64,64)\n",
        "x,enc_x = enc(inp)\n",
        "\n",
        "assert x.shape == (1,128,32,32), \"correct encoder implementation\"\n",
        "\n",
        "inp = torch.randn(1,256,32,32)\n",
        "x = dec(inp,enc_x)\n",
        "\n",
        "assert x.shape == (1,128,64,64), \"correct decoder implementation\""
      ]
    },
    {
      "cell_type": "code",
      "execution_count": null,
      "metadata": {
        "id": "illbR93nzkOe"
      },
      "outputs": [],
      "source": [
        "class Unet(torch.nn.Module):\n",
        "  def __init__(self,inc,outc,hidden_size=64):\n",
        "    super().__init__()\n",
        "    self.Encoder = torch.nn.ModuleList([\n",
        "        #implement full encoder by adding encoder blocks\n",
        "    ])\n",
        "    self.bottleneck = torch.nn.Sequential(\n",
        "        #implement bottleneck - sequatial application of convolutional layers with kernel size 1\n",
        "    )\n",
        "    self.Decoder = torch.nn.ModuleList([\n",
        "        #implement full decoder by adding decoder blocks\n",
        "    ])\n",
        "    self.last_layer = torch.nn.Conv2d(hidden_size,outc,kernel_size=3,padding=\"same\")\n",
        "  def forward(self,x):\n",
        "    enc_xs = []\n",
        "    for module in self.Encoder:\n",
        "      # apply encoder modules sequentially, do not forget to store intermediate output\n",
        "    \n",
        "    enc_xs = enc_xs[::-1]\n",
        "    x = self.bottleneck(x)\n",
        "\n",
        "    for i,module in enumerate(self.Decoder):\n",
        "      # apply decoder modules sequentially using intermediate encoder outputs\n",
        "    return self.last_layer(x)"
      ]
    },
    {
      "cell_type": "markdown",
      "metadata": {
        "id": "1x95Ez440c8d"
      },
      "source": [
        "## Check that your implementation works correctly"
      ]
    },
    {
      "cell_type": "code",
      "execution_count": null,
      "metadata": {
        "id": "XYCRXuub83tr"
      },
      "outputs": [],
      "source": [
        "unet = Unet(3,11)\n",
        "\n",
        "assert unet(torch.randn(1,3,128,128)).shape == (1,11,128,128), \"check your implementation\""
      ]
    },
    {
      "cell_type": "markdown",
      "metadata": {
        "id": "l3RuOSEg0ifH"
      },
      "source": [
        "## Let's start working with data"
      ]
    },
    {
      "cell_type": "code",
      "execution_count": null,
      "metadata": {
        "colab": {
          "base_uri": "https://localhost:8080/"
        },
        "id": "x7_RhC4X_ZAD",
        "outputId": "2b36dfd7-281f-4c42-e71f-34dacb41908b"
      },
      "outputs": [
        {
          "name": "stdout",
          "output_type": "stream",
          "text": [
            "Downloading https://thor.robots.ox.ac.uk/datasets/pets/images.tar.gz to data/oxford-iiit-pet/images.tar.gz\n"
          ]
        },
        {
          "name": "stderr",
          "output_type": "stream",
          "text": [
            "100%|██████████| 791918971/791918971 [00:37<00:00, 21168795.70it/s]\n"
          ]
        },
        {
          "name": "stdout",
          "output_type": "stream",
          "text": [
            "Extracting data/oxford-iiit-pet/images.tar.gz to data/oxford-iiit-pet\n",
            "Downloading https://thor.robots.ox.ac.uk/datasets/pets/annotations.tar.gz to data/oxford-iiit-pet/annotations.tar.gz\n"
          ]
        },
        {
          "name": "stderr",
          "output_type": "stream",
          "text": [
            "100%|██████████| 19173078/19173078 [00:01<00:00, 10020703.36it/s]\n"
          ]
        },
        {
          "name": "stdout",
          "output_type": "stream",
          "text": [
            "Extracting data/oxford-iiit-pet/annotations.tar.gz to data/oxford-iiit-pet\n"
          ]
        }
      ],
      "source": [
        "transform = transforms.Compose([\n",
        "    transforms.Resize(128),\n",
        "    transforms.CenterCrop(128),\n",
        "    transforms.ToTensor(),\n",
        "    transforms.Normalize(mean=0.5,std=0.5)\n",
        "])\n",
        "def class_split(data,n=3):\n",
        "  data = np.array(data)\n",
        "  res = []\n",
        "  for i in range(1,1+n):\n",
        "    mask = np.zeros_like(data)\n",
        "    mask[data==i] = 1.\n",
        "    res.append(mask[None])\n",
        "  return torch.from_numpy(np.concatenate(res,axis=0)).to(torch.float)\n",
        "\n",
        "target_transform = transforms.Compose([\n",
        "    transforms.Resize(128),\n",
        "    transforms.CenterCrop(128),\n",
        "    class_split\n",
        "])\n",
        "dataset = torchvision.datasets.OxfordIIITPet(\"./data\",split=\"trainval\",target_types=\"segmentation\",download=True,transform=transform,target_transform=target_transform)"
      ]
    },
    {
      "cell_type": "code",
      "execution_count": null,
      "metadata": {
        "id": "yDyR68t98_aj"
      },
      "outputs": [],
      "source": [
        "device = torch.device(\"cuda\" if torch.cuda.is_available() else \"cpu\")\n",
        "unet = Unet(3,3).to(device)\n",
        "dataloader = torch.utils.data.DataLoader(dataset,batch_size=32,shuffle=True)\n",
        "optimizer = torch.optim.Adam(unet.parameters(),lr=0.001)"
      ]
    },
    {
      "cell_type": "code",
      "execution_count": null,
      "metadata": {
        "id": "2mmw3APxShOL"
      },
      "outputs": [],
      "source": [
        "def train(model,dataloader,optimizer,loss_func=torch.nn.CrossEntropyLoss(),epochs=5):\n",
        "  for i in range(epochs):\n",
        "    for x,y in dataloader:\n",
        "      #implement standard training stuff"
      ]
    },
    {
      "cell_type": "code",
      "execution_count": null,
      "metadata": {
        "id": "mnEbAAnnUls9"
      },
      "outputs": [],
      "source": [
        "train(unet,dataloader,optimizer)"
      ]
    },
    {
      "cell_type": "code",
      "execution_count": null,
      "metadata": {
        "id": "ZN0vLep2vOTW"
      },
      "outputs": [],
      "source": [
        "iou = []\n",
        "for x,y in tqdm(dataloader):\n",
        "  #implement evaluation of iou by directly computing intersection and union between class masks generated by model and ground truth"
      ]
    },
    {
      "cell_type": "code",
      "execution_count": null,
      "metadata": {
        "id": "krTQsKKh4bHB"
      },
      "outputs": [],
      "source": [
        "round(np.mean(iou)*100,1)"
      ]
    },
    {
      "cell_type": "code",
      "execution_count": null,
      "metadata": {
        "colab": {
          "base_uri": "https://localhost:8080/"
        },
        "id": "9_IF9Su3YD68",
        "outputId": "bfa2ee26-ebe3-4ec1-b7dd-558e52cda79f"
      },
      "outputs": [
        {
          "name": "stdout",
          "output_type": "stream",
          "text": [
            "2023-04-03 23:15:50 URL:https://fikiwiki.com/uploads/posts/2022-02/1644990866_45-fikiwiki-com-p-prikolnie-kartinki-pro-zhivotnikh-47.png [1205459/1205459] -> \"1644990866_45-fikiwiki-com-p-prikolnie-kartinki-pro-zhivotnikh-47.png\" [1]\n"
          ]
        }
      ],
      "source": [
        "!wget -nv \"https://fikiwiki.com/uploads/posts/2022-02/1644990866_45-fikiwiki-com-p-prikolnie-kartinki-pro-zhivotnikh-47.png\""
      ]
    },
    {
      "cell_type": "code",
      "execution_count": null,
      "metadata": {
        "id": "T6Tuwoo2Z7Vl"
      },
      "outputs": [],
      "source": [
        "from PIL import Image\n",
        "img = Image.open(\"/content/1644990866_45-fikiwiki-com-p-prikolnie-kartinki-pro-zhivotnikh-47.png\")"
      ]
    },
    {
      "cell_type": "code",
      "execution_count": null,
      "metadata": {
        "id": "cBswwc3JaE2U"
      },
      "outputs": [],
      "source": [
        "img = transform(img)[:3][None].to(device)\n",
        "mask = unet(img)[0]"
      ]
    },
    {
      "cell_type": "code",
      "execution_count": null,
      "metadata": {
        "colab": {
          "base_uri": "https://localhost:8080/",
          "height": 145
        },
        "id": "VN7972QUaUy6",
        "outputId": "bcab2e7f-e3c6-44bd-9d96-190d670d5a8b"
      },
      "outputs": [
        {
          "data": {
            "image/png": "[encoded data removed]",
            "text/plain": [
              "<PIL.Image.Image image mode=L size=128x128 at 0x7F09BAC24880>"
            ]
          },
          "execution_count": 36,
          "metadata": {},
          "output_type": "execute_result"
        }
      ],
      "source": [
        "transforms.ToPILImage()(torch.nn.Softmax(dim=0)(mask)[0:1].detach().cpu())"
      ]
    },
    {
      "cell_type": "code",
      "execution_count": null,
      "metadata": {
        "colab": {
          "base_uri": "https://localhost:8080/",
          "height": 145
        },
        "id": "vWcDpK1aaxeC",
        "outputId": "350024ee-a237-4135-d99f-ee4bcc8f70b6"
      },
      "outputs": [
        {
          "data": {
            "image/png": "[encoded data removed]",
            "text/plain": [
              "<PIL.Image.Image image mode=RGB size=128x128 at 0x7F08567D7160>"
            ]
          },
          "execution_count": 39,
          "metadata": {},
          "output_type": "execute_result"
        }
      ],
      "source": [
        "transforms.ToPILImage()(img[0].detach().cpu()/2+0.5)"
      ]
    }
  ],
  "metadata": {
    "accelerator": "GPU",
    "colab": {
      "provenance": []
    },
    "gpuClass": "standard",
    "kernelspec": {
      "display_name": "Python 3",
      "name": "python3"
    },
    "language_info": {
      "name": "python"
    }
  },
  "nbformat": 4,
  "nbformat_minor": 0
}
