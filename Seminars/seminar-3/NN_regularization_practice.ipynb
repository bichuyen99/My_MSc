{
  "cells": [
    {
      "cell_type": "markdown",
      "id": "a_NFNi16lDRI",
      "metadata": {
        "id": "a_NFNi16lDRI"
      },
      "source": [
        "# Regularization tricks for NN"
      ]
    },
    {
      "cell_type": "code",
      "execution_count": 1,
      "id": "2b193247",
      "metadata": {
        "id": "2b193247"
      },
      "outputs": [],
      "source": [
        "import os\n",
        "os.environ[\"CUDA_DEVICE_ORDER\"]=\"PCI_BUS_ID\"  \n",
        "os.environ[\"CUDA_VISIBLE_DEVICES\"]=\"0\" # change 0  with whatever card is available"
      ]
    },
    {
      "cell_type": "markdown",
      "id": "9b74fc4c",
      "metadata": {
        "id": "9b74fc4c"
      },
      "source": [
        "## Dropout\n",
        "\n",
        "- It has a hyperparameter $p \\in [0, 1]$ which is a probability of zero out\n",
        "- Different behaviour in train and test stages\n",
        "- Induce sparsity of activations\n",
        "- Formally it is a layer $f$ that\n",
        "  - in train: $f(x) = m * x$, where $m$ is a mask tensor such that for example $$m_{ij} = \\begin{cases} 1, & \\text{with probability } p \\\\ 0, & \\text{with probability } 1-p \\end{cases}$$ \n",
        "  and  $*$ means elementwise product\n",
        "  - in test: $f(x) = px$ to preserve expected value\n",
        "- Different extensions that make forward pass in training stochastic and \"marginalized\" it in inference stage. What can you propose as an example of such methods?\n"
      ]
    },
    {
      "cell_type": "code",
      "execution_count": null,
      "id": "39ABeyB3jtSz",
      "metadata": {
        "colab": {
          "base_uri": "https://localhost:8080/"
        },
        "id": "39ABeyB3jtSz",
        "outputId": "f7e47286-7a7f-480b-df4b-5561f57cefb1"
      },
      "outputs": [],
      "source": [
        "!pip install wandb -q\n",
        "!wandb login"
      ]
    },
    {
      "cell_type": "code",
      "execution_count": 4,
      "id": "c820f6ef",
      "metadata": {
        "id": "c820f6ef"
      },
      "outputs": [],
      "source": [
        "import torch\n",
        "import torch.nn as nn\n",
        "import matplotlib.pyplot as plt\n",
        "import numpy as np\n",
        "from torchvision import datasets, transforms\n",
        "import torch.nn.functional as F\n",
        "import copy\n",
        "import wandb"
      ]
    },
    {
      "cell_type": "code",
      "execution_count": null,
      "id": "01f04bc9",
      "metadata": {
        "colab": {
          "base_uri": "https://localhost:8080/"
        },
        "id": "01f04bc9",
        "outputId": "d14d746e-bed9-44e4-93fc-b74c2822f8d4"
      },
      "outputs": [],
      "source": [
        "device = \"cuda\" if torch.cuda.is_available() else \"cpu\"\n",
        "print(device)"
      ]
    },
    {
      "cell_type": "code",
      "execution_count": null,
      "id": "eebdef08",
      "metadata": {
        "colab": {
          "base_uri": "https://localhost:8080/",
          "height": 447,
          "referenced_widgets": [
            "a9b259fd21334cef9c6a15094b587706",
            "f1bc6b4bca8f463e9a0f8c6c06ee2231",
            "c32f88131ce7417c83fbe34de3a9b2a9",
            "3f885b2b34c546ed99257fcbd3502d61",
            "851aaa65665f4599b217cdc7b6f179df",
            "6aa47870a67b4600a80863865c70f902",
            "b5a008397ffc4297937ab302fab67f34",
            "3f8bc06225e3454a98145c5f9fbb2434",
            "b2d59d6f38c94a9899107dad087449d8",
            "76bc0639e95d4c0f9283f1b83217c0b7",
            "394163f60bc749a7861d23260f0954cc",
            "988d236eb1f14936b4e5f1182360dd1a",
            "cb4a6d719cbb4da3ad91621e8a838250",
            "dc73530c83744167bd25b05b417e28a0",
            "f2e0e812b5ea4b7795b8978be056c82e",
            "b6e84644c9ae46ff87abf7afa53fc88c",
            "25b89ea96ce743b48885db0a4043be63",
            "f2b5e6132c3d4c25bb0013468decd49d",
            "506ddc0ae32d46069ebb0b01072b7315",
            "14299d1b86dd4bc282ce2839149bb164",
            "98ba5ea41d3f44bab99e7afc217b8510",
            "1e0515b3ad2648eea23b7eb28292faa4",
            "a18865f1446d46739d036623a2f4c1b9",
            "43c33354ca8b40d1842d77c3fc85b0ec",
            "e5742f85c21148288d1f27c5ce7b5842",
            "b1e6b5a0799c4714af41e2300e1a103d",
            "4be593f3a3504a8193e16a477ccefe5d",
            "fd9a41308c964b679b9ea1a7a8321267",
            "5590bb0db1ac433fbbda9dc35eff815e",
            "ace09eeabde4415faa1dba06ef35140e",
            "e24d990f58114022baa5bb4c36e47280",
            "9e8057197c934d858a4a15e236c79191",
            "2a3106b795dd40ecaecc8a35db705f83",
            "abfdc31b4490489caf4d4115c8670892",
            "aec995c2c7974f20a0a24ede8fd226ab",
            "e11109b3b34f42fc95a2af72d74265cd",
            "8fa3c6b6e5544569bc90e29ea3aecfc1",
            "80b1cc9c6aa4466abbb34f447927440b",
            "6ac68b0450bb408ab29c7f13a2dfaaa9",
            "31a397c4da834a368377db5220021ec3",
            "7055aab9e9754befa98a4f26303ccfad",
            "50d8ca00caac459ebeca1da1d5793d60",
            "cbc48f2ca9e94012be032efba30f9b1f",
            "8606168802f542f793c47cfb9fbc8c94"
          ]
        },
        "id": "eebdef08",
        "outputId": "ca1fb51e-0a9b-44b3-ffcc-a8e48e3846cc"
      },
      "outputs": [],
      "source": [
        "batch_size = 1000\n",
        "\n",
        "train_loader = torch.utils.data.DataLoader(datasets.MNIST('../data', train=True, download=True,\n",
        "                                           transform=transforms.Compose([\n",
        "                                           transforms.ToTensor()\n",
        "                                           ])),\n",
        "                            batch_size=batch_size, shuffle=True)\n",
        "\n",
        "test_loader = torch.utils.data.DataLoader(datasets.MNIST('../data', train=False, download=True,\n",
        "                                                           transform=transforms.Compose([\n",
        "                                                           transforms.ToTensor()])),\n",
        "                batch_size=batch_size, shuffle=True)"
      ]
    },
    {
      "cell_type": "code",
      "execution_count": 7,
      "id": "8d70362f",
      "metadata": {
        "id": "8d70362f"
      },
      "outputs": [],
      "source": [
        "class MLP(nn.Module):\n",
        "  def __init__(self, num_layers, hidden_dim):\n",
        "    super(MLP, self).__init__()\n",
        "    self.layers = nn.ModuleList([nn.Linear(28*28, hidden_dim)])\n",
        "    self.nonlinearity = nn.ReLU()\n",
        "    self.layers += nn.ModuleList([nn.Linear(hidden_dim, hidden_dim) for i in range(num_layers)])\n",
        "    self.final = nn.Linear(hidden_dim, 10)\n",
        "  def forward(self, x):\n",
        "    # print(x.shape)\n",
        "    x = x.view(-1, 28*28)\n",
        "    for l in self.layers:\n",
        "      x = l(x)\n",
        "      x = self.nonlinearity(x)\n",
        "    x = self.final(x)\n",
        "    return x"
      ]
    },
    {
      "cell_type": "code",
      "execution_count": 10,
      "id": "b6d35d0b",
      "metadata": {
        "id": "b6d35d0b"
      },
      "outputs": [],
      "source": [
        "def train(model, train_loader, optimizer, epoch, log_interval):\n",
        "    model.train()\n",
        "    current_conv = []\n",
        "    crit = nn.CrossEntropyLoss()\n",
        "    for batch_idx, (data, target) in enumerate(train_loader):\n",
        "        data, target = data.to(device), target.to(device)\n",
        "        optimizer.zero_grad()\n",
        "        output = model(data)\n",
        "        loss = crit(output, target)\n",
        "        loss.backward()\n",
        "        current_conv.append(loss.detach().cpu().item())\n",
        "        optimizer.step()\n",
        "        if batch_idx % log_interval == 0:\n",
        "            train_loss = loss.item()\n",
        "            wandb.log({\n",
        "                \"Train loss\": train_loss,\n",
        "                \"epoch\": epoch\n",
        "            })\n",
        "            print('Train Epoch: {} [{}/{} ({:.0f}%)]\\tLoss: {:.6f}'.format(\n",
        "                epoch, batch_idx * len(data), len(train_loader.dataset),\n",
        "                100. * batch_idx / len(train_loader), train_loss))\n",
        "    return current_conv\n",
        "\n",
        "def test(model, test_loader, train_loader):\n",
        "    model.eval()\n",
        "    test_loss = 0\n",
        "    correct = 0\n",
        "    crit = nn.CrossEntropyLoss(reduction=\"mean\")\n",
        "    with torch.no_grad():\n",
        "        for data, target in test_loader:\n",
        "            data, target = data.to(device), target.to(device)\n",
        "            output = model(data)\n",
        "            test_loss += crit(output, target).item() # sum up batch loss\n",
        "            pred = output.max(1, keepdim=True)[1] # get the index of the max log-probability\n",
        "            correct += pred.eq(target.view_as(pred)).sum().item()\n",
        "\n",
        "    test_loss /= len(test_loader.dataset)\n",
        "    test_accuracy = 100. * correct / len(test_loader.dataset)\n",
        "    wandb.log({\n",
        "                \"Test loss\": test_loss,\n",
        "                \"epoch\": epoch,\n",
        "                \"Test accuracy\": test_accuracy\n",
        "            })\n",
        "    print('\\nTest set: Average loss: {:.4f}, Accuracy: {}/{} ({:.0f}%)\\n'.format(\n",
        "        test_loss, correct, len(test_loader.dataset),\n",
        "        test_accuracy))\n",
        "    train_loss = 0\n",
        "    correct = 0\n",
        "    with torch.no_grad():\n",
        "        for data, target in train_loader:\n",
        "            data, target = data.to(device), target.to(device)\n",
        "            output = model(data)\n",
        "            train_loss += crit(output, target).item() # sum up batch loss\n",
        "            pred = output.max(1, keepdim=True)[1] # get the index of the max log-probability\n",
        "            correct += pred.eq(target.view_as(pred)).sum().item()\n",
        "            \n",
        "    train_loss /= len(train_loader.dataset)\n",
        "\n",
        "    return train_loss, test_loss"
      ]
    },
    {
      "cell_type": "code",
      "execution_count": 11,
      "id": "fc8469af",
      "metadata": {
        "id": "fc8469af"
      },
      "outputs": [],
      "source": [
        "config = dict(\n",
        "    model = \"FC\",\n",
        "    lr = 5e-4,\n",
        "    n_epoch = 20,\n",
        "    log_interval = 10\n",
        ")\n",
        "\n",
        "mlp_no_dropout = MLP(10, 1000).to(device)\n",
        "initial_mlp_model = copy.deepcopy(mlp_no_dropout)\n",
        "conv_mlp_no_dropout = []\n",
        "adam_opt = torch.optim.Adam(mlp_no_dropout.parameters(), lr=config[\"lr\"])"
      ]
    },
    {
      "cell_type": "code",
      "execution_count": null,
      "id": "c10021ed",
      "metadata": {
        "colab": {
          "base_uri": "https://localhost:8080/"
        },
        "id": "c10021ed",
        "outputId": "e14aa91d-c0a1-461f-e217-d9d86a5759cc"
      },
      "outputs": [],
      "source": [
        "mlp_no_dropout"
      ]
    },
    {
      "cell_type": "code",
      "execution_count": null,
      "id": "GRWAL0XroIzg",
      "metadata": {
        "colab": {
          "base_uri": "https://localhost:8080/"
        },
        "id": "GRWAL0XroIzg",
        "outputId": "ffb11dda-1a92-4d69-8073-6f3b91d5e88c"
      },
      "outputs": [],
      "source": [
        "def count_parameters(model):\n",
        "    return sum(p.numel() for p in model.parameters() if p.requires_grad)\n",
        "\n",
        "print(f\"{count_parameters(mlp_no_dropout)}\")"
      ]
    },
    {
      "cell_type": "code",
      "execution_count": 13,
      "id": "16e63fbd",
      "metadata": {
        "id": "16e63fbd"
      },
      "outputs": [],
      "source": [
        "epoch_train_loss = []\n",
        "epoch_test_loss = []"
      ]
    },
    {
      "cell_type": "code",
      "execution_count": null,
      "id": "26f086cb",
      "metadata": {
        "colab": {
          "base_uri": "https://localhost:8080/",
          "height": 1000
        },
        "id": "26f086cb",
        "outputId": "61fb1141-e9cd-4463-a15c-ae21fbb71e5f",
        "scrolled": true
      },
      "outputs": [],
      "source": [
        "wandb.init(\n",
        "      # Set the project where this run will be logged\n",
        "      project=\"NN practice. Dropout\", \n",
        "      # Track hyperparameters and run metadata\n",
        "      config=config,\n",
        "      tags = [\"No Dropout\"]\n",
        "      )\n",
        "for epoch in range(1, config[\"n_epoch\"] + 1):\n",
        "  cur_conv = train(mlp_no_dropout, train_loader, adam_opt, epoch, config[\"log_interval\"])\n",
        "  conv_mlp_no_dropout = conv_mlp_no_dropout + cur_conv\n",
        "  cur_train_loss, cur_test_loss = test(mlp_no_dropout, test_loader, train_loader)\n",
        "  epoch_train_loss.append(cur_train_loss)\n",
        "  epoch_test_loss.append(cur_test_loss)"
      ]
    },
    {
      "cell_type": "code",
      "execution_count": null,
      "id": "21eab052",
      "metadata": {
        "id": "21eab052",
        "outputId": "97f60b2d-2123-445c-ec41-d7b769e6eab4"
      },
      "outputs": [],
      "source": [
        "plt.plot(conv_mlp_no_dropout)"
      ]
    },
    {
      "cell_type": "code",
      "execution_count": null,
      "id": "41f9ae69",
      "metadata": {
        "id": "41f9ae69",
        "outputId": "c9014c81-c506-4e27-8e42-e532b1bb0782"
      },
      "outputs": [],
      "source": [
        "plt.plot(epoch_train_loss, label=\"Train\")\n",
        "plt.plot(epoch_test_loss, label=\"Test\")\n",
        "plt.legend()\n",
        "plt.yscale(\"log\")\n",
        "plt.title(\"No dropout\")"
      ]
    },
    {
      "cell_type": "code",
      "execution_count": null,
      "id": "1f515211",
      "metadata": {
        "id": "1f515211"
      },
      "outputs": [],
      "source": [
        "class RegularizedMLP(nn.Module):\n",
        "  def __init__(self, mlp, num_layers, hidden_dim):\n",
        "    super(RegularizedMLP, self).__init__()\n",
        "    self.layers = [nn.Linear(28 * 28, hidden_dim)]\n",
        "    self.layers += [nn.Linear(hidden_dim, hidden_dim) for i in range(num_layers)]\n",
        "    for l, l0 in zip(self.layers, mlp.layers):\n",
        "      l.weight = copy.deepcopy(l0.weight)\n",
        "      l.bias = copy.deepcopy(l0.bias)\n",
        "    \n",
        "    self.layers = nn.ModuleList(self.layers)\n",
        "    \n",
        "    self.nonlinearity = nn.ReLU()\n",
        "    self.final = nn.Linear(hidden_dim, 10)\n",
        "    self.final.weight = copy.deepcopy(mlp.final.weight)\n",
        "    self.final.bias = copy.deepcopy(mlp.final.bias)\n",
        "    self.dropout = nn.Dropout(0.5)\n",
        "  def forward(self, x):\n",
        "    x = x.view(-1, 28*28)\n",
        "    for l in self.layers:\n",
        "      x = l(x)\n",
        "      x = self.dropout(x)\n",
        "      x = self.nonlinearity(x)\n",
        "    x = self.final(x)\n",
        "    return x"
      ]
    },
    {
      "cell_type": "code",
      "execution_count": null,
      "id": "13d428ee",
      "metadata": {
        "id": "13d428ee"
      },
      "outputs": [],
      "source": [
        "mlp_dropout = RegularizedMLP(initial_mlp_model, 5, 1000)\n",
        "adam_opt_drop = torch.optim.Adam(mlp_dropout.parameters(), lr=config[\"lr\"])\n",
        "conv_mlp_dropout = []"
      ]
    },
    {
      "cell_type": "code",
      "execution_count": null,
      "id": "51c259d6",
      "metadata": {
        "id": "51c259d6",
        "outputId": "3a04b44b-8640-4282-c650-fd2e81310bf2"
      },
      "outputs": [],
      "source": [
        "mlp_dropout"
      ]
    },
    {
      "cell_type": "code",
      "execution_count": null,
      "id": "f21ed627",
      "metadata": {
        "id": "f21ed627"
      },
      "outputs": [],
      "source": [
        "epoch_train_loss_drop = []\n",
        "epoch_test_loss_drop = []"
      ]
    },
    {
      "cell_type": "code",
      "execution_count": null,
      "id": "40ddd75e",
      "metadata": {
        "id": "40ddd75e",
        "scrolled": true
      },
      "outputs": [],
      "source": [
        "wandb.init(\n",
        "      # Set the project where this run will be logged\n",
        "      project=\"NN practice. Dropout\", \n",
        "      # Track hyperparameters and run metadata\n",
        "      config=config,\n",
        "      tags = [\"Dropout\"]\n",
        "      )\n",
        "for epoch in range(1, config[\"n_epoch\"] + 1):\n",
        "  cur_conv = train(mlp_dropout, train_loader, adam_opt, epoch, config[\"log_interval\"])\n",
        "  conv_mlp_dropout = conv_mlp_dropout + cur_conv\n",
        "  cur_train_loss, cur_test_loss = test(mlp_no_dropout, test_loader, train_loader)\n",
        "  epoch_train_loss.append(cur_train_loss)\n",
        "  epoch_test_loss.append(cur_test_loss)"
      ]
    },
    {
      "cell_type": "code",
      "execution_count": null,
      "id": "e3f5d077",
      "metadata": {
        "id": "e3f5d077",
        "outputId": "1126c9e1-c6b5-4e85-d677-d9055df0ad1f"
      },
      "outputs": [],
      "source": [
        "plt.plot(conv_mlp_dropout, label=\"Dropout\")\n",
        "plt.plot(conv_mlp_no_dropout, label=\"No dropout\")\n",
        "plt.legend()"
      ]
    },
    {
      "cell_type": "code",
      "execution_count": null,
      "id": "e34c201d",
      "metadata": {
        "id": "e34c201d",
        "outputId": "aa96d086-6582-4802-d0a9-3cb4eac06a3b"
      },
      "outputs": [],
      "source": [
        "plt.plot(epoch_train_loss_drop, label=\"Train\")\n",
        "plt.plot(epoch_test_loss_drop, label=\"Test\")\n",
        "plt.legend()\n",
        "plt.yscale(\"log\")\n",
        "plt.title(\"Dropout\")"
      ]
    },
    {
      "cell_type": "code",
      "execution_count": null,
      "id": "8518c652",
      "metadata": {
        "id": "8518c652",
        "outputId": "e11263ee-34ed-4633-9be4-07ab1e44835a"
      },
      "outputs": [],
      "source": [
        "plt.plot(epoch_train_loss_drop, label=\"Train, dropout\")\n",
        "plt.plot(epoch_train_loss, label=\"Train, no dropout\")\n",
        "plt.plot(epoch_test_loss_drop, label=\"Test, dropout\")\n",
        "plt.plot(epoch_test_loss, label=\"Test, no dropout\")\n",
        "plt.legend()\n",
        "plt.yscale(\"log\")"
      ]
    },
    {
      "cell_type": "markdown",
      "id": "dc886d50",
      "metadata": {
        "id": "dc886d50"
      },
      "source": [
        "## Normalization layers\n",
        "\n",
        "- Batch normalization\n",
        "- Layer normalization\n",
        "- Instance normalization\n",
        "- Group normalization\n",
        "\n",
        "**Q**: what is the difference between them?"
      ]
    },
    {
      "cell_type": "code",
      "execution_count": 17,
      "id": "03e463f6",
      "metadata": {
        "id": "03e463f6"
      },
      "outputs": [],
      "source": [
        "x = torch.randn((1000, 3, 32, 32)) + 5\n",
        "bnorm = nn.BatchNorm2d(3)\n",
        "lnorm = nn.LayerNorm((3, 32, 32))\n",
        "inorm = nn.InstanceNorm2d(3)"
      ]
    },
    {
      "cell_type": "code",
      "execution_count": null,
      "id": "0079c9b2",
      "metadata": {
        "colab": {
          "base_uri": "https://localhost:8080/"
        },
        "id": "0079c9b2",
        "outputId": "7fb85000-477a-434c-8717-4f6b6c3bd2c8"
      },
      "outputs": [],
      "source": [
        "bnorm_res = bnorm(x)\n",
        "print(bnorm_res.shape)\n",
        "print(torch.mean(x[:, 1, :, :]).item())\n",
        "print(torch.mean(bnorm_res[:, 1, :, :]).item())\n",
        "\n",
        "lnorm_res = lnorm(x)\n",
        "print(lnorm_res.shape)\n",
        "print(torch.mean(x[0, :, :, :]).item())\n",
        "print(torch.mean(lnorm_res[0, :, :, :]).item())\n",
        "\n",
        "inorm_res = inorm(x)\n",
        "print(inorm_res.shape)\n",
        "print(torch.mean(x[0, 0, :, :]).item())\n",
        "print(torch.mean(inorm_res[0, 0, :, :]).item())\n",
        "\n",
        "# How to make layer norm and instance norm equal?\n",
        "# print(torch.norm(inorm_res - lnorm_res).item())"
      ]
    },
    {
      "cell_type": "markdown",
      "id": "7685a911",
      "metadata": {
        "id": "7685a911"
      },
      "source": [
        "### Now let us check simple CNN and observe the gain from different normalizations"
      ]
    },
    {
      "cell_type": "code",
      "execution_count": null,
      "id": "47b17966",
      "metadata": {
        "id": "47b17966",
        "outputId": "4ec1c456-5894-4b26-9348-92217512098a"
      },
      "outputs": [],
      "source": [
        "batch_size = 1000\n",
        "train_loader = torch.utils.data.DataLoader(datasets.CIFAR10('../data', train=True, download=True,\n",
        "                                           transform=transforms.Compose([\n",
        "                                           transforms.ToTensor(),\n",
        "                                           transforms.Normalize((0.1307,), (0.3081,))\n",
        "                                           ])),\n",
        "                            batch_size=batch_size, shuffle=True)\n",
        "\n",
        "test_loader = torch.utils.data.DataLoader(datasets.CIFAR10('../data', train=False, transform=transforms.Compose([\n",
        "                                       transforms.ToTensor(),\n",
        "                                       transforms.Normalize((0.1307,), (0.3081,))\n",
        "                            ])),\n",
        "                batch_size=10*batch_size, shuffle=True)"
      ]
    },
    {
      "cell_type": "code",
      "execution_count": null,
      "id": "1109ce5c",
      "metadata": {
        "id": "1109ce5c"
      },
      "outputs": [],
      "source": [
        "class SimpleCNN(nn.Module):\n",
        "    def __init__(self):\n",
        "        super(SimpleCNN, self).__init__()\n",
        "        self.conv1 = nn.Conv2d(3, 32, kernel_size=2)\n",
        "        self.conv2 = nn.Conv2d(32, 64, kernel_size=2)\n",
        "        self.conv3 = nn.Conv2d(64, 128, kernel_size=2)\n",
        "        self.conv4 = nn.Conv2d(128, 256, kernel_size=2)\n",
        "\n",
        "        self.fc1 = nn.Linear(256, 256)\n",
        "        self.fc2 = nn.Linear(256, 10)\n",
        "        self.nonlinearity = nn.ReLU()\n",
        "        self.pooling = nn.MaxPool2d(2)\n",
        "\n",
        "    def forward(self, x):\n",
        "        x = self.conv1(x)\n",
        "        x = self.nonlinearity(x)\n",
        "        x = self.pooling(x)\n",
        "\n",
        "        x = self.conv2(x)\n",
        "        x = self.nonlinearity(x)\n",
        "        x = self.pooling(x)\n",
        "\n",
        "        x = self.conv3(x)\n",
        "        x = self.nonlinearity(x)\n",
        "        x = self.pooling(x)\n",
        "        \n",
        "        x = self.conv4(x)\n",
        "        x = self.nonlinearity(x)\n",
        "        x = self.pooling(x)\n",
        "        \n",
        "        x = x.view(-1, 256)\n",
        "        x = self.nonlinearity(self.fc1(x))\n",
        "        x = self.fc2(x)\n",
        "        return x"
      ]
    },
    {
      "cell_type": "code",
      "execution_count": null,
      "id": "02fe9746",
      "metadata": {
        "id": "02fe9746"
      },
      "outputs": [],
      "source": [
        "cnn_no_norm = SimpleCNN().to(device)\n",
        "initial_cnn_model = copy.deepcopy(cnn_no_norm)\n",
        "conv_cnn_no_norm = []\n",
        "lr = 1e-3\n",
        "n_epoch = 20\n",
        "log_interval = 10\n",
        "adam_opt = torch.optim.Adam(cnn_no_norm.parameters(), lr=lr)"
      ]
    },
    {
      "cell_type": "code",
      "execution_count": null,
      "id": "b6a5d17b",
      "metadata": {
        "id": "b6a5d17b"
      },
      "outputs": [],
      "source": [
        "train_cnn_epoch = []\n",
        "test_cnn_epoch = []"
      ]
    },
    {
      "cell_type": "code",
      "execution_count": null,
      "id": "80941c39",
      "metadata": {
        "id": "80941c39",
        "outputId": "4fb975e3-1ecb-4082-b4dc-34e63d36bbb8"
      },
      "outputs": [],
      "source": [
        "for epoch in range(1, n_epoch + 1):\n",
        "  cur_conv = train(cnn_no_norm, train_loader, adam_opt, epoch, log_interval)\n",
        "  conv_cnn_no_norm = conv_cnn_no_norm + cur_conv\n",
        "  cur_train_loss, cur_test_loss = test(cnn_no_norm, test_loader, train_loader)\n",
        "  train_cnn_epoch.append(cur_train_loss)\n",
        "  test_cnn_epoch.append(cur_test_loss)  "
      ]
    },
    {
      "cell_type": "code",
      "execution_count": null,
      "id": "ccc14ba3",
      "metadata": {
        "id": "ccc14ba3",
        "outputId": "b76fa864-8004-48ca-cd06-d26d90519484"
      },
      "outputs": [],
      "source": [
        "plt.plot(conv_cnn_no_norm)"
      ]
    },
    {
      "cell_type": "code",
      "execution_count": null,
      "id": "7850f5aa",
      "metadata": {
        "id": "7850f5aa",
        "outputId": "fb51e394-2dbb-4600-a7ac-6750c931aa6b"
      },
      "outputs": [],
      "source": [
        "plt.plot(train_cnn_epoch, label=\"Train\")\n",
        "plt.plot(test_cnn_epoch, label=\"Test\")\n",
        "plt.legend()\n",
        "plt.yscale(\"log\")"
      ]
    },
    {
      "cell_type": "code",
      "execution_count": null,
      "id": "d8126dcf",
      "metadata": {
        "id": "d8126dcf"
      },
      "outputs": [],
      "source": [
        "class NormalizedCNN(nn.Module):\n",
        "  def __init__(self, cnn, normalization):\n",
        "    super(NormalizedCNN, self).__init__()\n",
        "    \n",
        "    self.nonlinearity = nn.ReLU()\n",
        "    self.pooling = nn.MaxPool2d(2)\n",
        "    self.conv1 = nn.Conv2d(3, 32, kernel_size=2)\n",
        "    self.conv1.weight = copy.deepcopy(cnn.conv1.weight)\n",
        "    if normalization == \"batch_norm\":\n",
        "        self.norm1 = nn.BatchNorm2d(32)\n",
        "    elif normalization == \"layer_norm\":\n",
        "        self.norm1 = nn.LayerNorm((32, 31, 31))\n",
        "    elif normalization == \"instance_norm\":\n",
        "        self.norm1 = nn.InstanceNorm2d(32)\n",
        "        \n",
        "    self.conv2 = nn.Conv2d(32, 64, kernel_size=2)\n",
        "    self.conv2.weight = copy.deepcopy(cnn.conv2.weight)\n",
        "    if normalization == \"batch_norm\":\n",
        "        self.norm2 = nn.BatchNorm2d(64)\n",
        "    elif normalization == \"layer_norm\":\n",
        "        self.norm2 = nn.LayerNorm((64, 14, 14))\n",
        "    elif normalization == \"instance_norm\":\n",
        "        self.norm2 = nn.InstanceNorm2d(64)\n",
        "    \n",
        "    self.conv3 = nn.Conv2d(64, 128, kernel_size=2)\n",
        "    self.conv3.weight = copy.deepcopy(cnn.conv3.weight)\n",
        "    \n",
        "    if normalization == \"batch_norm\":\n",
        "        self.norm3 = nn.BatchNorm2d(128)\n",
        "    elif normalization == \"layer_norm\":\n",
        "        self.norm3 = nn.LayerNorm((128, 6, 6))\n",
        "    elif normalization == \"instance_norm\":\n",
        "        self.norm3 = nn.InstanceNorm2d(128)\n",
        "        \n",
        "    self.conv4 = nn.Conv2d(128, 256, kernel_size=2)\n",
        "    self.conv4.weight = copy.deepcopy(cnn.conv4.weight)\n",
        "    \n",
        "    if normalization == \"batch_norm\":\n",
        "        self.norm4 = nn.BatchNorm2d(256)\n",
        "    elif normalization == \"layer_norm\":\n",
        "        self.norm4 = nn.LayerNorm((256, 2, 2))\n",
        "    elif normalization == \"instance_norm\":\n",
        "        self.norm4 = nn.InstanceNorm2d(256)\n",
        "        \n",
        "    self.fc1 = nn.Linear(256, 256)\n",
        "    self.fc1.weight = copy.deepcopy(cnn.fc1.weight)\n",
        "    self.fc1.bias = copy.deepcopy(cnn.fc1.bias)\n",
        "    self.fc2 = nn.Linear(256, 10)\n",
        "    self.fc2.weight = copy.deepcopy(cnn.fc2.weight)\n",
        "    self.fc2.bias = copy.deepcopy(cnn.fc2.bias)\n",
        "    \n",
        "    \n",
        "  def forward(self, x):\n",
        "    x = self.conv1(x)\n",
        "    x = self.nonlinearity(x)\n",
        "    x = self.norm1(x)\n",
        "    x = self.pooling(x)\n",
        "\n",
        "    x = self.conv2(x)\n",
        "    x = self.nonlinearity(x)\n",
        "    x = self.norm2(x)\n",
        "    x = self.pooling(x)\n",
        "\n",
        "    x = self.conv3(x)\n",
        "    x = self.nonlinearity(x)\n",
        "    x = self.norm3(x)\n",
        "    x = self.pooling(x)\n",
        "\n",
        "    x = self.conv4(x)\n",
        "    x = self.nonlinearity(x)\n",
        "    x = self.norm4(x)\n",
        "    x = self.pooling(x)\n",
        "\n",
        "    x = x.view(-1, 256)\n",
        "    x = self.nonlinearity(self.fc1(x))\n",
        "    x = self.fc2(x)\n",
        "    return x"
      ]
    },
    {
      "cell_type": "code",
      "execution_count": null,
      "id": "bfa813d1",
      "metadata": {
        "id": "bfa813d1"
      },
      "outputs": [],
      "source": [
        "cnn_layer = NormalizedCNN(initial_cnn_model, \"layer_norm\").to(device)\n",
        "adam_opt_cnn_layer = torch.optim.Adam(cnn_layer.parameters(), lr=lr)\n",
        "conv_cnn_layer = []"
      ]
    },
    {
      "cell_type": "code",
      "execution_count": null,
      "id": "b8a47b5a",
      "metadata": {
        "id": "b8a47b5a",
        "outputId": "d154cd71-584d-47fe-cafc-56144a5924cd"
      },
      "outputs": [],
      "source": [
        "cnn_layer"
      ]
    },
    {
      "cell_type": "code",
      "execution_count": null,
      "id": "72ea4b7e",
      "metadata": {
        "id": "72ea4b7e"
      },
      "outputs": [],
      "source": [
        "epoch_train_loss_layernorm = []\n",
        "epoch_test_loss_layernorm = []"
      ]
    },
    {
      "cell_type": "code",
      "execution_count": null,
      "id": "b34cfd07",
      "metadata": {
        "id": "b34cfd07",
        "outputId": "eada76a1-93a2-475f-bad5-93b3c06596d8",
        "scrolled": true
      },
      "outputs": [],
      "source": [
        "for epoch in range(1, n_epoch + 1):\n",
        "  cur_conv = train(cnn_layer, train_loader, adam_opt_cnn_layer, epoch, log_interval)\n",
        "  conv_cnn_layer = conv_cnn_layer + cur_conv\n",
        "  cur_train_loss, cur_test_loss = test(cnn_layer, test_loader, train_loader)\n",
        "  epoch_train_loss_layernorm.append(cur_train_loss)\n",
        "  epoch_test_loss_layernorm.append(cur_test_loss)"
      ]
    },
    {
      "cell_type": "code",
      "execution_count": null,
      "id": "24b9cd8a",
      "metadata": {
        "id": "24b9cd8a",
        "outputId": "3c0a2542-cf00-4556-cdf2-4e57720e1aec"
      },
      "outputs": [],
      "source": [
        "plt.plot(conv_cnn_no_norm, label=\"No norm\")\n",
        "plt.plot(conv_cnn_layer, label=\"Layer norm\")\n",
        "plt.legend()"
      ]
    },
    {
      "cell_type": "code",
      "execution_count": null,
      "id": "9149dd6c",
      "metadata": {
        "id": "9149dd6c",
        "outputId": "b9373863-d572-493b-ec74-5ad30e439824"
      },
      "outputs": [
        {
          "data": {
            "image/png": "[encoded data removed]",
            "text/plain": [
              "<Figure size 640x480 with 1 Axes>"
            ]
          },
          "metadata": {},
          "output_type": "display_data"
        }
      ],
      "source": [
        "plt.plot(train_cnn_epoch, label=\"Train, no norm\")\n",
        "plt.plot(test_cnn_epoch, label=\"Test, no norm\")\n",
        "plt.plot(epoch_train_loss_layernorm, label=\"Train, layer norm\")\n",
        "plt.plot(epoch_test_loss_layernorm, label=\"Test, layer norm\")\n",
        "plt.legend()\n",
        "plt.yscale(\"log\")"
      ]
    },
    {
      "cell_type": "code",
      "execution_count": null,
      "id": "5d48eb64",
      "metadata": {
        "id": "5d48eb64"
      },
      "outputs": [],
      "source": [
        "cnn_batch = NormalizedCNN(initial_cnn_model, \"batch_norm\").to(device)\n",
        "adam_opt_cnn_batch = torch.optim.Adam(cnn_batch.parameters(), lr=lr)\n",
        "conv_cnn_batch = []"
      ]
    },
    {
      "cell_type": "code",
      "execution_count": null,
      "id": "9c6e5ba8",
      "metadata": {
        "id": "9c6e5ba8",
        "outputId": "967b854f-d6ca-4a09-d1d0-bc4176eeb97e"
      },
      "outputs": [],
      "source": [
        "cnn_batch"
      ]
    },
    {
      "cell_type": "code",
      "execution_count": null,
      "id": "6be4b37f",
      "metadata": {
        "id": "6be4b37f"
      },
      "outputs": [],
      "source": [
        "epoch_train_loss_batchnorm = []\n",
        "epoch_test_loss_batchnorm = []"
      ]
    },
    {
      "cell_type": "code",
      "execution_count": null,
      "id": "dadf509c",
      "metadata": {
        "id": "dadf509c",
        "outputId": "2d430394-eb8c-445a-86cc-bd76bcaababd",
        "scrolled": true
      },
      "outputs": [],
      "source": [
        "for epoch in range(1, n_epoch + 1):\n",
        "  cur_conv = train(cnn_batch, train_loader, adam_opt_cnn_batch, epoch, log_interval)\n",
        "  conv_cnn_batch = conv_cnn_batch + cur_conv\n",
        "  cur_train_loss, cur_test_loss = test(cnn_batch, test_loader, train_loader)\n",
        "  epoch_train_loss_batchnorm.append(cur_train_loss)\n",
        "  epoch_test_loss_batchnorm.append(cur_test_loss)"
      ]
    },
    {
      "cell_type": "code",
      "execution_count": null,
      "id": "fd3ef756",
      "metadata": {
        "id": "fd3ef756",
        "outputId": "76357ce4-b1ea-45fe-866f-89079fbe5314"
      },
      "outputs": [
        {
          "data": {
            "text/plain": [
              "<matplotlib.legend.Legend at 0x7fa6242d7a30>"
            ]
          },
          "execution_count": 123,
          "metadata": {},
          "output_type": "execute_result"
        },
        {
          "data": {
            "image/png": "[encoded data removed]",
            "text/plain": [
              "<Figure size 640x480 with 1 Axes>"
            ]
          },
          "metadata": {},
          "output_type": "display_data"
        }
      ],
      "source": [
        "plt.plot(conv_cnn_no_norm, label=\"No norm\")\n",
        "plt.plot(conv_cnn_layer, label=\"Layer norm\")\n",
        "plt.plot(conv_cnn_batch, label=\"Batch norm\")\n",
        "plt.yscale(\"log\")\n",
        "plt.legend()"
      ]
    },
    {
      "cell_type": "code",
      "execution_count": null,
      "id": "5f94f437",
      "metadata": {
        "id": "5f94f437",
        "outputId": "95429772-985e-4382-eb80-498dbf868199"
      },
      "outputs": [
        {
          "data": {
            "image/png": "[encoded data removed]",
            "text/plain": [
              "<Figure size 640x480 with 1 Axes>"
            ]
          },
          "metadata": {},
          "output_type": "display_data"
        }
      ],
      "source": [
        "plt.plot(train_cnn_epoch, label=\"Train, no norm\")\n",
        "plt.plot(test_cnn_epoch, label=\"Test, no norm\")\n",
        "plt.plot(epoch_train_loss_layernorm, label=\"Train, layer norm\")\n",
        "plt.plot(epoch_test_loss_layernorm, label=\"Test, layer norm\")\n",
        "plt.plot(epoch_train_loss_batchnorm, label=\"Train, batch norm\")\n",
        "plt.plot(epoch_test_loss_batchnorm, label=\"Test, batch norm\")\n",
        "plt.legend()\n",
        "plt.yscale(\"log\")"
      ]
    }
  ],
  "metadata": {
    "accelerator": "GPU",
    "colab": {
      "provenance": []
    },
    "gpuClass": "standard",
    "kernelspec": {
      "display_name": "Python 3 (ipykernel)",
      "language": "python",
      "name": "python3"
    },
    "language_info": {
      "codemirror_mode": {
        "name": "ipython",
        "version": 3
      },
      "file_extension": ".py",
      "mimetype": "text/x-python",
      "name": "python",
      "nbconvert_exporter": "python",
      "pygments_lexer": "ipython3",
      "version": "3.8.10"
    },
    "widgets": {
      "application/vnd.jupyter.widget-state+json": {
        "14299d1b86dd4bc282ce2839149bb164": {
          "model_module": "@jupyter-widgets/controls",
          "model_module_version": "1.5.0",
          "model_name": "ProgressStyleModel",
          "state": {
            "_model_module": "@jupyter-widgets/controls",
            "_model_module_version": "1.5.0",
            "_model_name": "ProgressStyleModel",
            "_view_count": null,
            "_view_module": "@jupyter-widgets/base",
            "_view_module_version": "1.2.0",
            "_view_name": "StyleView",
            "bar_color": null,
            "description_width": ""
          }
        },
        "1e0515b3ad2648eea23b7eb28292faa4": {
          "model_module": "@jupyter-widgets/controls",
          "model_module_version": "1.5.0",
          "model_name": "DescriptionStyleModel",
          "state": {
            "_model_module": "@jupyter-widgets/controls",
            "_model_module_version": "1.5.0",
            "_model_name": "DescriptionStyleModel",
            "_view_count": null,
            "_view_module": "@jupyter-widgets/base",
            "_view_module_version": "1.2.0",
            "_view_name": "StyleView",
            "description_width": ""
          }
        },
        "25b89ea96ce743b48885db0a4043be63": {
          "model_module": "@jupyter-widgets/base",
          "model_module_version": "1.2.0",
          "model_name": "LayoutModel",
          "state": {
            "_model_module": "@jupyter-widgets/base",
            "_model_module_version": "1.2.0",
            "_model_name": "LayoutModel",
            "_view_count": null,
            "_view_module": "@jupyter-widgets/base",
            "_view_module_version": "1.2.0",
            "_view_name": "LayoutView",
            "align_content": null,
            "align_items": null,
            "align_self": null,
            "border": null,
            "bottom": null,
            "display": null,
            "flex": null,
            "flex_flow": null,
            "grid_area": null,
            "grid_auto_columns": null,
            "grid_auto_flow": null,
            "grid_auto_rows": null,
            "grid_column": null,
            "grid_gap": null,
            "grid_row": null,
            "grid_template_areas": null,
            "grid_template_columns": null,
            "grid_template_rows": null,
            "height": null,
            "justify_content": null,
            "justify_items": null,
            "left": null,
            "margin": null,
            "max_height": null,
            "max_width": null,
            "min_height": null,
            "min_width": null,
            "object_fit": null,
            "object_position": null,
            "order": null,
            "overflow": null,
            "overflow_x": null,
            "overflow_y": null,
            "padding": null,
            "right": null,
            "top": null,
            "visibility": null,
            "width": null
          }
        },
        "2a3106b795dd40ecaecc8a35db705f83": {
          "model_module": "@jupyter-widgets/controls",
          "model_module_version": "1.5.0",
          "model_name": "DescriptionStyleModel",
          "state": {
            "_model_module": "@jupyter-widgets/controls",
            "_model_module_version": "1.5.0",
            "_model_name": "DescriptionStyleModel",
            "_view_count": null,
            "_view_module": "@jupyter-widgets/base",
            "_view_module_version": "1.2.0",
            "_view_name": "StyleView",
            "description_width": ""
          }
        },
        "31a397c4da834a368377db5220021ec3": {
          "model_module": "@jupyter-widgets/controls",
          "model_module_version": "1.5.0",
          "model_name": "DescriptionStyleModel",
          "state": {
            "_model_module": "@jupyter-widgets/controls",
            "_model_module_version": "1.5.0",
            "_model_name": "DescriptionStyleModel",
            "_view_count": null,
            "_view_module": "@jupyter-widgets/base",
            "_view_module_version": "1.2.0",
            "_view_name": "StyleView",
            "description_width": ""
          }
        },
        "394163f60bc749a7861d23260f0954cc": {
          "model_module": "@jupyter-widgets/controls",
          "model_module_version": "1.5.0",
          "model_name": "DescriptionStyleModel",
          "state": {
            "_model_module": "@jupyter-widgets/controls",
            "_model_module_version": "1.5.0",
            "_model_name": "DescriptionStyleModel",
            "_view_count": null,
            "_view_module": "@jupyter-widgets/base",
            "_view_module_version": "1.2.0",
            "_view_name": "StyleView",
            "description_width": ""
          }
        },
        "3f885b2b34c546ed99257fcbd3502d61": {
          "model_module": "@jupyter-widgets/controls",
          "model_module_version": "1.5.0",
          "model_name": "HTMLModel",
          "state": {
            "_dom_classes": [],
            "_model_module": "@jupyter-widgets/controls",
            "_model_module_version": "1.5.0",
            "_model_name": "HTMLModel",
            "_view_count": null,
            "_view_module": "@jupyter-widgets/controls",
            "_view_module_version": "1.5.0",
            "_view_name": "HTMLView",
            "description": "",
            "description_tooltip": null,
            "layout": "IPY_MODEL_76bc0639e95d4c0f9283f1b83217c0b7",
            "placeholder": "​",
            "style": "IPY_MODEL_394163f60bc749a7861d23260f0954cc",
            "value": " 9912422/9912422 [00:00&lt;00:00, 109716394.88it/s]"
          }
        },
        "3f8bc06225e3454a98145c5f9fbb2434": {
          "model_module": "@jupyter-widgets/base",
          "model_module_version": "1.2.0",
          "model_name": "LayoutModel",
          "state": {
            "_model_module": "@jupyter-widgets/base",
            "_model_module_version": "1.2.0",
            "_model_name": "LayoutModel",
            "_view_count": null,
            "_view_module": "@jupyter-widgets/base",
            "_view_module_version": "1.2.0",
            "_view_name": "LayoutView",
            "align_content": null,
            "align_items": null,
            "align_self": null,
            "border": null,
            "bottom": null,
            "display": null,
            "flex": null,
            "flex_flow": null,
            "grid_area": null,
            "grid_auto_columns": null,
            "grid_auto_flow": null,
            "grid_auto_rows": null,
            "grid_column": null,
            "grid_gap": null,
            "grid_row": null,
            "grid_template_areas": null,
            "grid_template_columns": null,
            "grid_template_rows": null,
            "height": null,
            "justify_content": null,
            "justify_items": null,
            "left": null,
            "margin": null,
            "max_height": null,
            "max_width": null,
            "min_height": null,
            "min_width": null,
            "object_fit": null,
            "object_position": null,
            "order": null,
            "overflow": null,
            "overflow_x": null,
            "overflow_y": null,
            "padding": null,
            "right": null,
            "top": null,
            "visibility": null,
            "width": null
          }
        },
        "43c33354ca8b40d1842d77c3fc85b0ec": {
          "model_module": "@jupyter-widgets/controls",
          "model_module_version": "1.5.0",
          "model_name": "HTMLModel",
          "state": {
            "_dom_classes": [],
            "_model_module": "@jupyter-widgets/controls",
            "_model_module_version": "1.5.0",
            "_model_name": "HTMLModel",
            "_view_count": null,
            "_view_module": "@jupyter-widgets/controls",
            "_view_module_version": "1.5.0",
            "_view_name": "HTMLView",
            "description": "",
            "description_tooltip": null,
            "layout": "IPY_MODEL_fd9a41308c964b679b9ea1a7a8321267",
            "placeholder": "​",
            "style": "IPY_MODEL_5590bb0db1ac433fbbda9dc35eff815e",
            "value": "100%"
          }
        },
        "4be593f3a3504a8193e16a477ccefe5d": {
          "model_module": "@jupyter-widgets/base",
          "model_module_version": "1.2.0",
          "model_name": "LayoutModel",
          "state": {
            "_model_module": "@jupyter-widgets/base",
            "_model_module_version": "1.2.0",
            "_model_name": "LayoutModel",
            "_view_count": null,
            "_view_module": "@jupyter-widgets/base",
            "_view_module_version": "1.2.0",
            "_view_name": "LayoutView",
            "align_content": null,
            "align_items": null,
            "align_self": null,
            "border": null,
            "bottom": null,
            "display": null,
            "flex": null,
            "flex_flow": null,
            "grid_area": null,
            "grid_auto_columns": null,
            "grid_auto_flow": null,
            "grid_auto_rows": null,
            "grid_column": null,
            "grid_gap": null,
            "grid_row": null,
            "grid_template_areas": null,
            "grid_template_columns": null,
            "grid_template_rows": null,
            "height": null,
            "justify_content": null,
            "justify_items": null,
            "left": null,
            "margin": null,
            "max_height": null,
            "max_width": null,
            "min_height": null,
            "min_width": null,
            "object_fit": null,
            "object_position": null,
            "order": null,
            "overflow": null,
            "overflow_x": null,
            "overflow_y": null,
            "padding": null,
            "right": null,
            "top": null,
            "visibility": null,
            "width": null
          }
        },
        "506ddc0ae32d46069ebb0b01072b7315": {
          "model_module": "@jupyter-widgets/base",
          "model_module_version": "1.2.0",
          "model_name": "LayoutModel",
          "state": {
            "_model_module": "@jupyter-widgets/base",
            "_model_module_version": "1.2.0",
            "_model_name": "LayoutModel",
            "_view_count": null,
            "_view_module": "@jupyter-widgets/base",
            "_view_module_version": "1.2.0",
            "_view_name": "LayoutView",
            "align_content": null,
            "align_items": null,
            "align_self": null,
            "border": null,
            "bottom": null,
            "display": null,
            "flex": null,
            "flex_flow": null,
            "grid_area": null,
            "grid_auto_columns": null,
            "grid_auto_flow": null,
            "grid_auto_rows": null,
            "grid_column": null,
            "grid_gap": null,
            "grid_row": null,
            "grid_template_areas": null,
            "grid_template_columns": null,
            "grid_template_rows": null,
            "height": null,
            "justify_content": null,
            "justify_items": null,
            "left": null,
            "margin": null,
            "max_height": null,
            "max_width": null,
            "min_height": null,
            "min_width": null,
            "object_fit": null,
            "object_position": null,
            "order": null,
            "overflow": null,
            "overflow_x": null,
            "overflow_y": null,
            "padding": null,
            "right": null,
            "top": null,
            "visibility": null,
            "width": null
          }
        },
        "50d8ca00caac459ebeca1da1d5793d60": {
          "model_module": "@jupyter-widgets/controls",
          "model_module_version": "1.5.0",
          "model_name": "ProgressStyleModel",
          "state": {
            "_model_module": "@jupyter-widgets/controls",
            "_model_module_version": "1.5.0",
            "_model_name": "ProgressStyleModel",
            "_view_count": null,
            "_view_module": "@jupyter-widgets/base",
            "_view_module_version": "1.2.0",
            "_view_name": "StyleView",
            "bar_color": null,
            "description_width": ""
          }
        },
        "5590bb0db1ac433fbbda9dc35eff815e": {
          "model_module": "@jupyter-widgets/controls",
          "model_module_version": "1.5.0",
          "model_name": "DescriptionStyleModel",
          "state": {
            "_model_module": "@jupyter-widgets/controls",
            "_model_module_version": "1.5.0",
            "_model_name": "DescriptionStyleModel",
            "_view_count": null,
            "_view_module": "@jupyter-widgets/base",
            "_view_module_version": "1.2.0",
            "_view_name": "StyleView",
            "description_width": ""
          }
        },
        "6aa47870a67b4600a80863865c70f902": {
          "model_module": "@jupyter-widgets/base",
          "model_module_version": "1.2.0",
          "model_name": "LayoutModel",
          "state": {
            "_model_module": "@jupyter-widgets/base",
            "_model_module_version": "1.2.0",
            "_model_name": "LayoutModel",
            "_view_count": null,
            "_view_module": "@jupyter-widgets/base",
            "_view_module_version": "1.2.0",
            "_view_name": "LayoutView",
            "align_content": null,
            "align_items": null,
            "align_self": null,
            "border": null,
            "bottom": null,
            "display": null,
            "flex": null,
            "flex_flow": null,
            "grid_area": null,
            "grid_auto_columns": null,
            "grid_auto_flow": null,
            "grid_auto_rows": null,
            "grid_column": null,
            "grid_gap": null,
            "grid_row": null,
            "grid_template_areas": null,
            "grid_template_columns": null,
            "grid_template_rows": null,
            "height": null,
            "justify_content": null,
            "justify_items": null,
            "left": null,
            "margin": null,
            "max_height": null,
            "max_width": null,
            "min_height": null,
            "min_width": null,
            "object_fit": null,
            "object_position": null,
            "order": null,
            "overflow": null,
            "overflow_x": null,
            "overflow_y": null,
            "padding": null,
            "right": null,
            "top": null,
            "visibility": null,
            "width": null
          }
        },
        "6ac68b0450bb408ab29c7f13a2dfaaa9": {
          "model_module": "@jupyter-widgets/base",
          "model_module_version": "1.2.0",
          "model_name": "LayoutModel",
          "state": {
            "_model_module": "@jupyter-widgets/base",
            "_model_module_version": "1.2.0",
            "_model_name": "LayoutModel",
            "_view_count": null,
            "_view_module": "@jupyter-widgets/base",
            "_view_module_version": "1.2.0",
            "_view_name": "LayoutView",
            "align_content": null,
            "align_items": null,
            "align_self": null,
            "border": null,
            "bottom": null,
            "display": null,
            "flex": null,
            "flex_flow": null,
            "grid_area": null,
            "grid_auto_columns": null,
            "grid_auto_flow": null,
            "grid_auto_rows": null,
            "grid_column": null,
            "grid_gap": null,
            "grid_row": null,
            "grid_template_areas": null,
            "grid_template_columns": null,
            "grid_template_rows": null,
            "height": null,
            "justify_content": null,
            "justify_items": null,
            "left": null,
            "margin": null,
            "max_height": null,
            "max_width": null,
            "min_height": null,
            "min_width": null,
            "object_fit": null,
            "object_position": null,
            "order": null,
            "overflow": null,
            "overflow_x": null,
            "overflow_y": null,
            "padding": null,
            "right": null,
            "top": null,
            "visibility": null,
            "width": null
          }
        },
        "7055aab9e9754befa98a4f26303ccfad": {
          "model_module": "@jupyter-widgets/base",
          "model_module_version": "1.2.0",
          "model_name": "LayoutModel",
          "state": {
            "_model_module": "@jupyter-widgets/base",
            "_model_module_version": "1.2.0",
            "_model_name": "LayoutModel",
            "_view_count": null,
            "_view_module": "@jupyter-widgets/base",
            "_view_module_version": "1.2.0",
            "_view_name": "LayoutView",
            "align_content": null,
            "align_items": null,
            "align_self": null,
            "border": null,
            "bottom": null,
            "display": null,
            "flex": null,
            "flex_flow": null,
            "grid_area": null,
            "grid_auto_columns": null,
            "grid_auto_flow": null,
            "grid_auto_rows": null,
            "grid_column": null,
            "grid_gap": null,
            "grid_row": null,
            "grid_template_areas": null,
            "grid_template_columns": null,
            "grid_template_rows": null,
            "height": null,
            "justify_content": null,
            "justify_items": null,
            "left": null,
            "margin": null,
            "max_height": null,
            "max_width": null,
            "min_height": null,
            "min_width": null,
            "object_fit": null,
            "object_position": null,
            "order": null,
            "overflow": null,
            "overflow_x": null,
            "overflow_y": null,
            "padding": null,
            "right": null,
            "top": null,
            "visibility": null,
            "width": null
          }
        },
        "76bc0639e95d4c0f9283f1b83217c0b7": {
          "model_module": "@jupyter-widgets/base",
          "model_module_version": "1.2.0",
          "model_name": "LayoutModel",
          "state": {
            "_model_module": "@jupyter-widgets/base",
            "_model_module_version": "1.2.0",
            "_model_name": "LayoutModel",
            "_view_count": null,
            "_view_module": "@jupyter-widgets/base",
            "_view_module_version": "1.2.0",
            "_view_name": "LayoutView",
            "align_content": null,
            "align_items": null,
            "align_self": null,
            "border": null,
            "bottom": null,
            "display": null,
            "flex": null,
            "flex_flow": null,
            "grid_area": null,
            "grid_auto_columns": null,
            "grid_auto_flow": null,
            "grid_auto_rows": null,
            "grid_column": null,
            "grid_gap": null,
            "grid_row": null,
            "grid_template_areas": null,
            "grid_template_columns": null,
            "grid_template_rows": null,
            "height": null,
            "justify_content": null,
            "justify_items": null,
            "left": null,
            "margin": null,
            "max_height": null,
            "max_width": null,
            "min_height": null,
            "min_width": null,
            "object_fit": null,
            "object_position": null,
            "order": null,
            "overflow": null,
            "overflow_x": null,
            "overflow_y": null,
            "padding": null,
            "right": null,
            "top": null,
            "visibility": null,
            "width": null
          }
        },
        "80b1cc9c6aa4466abbb34f447927440b": {
          "model_module": "@jupyter-widgets/base",
          "model_module_version": "1.2.0",
          "model_name": "LayoutModel",
          "state": {
            "_model_module": "@jupyter-widgets/base",
            "_model_module_version": "1.2.0",
            "_model_name": "LayoutModel",
            "_view_count": null,
            "_view_module": "@jupyter-widgets/base",
            "_view_module_version": "1.2.0",
            "_view_name": "LayoutView",
            "align_content": null,
            "align_items": null,
            "align_self": null,
            "border": null,
            "bottom": null,
            "display": null,
            "flex": null,
            "flex_flow": null,
            "grid_area": null,
            "grid_auto_columns": null,
            "grid_auto_flow": null,
            "grid_auto_rows": null,
            "grid_column": null,
            "grid_gap": null,
            "grid_row": null,
            "grid_template_areas": null,
            "grid_template_columns": null,
            "grid_template_rows": null,
            "height": null,
            "justify_content": null,
            "justify_items": null,
            "left": null,
            "margin": null,
            "max_height": null,
            "max_width": null,
            "min_height": null,
            "min_width": null,
            "object_fit": null,
            "object_position": null,
            "order": null,
            "overflow": null,
            "overflow_x": null,
            "overflow_y": null,
            "padding": null,
            "right": null,
            "top": null,
            "visibility": null,
            "width": null
          }
        },
        "851aaa65665f4599b217cdc7b6f179df": {
          "model_module": "@jupyter-widgets/base",
          "model_module_version": "1.2.0",
          "model_name": "LayoutModel",
          "state": {
            "_model_module": "@jupyter-widgets/base",
            "_model_module_version": "1.2.0",
            "_model_name": "LayoutModel",
            "_view_count": null,
            "_view_module": "@jupyter-widgets/base",
            "_view_module_version": "1.2.0",
            "_view_name": "LayoutView",
            "align_content": null,
            "align_items": null,
            "align_self": null,
            "border": null,
            "bottom": null,
            "display": null,
            "flex": null,
            "flex_flow": null,
            "grid_area": null,
            "grid_auto_columns": null,
            "grid_auto_flow": null,
            "grid_auto_rows": null,
            "grid_column": null,
            "grid_gap": null,
            "grid_row": null,
            "grid_template_areas": null,
            "grid_template_columns": null,
            "grid_template_rows": null,
            "height": null,
            "justify_content": null,
            "justify_items": null,
            "left": null,
            "margin": null,
            "max_height": null,
            "max_width": null,
            "min_height": null,
            "min_width": null,
            "object_fit": null,
            "object_position": null,
            "order": null,
            "overflow": null,
            "overflow_x": null,
            "overflow_y": null,
            "padding": null,
            "right": null,
            "top": null,
            "visibility": null,
            "width": null
          }
        },
        "8606168802f542f793c47cfb9fbc8c94": {
          "model_module": "@jupyter-widgets/controls",
          "model_module_version": "1.5.0",
          "model_name": "DescriptionStyleModel",
          "state": {
            "_model_module": "@jupyter-widgets/controls",
            "_model_module_version": "1.5.0",
            "_model_name": "DescriptionStyleModel",
            "_view_count": null,
            "_view_module": "@jupyter-widgets/base",
            "_view_module_version": "1.2.0",
            "_view_name": "StyleView",
            "description_width": ""
          }
        },
        "8fa3c6b6e5544569bc90e29ea3aecfc1": {
          "model_module": "@jupyter-widgets/controls",
          "model_module_version": "1.5.0",
          "model_name": "HTMLModel",
          "state": {
            "_dom_classes": [],
            "_model_module": "@jupyter-widgets/controls",
            "_model_module_version": "1.5.0",
            "_model_name": "HTMLModel",
            "_view_count": null,
            "_view_module": "@jupyter-widgets/controls",
            "_view_module_version": "1.5.0",
            "_view_name": "HTMLView",
            "description": "",
            "description_tooltip": null,
            "layout": "IPY_MODEL_cbc48f2ca9e94012be032efba30f9b1f",
            "placeholder": "​",
            "style": "IPY_MODEL_8606168802f542f793c47cfb9fbc8c94",
            "value": " 4542/4542 [00:00&lt;00:00, 307797.79it/s]"
          }
        },
        "988d236eb1f14936b4e5f1182360dd1a": {
          "model_module": "@jupyter-widgets/controls",
          "model_module_version": "1.5.0",
          "model_name": "HBoxModel",
          "state": {
            "_dom_classes": [],
            "_model_module": "@jupyter-widgets/controls",
            "_model_module_version": "1.5.0",
            "_model_name": "HBoxModel",
            "_view_count": null,
            "_view_module": "@jupyter-widgets/controls",
            "_view_module_version": "1.5.0",
            "_view_name": "HBoxView",
            "box_style": "",
            "children": [
              "IPY_MODEL_cb4a6d719cbb4da3ad91621e8a838250",
              "IPY_MODEL_dc73530c83744167bd25b05b417e28a0",
              "IPY_MODEL_f2e0e812b5ea4b7795b8978be056c82e"
            ],
            "layout": "IPY_MODEL_b6e84644c9ae46ff87abf7afa53fc88c"
          }
        },
        "98ba5ea41d3f44bab99e7afc217b8510": {
          "model_module": "@jupyter-widgets/base",
          "model_module_version": "1.2.0",
          "model_name": "LayoutModel",
          "state": {
            "_model_module": "@jupyter-widgets/base",
            "_model_module_version": "1.2.0",
            "_model_name": "LayoutModel",
            "_view_count": null,
            "_view_module": "@jupyter-widgets/base",
            "_view_module_version": "1.2.0",
            "_view_name": "LayoutView",
            "align_content": null,
            "align_items": null,
            "align_self": null,
            "border": null,
            "bottom": null,
            "display": null,
            "flex": null,
            "flex_flow": null,
            "grid_area": null,
            "grid_auto_columns": null,
            "grid_auto_flow": null,
            "grid_auto_rows": null,
            "grid_column": null,
            "grid_gap": null,
            "grid_row": null,
            "grid_template_areas": null,
            "grid_template_columns": null,
            "grid_template_rows": null,
            "height": null,
            "justify_content": null,
            "justify_items": null,
            "left": null,
            "margin": null,
            "max_height": null,
            "max_width": null,
            "min_height": null,
            "min_width": null,
            "object_fit": null,
            "object_position": null,
            "order": null,
            "overflow": null,
            "overflow_x": null,
            "overflow_y": null,
            "padding": null,
            "right": null,
            "top": null,
            "visibility": null,
            "width": null
          }
        },
        "9e8057197c934d858a4a15e236c79191": {
          "model_module": "@jupyter-widgets/base",
          "model_module_version": "1.2.0",
          "model_name": "LayoutModel",
          "state": {
            "_model_module": "@jupyter-widgets/base",
            "_model_module_version": "1.2.0",
            "_model_name": "LayoutModel",
            "_view_count": null,
            "_view_module": "@jupyter-widgets/base",
            "_view_module_version": "1.2.0",
            "_view_name": "LayoutView",
            "align_content": null,
            "align_items": null,
            "align_self": null,
            "border": null,
            "bottom": null,
            "display": null,
            "flex": null,
            "flex_flow": null,
            "grid_area": null,
            "grid_auto_columns": null,
            "grid_auto_flow": null,
            "grid_auto_rows": null,
            "grid_column": null,
            "grid_gap": null,
            "grid_row": null,
            "grid_template_areas": null,
            "grid_template_columns": null,
            "grid_template_rows": null,
            "height": null,
            "justify_content": null,
            "justify_items": null,
            "left": null,
            "margin": null,
            "max_height": null,
            "max_width": null,
            "min_height": null,
            "min_width": null,
            "object_fit": null,
            "object_position": null,
            "order": null,
            "overflow": null,
            "overflow_x": null,
            "overflow_y": null,
            "padding": null,
            "right": null,
            "top": null,
            "visibility": null,
            "width": null
          }
        },
        "a18865f1446d46739d036623a2f4c1b9": {
          "model_module": "@jupyter-widgets/controls",
          "model_module_version": "1.5.0",
          "model_name": "HBoxModel",
          "state": {
            "_dom_classes": [],
            "_model_module": "@jupyter-widgets/controls",
            "_model_module_version": "1.5.0",
            "_model_name": "HBoxModel",
            "_view_count": null,
            "_view_module": "@jupyter-widgets/controls",
            "_view_module_version": "1.5.0",
            "_view_name": "HBoxView",
            "box_style": "",
            "children": [
              "IPY_MODEL_43c33354ca8b40d1842d77c3fc85b0ec",
              "IPY_MODEL_e5742f85c21148288d1f27c5ce7b5842",
              "IPY_MODEL_b1e6b5a0799c4714af41e2300e1a103d"
            ],
            "layout": "IPY_MODEL_4be593f3a3504a8193e16a477ccefe5d"
          }
        },
        "a9b259fd21334cef9c6a15094b587706": {
          "model_module": "@jupyter-widgets/controls",
          "model_module_version": "1.5.0",
          "model_name": "HBoxModel",
          "state": {
            "_dom_classes": [],
            "_model_module": "@jupyter-widgets/controls",
            "_model_module_version": "1.5.0",
            "_model_name": "HBoxModel",
            "_view_count": null,
            "_view_module": "@jupyter-widgets/controls",
            "_view_module_version": "1.5.0",
            "_view_name": "HBoxView",
            "box_style": "",
            "children": [
              "IPY_MODEL_f1bc6b4bca8f463e9a0f8c6c06ee2231",
              "IPY_MODEL_c32f88131ce7417c83fbe34de3a9b2a9",
              "IPY_MODEL_3f885b2b34c546ed99257fcbd3502d61"
            ],
            "layout": "IPY_MODEL_851aaa65665f4599b217cdc7b6f179df"
          }
        },
        "abfdc31b4490489caf4d4115c8670892": {
          "model_module": "@jupyter-widgets/controls",
          "model_module_version": "1.5.0",
          "model_name": "HBoxModel",
          "state": {
            "_dom_classes": [],
            "_model_module": "@jupyter-widgets/controls",
            "_model_module_version": "1.5.0",
            "_model_name": "HBoxModel",
            "_view_count": null,
            "_view_module": "@jupyter-widgets/controls",
            "_view_module_version": "1.5.0",
            "_view_name": "HBoxView",
            "box_style": "",
            "children": [
              "IPY_MODEL_aec995c2c7974f20a0a24ede8fd226ab",
              "IPY_MODEL_e11109b3b34f42fc95a2af72d74265cd",
              "IPY_MODEL_8fa3c6b6e5544569bc90e29ea3aecfc1"
            ],
            "layout": "IPY_MODEL_80b1cc9c6aa4466abbb34f447927440b"
          }
        },
        "ace09eeabde4415faa1dba06ef35140e": {
          "model_module": "@jupyter-widgets/base",
          "model_module_version": "1.2.0",
          "model_name": "LayoutModel",
          "state": {
            "_model_module": "@jupyter-widgets/base",
            "_model_module_version": "1.2.0",
            "_model_name": "LayoutModel",
            "_view_count": null,
            "_view_module": "@jupyter-widgets/base",
            "_view_module_version": "1.2.0",
            "_view_name": "LayoutView",
            "align_content": null,
            "align_items": null,
            "align_self": null,
            "border": null,
            "bottom": null,
            "display": null,
            "flex": null,
            "flex_flow": null,
            "grid_area": null,
            "grid_auto_columns": null,
            "grid_auto_flow": null,
            "grid_auto_rows": null,
            "grid_column": null,
            "grid_gap": null,
            "grid_row": null,
            "grid_template_areas": null,
            "grid_template_columns": null,
            "grid_template_rows": null,
            "height": null,
            "justify_content": null,
            "justify_items": null,
            "left": null,
            "margin": null,
            "max_height": null,
            "max_width": null,
            "min_height": null,
            "min_width": null,
            "object_fit": null,
            "object_position": null,
            "order": null,
            "overflow": null,
            "overflow_x": null,
            "overflow_y": null,
            "padding": null,
            "right": null,
            "top": null,
            "visibility": null,
            "width": null
          }
        },
        "aec995c2c7974f20a0a24ede8fd226ab": {
          "model_module": "@jupyter-widgets/controls",
          "model_module_version": "1.5.0",
          "model_name": "HTMLModel",
          "state": {
            "_dom_classes": [],
            "_model_module": "@jupyter-widgets/controls",
            "_model_module_version": "1.5.0",
            "_model_name": "HTMLModel",
            "_view_count": null,
            "_view_module": "@jupyter-widgets/controls",
            "_view_module_version": "1.5.0",
            "_view_name": "HTMLView",
            "description": "",
            "description_tooltip": null,
            "layout": "IPY_MODEL_6ac68b0450bb408ab29c7f13a2dfaaa9",
            "placeholder": "​",
            "style": "IPY_MODEL_31a397c4da834a368377db5220021ec3",
            "value": "100%"
          }
        },
        "b1e6b5a0799c4714af41e2300e1a103d": {
          "model_module": "@jupyter-widgets/controls",
          "model_module_version": "1.5.0",
          "model_name": "HTMLModel",
          "state": {
            "_dom_classes": [],
            "_model_module": "@jupyter-widgets/controls",
            "_model_module_version": "1.5.0",
            "_model_name": "HTMLModel",
            "_view_count": null,
            "_view_module": "@jupyter-widgets/controls",
            "_view_module_version": "1.5.0",
            "_view_name": "HTMLView",
            "description": "",
            "description_tooltip": null,
            "layout": "IPY_MODEL_9e8057197c934d858a4a15e236c79191",
            "placeholder": "​",
            "style": "IPY_MODEL_2a3106b795dd40ecaecc8a35db705f83",
            "value": " 1648877/1648877 [00:00&lt;00:00, 23549151.95it/s]"
          }
        },
        "b2d59d6f38c94a9899107dad087449d8": {
          "model_module": "@jupyter-widgets/controls",
          "model_module_version": "1.5.0",
          "model_name": "ProgressStyleModel",
          "state": {
            "_model_module": "@jupyter-widgets/controls",
            "_model_module_version": "1.5.0",
            "_model_name": "ProgressStyleModel",
            "_view_count": null,
            "_view_module": "@jupyter-widgets/base",
            "_view_module_version": "1.2.0",
            "_view_name": "StyleView",
            "bar_color": null,
            "description_width": ""
          }
        },
        "b5a008397ffc4297937ab302fab67f34": {
          "model_module": "@jupyter-widgets/controls",
          "model_module_version": "1.5.0",
          "model_name": "DescriptionStyleModel",
          "state": {
            "_model_module": "@jupyter-widgets/controls",
            "_model_module_version": "1.5.0",
            "_model_name": "DescriptionStyleModel",
            "_view_count": null,
            "_view_module": "@jupyter-widgets/base",
            "_view_module_version": "1.2.0",
            "_view_name": "StyleView",
            "description_width": ""
          }
        },
        "b6e84644c9ae46ff87abf7afa53fc88c": {
          "model_module": "@jupyter-widgets/base",
          "model_module_version": "1.2.0",
          "model_name": "LayoutModel",
          "state": {
            "_model_module": "@jupyter-widgets/base",
            "_model_module_version": "1.2.0",
            "_model_name": "LayoutModel",
            "_view_count": null,
            "_view_module": "@jupyter-widgets/base",
            "_view_module_version": "1.2.0",
            "_view_name": "LayoutView",
            "align_content": null,
            "align_items": null,
            "align_self": null,
            "border": null,
            "bottom": null,
            "display": null,
            "flex": null,
            "flex_flow": null,
            "grid_area": null,
            "grid_auto_columns": null,
            "grid_auto_flow": null,
            "grid_auto_rows": null,
            "grid_column": null,
            "grid_gap": null,
            "grid_row": null,
            "grid_template_areas": null,
            "grid_template_columns": null,
            "grid_template_rows": null,
            "height": null,
            "justify_content": null,
            "justify_items": null,
            "left": null,
            "margin": null,
            "max_height": null,
            "max_width": null,
            "min_height": null,
            "min_width": null,
            "object_fit": null,
            "object_position": null,
            "order": null,
            "overflow": null,
            "overflow_x": null,
            "overflow_y": null,
            "padding": null,
            "right": null,
            "top": null,
            "visibility": null,
            "width": null
          }
        },
        "c32f88131ce7417c83fbe34de3a9b2a9": {
          "model_module": "@jupyter-widgets/controls",
          "model_module_version": "1.5.0",
          "model_name": "FloatProgressModel",
          "state": {
            "_dom_classes": [],
            "_model_module": "@jupyter-widgets/controls",
            "_model_module_version": "1.5.0",
            "_model_name": "FloatProgressModel",
            "_view_count": null,
            "_view_module": "@jupyter-widgets/controls",
            "_view_module_version": "1.5.0",
            "_view_name": "ProgressView",
            "bar_style": "success",
            "description": "",
            "description_tooltip": null,
            "layout": "IPY_MODEL_3f8bc06225e3454a98145c5f9fbb2434",
            "max": 9912422,
            "min": 0,
            "orientation": "horizontal",
            "style": "IPY_MODEL_b2d59d6f38c94a9899107dad087449d8",
            "value": 9912422
          }
        },
        "cb4a6d719cbb4da3ad91621e8a838250": {
          "model_module": "@jupyter-widgets/controls",
          "model_module_version": "1.5.0",
          "model_name": "HTMLModel",
          "state": {
            "_dom_classes": [],
            "_model_module": "@jupyter-widgets/controls",
            "_model_module_version": "1.5.0",
            "_model_name": "HTMLModel",
            "_view_count": null,
            "_view_module": "@jupyter-widgets/controls",
            "_view_module_version": "1.5.0",
            "_view_name": "HTMLView",
            "description": "",
            "description_tooltip": null,
            "layout": "IPY_MODEL_25b89ea96ce743b48885db0a4043be63",
            "placeholder": "​",
            "style": "IPY_MODEL_f2b5e6132c3d4c25bb0013468decd49d",
            "value": "100%"
          }
        },
        "cbc48f2ca9e94012be032efba30f9b1f": {
          "model_module": "@jupyter-widgets/base",
          "model_module_version": "1.2.0",
          "model_name": "LayoutModel",
          "state": {
            "_model_module": "@jupyter-widgets/base",
            "_model_module_version": "1.2.0",
            "_model_name": "LayoutModel",
            "_view_count": null,
            "_view_module": "@jupyter-widgets/base",
            "_view_module_version": "1.2.0",
            "_view_name": "LayoutView",
            "align_content": null,
            "align_items": null,
            "align_self": null,
            "border": null,
            "bottom": null,
            "display": null,
            "flex": null,
            "flex_flow": null,
            "grid_area": null,
            "grid_auto_columns": null,
            "grid_auto_flow": null,
            "grid_auto_rows": null,
            "grid_column": null,
            "grid_gap": null,
            "grid_row": null,
            "grid_template_areas": null,
            "grid_template_columns": null,
            "grid_template_rows": null,
            "height": null,
            "justify_content": null,
            "justify_items": null,
            "left": null,
            "margin": null,
            "max_height": null,
            "max_width": null,
            "min_height": null,
            "min_width": null,
            "object_fit": null,
            "object_position": null,
            "order": null,
            "overflow": null,
            "overflow_x": null,
            "overflow_y": null,
            "padding": null,
            "right": null,
            "top": null,
            "visibility": null,
            "width": null
          }
        },
        "dc73530c83744167bd25b05b417e28a0": {
          "model_module": "@jupyter-widgets/controls",
          "model_module_version": "1.5.0",
          "model_name": "FloatProgressModel",
          "state": {
            "_dom_classes": [],
            "_model_module": "@jupyter-widgets/controls",
            "_model_module_version": "1.5.0",
            "_model_name": "FloatProgressModel",
            "_view_count": null,
            "_view_module": "@jupyter-widgets/controls",
            "_view_module_version": "1.5.0",
            "_view_name": "ProgressView",
            "bar_style": "success",
            "description": "",
            "description_tooltip": null,
            "layout": "IPY_MODEL_506ddc0ae32d46069ebb0b01072b7315",
            "max": 28881,
            "min": 0,
            "orientation": "horizontal",
            "style": "IPY_MODEL_14299d1b86dd4bc282ce2839149bb164",
            "value": 28881
          }
        },
        "e11109b3b34f42fc95a2af72d74265cd": {
          "model_module": "@jupyter-widgets/controls",
          "model_module_version": "1.5.0",
          "model_name": "FloatProgressModel",
          "state": {
            "_dom_classes": [],
            "_model_module": "@jupyter-widgets/controls",
            "_model_module_version": "1.5.0",
            "_model_name": "FloatProgressModel",
            "_view_count": null,
            "_view_module": "@jupyter-widgets/controls",
            "_view_module_version": "1.5.0",
            "_view_name": "ProgressView",
            "bar_style": "success",
            "description": "",
            "description_tooltip": null,
            "layout": "IPY_MODEL_7055aab9e9754befa98a4f26303ccfad",
            "max": 4542,
            "min": 0,
            "orientation": "horizontal",
            "style": "IPY_MODEL_50d8ca00caac459ebeca1da1d5793d60",
            "value": 4542
          }
        },
        "e24d990f58114022baa5bb4c36e47280": {
          "model_module": "@jupyter-widgets/controls",
          "model_module_version": "1.5.0",
          "model_name": "ProgressStyleModel",
          "state": {
            "_model_module": "@jupyter-widgets/controls",
            "_model_module_version": "1.5.0",
            "_model_name": "ProgressStyleModel",
            "_view_count": null,
            "_view_module": "@jupyter-widgets/base",
            "_view_module_version": "1.2.0",
            "_view_name": "StyleView",
            "bar_color": null,
            "description_width": ""
          }
        },
        "e5742f85c21148288d1f27c5ce7b5842": {
          "model_module": "@jupyter-widgets/controls",
          "model_module_version": "1.5.0",
          "model_name": "FloatProgressModel",
          "state": {
            "_dom_classes": [],
            "_model_module": "@jupyter-widgets/controls",
            "_model_module_version": "1.5.0",
            "_model_name": "FloatProgressModel",
            "_view_count": null,
            "_view_module": "@jupyter-widgets/controls",
            "_view_module_version": "1.5.0",
            "_view_name": "ProgressView",
            "bar_style": "success",
            "description": "",
            "description_tooltip": null,
            "layout": "IPY_MODEL_ace09eeabde4415faa1dba06ef35140e",
            "max": 1648877,
            "min": 0,
            "orientation": "horizontal",
            "style": "IPY_MODEL_e24d990f58114022baa5bb4c36e47280",
            "value": 1648877
          }
        },
        "f1bc6b4bca8f463e9a0f8c6c06ee2231": {
          "model_module": "@jupyter-widgets/controls",
          "model_module_version": "1.5.0",
          "model_name": "HTMLModel",
          "state": {
            "_dom_classes": [],
            "_model_module": "@jupyter-widgets/controls",
            "_model_module_version": "1.5.0",
            "_model_name": "HTMLModel",
            "_view_count": null,
            "_view_module": "@jupyter-widgets/controls",
            "_view_module_version": "1.5.0",
            "_view_name": "HTMLView",
            "description": "",
            "description_tooltip": null,
            "layout": "IPY_MODEL_6aa47870a67b4600a80863865c70f902",
            "placeholder": "​",
            "style": "IPY_MODEL_b5a008397ffc4297937ab302fab67f34",
            "value": "100%"
          }
        },
        "f2b5e6132c3d4c25bb0013468decd49d": {
          "model_module": "@jupyter-widgets/controls",
          "model_module_version": "1.5.0",
          "model_name": "DescriptionStyleModel",
          "state": {
            "_model_module": "@jupyter-widgets/controls",
            "_model_module_version": "1.5.0",
            "_model_name": "DescriptionStyleModel",
            "_view_count": null,
            "_view_module": "@jupyter-widgets/base",
            "_view_module_version": "1.2.0",
            "_view_name": "StyleView",
            "description_width": ""
          }
        },
        "f2e0e812b5ea4b7795b8978be056c82e": {
          "model_module": "@jupyter-widgets/controls",
          "model_module_version": "1.5.0",
          "model_name": "HTMLModel",
          "state": {
            "_dom_classes": [],
            "_model_module": "@jupyter-widgets/controls",
            "_model_module_version": "1.5.0",
            "_model_name": "HTMLModel",
            "_view_count": null,
            "_view_module": "@jupyter-widgets/controls",
            "_view_module_version": "1.5.0",
            "_view_name": "HTMLView",
            "description": "",
            "description_tooltip": null,
            "layout": "IPY_MODEL_98ba5ea41d3f44bab99e7afc217b8510",
            "placeholder": "​",
            "style": "IPY_MODEL_1e0515b3ad2648eea23b7eb28292faa4",
            "value": " 28881/28881 [00:00&lt;00:00, 1854780.18it/s]"
          }
        },
        "fd9a41308c964b679b9ea1a7a8321267": {
          "model_module": "@jupyter-widgets/base",
          "model_module_version": "1.2.0",
          "model_name": "LayoutModel",
          "state": {
            "_model_module": "@jupyter-widgets/base",
            "_model_module_version": "1.2.0",
            "_model_name": "LayoutModel",
            "_view_count": null,
            "_view_module": "@jupyter-widgets/base",
            "_view_module_version": "1.2.0",
            "_view_name": "LayoutView",
            "align_content": null,
            "align_items": null,
            "align_self": null,
            "border": null,
            "bottom": null,
            "display": null,
            "flex": null,
            "flex_flow": null,
            "grid_area": null,
            "grid_auto_columns": null,
            "grid_auto_flow": null,
            "grid_auto_rows": null,
            "grid_column": null,
            "grid_gap": null,
            "grid_row": null,
            "grid_template_areas": null,
            "grid_template_columns": null,
            "grid_template_rows": null,
            "height": null,
            "justify_content": null,
            "justify_items": null,
            "left": null,
            "margin": null,
            "max_height": null,
            "max_width": null,
            "min_height": null,
            "min_width": null,
            "object_fit": null,
            "object_position": null,
            "order": null,
            "overflow": null,
            "overflow_x": null,
            "overflow_y": null,
            "padding": null,
            "right": null,
            "top": null,
            "visibility": null,
            "width": null
          }
        }
      }
    }
  },
  "nbformat": 4,
  "nbformat_minor": 5
}
