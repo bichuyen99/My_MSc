{
 "cells": [
  {
   "cell_type": "markdown",
   "id": "05306e80",
   "metadata": {
    "slideshow": {
     "slide_type": "slide"
    }
   },
   "source": [
    "# PyTorch Introduction"
   ]
  },
  {
   "cell_type": "markdown",
   "id": "022be40a",
   "metadata": {
    "slideshow": {
     "slide_type": "slide"
    }
   },
   "source": [
    "# Components of Network Training\n",
    "\n",
    "1. Dataset\n",
    "2. Network\n",
    "3. Optimizer\n",
    "4. Training Loop"
   ]
  },
  {
   "cell_type": "code",
   "execution_count": 1,
   "id": "83b69c45",
   "metadata": {
    "slideshow": {
     "slide_type": "skip"
    }
   },
   "outputs": [],
   "source": [
    "from pathlib import Path"
   ]
  },
  {
   "cell_type": "code",
   "execution_count": 11,
   "id": "6cba802f",
   "metadata": {
    "slideshow": {
     "slide_type": "slide"
    }
   },
   "outputs": [],
   "source": [
    "import torch\n",
    "from torch.utils.data import Dataset\n",
    "\n",
    "\n",
    "class MyDataset(Dataset):\n",
    "    def __init__(self): ...\n",
    "        \n",
    "    def __len__(self): ...\n",
    "    \n",
    "    def __getitem__(self, index: int): ..."
   ]
  },
  {
   "cell_type": "code",
   "execution_count": 3,
   "id": "8aab3f9e",
   "metadata": {
    "slideshow": {
     "slide_type": "slide"
    }
   },
   "outputs": [],
   "source": [
    "import torch\n",
    "from torch.utils.data import Dataset\n",
    "\n",
    "\n",
    "class InMemoryDataset(Dataset):\n",
    "    def __init__(self, dataset_root_folder: Path):\n",
    "        samples = np.load(dataest_root_folder / 'samples.npy')\n",
    "        \n",
    "    def __len__(self):\n",
    "        return len(self.samples)\n",
    "    \n",
    "    def __getitem__(self, index: int):\n",
    "        return self.samples[index]"
   ]
  },
  {
   "cell_type": "code",
   "execution_count": 4,
   "id": "1d32a277",
   "metadata": {
    "slideshow": {
     "slide_type": "slide"
    }
   },
   "outputs": [],
   "source": [
    "from PIL import Image\n",
    "import torch\n",
    "from torch.utils.data import Dataset\n",
    "\n",
    "\n",
    "class OutOfMemoryDataset(Dataset):\n",
    "    def __init__(self, dataset_root_folder: Path, transforms):\n",
    "        self.transforms = transforms\n",
    "        \n",
    "        self.image_files = list(dataset_root_folder.iterdir())\n",
    "        \n",
    "    def __len__(self):\n",
    "        return len(self.image_files)\n",
    "    \n",
    "    def __getitem__(self, index: int):\n",
    "        image = Image.load(self.images_files[index])\n",
    "        return self.transforms(image)"
   ]
  },
  {
   "cell_type": "markdown",
   "id": "71d4c107",
   "metadata": {
    "slideshow": {
     "slide_type": "slide"
    }
   },
   "source": [
    "# Dataset + DataLoader\n",
    "\n",
    "Dataset: produces sample by index\n",
    "\n",
    "Dataloader: incupsulates Dataset to generate stream of butchs of samples "
   ]
  },
  {
   "cell_type": "code",
   "execution_count": 12,
   "id": "7d38c9c1",
   "metadata": {
    "slideshow": {
     "slide_type": "slide"
    }
   },
   "outputs": [],
   "source": [
    "from torch.utils.data import DataLoader\n",
    "\n",
    "dataset = MyDataset()\n",
    "dataloader = DataLoader(\n",
    "    dataset, \n",
    "    batch_size=16, \n",
    "    shuffle=True, \n",
    "    num_workers=8, \n",
    ")"
   ]
  },
  {
   "cell_type": "markdown",
   "id": "d28233f7",
   "metadata": {
    "slideshow": {
     "slide_type": "slide"
    }
   },
   "source": [
    "# DataLoader and python trees\n",
    "\n",
    "1. Tensor of shape [A1, ..., Ak] -> batch-tensor [BATCH_SIZE, A_1, ..., Ak]\n",
    "2. Tuple/list of tensors -> tuple/list of batch-tensors\n",
    "3. Dict -> recursively values of Dict \n",
    "\n",
    "Good idea to return sample as dicts:\n",
    "```python\n",
    "{\n",
    "    'image': image_tensor,\n",
    "    'mask': mask_tensor,\n",
    "    'label': label,\n",
    "}\n",
    "```"
   ]
  },
  {
   "cell_type": "markdown",
   "id": "8ea41072",
   "metadata": {
    "slideshow": {
     "slide_type": "slide"
    }
   },
   "source": [
    "# Network architeture: `nn.Module`\n",
    "\n",
    "*Layers* and *Networks* are indistinguishable:\n",
    "\n",
    "1. They are transformations from input tensors to output tensors\n",
    "2. They have weights (trainable, non-trainable and semi-trainable parameters)\n",
    "3. They have hyperarameters"
   ]
  },
  {
   "cell_type": "code",
   "execution_count": 14,
   "id": "890be84f",
   "metadata": {
    "slideshow": {
     "slide_type": "slide"
    }
   },
   "outputs": [],
   "source": [
    "from torch import nn\n",
    "\n",
    "\n",
    "class LayerOrNetwork(nn.Module):\n",
    "    def __init__(self, hyperparameters):\n",
    "        super().__init__()\n",
    "        ...\n",
    "        \n",
    "    def forward(self, x):\n",
    "        ...\n",
    "        return y"
   ]
  },
  {
   "cell_type": "code",
   "execution_count": 15,
   "id": "888caafe",
   "metadata": {
    "slideshow": {
     "slide_type": "slide"
    }
   },
   "outputs": [],
   "source": [
    "class SimpleConv(nn.Module):\n",
    "    def __init__(self):\n",
    "        super().__init__()\n",
    "        \n",
    "        self.conv1 = nn.Conv2d(in_channels=3, out_channels=64, kernel_size=3)\n",
    "        self.relu1 = nn.ReLU()\n",
    "        self.conv2 = nn.Conv2d(in_channels=64, out_channels=64, kernel_size=3)\n",
    "        self.conv3 = nn.Conv2d(in_channels=64, out_channels=64, kernel_size=3)\n",
    "        self.pooling = nn.AdaptiveAvgPool2d(output_size=1)\n",
    "        self.linear = nn.Linear(64, 1)\n",
    "        \n",
    "    def forward(self, x):\n",
    "        x = self.conv1(x)\n",
    "        x = self.relu1(x)\n",
    "        \n",
    "        x = self.conv2(x)\n",
    "        x = nn.functional.relu(x)\n",
    "        \n",
    "        x = self.conv3(x)\n",
    "        x = nn.functional.relu(x)\n",
    "        \n",
    "        x = self.pooling(x)\n",
    "        x = x.squeeze(-1).squeeze(-1)\n",
    "        \n",
    "        x = self.linear(x)\n",
    "        \n",
    "        return x"
   ]
  },
  {
   "cell_type": "markdown",
   "id": "e6234d8a",
   "metadata": {
    "slideshow": {
     "slide_type": "slide"
    }
   },
   "source": [
    "# Training Loop\n",
    "\n",
    "```\n",
    "Instantiate dataset + dataloader\n",
    "Instantiate neural network\n",
    "\n",
    "while True:\n",
    "    Generate batch\n",
    "    Pass input tensors through batch\n",
    "    Compare network output with targets and compute loss\n",
    "    Calculate gradients of loss w.r.t. network parameters\n",
    "    Update network weights\n",
    "```"
   ]
  },
  {
   "cell_type": "code",
   "execution_count": 17,
   "id": "a787cbbb",
   "metadata": {
    "slideshow": {
     "slide_type": "slide"
    }
   },
   "outputs": [],
   "source": [
    "network             \n",
    "# network.submodule1.weight1\n",
    "# network.submodule1.submodule2.weight2\n",
    "\n",
    "x, y                # input tensor and output tensor\n",
    "y_hat = network(x)  # network output\n",
    "loss = ((y - y_hat)**2).mean()\n",
    "\n",
    "loss.backward()\n",
    "# network.submodule1.weight1.grad <- d loss / d weight1\n",
    "# network.submodule1.weight2.grad <- d loss / d weight2"
   ]
  },
  {
   "cell_type": "code",
   "execution_count": 21,
   "id": "cb68f6d4",
   "metadata": {
    "slideshow": {
     "slide_type": "slide"
    }
   },
   "outputs": [],
   "source": [
    "#initialization\n",
    "optimizer = torch.optim.SGD(network.parameters(), lr=1e-1)\n",
    "\n",
    "...\n",
    "\n",
    "#inside training loop:\n",
    "while True:\n",
    "    ...\n",
    "    loss = ...\n",
    "    \n",
    "    optimizer.zero_grad()\n",
    "    loss.backward()\n",
    "    optimizer.step()"
   ]
  },
  {
   "cell_type": "code",
   "execution_count": null,
   "id": "1f9ee77a",
   "metadata": {
    "slideshow": {
     "slide_type": "slide"
    }
   },
   "outputs": [],
   "source": [
    "dataset = MyDataset()\n",
    "dataloader = DataLoader(dataset, batch_size=16, shuffle=True, num_workers=8)\n",
    "\n",
    "network = SimpleConv()\n",
    "\n",
    "optimizer = torch.optim.SGD(network.parameters(), lr=1e-1)\n",
    "\n",
    "while True:\n",
    "    for batch in dataloader:\n",
    "        images, targets = batch\n",
    "        \n",
    "        network_outputs = network(images)\n",
    "        \n",
    "        loss = ((targets - network_outputs)**2).mean()\n",
    "        \n",
    "        optimizer.zero_grad()\n",
    "        loss.backward()\n",
    "        optimizer.step()\n",
    "        \n",
    "        print(loss.item())"
   ]
  },
  {
   "cell_type": "markdown",
   "id": "5c82c6da",
   "metadata": {
    "slideshow": {
     "slide_type": "slide"
    }
   },
   "source": [
    "# Task.\n",
    "\n",
    "Train neural network to square 1-dimensional input tensor $x \\rightarrow x^2$\n",
    "\n",
    "1. Implement Dataset that would generate sample pairs $(x, x^2), x \\in [-3; 3]$\n",
    "2. Implement multi-layer perceptron.\n",
    "3. Create dataset, dataloader, network instance and optimizer\n",
    "4. Implement training loop and train your neural network"
   ]
  },
  {
   "cell_type": "markdown",
   "id": "54c61a7c",
   "metadata": {
    "slideshow": {
     "slide_type": "slide"
    }
   },
   "source": [
    "# Layer Examples. Linear\n",
    "\n",
    "```\n",
    "torch.nn.Linear: [..., C_in] -> [..., C_out]\n",
    "```"
   ]
  },
  {
   "cell_type": "code",
   "execution_count": 4,
   "id": "b0b657a6",
   "metadata": {
    "slideshow": {
     "slide_type": "slide"
    }
   },
   "outputs": [
    {
     "name": "stdout",
     "output_type": "stream",
     "text": [
      "torch.Size([16, 20])\n",
      "torch.Size([16, 3, 3, 3, 20])\n"
     ]
    }
   ],
   "source": [
    "import torch\n",
    "\n",
    "linear = torch.nn.Linear(\n",
    "    in_features=10, \n",
    "    out_features=20, \n",
    "    bias=True\n",
    ")\n",
    "\n",
    "x_in = torch.randn(16, 10)\n",
    "print(linear(x_in).shape)\n",
    "\n",
    "x_in = torch.randn(16, 3, 3, 3, 10)\n",
    "print(linear(x_in).shape)"
   ]
  },
  {
   "cell_type": "markdown",
   "id": "630aa277",
   "metadata": {
    "slideshow": {
     "slide_type": "slide"
    }
   },
   "source": [
    "# Layer Examples. Conv\n",
    "\n",
    "```\n",
    "torch.nn.Conv2d: [BS, C_in, H, W] -> [BS, C_out, H', W']\n",
    "```"
   ]
  },
  {
   "cell_type": "code",
   "execution_count": 9,
   "id": "d8995ff2",
   "metadata": {
    "slideshow": {
     "slide_type": "slide"
    }
   },
   "outputs": [
    {
     "name": "stdout",
     "output_type": "stream",
     "text": [
      "torch.Size([16, 20, 30, 30])\n",
      "torch.Size([16, 20, 32, 32])\n"
     ]
    }
   ],
   "source": [
    "import torch\n",
    "\n",
    "conv = torch.nn.Conv2d(\n",
    "    in_channels=10, \n",
    "    out_channels=20,\n",
    "    kernel_size=3,\n",
    ")\n",
    "\n",
    "x_in = torch.randn(16, 10, 32, 32)\n",
    "print(conv(x_in).shape)\n",
    "\n",
    "conv = torch.nn.Conv2d(\n",
    "    in_channels=10, \n",
    "    out_channels=20,\n",
    "    kernel_size=3,\n",
    "    padding=1,\n",
    ")\n",
    "x_in = torch.randn(16, 10, 32, 32)\n",
    "print(conv(x_in).shape)\n",
    "\n",
    "# Does not work:\n",
    "# x_in = torch.randn(16, 2, 10, 32, 32)\n",
    "# print(conv(x_in).shape)"
   ]
  },
  {
   "cell_type": "markdown",
   "id": "54327f1d",
   "metadata": {
    "slideshow": {
     "slide_type": "slide"
    }
   },
   "source": [
    "# Layer Examples. Pooling\n",
    "\n",
    "```\n",
    "torch.nn.MaxPool2d: [BS, C, H, W] -> [BS, C, H', W']\n",
    "```"
   ]
  },
  {
   "cell_type": "code",
   "execution_count": 10,
   "id": "7528791a",
   "metadata": {
    "slideshow": {
     "slide_type": "slide"
    }
   },
   "outputs": [
    {
     "name": "stdout",
     "output_type": "stream",
     "text": [
      "torch.Size([16, 10, 16, 16])\n"
     ]
    }
   ],
   "source": [
    "import torch\n",
    "\n",
    "pool = torch.nn.MaxPool2d(\n",
    "    kernel_size=2,\n",
    ")\n",
    "\n",
    "x_in = torch.randn(16, 10, 32, 32)\n",
    "print(pool(x_in).shape)"
   ]
  },
  {
   "cell_type": "markdown",
   "id": "3339acb2",
   "metadata": {
    "slideshow": {
     "slide_type": "slide"
    }
   },
   "source": [
    "# Layer Examples. BatchNorm2d\n",
    "\n",
    "```\n",
    "torch.nn.BatchNorm2d: [BS, C, H, W] -> [BS, C, H, W]\n",
    "```"
   ]
  },
  {
   "cell_type": "code",
   "execution_count": 16,
   "id": "65f239c3",
   "metadata": {
    "slideshow": {
     "slide_type": "slide"
    }
   },
   "outputs": [
    {
     "name": "stdout",
     "output_type": "stream",
     "text": [
      "torch.Size([16, 10, 32, 32])\n"
     ]
    }
   ],
   "source": [
    "import torch\n",
    "\n",
    "batch_norm = torch.nn.BatchNorm2d(10)\n",
    "\n",
    "x_in = torch.randn(16, 10, 32, 32)\n",
    "print(batch_norm(x_in).shape)"
   ]
  }
 ],
 "metadata": {
  "celltoolbar": "Слайд-шоу",
  "kernelspec": {
   "display_name": "Python 3 (ipykernel)",
   "language": "python",
   "name": "python3"
  },
  "language_info": {
   "codemirror_mode": {
    "name": "ipython",
    "version": 3
   },
   "file_extension": ".py",
   "mimetype": "text/x-python",
   "name": "python",
   "nbconvert_exporter": "python",
   "pygments_lexer": "ipython3",
   "version": "3.10.8"
  }
 },
 "nbformat": 4,
 "nbformat_minor": 5
}
