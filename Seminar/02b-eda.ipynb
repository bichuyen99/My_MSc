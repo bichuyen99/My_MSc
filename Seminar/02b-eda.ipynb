{
 "cells": [
  {
   "cell_type": "markdown",
   "metadata": {
    "slideshow": {
     "slide_type": "slide"
    }
   },
   "source": [
    "# 01 Introduction to Python: EDA 101"
   ]
  },
  {
   "cell_type": "code",
   "execution_count": null,
   "metadata": {},
   "outputs": [],
   "source": [
    "!pip install numpy pandas seaborn matplotlib"
   ]
  },
  {
   "cell_type": "code",
   "execution_count": null,
   "metadata": {
    "slideshow": {
     "slide_type": "slide"
    }
   },
   "outputs": [],
   "source": [
    "import numpy as np\n",
    "import pandas as pd"
   ]
  },
  {
   "cell_type": "markdown",
   "metadata": {
    "slideshow": {
     "slide_type": "slide"
    }
   },
   "source": [
    "## Pandas\n",
    "\n",
    "The most usefull and commonly used library for tabular data."
   ]
  },
  {
   "cell_type": "code",
   "execution_count": null,
   "metadata": {
    "slideshow": {
     "slide_type": "fragment"
    }
   },
   "outputs": [],
   "source": [
    "url = 'https://raw.github.com/mattdelhey/kaggle-titanic/master/Data/train.csv'\n",
    "titanic = pd.read_csv(url)\n",
    "titanic.info()"
   ]
  },
  {
   "cell_type": "code",
   "execution_count": null,
   "metadata": {
    "slideshow": {
     "slide_type": "slide"
    }
   },
   "outputs": [],
   "source": [
    "titanic"
   ]
  },
  {
   "cell_type": "code",
   "execution_count": null,
   "metadata": {
    "slideshow": {
     "slide_type": "slide"
    }
   },
   "outputs": [],
   "source": [
    "titanic.describe()"
   ]
  },
  {
   "cell_type": "code",
   "execution_count": null,
   "metadata": {
    "slideshow": {
     "slide_type": "slide"
    }
   },
   "outputs": [],
   "source": [
    "titanic.sort_values(by='age', ascending=False).head(5)"
   ]
  },
  {
   "cell_type": "markdown",
   "metadata": {},
   "source": [
    "Indexing can be tricky."
   ]
  },
  {
   "cell_type": "code",
   "execution_count": null,
   "metadata": {
    "slideshow": {
     "slide_type": "slide"
    }
   },
   "outputs": [],
   "source": [
    "titanic[['age', 'name']].head(5)"
   ]
  },
  {
   "cell_type": "code",
   "execution_count": null,
   "metadata": {
    "slideshow": {
     "slide_type": "slide"
    }
   },
   "outputs": [],
   "source": [
    "titanic.iloc[[2, 5, 6], 2:5]"
   ]
  },
  {
   "cell_type": "code",
   "execution_count": null,
   "metadata": {
    "slideshow": {
     "slide_type": "slide"
    }
   },
   "outputs": [],
   "source": [
    "type(titanic)"
   ]
  },
  {
   "cell_type": "markdown",
   "metadata": {},
   "source": [
    "You can extract a numpy array"
   ]
  },
  {
   "cell_type": "code",
   "execution_count": null,
   "metadata": {
    "slideshow": {
     "slide_type": "fragment"
    }
   },
   "outputs": [],
   "source": [
    "type(titanic.values)  # depracted\n",
    "type(titanic.to_numpy())"
   ]
  },
  {
   "cell_type": "code",
   "execution_count": null,
   "metadata": {},
   "outputs": [],
   "source": [
    "ages = titanic.age.to_numpy()\n",
    "ages.shape, ages.dtype"
   ]
  },
  {
   "cell_type": "markdown",
   "metadata": {
    "slideshow": {
     "slide_type": "slide"
    }
   },
   "source": [
    "See more details here: 10 Minutes to pandas (actually it requires much more)\n",
    "\n",
    "http://pandas.pydata.org/pandas-docs/stable/10min.html"
   ]
  },
  {
   "cell_type": "markdown",
   "metadata": {},
   "source": [
    "## Matplotlib"
   ]
  },
  {
   "cell_type": "markdown",
   "metadata": {},
   "source": [
    "A workhorse of scientific visualization in Python."
   ]
  },
  {
   "cell_type": "code",
   "execution_count": null,
   "metadata": {},
   "outputs": [],
   "source": [
    "from matplotlib import pyplot as plt"
   ]
  },
  {
   "cell_type": "markdown",
   "metadata": {},
   "source": [
    "[deprecated] Set figure appearance in notebook (no pop up)."
   ]
  },
  {
   "cell_type": "code",
   "execution_count": null,
   "metadata": {},
   "outputs": [],
   "source": [
    "# %matplotlib inline"
   ]
  },
  {
   "cell_type": "markdown",
   "metadata": {
    "slideshow": {
     "slide_type": "slide"
    }
   },
   "source": [
    "## Seaborn\n",
    "\n",
    "A high-level library for visualization and exploratory data analysis."
   ]
  },
  {
   "cell_type": "code",
   "execution_count": null,
   "metadata": {},
   "outputs": [],
   "source": [
    "!pip install seaborn"
   ]
  },
  {
   "cell_type": "code",
   "execution_count": null,
   "metadata": {},
   "outputs": [],
   "source": [
    "import seaborn as sns"
   ]
  },
  {
   "cell_type": "code",
   "execution_count": null,
   "metadata": {},
   "outputs": [],
   "source": [
    "# sns.set() allows to use a more attractive color scheme for plots\n",
    "sns.set()"
   ]
  },
  {
   "cell_type": "code",
   "execution_count": null,
   "metadata": {
    "slideshow": {
     "slide_type": "slide"
    }
   },
   "outputs": [],
   "source": [
    "sns.catplot(x=\"pclass\", kind=\"count\", data=titanic)"
   ]
  },
  {
   "cell_type": "code",
   "execution_count": null,
   "metadata": {
    "slideshow": {
     "slide_type": "slide"
    }
   },
   "outputs": [],
   "source": [
    "sns.catplot(data=titanic, x=\"pclass\", hue=\"sex\", kind=\"count\")"
   ]
  },
  {
   "cell_type": "code",
   "execution_count": null,
   "metadata": {
    "slideshow": {
     "slide_type": "slide"
    }
   },
   "outputs": [],
   "source": [
    "fg = sns.FacetGrid(titanic, hue=\"sex\", aspect=3)\n",
    "fg.map(sns.kdeplot, \"age\", fill=True)\n",
    "fg.set(xlim=(0, 80));"
   ]
  },
  {
   "cell_type": "code",
   "execution_count": null,
   "metadata": {
    "slideshow": {
     "slide_type": "slide"
    }
   },
   "outputs": [],
   "source": [
    "fg = sns.FacetGrid(titanic, col=\"sex\", row=\"pclass\", hue=\"sex\", height=2.5, aspect=2.5)\n",
    "fg.map(sns.kdeplot, \"age\", fill=True)\n",
    "fg.map(sns.rugplot, \"age\")\n",
    "sns.despine(left=True)\n",
    "fg.set(xlim=(0, 80));"
   ]
  },
  {
   "cell_type": "markdown",
   "metadata": {
    "slideshow": {
     "slide_type": "slide"
    }
   },
   "source": [
    "See more example of Seaborn visualizations for the Titanic dataset here\n",
    "\n",
    "https://gist.github.com/mwaskom/8224591"
   ]
  },
  {
   "cell_type": "markdown",
   "metadata": {
    "slideshow": {
     "slide_type": "slide"
    }
   },
   "source": [
    "### Hands-on\n",
    "1. Upload data from the csv file\n",
    "2. Check column names\n",
    "3. Look for dependencies between features and the target vector"
   ]
  },
  {
   "cell_type": "markdown",
   "metadata": {
    "slideshow": {
     "slide_type": "slide"
    }
   },
   "source": [
    "## Scikit learn\n",
    "A machine learning library"
   ]
  },
  {
   "cell_type": "code",
   "execution_count": null,
   "metadata": {},
   "outputs": [],
   "source": [
    "!pip install scikit-learn"
   ]
  },
  {
   "cell_type": "code",
   "execution_count": null,
   "metadata": {
    "slideshow": {
     "slide_type": "slide"
    }
   },
   "outputs": [],
   "source": [
    "from sklearn.neighbors import KNeighborsClassifier"
   ]
  },
  {
   "cell_type": "markdown",
   "metadata": {
    "slideshow": {
     "slide_type": "slide"
    }
   },
   "source": [
    "Let's do  little bit of processing to make some different variables that might be more interesting to plot. Since this notebook is focused on visualization, we're going to do this without much comment."
   ]
  },
  {
   "cell_type": "code",
   "execution_count": null,
   "metadata": {
    "scrolled": true,
    "slideshow": {
     "slide_type": "fragment"
    }
   },
   "outputs": [],
   "source": [
    "titanic = titanic.drop([\"name\", \"ticket\", \"cabin\"], axis=1)\n",
    "titanic[\"sex\"] = titanic.sex.map({\"male\":0, \"female\":1})\n",
    "titanic = pd.get_dummies(titanic, dummy_na=True, columns=['embarked',])\n",
    "titanic.head(6)"
   ]
  },
  {
   "cell_type": "code",
   "execution_count": null,
   "metadata": {
    "slideshow": {
     "slide_type": "slide"
    }
   },
   "outputs": [],
   "source": [
    "titanic.count()"
   ]
  },
  {
   "cell_type": "code",
   "execution_count": null,
   "metadata": {
    "slideshow": {
     "slide_type": "slide"
    }
   },
   "outputs": [],
   "source": [
    "titanic.dropna(inplace=True)\n",
    "titanic.head(6)"
   ]
  },
  {
   "cell_type": "code",
   "execution_count": null,
   "metadata": {
    "slideshow": {
     "slide_type": "slide"
    }
   },
   "outputs": [],
   "source": [
    "titanic.count()"
   ]
  },
  {
   "cell_type": "code",
   "execution_count": null,
   "metadata": {
    "slideshow": {
     "slide_type": "slide"
    }
   },
   "outputs": [],
   "source": [
    "# extract X - features & y - targets\n",
    "X = titanic.drop('survived', axis=1)\n",
    "y = titanic.survived"
   ]
  },
  {
   "cell_type": "markdown",
   "metadata": {
    "slideshow": {
     "slide_type": "slide"
    }
   },
   "source": [
    "#### Now it's time to build a model"
   ]
  },
  {
   "cell_type": "code",
   "execution_count": null,
   "metadata": {
    "slideshow": {
     "slide_type": "slide"
    }
   },
   "outputs": [],
   "source": [
    "# initialize a classifier\n",
    "clf = KNeighborsClassifier()\n",
    "\n",
    "# train the classifier\n",
    "clf.fit(X, y)\n",
    "\n",
    "# calculate predictions\n",
    "y_predicted = clf.predict(X)\n",
    "\n",
    "# estimate accuracy\n",
    "print('Accuracy of prediction is {}'.format(np.mean(y == y_predicted)))"
   ]
  },
  {
   "cell_type": "code",
   "execution_count": null,
   "metadata": {
    "slideshow": {
     "slide_type": "slide"
    }
   },
   "outputs": [],
   "source": [
    "#you can also specify some parameters during initialization\n",
    "clf = KNeighborsClassifier(n_neighbors=10)\n",
    "\n",
    "clf.fit(X, y)\n",
    "y_predicted = clf.predict(X)\n",
    "print('Accuracy of prediction is {}'.format(np.mean(y == y_predicted)))"
   ]
  },
  {
   "cell_type": "code",
   "execution_count": null,
   "metadata": {
    "slideshow": {
     "slide_type": "slide"
    }
   },
   "outputs": [],
   "source": [
    "# you can also predict probabilities of belonging to a particular class\n",
    "proba = clf.predict_proba(X)\n",
    "proba_df = pd.DataFrame(proba, index=y.index, columns=[0, 1])\n",
    "proba_df['true'] = y\n",
    "\n",
    "fg = sns.FacetGrid(proba_df, hue=\"true\", aspect=3)\n",
    "fg.map(sns.kdeplot, 0, fill=True)\n",
    "plt.xlabel('Predicted probability of survivance')\n",
    "plt.legend(['survived=0', 'survived=1'])"
   ]
  }
 ],
 "metadata": {
  "anaconda-cloud": {},
  "celltoolbar": "Slideshow",
  "kernelspec": {
   "display_name": "Python 3 (ipykernel)",
   "language": "python",
   "name": "python3"
  },
  "language_info": {
   "codemirror_mode": {
    "name": "ipython",
    "version": 3
   },
   "file_extension": ".py",
   "mimetype": "text/x-python",
   "name": "python",
   "nbconvert_exporter": "python",
   "pygments_lexer": "ipython3",
   "version": "3.10.12"
  },
  "nbpresent": {
   "slides": {
    "04240373-3456-4f0b-b6a8-c85a335058dc": {
     "id": "04240373-3456-4f0b-b6a8-c85a335058dc",
     "prev": "08243670-4169-4ce5-80e7-957da8c337a7",
     "regions": {
      "1fac4d0d-68ff-4628-80fb-68e293f3f6e7": {
       "attrs": {
        "height": 0.8,
        "width": 0.8,
        "x": 0.1,
        "y": 0.1
       },
       "content": {
        "cell": "20c3f328-0ee8-4c28-8f24-f0eef5033d02",
        "part": "whole"
       },
       "id": "1fac4d0d-68ff-4628-80fb-68e293f3f6e7"
      }
     }
    },
    "08243670-4169-4ce5-80e7-957da8c337a7": {
     "id": "08243670-4169-4ce5-80e7-957da8c337a7",
     "prev": "2c625fe5-bd99-493b-abb3-214ef74bc82f",
     "regions": {
      "99649f2c-dd86-4418-aeea-e29cbbe26fa7": {
       "attrs": {
        "height": 0.4,
        "width": 0.8,
        "x": 0.1,
        "y": 0.5
       },
       "content": {
        "cell": "9dee1c34-b74e-4b46-88dd-5e584d1bee08",
        "part": "whole"
       },
       "id": "99649f2c-dd86-4418-aeea-e29cbbe26fa7"
      },
      "d23783d7-dd94-43d8-8b67-073aa925340c": {
       "attrs": {
        "height": 0.4,
        "width": 0.8,
        "x": 0.1,
        "y": 0.5
       },
       "content": {
        "cell": "2e7450dc-2165-4b4b-9064-4cfc5c2a54e5",
        "part": "whole"
       },
       "id": "d23783d7-dd94-43d8-8b67-073aa925340c"
      },
      "dd979f19-b2d6-41ff-807b-6c1dc436328b": {
       "attrs": {
        "height": 0.8,
        "width": 0.8,
        "x": 0.1,
        "y": 0.1
       },
       "content": {
        "cell": "27aa2b50-e96f-4192-8769-6e0023e82653",
        "part": "whole"
       },
       "id": "dd979f19-b2d6-41ff-807b-6c1dc436328b"
      }
     }
    },
    "116a70af-b2a7-4d14-9995-6e5019c6a00c": {
     "id": "116a70af-b2a7-4d14-9995-6e5019c6a00c",
     "prev": "aea71472-7fb9-4339-bfcf-25969715a4ce",
     "regions": {
      "7dc22abe-818b-4285-a291-1c6ce570339b": {
       "attrs": {
        "height": 0.4,
        "width": 0.8,
        "x": 0.1,
        "y": 0.5
       },
       "content": {
        "cell": "e9b6ecc3-8de3-4ad2-928f-926167db6fb7",
        "part": "whole"
       },
       "id": "7dc22abe-818b-4285-a291-1c6ce570339b"
      },
      "9b99e9b1-07b0-41a9-b4df-a5d33fa72dde": {
       "attrs": {
        "height": 0.4,
        "width": 0.8,
        "x": 0.1,
        "y": 0.5
       },
       "content": {
        "cell": "a592ca49-87c4-4735-beaf-1eade0603da6",
        "part": "whole"
       },
       "id": "9b99e9b1-07b0-41a9-b4df-a5d33fa72dde"
      },
      "d99f332f-2417-4b38-80ed-972a192430a4": {
       "attrs": {
        "height": 0.8,
        "width": 0.8,
        "x": 0.1,
        "y": 0.1
       },
       "content": {
        "cell": "738cee49-5d99-401e-9fe1-2fb21ce13b1e",
        "part": "whole"
       },
       "id": "d99f332f-2417-4b38-80ed-972a192430a4"
      }
     }
    },
    "1ad7fff8-5296-4a95-b526-45d83fcf077f": {
     "id": "1ad7fff8-5296-4a95-b526-45d83fcf077f",
     "prev": "2f5f821d-a50c-433f-b58c-e9295a967a1a",
     "regions": {
      "b6beaf7e-91bd-4faf-ba06-d23e7da16d38": {
       "attrs": {
        "height": 0.8,
        "width": 0.8,
        "x": 0.1,
        "y": 0.1
       },
       "content": {
        "cell": "1238d793-0347-4e21-be48-db65d08a43ff",
        "part": "whole"
       },
       "id": "b6beaf7e-91bd-4faf-ba06-d23e7da16d38"
      }
     }
    },
    "1f60ed3f-0e5c-4d3e-8b76-6a985baf4536": {
     "id": "1f60ed3f-0e5c-4d3e-8b76-6a985baf4536",
     "prev": "47b100bc-3765-4bbd-a980-4c6d7453b66a",
     "regions": {
      "c5e79443-6963-46ab-be82-bd67a2f9bf94": {
       "attrs": {
        "height": 1,
        "width": 1,
        "x": 0,
        "y": 0
       },
       "id": "c5e79443-6963-46ab-be82-bd67a2f9bf94"
      }
     }
    },
    "2c625fe5-bd99-493b-abb3-214ef74bc82f": {
     "id": "2c625fe5-bd99-493b-abb3-214ef74bc82f",
     "prev": "d3aaa88c-4f2b-4bc2-bb7d-84acf3726a2b",
     "regions": {
      "05308c80-1066-4604-a01e-ad2f32670eec": {
       "attrs": {
        "height": 0.4,
        "width": 0.8,
        "x": 0.1,
        "y": 0.5
       },
       "content": {
        "cell": "5955c75f-0124-4d1d-905b-806be73a8eae",
        "part": "whole"
       },
       "id": "05308c80-1066-4604-a01e-ad2f32670eec"
      },
      "1048ce63-aacd-40fa-b003-83b5db4f9278": {
       "attrs": {
        "height": 0.8,
        "width": 0.8,
        "x": 0.1,
        "y": 0.1
       },
       "content": {
        "cell": "61d8f6c7-d9d5-41cf-8d6f-5bc877b1d38e",
        "part": "whole"
       },
       "id": "1048ce63-aacd-40fa-b003-83b5db4f9278"
      },
      "49c0591c-dbd2-481f-85a9-f9a76cf32c0b": {
       "attrs": {
        "height": 0.4,
        "width": 0.8,
        "x": 0.1,
        "y": 0.5
       },
       "content": {
        "cell": "6dd9c19d-1bd4-40fb-a4ce-f742c6610067",
        "part": "whole"
       },
       "id": "49c0591c-dbd2-481f-85a9-f9a76cf32c0b"
      },
      "d957f8ea-b493-436b-975e-714145ed1e46": {
       "attrs": {
        "height": 0.4,
        "width": 0.8,
        "x": 0.1,
        "y": 0.5
       },
       "content": {
        "cell": "21dd4ade-2390-44ff-9e7f-624dff4c6a70",
        "part": "whole"
       },
       "id": "d957f8ea-b493-436b-975e-714145ed1e46"
      }
     }
    },
    "2dac2021-d60a-490b-9e0c-535cc34b0ca8": {
     "id": "2dac2021-d60a-490b-9e0c-535cc34b0ca8",
     "prev": "04240373-3456-4f0b-b6a8-c85a335058dc",
     "regions": {
      "3334acb2-f511-4c88-9f2c-a11f34e23532": {
       "attrs": {
        "height": 0.8,
        "width": 0.8,
        "x": 0.1,
        "y": 0.1
       },
       "content": {
        "cell": "74c78551-ebe2-428d-81d0-4d7351235a7d",
        "part": "whole"
       },
       "id": "3334acb2-f511-4c88-9f2c-a11f34e23532"
      }
     }
    },
    "2f5f821d-a50c-433f-b58c-e9295a967a1a": {
     "id": "2f5f821d-a50c-433f-b58c-e9295a967a1a",
     "prev": "94ee663a-b910-4276-94e5-b6f25613e921",
     "regions": {
      "8f025c20-1a38-408a-b91b-cb9595b12d70": {
       "attrs": {
        "height": 0.8,
        "width": 0.8,
        "x": 0.1,
        "y": 0.1
       },
       "content": {
        "cell": "c05acf2b-704a-471d-8853-2cde00014992",
        "part": "whole"
       },
       "id": "8f025c20-1a38-408a-b91b-cb9595b12d70"
      }
     }
    },
    "47b100bc-3765-4bbd-a980-4c6d7453b66a": {
     "id": "47b100bc-3765-4bbd-a980-4c6d7453b66a",
     "prev": null,
     "regions": {
      "6fe1dcd1-2972-43a0-bf12-975e9a5f3774": {
       "attrs": {
        "height": 0.8,
        "width": 0.8,
        "x": 0.1,
        "y": 0.1
       },
       "content": {
        "cell": "7400368a-60f2-4be9-8a78-6532952425c6",
        "part": "whole"
       },
       "id": "6fe1dcd1-2972-43a0-bf12-975e9a5f3774"
      }
     }
    },
    "6f3a6b12-6610-4a10-aabe-afd121529282": {
     "id": "6f3a6b12-6610-4a10-aabe-afd121529282",
     "prev": "da877071-58c6-4acf-b98a-e9367e81502e",
     "regions": {
      "0afa706c-d756-4a64-b0a9-e0370b60b3e6": {
       "attrs": {
        "height": 0.8,
        "width": 0.8,
        "x": 0.1,
        "y": 0.1
       },
       "content": {
        "cell": "078a4917-d854-40db-b63c-fd7af3fb593a",
        "part": "whole"
       },
       "id": "0afa706c-d756-4a64-b0a9-e0370b60b3e6"
      }
     }
    },
    "70bf17c1-d9dd-49e3-af42-33c41e1e410e": {
     "id": "70bf17c1-d9dd-49e3-af42-33c41e1e410e",
     "prev": "6f3a6b12-6610-4a10-aabe-afd121529282",
     "regions": {
      "538c7821-95eb-43a1-a29e-84e2f7511a62": {
       "attrs": {
        "height": 1,
        "width": 1,
        "x": 0,
        "y": 0
       },
       "id": "538c7821-95eb-43a1-a29e-84e2f7511a62"
      }
     }
    },
    "7668ad94-24c3-402a-9f92-8041d8cff2e6": {
     "id": "7668ad94-24c3-402a-9f92-8041d8cff2e6",
     "prev": "93ee3cb7-d7df-447d-8b78-bb069ab5c825",
     "regions": {
      "3679bdba-b662-4b15-9a24-ad81ae6e43fc": {
       "attrs": {
        "height": 0.8,
        "width": 0.8,
        "x": 0.1,
        "y": 0.1
       },
       "content": {
        "cell": "9200fc94-8046-4389-b4a7-26284c9af798",
        "part": "whole"
       },
       "id": "3679bdba-b662-4b15-9a24-ad81ae6e43fc"
      }
     }
    },
    "884a5eff-4820-4bf1-a90f-60f744b596b7": {
     "id": "884a5eff-4820-4bf1-a90f-60f744b596b7",
     "prev": "df885d10-a5ec-4e86-b7e3-eef1e0dc9a08",
     "regions": {
      "25aa693e-4669-4d0c-a1f4-ade4d0fbe772": {
       "attrs": {
        "height": 0.8,
        "width": 0.8,
        "x": 0.1,
        "y": 0.1
       },
       "content": {
        "cell": "9b4472e3-c67f-4cf6-a414-477f302ffa5a",
        "part": "whole"
       },
       "id": "25aa693e-4669-4d0c-a1f4-ade4d0fbe772"
      },
      "71bb1ea4-4f33-4d45-9543-ced5e1196032": {
       "attrs": {
        "height": 0.4,
        "width": 0.8,
        "x": 0.1,
        "y": 0.5
       },
       "content": {
        "cell": "efbdbbef-3b21-4d1c-858c-ff9bcefde8f8",
        "part": "whole"
       },
       "id": "71bb1ea4-4f33-4d45-9543-ced5e1196032"
      },
      "7d3fd633-a84b-4a7b-839d-f1d32cce1982": {
       "attrs": {
        "height": 0.4,
        "width": 0.8,
        "x": 0.1,
        "y": 0.5
       },
       "content": {
        "cell": "fb38aa29-2541-4b24-a9c2-da4b5cb580e8",
        "part": "whole"
       },
       "id": "7d3fd633-a84b-4a7b-839d-f1d32cce1982"
      },
      "edff62c3-b9d6-4c61-a980-eeb1c9e3df55": {
       "attrs": {
        "height": 0.4,
        "width": 0.8,
        "x": 0.1,
        "y": 0.5
       },
       "content": {
        "cell": "0d4badef-774e-48d3-83da-28430abfea33",
        "part": "whole"
       },
       "id": "edff62c3-b9d6-4c61-a980-eeb1c9e3df55"
      }
     }
    },
    "9258cbaf-bcbf-40e3-a07a-4ab732f740a2": {
     "id": "9258cbaf-bcbf-40e3-a07a-4ab732f740a2",
     "prev": "70bf17c1-d9dd-49e3-af42-33c41e1e410e",
     "regions": {
      "41de9074-5149-428d-9f25-6d8305a45692": {
       "attrs": {
        "height": 0.4,
        "width": 0.8,
        "x": 0.1,
        "y": 0.5
       },
       "content": {
        "cell": "28976364-46f1-4d69-9740-e486cb70f430",
        "part": "whole"
       },
       "id": "41de9074-5149-428d-9f25-6d8305a45692"
      },
      "e799f549-8fa5-4244-abe2-477a5847278e": {
       "attrs": {
        "height": 0.8,
        "width": 0.8,
        "x": 0.1,
        "y": 0.1
       },
       "content": {
        "cell": "a65209c6-8e64-46ab-b8b1-5ffa43977a7c",
        "part": "source"
       },
       "id": "e799f549-8fa5-4244-abe2-477a5847278e"
      }
     }
    },
    "93ee3cb7-d7df-447d-8b78-bb069ab5c825": {
     "id": "93ee3cb7-d7df-447d-8b78-bb069ab5c825",
     "prev": "1ad7fff8-5296-4a95-b526-45d83fcf077f",
     "regions": {
      "9c36782d-6aca-45ae-82cf-68a0156e5cb7": {
       "attrs": {
        "height": 0.8,
        "width": 0.8,
        "x": 0.1,
        "y": 0.1
       },
       "content": {
        "cell": "d0ee1e64-b216-4938-a137-4a3d3c7c0052",
        "part": "whole"
       },
       "id": "9c36782d-6aca-45ae-82cf-68a0156e5cb7"
      }
     }
    },
    "94ee663a-b910-4276-94e5-b6f25613e921": {
     "id": "94ee663a-b910-4276-94e5-b6f25613e921",
     "prev": "2dac2021-d60a-490b-9e0c-535cc34b0ca8",
     "regions": {
      "e6bd442b-cf35-4b16-9ff7-40460f3b42f7": {
       "attrs": {
        "height": 0.8,
        "width": 0.8,
        "x": 0.1,
        "y": 0.1
       },
       "content": {
        "cell": "ac9fcd8f-7de0-4abd-8b89-9dab783ce988",
        "part": "whole"
       },
       "id": "e6bd442b-cf35-4b16-9ff7-40460f3b42f7"
      }
     }
    },
    "a0745c31-73e8-45bb-a56c-c01a3c380443": {
     "id": "a0745c31-73e8-45bb-a56c-c01a3c380443",
     "prev": "7668ad94-24c3-402a-9f92-8041d8cff2e6",
     "regions": {
      "0a24f096-a481-4e03-9cfc-b13c218f031e": {
       "attrs": {
        "height": 0.4,
        "width": 0.8,
        "x": 0.1,
        "y": 0.5
       },
       "content": {
        "cell": "e8581a89-3a06-4c9c-ba28-eeeaf3051a4c",
        "part": "whole"
       },
       "id": "0a24f096-a481-4e03-9cfc-b13c218f031e"
      },
      "2ef66d51-2d9f-4e5c-89e2-c3b31017b5a3": {
       "attrs": {
        "height": 0.4,
        "width": 0.8,
        "x": 0.1,
        "y": 0.5
       },
       "content": {
        "cell": "f853dfa0-a150-479d-b878-33060afc38ec",
        "part": "whole"
       },
       "id": "2ef66d51-2d9f-4e5c-89e2-c3b31017b5a3"
      },
      "37260814-6b4b-41d9-b4f3-3a9425725c29": {
       "attrs": {
        "height": 0.4,
        "width": 0.8,
        "x": 0.1,
        "y": 0.5
       },
       "content": {
        "cell": "7e1dab1a-f164-47c1-8c4f-0b97cf2ae03b",
        "part": "whole"
       },
       "id": "37260814-6b4b-41d9-b4f3-3a9425725c29"
      },
      "38ae0714-f9a1-4759-bb51-02d7096fe3b4": {
       "attrs": {
        "height": 0.4,
        "width": 0.8,
        "x": 0.1,
        "y": 0.5
       },
       "content": {
        "cell": "034b391c-ccef-406c-ac35-a74f320ecdff",
        "part": "whole"
       },
       "id": "38ae0714-f9a1-4759-bb51-02d7096fe3b4"
      },
      "401bea62-3a9d-436d-adb5-d29387b7fe18": {
       "attrs": {
        "height": 0.4,
        "width": 0.8,
        "x": 0.1,
        "y": 0.5
       },
       "content": {
        "cell": "373aee25-7f45-49d6-98b2-ebb79c6079f5",
        "part": "whole"
       },
       "id": "401bea62-3a9d-436d-adb5-d29387b7fe18"
      },
      "4d7ddf2d-a646-48bf-8c87-0eb1a6cf6c83": {
       "attrs": {
        "height": 0.4,
        "width": 0.8,
        "x": 0.1,
        "y": 0.5
       },
       "content": {
        "cell": "caaefbe7-5abb-41d5-a74e-9910b01a6003",
        "part": "whole"
       },
       "id": "4d7ddf2d-a646-48bf-8c87-0eb1a6cf6c83"
      },
      "51574af2-7fd5-4af9-b37d-9c5041bed484": {
       "attrs": {
        "height": 0.4,
        "width": 0.8,
        "x": 0.1,
        "y": 0.5
       },
       "content": {
        "cell": "fc8d5cb6-0eed-4a96-943a-64d844a8d557",
        "part": "whole"
       },
       "id": "51574af2-7fd5-4af9-b37d-9c5041bed484"
      },
      "6e03a13b-b99e-44b4-a4b8-a0260e22ee04": {
       "attrs": {
        "height": 0.4,
        "width": 0.8,
        "x": 0.1,
        "y": 0.5
       },
       "content": {
        "cell": "91759f78-459b-4431-b2fe-b9d29b0c1f73",
        "part": "whole"
       },
       "id": "6e03a13b-b99e-44b4-a4b8-a0260e22ee04"
      },
      "7ba110bd-bda8-4ea2-a3a8-3ffd0abd42f7": {
       "attrs": {
        "height": 0.4,
        "width": 0.8,
        "x": 0.1,
        "y": 0.5
       },
       "content": {
        "cell": "9681c4e7-da4c-4825-b0f9-5122554e63e2",
        "part": "whole"
       },
       "id": "7ba110bd-bda8-4ea2-a3a8-3ffd0abd42f7"
      },
      "8ee43b70-105a-4701-bde0-9b702352af1f": {
       "attrs": {
        "height": 0.4,
        "width": 0.8,
        "x": 0.1,
        "y": 0.5
       },
       "content": {
        "cell": "71c6a1b7-23e4-493d-898c-1436406bb7ac",
        "part": "whole"
       },
       "id": "8ee43b70-105a-4701-bde0-9b702352af1f"
      },
      "93dbbbdd-44b2-44c3-9cb3-50dcc2a9c951": {
       "attrs": {
        "height": 0.4,
        "width": 0.8,
        "x": 0.1,
        "y": 0.5
       },
       "content": {
        "cell": "6b32cfa1-f33f-481b-919d-dc4cf63365ad",
        "part": "whole"
       },
       "id": "93dbbbdd-44b2-44c3-9cb3-50dcc2a9c951"
      },
      "a1540863-7760-42d1-910d-1a9ccb2e1fd2": {
       "attrs": {
        "height": 0.4,
        "width": 0.8,
        "x": 0.1,
        "y": 0.5
       },
       "content": {
        "cell": "0987b7ec-f5c1-46fa-9e7b-a0b36a11e7ff",
        "part": "whole"
       },
       "id": "a1540863-7760-42d1-910d-1a9ccb2e1fd2"
      },
      "a2ecd96a-32db-4251-addb-74a8bb94f215": {
       "attrs": {
        "height": 0.4,
        "width": 0.8,
        "x": 0.1,
        "y": 0.5
       },
       "content": {
        "cell": "9bf77004-53cc-4d33-b93a-8b9fbba69ba1",
        "part": "whole"
       },
       "id": "a2ecd96a-32db-4251-addb-74a8bb94f215"
      },
      "a67ce7ce-9702-4ec1-b5e9-02331fee4551": {
       "attrs": {
        "height": 0.4,
        "width": 0.8,
        "x": 0.1,
        "y": 0.5
       },
       "content": {
        "cell": "e591525d-fba8-49bc-84af-479822af4270",
        "part": "whole"
       },
       "id": "a67ce7ce-9702-4ec1-b5e9-02331fee4551"
      },
      "b3e52bc3-8438-41a0-85f1-90932c821f7f": {
       "attrs": {
        "height": 0.4,
        "width": 0.8,
        "x": 0.1,
        "y": 0.5
       },
       "content": {
        "cell": "9f85b88e-031e-42f8-a428-7849106589b1",
        "part": "whole"
       },
       "id": "b3e52bc3-8438-41a0-85f1-90932c821f7f"
      },
      "b76312ce-059d-471f-99da-6704768856b7": {
       "attrs": {
        "height": 0.4,
        "width": 0.8,
        "x": 0.1,
        "y": 0.5
       },
       "content": {
        "cell": "35fafa96-4532-4544-a074-a3c0d86486b5",
        "part": "whole"
       },
       "id": "b76312ce-059d-471f-99da-6704768856b7"
      },
      "cd1267ef-2529-4ff2-bb68-243e4edfead3": {
       "attrs": {
        "height": 0.4,
        "width": 0.8,
        "x": 0.1,
        "y": 0.5
       },
       "content": {
        "cell": "4ee65ddd-425f-41b8-af9d-cf2f8258e2ac",
        "part": "whole"
       },
       "id": "cd1267ef-2529-4ff2-bb68-243e4edfead3"
      },
      "cd80791f-46d9-418e-bed2-50db3e0b4349": {
       "attrs": {
        "height": 0.8,
        "width": 0.8,
        "x": 0.1,
        "y": 0.1
       },
       "content": {
        "cell": "da925089-4f86-4d43-86d0-9e01d6a3cb9c",
        "part": "whole"
       },
       "id": "cd80791f-46d9-418e-bed2-50db3e0b4349"
      },
      "d05b2188-f889-4e5e-a136-6571ff11e24f": {
       "attrs": {
        "height": 0.4,
        "width": 0.8,
        "x": 0.1,
        "y": 0.5
       },
       "content": {
        "cell": "0652c4fe-4e2d-44cd-b03e-6cc65c4e47ff",
        "part": "whole"
       },
       "id": "d05b2188-f889-4e5e-a136-6571ff11e24f"
      },
      "d8d158ca-759d-4ef6-b630-3aae4914c886": {
       "attrs": {
        "height": 0.4,
        "width": 0.8,
        "x": 0.1,
        "y": 0.5
       },
       "content": {
        "cell": "87a19585-66d8-40f4-877d-3b84e3c11a0f",
        "part": "whole"
       },
       "id": "d8d158ca-759d-4ef6-b630-3aae4914c886"
      },
      "e3c5eeca-21cf-450b-8857-d24312c17ae9": {
       "attrs": {
        "height": 0.4,
        "width": 0.8,
        "x": 0.1,
        "y": 0.5
       },
       "content": {
        "cell": "b5057058-4ea5-408f-a62e-4da6d89a7583",
        "part": "whole"
       },
       "id": "e3c5eeca-21cf-450b-8857-d24312c17ae9"
      },
      "e8d26a15-6b72-4838-8b08-63e9807f3cd2": {
       "attrs": {
        "height": 0.4,
        "width": 0.8,
        "x": 0.1,
        "y": 0.5
       },
       "content": {
        "cell": "66042a6f-3370-4c36-91e1-a3fc9120b38a",
        "part": "whole"
       },
       "id": "e8d26a15-6b72-4838-8b08-63e9807f3cd2"
      }
     }
    },
    "a9a74249-19d0-49ab-95f8-93bb01bcbaca": {
     "id": "a9a74249-19d0-49ab-95f8-93bb01bcbaca",
     "prev": "1f60ed3f-0e5c-4d3e-8b76-6a985baf4536",
     "regions": {
      "90468e62-b067-4a20-bb60-2ba15cd159fb": {
       "attrs": {
        "height": 0.8,
        "width": 0.8,
        "x": 0.1,
        "y": 0.1
       },
       "content": {
        "cell": "29e4f320-289a-45ce-a385-e00060b7034a",
        "part": "whole"
       },
       "id": "90468e62-b067-4a20-bb60-2ba15cd159fb"
      }
     }
    },
    "aea71472-7fb9-4339-bfcf-25969715a4ce": {
     "id": "aea71472-7fb9-4339-bfcf-25969715a4ce",
     "prev": "9258cbaf-bcbf-40e3-a07a-4ab732f740a2",
     "regions": {
      "245f157d-c148-4d44-92bb-43274e5054e4": {
       "attrs": {
        "height": 0.4,
        "width": 0.8,
        "x": 0.1,
        "y": 0.5
       },
       "content": {
        "cell": "47b19d0e-1dd4-4dd1-a009-0687e2bd111e",
        "part": "whole"
       },
       "id": "245f157d-c148-4d44-92bb-43274e5054e4"
      },
      "7858a77b-6896-41fb-a92b-9c7aef0dd4ba": {
       "attrs": {
        "height": 0.8,
        "width": 0.8,
        "x": 0.1,
        "y": 0.1
       },
       "content": {
        "cell": "a0a0a612-32e3-4dc8-b496-87389f3532fb",
        "part": "whole"
       },
       "id": "7858a77b-6896-41fb-a92b-9c7aef0dd4ba"
      },
      "8bf5aea7-a2e7-4515-bac9-22c1b20bae54": {
       "attrs": {
        "height": 0.4,
        "width": 0.8,
        "x": 0.1,
        "y": 0.5
       },
       "content": {
        "cell": "d8913f46-28ca-4575-a80e-75835f5ba0f2",
        "part": "whole"
       },
       "id": "8bf5aea7-a2e7-4515-bac9-22c1b20bae54"
      }
     }
    },
    "d3aaa88c-4f2b-4bc2-bb7d-84acf3726a2b": {
     "id": "d3aaa88c-4f2b-4bc2-bb7d-84acf3726a2b",
     "prev": "884a5eff-4820-4bf1-a90f-60f744b596b7",
     "regions": {
      "21aacf13-a362-45ca-8f99-1d69a3906500": {
       "attrs": {
        "height": 0.8,
        "width": 0.8,
        "x": 0.1,
        "y": 0.1
       },
       "content": {
        "cell": "2e4f9b52-682f-4f8f-8fb2-32454e9511a2",
        "part": "whole"
       },
       "id": "21aacf13-a362-45ca-8f99-1d69a3906500"
      },
      "d0322925-ef4b-4787-b945-edeb1367286e": {
       "attrs": {
        "height": 0.4,
        "width": 0.8,
        "x": 0.1,
        "y": 0.5
       },
       "content": {
        "cell": "f06672ae-edc9-4c20-9c36-9cb42ab79ecf",
        "part": "whole"
       },
       "id": "d0322925-ef4b-4787-b945-edeb1367286e"
      },
      "f8b80ab1-47ab-4930-a1c0-c9fc8c4e9cc7": {
       "attrs": {
        "height": 0.4,
        "width": 0.8,
        "x": 0.1,
        "y": 0.5
       },
       "content": {
        "cell": "e6559d2f-d95a-4f39-ad60-f17c1501d5df",
        "part": "whole"
       },
       "id": "f8b80ab1-47ab-4930-a1c0-c9fc8c4e9cc7"
      }
     }
    },
    "da877071-58c6-4acf-b98a-e9367e81502e": {
     "id": "da877071-58c6-4acf-b98a-e9367e81502e",
     "prev": "a9a74249-19d0-49ab-95f8-93bb01bcbaca",
     "regions": {
      "97e666ad-c64f-46ab-9a30-cbc2bb51995e": {
       "attrs": {
        "height": 0.8,
        "width": 0.8,
        "x": 0.1,
        "y": 0.1
       },
       "content": {
        "cell": "3481680c-b0e6-437c-afce-c8ba8aebd37c",
        "part": "whole"
       },
       "id": "97e666ad-c64f-46ab-9a30-cbc2bb51995e"
      }
     }
    },
    "db2b053d-d067-4580-951c-d0fcb113204c": {
     "id": "db2b053d-d067-4580-951c-d0fcb113204c",
     "prev": "116a70af-b2a7-4d14-9995-6e5019c6a00c",
     "regions": {
      "c0009ed9-ad2c-43bd-99ea-07e49de0d2a9": {
       "attrs": {
        "height": 0.8,
        "width": 0.8,
        "x": 0.1,
        "y": 0.1
       },
       "content": {
        "cell": "f86f231c-5ac5-490f-901e-abb5313427d3",
        "part": "whole"
       },
       "id": "c0009ed9-ad2c-43bd-99ea-07e49de0d2a9"
      }
     }
    },
    "ddf4421d-28cb-4724-9705-c4f8c8a5e131": {
     "id": "ddf4421d-28cb-4724-9705-c4f8c8a5e131",
     "prev": "db2b053d-d067-4580-951c-d0fcb113204c",
     "regions": {
      "00e238c3-9d2f-4c3a-bb45-6464a85b0b4d": {
       "attrs": {
        "height": 0.4,
        "width": 0.8,
        "x": 0.1,
        "y": 0.5
       },
       "content": {
        "cell": "8eb7f5fe-abcd-46a7-93cf-f69c52c6a40a",
        "part": "whole"
       },
       "id": "00e238c3-9d2f-4c3a-bb45-6464a85b0b4d"
      },
      "4b6af842-ddaf-4677-98bf-784590ef7f4c": {
       "attrs": {
        "height": 0.4,
        "width": 0.8,
        "x": 0.1,
        "y": 0.5
       },
       "content": {
        "cell": "34b69e36-508a-423d-847c-362cb4e246ee",
        "part": "whole"
       },
       "id": "4b6af842-ddaf-4677-98bf-784590ef7f4c"
      },
      "bb4138b6-08e8-41ff-964a-7f2f8d6f0f08": {
       "attrs": {
        "height": 0.4,
        "width": 0.8,
        "x": 0.1,
        "y": 0.5
       },
       "content": {
        "cell": "932cf191-a0fc-4dc4-9672-31e12439204b",
        "part": "whole"
       },
       "id": "bb4138b6-08e8-41ff-964a-7f2f8d6f0f08"
      },
      "bbf009d8-0f75-4a0b-a970-6dd307a50e83": {
       "attrs": {
        "height": 0.4,
        "width": 0.8,
        "x": 0.1,
        "y": 0.5
       },
       "content": {
        "cell": "57f04c94-7841-4ddc-9cdc-50a94ca6e57a",
        "part": "whole"
       },
       "id": "bbf009d8-0f75-4a0b-a970-6dd307a50e83"
      },
      "eaeccf44-dc3d-45a5-8de5-6d11fedf6e10": {
       "attrs": {
        "height": 0.8,
        "width": 0.8,
        "x": 0.1,
        "y": 0.1
       },
       "content": {
        "cell": "01841f1c-9a5a-4c75-9ebc-bd9cd547d329",
        "part": "whole"
       },
       "id": "eaeccf44-dc3d-45a5-8de5-6d11fedf6e10"
      }
     }
    },
    "df885d10-a5ec-4e86-b7e3-eef1e0dc9a08": {
     "id": "df885d10-a5ec-4e86-b7e3-eef1e0dc9a08",
     "prev": "ddf4421d-28cb-4724-9705-c4f8c8a5e131",
     "regions": {
      "2aa1cb2c-e245-41c7-bb4c-fa400e3d3e29": {
       "attrs": {
        "height": 0.4,
        "width": 0.8,
        "x": 0.1,
        "y": 0.5
       },
       "content": {
        "cell": "33d0c6aa-e529-4b58-a797-35dea79cdbd1",
        "part": "whole"
       },
       "id": "2aa1cb2c-e245-41c7-bb4c-fa400e3d3e29"
      },
      "914a069c-0aa2-45b1-aa95-3622888e5fa7": {
       "attrs": {
        "height": 0.8,
        "width": 0.8,
        "x": 0.1,
        "y": 0.1
       },
       "content": {
        "cell": "9d1519ed-4ee8-4ad8-9f37-549a4aaa93df",
        "part": "whole"
       },
       "id": "914a069c-0aa2-45b1-aa95-3622888e5fa7"
      }
     }
    }
   },
   "themes": {
    "default": "5488b884-079e-432a-b602-11129a5e76d6",
    "theme": {
     "5488b884-079e-432a-b602-11129a5e76d6": {
      "backgrounds": {
       "backgroundColor": {
        "background-color": "backgroundColor",
        "id": "backgroundColor"
       }
      },
      "id": "5488b884-079e-432a-b602-11129a5e76d6",
      "palette": {
       "backgroundColor": {
        "id": "backgroundColor",
        "rgb": [
         247,
         251,
         252
        ]
       },
       "headingColor": {
        "id": "headingColor",
        "rgb": [
         51,
         51,
         51
        ]
       },
       "linkColor": {
        "id": "linkColor",
        "rgb": [
         59,
         117,
         158
        ]
       },
       "mainColor": {
        "id": "mainColor",
        "rgb": [
         51,
         51,
         51
        ]
       }
      },
      "rules": {
       "a": {
        "color": "linkColor"
       },
       "h1": {
        "color": "headingColor",
        "font-family": "Quicksand",
        "font-size": 7
       },
       "h2": {
        "color": "headingColor",
        "font-family": "Quicksand",
        "font-size": 5
       },
       "h3": {
        "color": "headingColor",
        "font-family": "Quicksand",
        "font-size": 3.75
       },
       "h4": {
        "color": "headingColor",
        "font-family": "Quicksand",
        "font-size": 3
       },
       "h5": {
        "color": "headingColor",
        "font-family": "Quicksand"
       },
       "h6": {
        "color": "headingColor",
        "font-family": "Quicksand"
       },
       "h7": {
        "color": "headingColor",
        "font-family": "Quicksand"
       },
       "li": {
        "color": "mainColor",
        "font-family": "Open Sans",
        "font-size": 5
       },
       "p": {
        "color": "mainColor",
        "font-family": "Open Sans",
        "font-size": 5
       }
      },
      "text-base": {
       "color": "mainColor",
       "font-family": "Open Sans",
       "font-size": 5
      }
     }
    }
   }
  }
 },
 "nbformat": 4,
 "nbformat_minor": 4
}
