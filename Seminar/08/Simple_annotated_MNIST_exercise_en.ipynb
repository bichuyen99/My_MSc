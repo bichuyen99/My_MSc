{
  "cells": [
    {
      "cell_type": "code",
      "execution_count": null,
      "metadata": {
        "id": "EN9JMXMDC2hR",
        "outputId": "cae893fd-c293-4654-e6ad-eef01e4f99db"
      },
      "outputs": [
        {
          "name": "stdout",
          "output_type": "stream",
          "text": [
            "\n",
            "\u001b[1m[\u001b[0m\u001b[34;49mnotice\u001b[0m\u001b[1;39;49m]\u001b[0m\u001b[39;49m A new release of pip is available: \u001b[0m\u001b[31;49m23.2.1\u001b[0m\u001b[39;49m -> \u001b[0m\u001b[32;49m23.3\u001b[0m\n",
            "\u001b[1m[\u001b[0m\u001b[34;49mnotice\u001b[0m\u001b[1;39;49m]\u001b[0m\u001b[39;49m To update, run: \u001b[0m\u001b[32;49mpython3.9 -m pip install --upgrade pip\u001b[0m\n",
            "\n",
            "\u001b[1m[\u001b[0m\u001b[34;49mnotice\u001b[0m\u001b[1;39;49m]\u001b[0m\u001b[39;49m A new release of pip is available: \u001b[0m\u001b[31;49m23.2.1\u001b[0m\u001b[39;49m -> \u001b[0m\u001b[32;49m23.3\u001b[0m\n",
            "\u001b[1m[\u001b[0m\u001b[34;49mnotice\u001b[0m\u001b[1;39;49m]\u001b[0m\u001b[39;49m To update, run: \u001b[0m\u001b[32;49mpython3.9 -m pip install --upgrade pip\u001b[0m\n",
            "\n",
            "\u001b[1m[\u001b[0m\u001b[34;49mnotice\u001b[0m\u001b[1;39;49m]\u001b[0m\u001b[39;49m A new release of pip is available: \u001b[0m\u001b[31;49m23.2.1\u001b[0m\u001b[39;49m -> \u001b[0m\u001b[32;49m23.3\u001b[0m\n",
            "\u001b[1m[\u001b[0m\u001b[34;49mnotice\u001b[0m\u001b[1;39;49m]\u001b[0m\u001b[39;49m To update, run: \u001b[0m\u001b[32;49mpython3.9 -m pip install --upgrade pip\u001b[0m\n",
            "\n",
            "\u001b[1m[\u001b[0m\u001b[34;49mnotice\u001b[0m\u001b[1;39;49m]\u001b[0m\u001b[39;49m A new release of pip is available: \u001b[0m\u001b[31;49m23.2.1\u001b[0m\u001b[39;49m -> \u001b[0m\u001b[32;49m23.3\u001b[0m\n",
            "\u001b[1m[\u001b[0m\u001b[34;49mnotice\u001b[0m\u001b[1;39;49m]\u001b[0m\u001b[39;49m To update, run: \u001b[0m\u001b[32;49mpython3.9 -m pip install --upgrade pip\u001b[0m\n"
          ]
        }
      ],
      "source": [
        "# Install the required libraries for python. Start the cell by pressing Shift + Enter.\n",
        "# In order to practice in listener mode (without doing any exercises or\n",
        "# without modifying anything) simply run the cells one after another,\n",
        "# by pressing Shift + Enter\n",
        "!pip install numpy --quiet\n",
        "!pip install tensorflow --quiet\n",
        "!pip install pandas --quiet\n",
        "!pip install keras --quiet"
      ]
    },
    {
      "cell_type": "markdown",
      "metadata": {
        "id": "kTCbKQQvEhb8"
      },
      "source": [
        "# 🔢 Neural network to recognize handwritten digits from scratch!\n",
        "\n",
        "![](https://upload.wikimedia.org/wikipedia/commons/2/27/MnistExamples.png)"
      ]
    },
    {
      "cell_type": "markdown",
      "metadata": {
        "id": "7ofxvJirWvlp"
      },
      "source": [
        "We need to recognize handwritten digits from their images. Since there are 10 digits, there are 10 classes in our classification task.\n",
        "\n",
        "Our MNIST dataset is often used to demonstrate the capabilities of various machine learning and deep learning algorithms, as it is quite easy to achieve good performance accuracy."
      ]
    },
    {
      "cell_type": "markdown",
      "metadata": {
        "id": "Tl72AZCwdwn4"
      },
      "source": [
        "## ✍️ Data Analysis Process:\n",
        "1. Load the data for training and testing\n",
        "2. Pre-process the data\n",
        "3. Create a model for training\n",
        "4. train the model\n",
        "5. Test the model\n",
        "6. Try to improve the model"
      ]
    },
    {
      "cell_type": "markdown",
      "metadata": {
        "id": "T6aUApHy4OzK"
      },
      "source": [
        "Let's load the necessary libraries: `keras` for working with neural networks, `numpy` for scientific computing, `matplotlib` for plotting.\n",
        "\n",
        "* Our neural network will do a series of successive transformations of the data, so we need the Sequential neural network type\n",
        "* The types of transformations we will be working with are: dense layer Dense, Activation Activation, matrix to long vector Flatten.\n",
        "\n",
        "We'll also be using MNIST data - it can be downloaded from public sources using keras.\n",
        "\n",
        "Perform the cell below:"
      ]
    },
    {
      "cell_type": "code",
      "execution_count": null,
      "metadata": {
        "id": "9G11oTPyL1XP"
      },
      "outputs": [],
      "source": [
        "from tensorflow import keras\n",
        "from keras.models import Sequential\n",
        "from keras.layers import Dense, Activation, Flatten\n",
        "import keras.datasets\n",
        "\n",
        "import numpy as np\n",
        "from matplotlib import pyplot as plt"
      ]
    },
    {
      "cell_type": "markdown",
      "metadata": {
        "id": "AIpnql06YNc7"
      },
      "source": [
        "## 📦 1. Data Loading.\n",
        "\n",
        "keras already has several popular datasets that can be easily loaded. Let's load the MNIST dataset."
      ]
    },
    {
      "cell_type": "code",
      "execution_count": null,
      "metadata": {
        "id": "MRc87g0JL1XR"
      },
      "outputs": [],
      "source": [
        "(X_train, y_train), (X_test, y_test) = keras.datasets.mnist.load_data()"
      ]
    },
    {
      "cell_type": "code",
      "execution_count": null,
      "metadata": {
        "colab": {
          "base_uri": "https://localhost:8080/"
        },
        "id": "6tm4H_PLgcld",
        "outputId": "997751f8-fe98-4837-f5a3-3ec8515565b9"
      },
      "outputs": [
        {
          "name": "stdout",
          "output_type": "stream",
          "text": [
            "🤖 Total 60000 images in the training sample and 10000 in the test sample.\n",
            "🤖 This is what the first element of our training sample looks like. It's a matrix of size (28, 28)\n",
            "[[  0   0   0   0   0   0   0   0   0   0   0   0   0   0   0   0   0   0\n",
            "    0   0   0   0   0   0   0   0   0   0]\n",
            " [  0   0   0   0   0   0   0   0   0   0   0   0   0   0   0   0   0   0\n",
            "    0   0   0   0   0   0   0   0   0   0]\n",
            " [  0   0   0   0   0   0   0   0   0   0   0   0   0   0   0   0   0   0\n",
            "    0   0   0   0   0   0   0   0   0   0]\n",
            " [  0   0   0   0   0   0   0   0   0   0   0   0   0   0   0   0   0   0\n",
            "    0   0   0   0   0   0   0   0   0   0]\n",
            " [  0   0   0   0   0   0   0   0   0   0   0   0   0   0   0   0   0   0\n",
            "    0   0   0   0   0   0   0   0   0   0]\n",
            " [  0   0   0   0   0   0   0   0   0   0   0   0   3  18  18  18 126 136\n",
            "  175  26 166 255 247 127   0   0   0   0]\n",
            " [  0   0   0   0   0   0   0   0  30  36  94 154 170 253 253 253 253 253\n",
            "  225 172 253 242 195  64   0   0   0   0]\n",
            " [  0   0   0   0   0   0   0  49 238 253 253 253 253 253 253 253 253 251\n",
            "   93  82  82  56  39   0   0   0   0   0]\n",
            " [  0   0   0   0   0   0   0  18 219 253 253 253 253 253 198 182 247 241\n",
            "    0   0   0   0   0   0   0   0   0   0]\n",
            " [  0   0   0   0   0   0   0   0  80 156 107 253 253 205  11   0  43 154\n",
            "    0   0   0   0   0   0   0   0   0   0]\n",
            " [  0   0   0   0   0   0   0   0   0  14   1 154 253  90   0   0   0   0\n",
            "    0   0   0   0   0   0   0   0   0   0]\n",
            " [  0   0   0   0   0   0   0   0   0   0   0 139 253 190   2   0   0   0\n",
            "    0   0   0   0   0   0   0   0   0   0]\n",
            " [  0   0   0   0   0   0   0   0   0   0   0  11 190 253  70   0   0   0\n",
            "    0   0   0   0   0   0   0   0   0   0]\n",
            " [  0   0   0   0   0   0   0   0   0   0   0   0  35 241 225 160 108   1\n",
            "    0   0   0   0   0   0   0   0   0   0]\n",
            " [  0   0   0   0   0   0   0   0   0   0   0   0   0  81 240 253 253 119\n",
            "   25   0   0   0   0   0   0   0   0   0]\n",
            " [  0   0   0   0   0   0   0   0   0   0   0   0   0   0  45 186 253 253\n",
            "  150  27   0   0   0   0   0   0   0   0]\n",
            " [  0   0   0   0   0   0   0   0   0   0   0   0   0   0   0  16  93 252\n",
            "  253 187   0   0   0   0   0   0   0   0]\n",
            " [  0   0   0   0   0   0   0   0   0   0   0   0   0   0   0   0   0 249\n",
            "  253 249  64   0   0   0   0   0   0   0]\n",
            " [  0   0   0   0   0   0   0   0   0   0   0   0   0   0  46 130 183 253\n",
            "  253 207   2   0   0   0   0   0   0   0]\n",
            " [  0   0   0   0   0   0   0   0   0   0   0   0  39 148 229 253 253 253\n",
            "  250 182   0   0   0   0   0   0   0   0]\n",
            " [  0   0   0   0   0   0   0   0   0   0  24 114 221 253 253 253 253 201\n",
            "   78   0   0   0   0   0   0   0   0   0]\n",
            " [  0   0   0   0   0   0   0   0  23  66 213 253 253 253 253 198  81   2\n",
            "    0   0   0   0   0   0   0   0   0   0]\n",
            " [  0   0   0   0   0   0  18 171 219 253 253 253 253 195  80   9   0   0\n",
            "    0   0   0   0   0   0   0   0   0   0]\n",
            " [  0   0   0   0  55 172 226 253 253 253 253 244 133  11   0   0   0   0\n",
            "    0   0   0   0   0   0   0   0   0   0]\n",
            " [  0   0   0   0 136 253 253 253 212 135 132  16   0   0   0   0   0   0\n",
            "    0   0   0   0   0   0   0   0   0   0]\n",
            " [  0   0   0   0   0   0   0   0   0   0   0   0   0   0   0   0   0   0\n",
            "    0   0   0   0   0   0   0   0   0   0]\n",
            " [  0   0   0   0   0   0   0   0   0   0   0   0   0   0   0   0   0   0\n",
            "    0   0   0   0   0   0   0   0   0   0]\n",
            " [  0   0   0   0   0   0   0   0   0   0   0   0   0   0   0   0   0   0\n",
            "    0   0   0   0   0   0   0   0   0   0]]\n"
          ]
        }
      ],
      "source": [
        "print(f\"🤖 Total {X_train.shape[0]} images in the training sample and {X_test.shape[0]} in the test sample.\")\n",
        "print(f\"🤖 This is what the first element of our training sample looks like. It's a matrix of size {X_train[0].shape}\")\n",
        "print(X_train[0])"
      ]
    },
    {
      "cell_type": "markdown",
      "metadata": {
        "id": "TNB3heFHYWfC"
      },
      "source": [
        "## 🎁 2. Data preparation\n",
        "**Normalize values on [0,1] and put the target variable into one-hot format**\n",
        "\n",
        "Data normalization often contributes to more stable training of ML models. Here we will make sure that the values of all input features lie between 0 and 1. We do this by dividing by 255 (because, as you can see above, they are now integers between 0 and 255).\n",
        "\n",
        "The neural network also needs the value of the output variable in one-hot format.\n",
        "This is done by the function from keras keras.utils.to_categorical, which takes as input the initial vector of output variable values and the number of classes."
      ]
    },
    {
      "cell_type": "code",
      "execution_count": null,
      "metadata": {
        "id": "hbw-RAM2Y6tT"
      },
      "outputs": [],
      "source": [
        "X_train = X_train / 255\n",
        "X_test = X_test / 255\n",
        "\n",
        "y_train = keras.utils.to_categorical(y_train, 10)\n",
        "y_test = keras.utils.to_categorical(y_test, 10)"
      ]
    },
    {
      "cell_type": "code",
      "execution_count": null,
      "metadata": {
        "colab": {
          "base_uri": "https://localhost:8080/",
          "height": 942
        },
        "id": "fW8rMYS6OASh",
        "outputId": "a34fdf6f-b9a5-4a9b-dfde-e28ba6260ffa"
      },
      "outputs": [
        {
          "data": {
            "image/png": "[encoded data removed]",
            "text/plain": [
              "<Figure size 1500x1500 with 25 Axes>"
            ]
          },
          "metadata": {},
          "output_type": "display_data"
        }
      ],
      "source": [
        "# Auxiliary functions for images.\n",
        "\n",
        "def show_img(img, ax=None, title=None):\n",
        "    \"\"\"Shows a single image.\"\"\"\n",
        "    if ax is None:\n",
        "        ax = plt.gca()\n",
        "    ax.imshow(img, cmap='gray')\n",
        "    ax.set_xticks([])\n",
        "    ax.set_yticks([])\n",
        "    if title:\n",
        "        ax.set_title(title)\n",
        "\n",
        "def show_img_grid(imgs, titles):\n",
        "    \"\"\"Shows a grid of images.\"\"\"\"\"\n",
        "    n = int(np.ceil(len(imgs)**.5))\n",
        "    _, axs = plt.subplots(n, n, figsize=(3 * n, 3 * n))\n",
        "    for i, (img, title) in enumerate(zip(imgs, titles)):\n",
        "        show_img(img, axs[i // n][i % n], title)\n",
        "\n",
        "def show_examples(data, label, predicted = None):\n",
        "    idxs = np.random.randint(0, len(data), 25)\n",
        "    if np.array(label).max() <= 1:\n",
        "        label = np.argmax(label, axis=-1)\n",
        "\n",
        "    if predicted is not None:\n",
        "        if np.array(predicted).max() <= 1:\n",
        "            predicted = np.argmax(predicted, axis=-1)\n",
        "    show_img_grid(\n",
        "    [data[idx] for idx in idxs],\n",
        "    [f'Label: {label[idx]}' if predicted is None else f'Label: {label[idx]}. Predicted: {predicted[idx]}' for idx in idxs],\n",
        "    )\n",
        "\n",
        "show_examples(X_test, y_test)"
      ]
    },
    {
      "cell_type": "markdown",
      "metadata": {
        "id": "S2986SBBZJIs"
      },
      "source": [
        "Let's look at the form in which we store the input features by printing the size of the first object from the training sample.\n",
        "\n",
        "For the MNIST data, these are 28 by 28 images."
      ]
    },
    {
      "cell_type": "code",
      "execution_count": null,
      "metadata": {
        "colab": {
          "base_uri": "https://localhost:8080/"
        },
        "id": "VGjF5U_eL1XU",
        "outputId": "dfeeb27e-ba9a-4512-85a3-34a0a1010020"
      },
      "outputs": [
        {
          "name": "stdout",
          "output_type": "stream",
          "text": [
            "🤖 Image size (28, 28) pixels\n",
            "🤖 The values of all pixels are between 0.0 and 1.0\n",
            "🤖 Class label of the first picture in the original format 5\n",
            "🤖 Class label of the first picture in one-hot format [0. 0. 0. 0. 0. 1. 0. 0. 0. 0.]\n"
          ]
        }
      ],
      "source": [
        "input_size = X_train[0].shape\n",
        "print(f\"🤖 Image size {input_size} pixels\")\n",
        "print(f\"🤖 The values of all pixels are between {X_train.min()} and {X_train.max()}\")\n",
        "print(f\"🤖 Class label of the first picture in the original format {np.argmax(y_train[0])}\")\n",
        "print(f\"🤖 Class label of the first picture in one-hot format {y_train[0]}\")"
      ]
    },
    {
      "cell_type": "markdown",
      "metadata": {
        "id": "MMKOCnmMZgk_"
      },
      "source": [
        "## 💃 3. Creating a model for training\n",
        "\n",
        "Sequential here means sequential type of model where we add layers one after another.\n",
        "\n",
        "**Add layer after layer to the model.\n",
        "\n",
        "* First we pull the picture into a long vector with the Flatten layer.\n",
        "** Then we add a fully connected layer - the neurons in the next layer depend on all the variables in the previous layer.\n",
        "** Next we apply a nonlinear ReLU transform **\n",
        "* Then comes the next full-link layer. It has 10 outputs - the number of classes.\n",
        "* At the end we use the softmax activation function (it turns any vector of 10 numbers into a probability vector, i.e. all components are non-negative and their sum is 1)."
      ]
    },
    {
      "cell_type": "code",
      "execution_count": null,
      "metadata": {
        "id": "7L_idgx4aTSQ"
      },
      "outputs": [],
      "source": [
        "model = Sequential()\n",
        "\n",
        "model.add(Flatten())\n",
        "model.add(Dense(units=16))\n",
        "model.add(Activation('relu'))\n",
        "model.add(Dense(units=10))\n",
        "model.add(Activation('softmax'))"
      ]
    },
    {
      "cell_type": "markdown",
      "metadata": {
        "id": "dXa68zvcabbz"
      },
      "source": [
        "After describing the architecture, the model should be compiled by specifying the loss function to be minimized,\n",
        "optimizer and asking the model to output the accuracy of operation on a test pattern during the training process"
      ]
    },
    {
      "cell_type": "code",
      "execution_count": null,
      "metadata": {
        "id": "m07_4onHL1XZ"
      },
      "outputs": [],
      "source": [
        "model.compile(loss='categorical_crossentropy',\n",
        "              optimizer='adam',\n",
        "              metrics=['accuracy'])"
      ]
    },
    {
      "cell_type": "markdown",
      "metadata": {
        "id": "C_hq5K6Oahnr"
      },
      "source": [
        "## 👨‍🏫 4. Model training\n",
        "**Training with data, number of epochs and subsample size**\n",
        "\n",
        "Now the structure of the model and how we are going to train it is set.\n",
        "We do this in a similar way to sklearn - using the fit method.\n",
        "\n",
        "After running fit, we optimize the parameters by gradient descent.\n",
        "At each step of the gradient descent, we use a loss function that is computed over only a portion of the full sample.\n",
        "\n",
        "Two additional parameters for training are:\n",
        "* batch_size - the size of the subsample that is used for one optimization step\n",
        "* epochs - the number of epochs - how many times we go through the full sample"
      ]
    },
    {
      "cell_type": "code",
      "execution_count": null,
      "metadata": {
        "colab": {
          "base_uri": "https://localhost:8080/"
        },
        "id": "1yJBEO5MawBa",
        "outputId": "e9f2526f-e39e-40e4-87ed-acc0e0c8aa2f"
      },
      "outputs": [
        {
          "name": "stdout",
          "output_type": "stream",
          "text": [
            "Epoch 1/5\n",
            "469/469 [==============================] - 1s 795us/step - loss: 0.6692 - accuracy: 0.8131\n",
            "Epoch 2/5\n",
            "469/469 [==============================] - 0s 836us/step - loss: 0.3021 - accuracy: 0.9133\n",
            "Epoch 3/5\n",
            "469/469 [==============================] - 0s 799us/step - loss: 0.2641 - accuracy: 0.9244\n",
            "Epoch 4/5\n",
            "469/469 [==============================] - 0s 787us/step - loss: 0.2434 - accuracy: 0.9305\n",
            "Epoch 5/5\n",
            "469/469 [==============================] - 0s 800us/step - loss: 0.2290 - accuracy: 0.9348\n"
          ]
        },
        {
          "data": {
            "text/plain": [
              "<keras.src.callbacks.History at 0x2e1f66c40>"
            ]
          },
          "execution_count": 10,
          "metadata": {},
          "output_type": "execute_result"
        }
      ],
      "source": [
        "model.fit(X_train, y_train, epochs=5, batch_size=128)"
      ]
    },
    {
      "cell_type": "markdown",
      "metadata": {
        "id": "WCthVeR-dUHe"
      },
      "source": [
        "Можно посмотреть, какие карточки мы использовали для обучения модели."
      ]
    },
    {
      "cell_type": "code",
      "execution_count": null,
      "metadata": {
        "colab": {
          "base_uri": "https://localhost:8080/"
        },
        "id": "jhqGc2gFMkWV",
        "outputId": "54e750c9-6e2d-4f9d-f439-d132b8102ecd"
      },
      "outputs": [
        {
          "ename": "ModuleNotFoundError",
          "evalue": "No module named 'cpuinfo'",
          "output_type": "error",
          "traceback": [
            "\u001b[0;31m---------------------------------------------------------------------------\u001b[0m",
            "\u001b[0;31mModuleNotFoundError\u001b[0m                       Traceback (most recent call last)",
            "\u001b[1;32m/Users/bratishka/Yandex.Disk.localized/Base/Git/optim/assets/Notebooks/Simple_annotated_MNIST_exercise_en.ipynb Cell 23\u001b[0m line \u001b[0;36m2\n\u001b[1;32m      <a href='vscode-notebook-cell:/Users/bratishka/Yandex.Disk.localized/Base/Git/optim/assets/Notebooks/Simple_annotated_MNIST_exercise_en.ipynb#X31sZmlsZQ%3D%3D?line=0'>1</a>\u001b[0m \u001b[39mimport\u001b[39;00m \u001b[39msubprocess\u001b[39;00m\n\u001b[0;32m----> <a href='vscode-notebook-cell:/Users/bratishka/Yandex.Disk.localized/Base/Git/optim/assets/Notebooks/Simple_annotated_MNIST_exercise_en.ipynb#X31sZmlsZQ%3D%3D?line=1'>2</a>\u001b[0m \u001b[39mimport\u001b[39;00m \u001b[39mcpuinfo\u001b[39;00m\n\u001b[1;32m      <a href='vscode-notebook-cell:/Users/bratishka/Yandex.Disk.localized/Base/Git/optim/assets/Notebooks/Simple_annotated_MNIST_exercise_en.ipynb#X31sZmlsZQ%3D%3D?line=2'>3</a>\u001b[0m \u001b[39mimport\u001b[39;00m \u001b[39mtensorflow\u001b[39;00m \u001b[39mas\u001b[39;00m \u001b[39mtf\u001b[39;00m\n\u001b[1;32m      <a href='vscode-notebook-cell:/Users/bratishka/Yandex.Disk.localized/Base/Git/optim/assets/Notebooks/Simple_annotated_MNIST_exercise_en.ipynb#X31sZmlsZQ%3D%3D?line=4'>5</a>\u001b[0m \u001b[39m# Check CPU information\u001b[39;00m\n",
            "\u001b[0;31mModuleNotFoundError\u001b[0m: No module named 'cpuinfo'"
          ]
        }
      ],
      "source": [
        "import subprocess\n",
        "import cpuinfo\n",
        "import tensorflow as tf\n",
        "\n",
        "# Check CPU information\n",
        "cpu_info = tf.config.list_physical_devices('CPU')\n",
        "print(\"🤖 CPU Information:\")\n",
        "\n",
        "# Get CPU model name\n",
        "cpu_model = cpuinfo.get_cpu_info()['brand_raw']\n",
        "print(f\"🤖 CPU Model: {cpu_model}\")\n",
        "\n",
        "# Check RAM information\n",
        "ram_info = subprocess.check_output(\"free -m\", shell=True).decode().split(\"\\n\")[1].split()\n",
        "if len(ram_info) >= 7:\n",
        "    ram_total = int(ram_info[1])\n",
        "    ram_used = int(ram_info[2])\n",
        "    ram_available = int(ram_info[6])\n",
        "    print(\"\\n🤖 RAM Information:\")\n",
        "    print(f\"🤖 RAM Total: {ram_total} MiB\")\n",
        "    print(f\"🤖 RAM Used: {ram_used} MiB\")\n",
        "    print(f\"🤖 RAM Available: {ram_available} MiB\")\n",
        "else:\n",
        "    print(\"🤖 Unable to retrieve RAM information\")\n",
        "\n",
        "# Check GPU information\n",
        "gpu_info = tf.config.list_physical_devices('GPU')\n",
        "if gpu_info:\n",
        "    print(\"\\n🤖 GPU Information:\")\n",
        "    for i, gpu in enumerate(gpu_info):\n",
        "        print(f\"🤖 GPU {i+1}:\")\n",
        "        device_name = tf.test.gpu_device_name()\n",
        "        if device_name != \"\":\n",
        "            gpu_name = subprocess.check_output([\"nvidia-smi\", \"--query-gpu=name\", \"--format=csv,noheader\"], universal_newlines=True)\n",
        "            print(f\"🤖 GPU Model: {gpu_name.strip()}\")\n",
        "        else:\n",
        "            print(\"🤖 GPU Model: Unknown\")\n",
        "else:\n",
        "    print(\"\\n🤖 GPU not available\")\n",
        "\n",
        "# Check memory usage\n",
        "print(\"\\n🤖 Memory Information:\")\n",
        "if gpu_info:\n",
        "    total_gpu_memory = 0\n",
        "    for i, gpu in enumerate(gpu_info):\n",
        "        try:\n",
        "            cmd = f\"nvidia-smi --query-gpu=memory.total,memory.used --format=csv,nounits,noheader\"\n",
        "            result = subprocess.check_output(cmd.split(), universal_newlines=True)\n",
        "            gpu_memory = [int(x) for x in result.strip().split(',')]\n",
        "            total_gpu_memory += gpu_memory[0]\n",
        "            print(f\"🤖 GPU {i+1} Memory Used: {gpu_memory[1]} MiB\")\n",
        "        except subprocess.CalledProcessError as e:\n",
        "            print(f\"🤖 Error retrieving memory information for GPU {i+1}: {e}\")\n",
        "    print(f\"🤖 Total GPU Memory Available: {total_gpu_memory} MiB\")\n",
        "else:\n",
        "    print(\"🤖 CPU Memory: Not applicable\")\n"
      ]
    },
    {
      "cell_type": "markdown",
      "metadata": {
        "id": "RlpUm6MadcGt"
      },
      "source": [
        "You can also look at our model as a whole: how many layers it has, how many parameters each layer has using the model.summary() command"
      ]
    },
    {
      "cell_type": "code",
      "execution_count": null,
      "metadata": {
        "colab": {
          "base_uri": "https://localhost:8080/"
        },
        "id": "-eD6-YNjL1Xb",
        "outputId": "d53ca557-b54e-4ddd-820b-c60080df2b1b"
      },
      "outputs": [
        {
          "name": "stdout",
          "output_type": "stream",
          "text": [
            "Model: \"sequential\"\n",
            "_________________________________________________________________\n",
            " Layer (type)                Output Shape              Param #   \n",
            "=================================================================\n",
            " flatten (Flatten)           (None, 784)               0         \n",
            "                                                                 \n",
            " dense (Dense)               (None, 16)                12560     \n",
            "                                                                 \n",
            " activation (Activation)     (None, 16)                0         \n",
            "                                                                 \n",
            " dense_1 (Dense)             (None, 10)                170       \n",
            "                                                                 \n",
            " activation_1 (Activation)   (None, 10)                0         \n",
            "                                                                 \n",
            "=================================================================\n",
            "Total params: 12730 (49.73 KB)\n",
            "Trainable params: 12730 (49.73 KB)\n",
            "Non-trainable params: 0 (0.00 Byte)\n",
            "_________________________________________________________________\n"
          ]
        }
      ],
      "source": [
        "model.summary()"
      ]
    },
    {
      "cell_type": "markdown",
      "metadata": {
        "id": "uQ92EA7pdG8B"
      },
      "source": [
        "## 🧐 5. Validation of model quality on test data.\n",
        "\n",
        "Loss and accuracy are derived."
      ]
    },
    {
      "cell_type": "code",
      "execution_count": null,
      "metadata": {
        "colab": {
          "base_uri": "https://localhost:8080/"
        },
        "id": "So0AMrOtL1Xd",
        "outputId": "fde3c7b8-14c7-480e-d2f7-9e129fca41de",
        "scrolled": true
      },
      "outputs": [
        {
          "name": "stdout",
          "output_type": "stream",
          "text": [
            "313/313 [==============================] - 0s 425us/step - loss: 0.2307 - accuracy: 0.9349\n"
          ]
        }
      ],
      "source": [
        "test_loss, test_accuracy = model.evaluate(X_test, y_test)\n",
        "trainable_params = int(\n",
        "    sum([keras.backend.count_params(w) for w in model.trainable_weights])\n",
        ")"
      ]
    },
    {
      "cell_type": "code",
      "execution_count": null,
      "metadata": {
        "colab": {
          "base_uri": "https://localhost:8080/"
        },
        "id": "gOBIIJPHodyi",
        "outputId": "f755b0ef-36c1-4319-d0e1-fe2a2da3d92c"
      },
      "outputs": [
        {
          "name": "stdout",
          "output_type": "stream",
          "text": [
            "🤖 Number of trainable parameters in the model 12730\n",
            "🤖 Prediction accuracy on the test sample 0.935\n",
            "🤖 Loss function value on test sample 0.231\n"
          ]
        }
      ],
      "source": [
        "print(f\"🤖 Number of trainable parameters in the model {trainable_params}\")\n",
        "print(f\"🤖 Prediction accuracy on the test sample {test_accuracy:.3f}\")\n",
        "print(f\"🤖 Loss function value on test sample {test_loss:.3f}\")"
      ]
    },
    {
      "cell_type": "code",
      "execution_count": null,
      "metadata": {
        "colab": {
          "base_uri": "https://localhost:8080/",
          "height": 917
        },
        "id": "1a1K3_GlSsaq",
        "outputId": "42844196-fe2b-406c-cbfd-7093b9ac7f99"
      },
      "outputs": [
        {
          "data": {
            "image/png": "[encoded data removed]",
            "text/plain": [
              "<Figure size 1500x1500 with 25 Axes>"
            ]
          },
          "metadata": {},
          "output_type": "display_data"
        }
      ],
      "source": [
        "show_examples(X_test, y_test, model(X_test))"
      ]
    },
    {
      "cell_type": "markdown",
      "metadata": {
        "id": "u0Mr-oSIpQ6j"
      },
      "source": [
        "## 💎 EXERCISE\n",
        "\n",
        "Try to change any parameters below so that the quality of predictions on the test sample becomes at least 97%. The one who does this with the fewest number of model parameters wins."
      ]
    },
    {
      "cell_type": "code",
      "execution_count": null,
      "metadata": {
        "colab": {
          "base_uri": "https://localhost:8080/"
        },
        "id": "E10HdJ8mpUtK",
        "outputId": "bdf70062-99f4-48a7-8e0e-cf53db09d0d4"
      },
      "outputs": [
        {
          "name": "stdout",
          "output_type": "stream",
          "text": [
            "Epoch 1/5\n",
            "469/469 [==============================] - 0s 774us/step - loss: 0.6255 - accuracy: 0.8248\n",
            "Epoch 2/5\n",
            "469/469 [==============================] - 0s 853us/step - loss: 0.2942 - accuracy: 0.9172\n",
            "Epoch 3/5\n",
            "469/469 [==============================] - 0s 854us/step - loss: 0.2510 - accuracy: 0.9285\n",
            "Epoch 4/5\n",
            "469/469 [==============================] - 0s 894us/step - loss: 0.2273 - accuracy: 0.9346\n",
            "Epoch 5/5\n",
            "469/469 [==============================] - 0s 854us/step - loss: 0.2117 - accuracy: 0.9391\n",
            "313/313 [==============================] - 0s 511us/step - loss: 0.2113 - accuracy: 0.9389\n",
            "🤖 Number of trainable parameters in model 12730\n",
            "🤖 Prediction accuracy on the test sample 0.939\n",
            "🤖 Loss function value on test sample 0.211\n"
          ]
        }
      ],
      "source": [
        "# Try changing the parameters below to your liking\n",
        "\n",
        "NUMBER_NEURONS_IN_THE_FIRST_LAYER = 16\n",
        "ACTIVATION_FUNCTION = \"relu\" # \"selu\", \"elu\", \"softmax\", \"sigmoid\", \"relu\", ...\n",
        "OPTIMIZER = \"adam\" # \"adam\", \"nadam\", \"rmsprop\", \"sgd\",...\n",
        "NUMBER_EPOCHES = 5\n",
        "BATCH_SIZE = 128\n",
        "\n",
        "model = Sequential()\n",
        "\n",
        "model.add(Flatten())\n",
        "model.add(Dense(units=NUMBER_NEURONS_IN_THE_FIRST_LAYER, activation=ACTIVATION_FUNCTION))\n",
        "model.add(Dense(units=10, activation=\"softmax\"))\n",
        "\n",
        "model.compile(loss='categorical_crossentropy',\n",
        "              optimizer=OPTIMIZER,\n",
        "              metrics=['accuracy'])\n",
        "\n",
        "model.fit(X_train, y_train, epochs=NUMBER_EPOCHES, batch_size=BATCH_SIZE)\n",
        "\n",
        "test_loss, test_accuracy = model.evaluate(X_test, y_test)\n",
        "trainable_params = int(\n",
        "    sum([keras.backend.count_params(w) for w in model.trainable_weights])\n",
        ")\n",
        "\n",
        "print(f\"🤖 Number of trainable parameters in model {trainable_params}\")\n",
        "print(f\"🤖 Prediction accuracy on the test sample {test_accuracy:.3f}\")\n",
        "print(f\"🤖 Loss function value on test sample {test_loss:.3f}\")"
      ]
    },
    {
      "cell_type": "markdown",
      "metadata": {
        "id": "6CFF3-RLhGH4"
      },
      "source": [
        "## 📈 EXTRA: Improve the model (try to add a convolution layer)\n",
        "\n",
        "Let's add explicitly the number of channels to our dataset - this is important for convolution layers.\n",
        "I.e. the transformation (60000, 28, 28, 28) -> (60000, 28, 28, 28, 1) is done. This does not change anything in the data."
      ]
    },
    {
      "cell_type": "code",
      "execution_count": null,
      "metadata": {
        "colab": {
          "base_uri": "https://localhost:8080/"
        },
        "id": "J6gkFZuMhL_f",
        "outputId": "ca0e75b1-ddd6-4934-dcef-155f6b384d53"
      },
      "outputs": [
        {
          "name": "stdout",
          "output_type": "stream",
          "text": [
            "🤖 Now the size of the first image is (28, 28, 1)\n",
            "🤖 Width 28, Length 28, Number of channels (colors) 1\n"
          ]
        }
      ],
      "source": [
        "X_train, X_test = X_train.reshape((60000, 28, 28, 1)), X_test.reshape((10000, 28, 28, 1))\n",
        "input_size = X_train[0].shape\n",
        "print(f\"🤖 Now the size of the first image is {input_size}\")\n",
        "print(f\"🤖 Width {input_size[0]}, Length {input_size[1]}, Number of channels (colors) {input_size[2]}\")"
      ]
    },
    {
      "cell_type": "markdown",
      "metadata": {
        "id": "JB8OqlSHhQYd"
      },
      "source": [
        "We use a new type of transformation in the layer - convolutional Conv2D"
      ]
    },
    {
      "cell_type": "code",
      "execution_count": null,
      "metadata": {
        "id": "JZyg7D08L1Xg"
      },
      "outputs": [],
      "source": [
        "from keras.layers import Conv2D, MaxPooling2D"
      ]
    },
    {
      "cell_type": "markdown",
      "metadata": {
        "id": "0jWP1X9Vh76x"
      },
      "source": [
        "Model Creation. Sequential here means a sequential type of model, where we add layers one after another"
      ]
    },
    {
      "cell_type": "markdown",
      "metadata": {
        "id": "XqXj7PlliB23"
      },
      "source": [
        "Here we use a convolutional layer that trains 32 3x3 filters to find\n",
        " specific geometric (customizable during training) patterns in the input image."
      ]
    },
    {
      "cell_type": "code",
      "execution_count": null,
      "metadata": {
        "id": "8v4Fbs5Shr79"
      },
      "outputs": [],
      "source": [
        "conv_model = Sequential()\n",
        "\n",
        "conv_model.add(Conv2D(32, (3, 3), activation=\"relu\"))\n",
        "conv_model.add(Conv2D(64, (3, 3), activation=\"relu\"))\n",
        "conv_model.add(Flatten())\n",
        "conv_model.add(Dense(10, activation='softmax'))"
      ]
    },
    {
      "cell_type": "markdown",
      "metadata": {
        "id": "BEfkQmx8iRUH"
      },
      "source": [
        "After describing the architecture, the model should be compiled by specifying the loss function to be minimized,\n",
        "optimizer and asking the model to output the accuracy of operation on a test pattern during the training process"
      ]
    },
    {
      "cell_type": "code",
      "execution_count": null,
      "metadata": {
        "id": "QzkuwxBuiOzS"
      },
      "outputs": [],
      "source": [
        "conv_model.compile(loss='categorical_crossentropy',\n",
        "              optimizer='adam',\n",
        "              metrics=['accuracy'])"
      ]
    },
    {
      "cell_type": "markdown",
      "metadata": {
        "id": "S4mM0LJphwui"
      },
      "source": [
        "Training with data, number of epochs and batch size"
      ]
    },
    {
      "cell_type": "code",
      "execution_count": null,
      "metadata": {
        "colab": {
          "base_uri": "https://localhost:8080/"
        },
        "id": "n3f0J-COhuc6",
        "outputId": "30707b0a-45ab-4a8a-c8c2-2e7c84741ea0"
      },
      "outputs": [
        {
          "name": "stdout",
          "output_type": "stream",
          "text": [
            "Epoch 1/5\n",
            "469/469 [==============================] - 24s 50ms/step - loss: 0.1713 - accuracy: 0.9493\n",
            "Epoch 2/5\n",
            "469/469 [==============================] - 23s 50ms/step - loss: 0.0542 - accuracy: 0.9839\n",
            "Epoch 3/5\n",
            "469/469 [==============================] - 24s 51ms/step - loss: 0.0371 - accuracy: 0.9883\n",
            "Epoch 4/5\n",
            "469/469 [==============================] - 23s 50ms/step - loss: 0.0259 - accuracy: 0.9920\n",
            "Epoch 5/5\n",
            "469/469 [==============================] - 24s 50ms/step - loss: 0.0169 - accuracy: 0.9946\n"
          ]
        },
        {
          "data": {
            "text/plain": [
              "<keras.src.callbacks.History at 0x2eae0c9a0>"
            ]
          },
          "execution_count": 29,
          "metadata": {},
          "output_type": "execute_result"
        }
      ],
      "source": [
        "conv_model.fit(X_train, y_train, epochs=5, batch_size=128)"
      ]
    },
    {
      "cell_type": "code",
      "execution_count": null,
      "metadata": {
        "colab": {
          "base_uri": "https://localhost:8080/"
        },
        "id": "Bhfoz8W2L1Xi",
        "outputId": "af834897-476c-4a7d-8fba-cdfc27a4dcb4"
      },
      "outputs": [
        {
          "name": "stdout",
          "output_type": "stream",
          "text": [
            "Model: \"sequential_5\"\n",
            "_________________________________________________________________\n",
            " Layer (type)                Output Shape              Param #   \n",
            "=================================================================\n",
            " conv2d (Conv2D)             (None, 26, 26, 32)        320       \n",
            "                                                                 \n",
            " conv2d_1 (Conv2D)           (None, 24, 24, 64)        18496     \n",
            "                                                                 \n",
            " flatten_5 (Flatten)         (None, 36864)             0         \n",
            "                                                                 \n",
            " dense_6 (Dense)             (None, 10)                368650    \n",
            "                                                                 \n",
            "=================================================================\n",
            "Total params: 387466 (1.48 MB)\n",
            "Trainable params: 387466 (1.48 MB)\n",
            "Non-trainable params: 0 (0.00 Byte)\n",
            "_________________________________________________________________\n"
          ]
        }
      ],
      "source": [
        "conv_model.summary()"
      ]
    },
    {
      "cell_type": "markdown",
      "metadata": {
        "id": "NzMjjDbzil3b"
      },
      "source": [
        "Let's check the quality of the model on the test data. The loss and accuracy are derived."
      ]
    },
    {
      "cell_type": "code",
      "execution_count": null,
      "metadata": {
        "colab": {
          "base_uri": "https://localhost:8080/"
        },
        "id": "M5AnjO2JL1Xj",
        "outputId": "d1058d77-1c67-4e4b-9fc3-30d6b8df76bb"
      },
      "outputs": [
        {
          "name": "stdout",
          "output_type": "stream",
          "text": [
            "313/313 [==============================] - 2s 5ms/step - loss: 0.0458 - accuracy: 0.9870\n"
          ]
        }
      ],
      "source": [
        "test_loss, test_accuracy = conv_model.evaluate(X_test, y_test)\n",
        "trainable_params = int(\n",
        "    sum([keras.backend.count_params(w) for w in conv_model.trainable_weights])\n",
        ")"
      ]
    },
    {
      "cell_type": "code",
      "execution_count": null,
      "metadata": {
        "colab": {
          "base_uri": "https://localhost:8080/"
        },
        "id": "Yw1WoqT7tXrJ",
        "outputId": "0f9fae4b-383c-4e99-dd0e-00301990f1c7"
      },
      "outputs": [
        {
          "ename": "NameError",
          "evalue": "name 'trainable_params' is not defined",
          "output_type": "error",
          "traceback": [
            "\u001b[0;31m---------------------------------------------------------------------------\u001b[0m",
            "\u001b[0;31mNameError\u001b[0m                                 Traceback (most recent call last)",
            "\u001b[1;32m/Users/bratishka/Yandex.Disk.localized/Base/Git/optim/assets/Notebooks/Simple_annotated_MNIST_exercise_en.ipynb Cell 46\u001b[0m line \u001b[0;36m1\n\u001b[0;32m----> <a href='vscode-notebook-cell:/Users/bratishka/Yandex.Disk.localized/Base/Git/optim/assets/Notebooks/Simple_annotated_MNIST_exercise_en.ipynb#X63sZmlsZQ%3D%3D?line=0'>1</a>\u001b[0m \u001b[39mprint\u001b[39m(\u001b[39mf\u001b[39m\u001b[39m\"\u001b[39m\u001b[39m🤖 Number of trainable parameters in the model \u001b[39m\u001b[39m{\u001b[39;00mtrainable_params\u001b[39m}\u001b[39;00m\u001b[39m\"\u001b[39m)\n\u001b[1;32m      <a href='vscode-notebook-cell:/Users/bratishka/Yandex.Disk.localized/Base/Git/optim/assets/Notebooks/Simple_annotated_MNIST_exercise_en.ipynb#X63sZmlsZQ%3D%3D?line=1'>2</a>\u001b[0m \u001b[39mprint\u001b[39m(\u001b[39mf\u001b[39m\u001b[39m\"\u001b[39m\u001b[39m🤖 Prediction accuracy on the test sample \u001b[39m\u001b[39m{\u001b[39;00mtest_accuracy\u001b[39m:\u001b[39;00m\u001b[39m.3f\u001b[39m\u001b[39m}\u001b[39;00m\u001b[39m\"\u001b[39m)\n\u001b[1;32m      <a href='vscode-notebook-cell:/Users/bratishka/Yandex.Disk.localized/Base/Git/optim/assets/Notebooks/Simple_annotated_MNIST_exercise_en.ipynb#X63sZmlsZQ%3D%3D?line=2'>3</a>\u001b[0m \u001b[39mprint\u001b[39m(\u001b[39mf\u001b[39m\u001b[39m\"\u001b[39m\u001b[39m🤖 Loss function value on test sample \u001b[39m\u001b[39m{\u001b[39;00mtest_loss\u001b[39m:\u001b[39;00m\u001b[39m.3f\u001b[39m\u001b[39m}\u001b[39;00m\u001b[39m\"\u001b[39m)\n",
            "\u001b[0;31mNameError\u001b[0m: name 'trainable_params' is not defined"
          ]
        }
      ],
      "source": [
        "print(f\"🤖 Number of trainable parameters in the model {trainable_params}\")\n",
        "print(f\"🤖 Prediction accuracy on the test sample {test_accuracy:.3f}\")\n",
        "print(f\"🤖 Loss function value on test sample {test_loss:.3f}\")"
      ]
    },
    {
      "cell_type": "markdown",
      "metadata": {
        "id": "Adw7q_lPL1Xl"
      },
      "source": [
        "## 🤕 EXTRA: Collapsed layers, dropout\n",
        "\n",
        "Several filters of small sizes are generated and trained to recognize some characteristic combinations of pixels (patterns). The image below is 5x5 pixels, the filter has dimensions 3x3. At the output of such an operation we have a picture of the same size, in each of the pixels of which is written the result of convolution (number) of this filter with the picture when the center of the filter in this pixel. For this purpose, the original picture must be complemented at the edges. Usually it is done either by zeros or by duplicating the nearest pixels (padding).\n",
        "\n",
        "![](https://raw.githubusercontent.com/MerkulovDaniil/TensorFlow_and_Keras_crash_course/master/rus/2_Deep%20Learning%20and%20Keras/convol.gif)\n",
        "\n",
        "The deeper the convolution layer is, the more complex patterns it is able to recognize:\n",
        "\n",
        "![](https://raw.githubusercontent.com/MerkulovDaniil/TensorFlow_and_Keras_crash_course/master/rus/2_Deep%20Learning%20and%20Keras/features.png)\n",
        "\n",
        "Dropout - a technique to save neural networks from overtraining, whereby some neurons are accidentally \"switched off\" from patterns during training.\n",
        "\n",
        "Alternatively, instead of training one large network, several smaller sub-networks are trained simultaneously, and the results are then averaged (in a sense, smoothed).\n",
        "\n",
        "![](https://github.com/MerkulovDaniil/TensorFlow_and_Keras_crash_course/blob/master/rus/2_Deep%20Learning%20and%20Keras/dropout.gif?raw=true)\n",
        "\n",
        "Let's try to see how to write a network consisting of several convolutional layers on `keras`."
      ]
    },
    {
      "cell_type": "code",
      "execution_count": null,
      "metadata": {
        "id": "QmYolMLDL1Xm"
      },
      "outputs": [],
      "source": [
        "from keras.layers import Conv2D, MaxPooling2D, Dropout\n",
        "# Try changing the parameters below to your liking\n",
        "\n",
        "NUMBER_OF_FILTERS_IN_FIRST_LAYER = 32\n",
        "NUMBER_OF_FILTERS_IN_THE_SECOND_LAYER = 64\n",
        "DROPOUT_PROBABILITY_OF_DROPOUT = 0.1\n",
        "ACTIVATION_FUNCTION = \"relu\" # \"selu\", \"elu\", \"softmax\", \"sigmoid\", \"relu\", ...\n",
        "OPTIMIZER = \"adam\" # \"adam\", \"nadam\", \"rmsprop\", \"sgd\",...\n",
        "NUMBER_EPOCHES = 5\n",
        "BATCH_SIZE = 128\n",
        "\n",
        "model = Sequential()\n",
        "\n",
        "model.add(Conv2D(NUMBER_OF_FILTERS_IN_FIRST_LAYER, (3, 3),\n",
        "                 activation=ACTIVATION_FUNCTION))\n",
        "model.add(MaxPooling2D(pool_size=(2, 2)))\n",
        "model.add(Dropout(DROPOUT_PROBABILITY_OF_DROPOUT))\n",
        "model.add(Conv2D(NUMBER_OF_FILTERS_IN_THE_SECOND_LAYER, (3, 3),\n",
        "                 activation=ACTIVATION_FUNCTION))\n",
        "model.add(MaxPooling2D(pool_size=(2, 2)))\n",
        "model.add(Dropout(DROPOUT_PROBABILITY_OF_DROPOUT))\n",
        "model.add(Flatten())\n",
        "model.add(Dense(units=10, activation=\"softmax\"))\n",
        "\n",
        "model.compile(loss='categorical_crossentropy',\n",
        "              optimizer=OPTIMIZER,\n",
        "              metrics=['accuracy'])\n",
        "\n",
        "history = model.fit(X_train, y_train, epochs=NUMBER_EPOCHES, batch_size=BATCH_SIZE)\n",
        "\n",
        "test_loss, test_accuracy = model.evaluate(X_test, y_test)\n",
        "trainable_params = int(\n",
        "    sum([keras.backend.count_params(w) for w in model.trainable_weights])\n",
        ")\n",
        "\n",
        "print(f\"🤖 Number of trainable parameters in model {trainable_params}\")\n",
        "print(f\"🤖 Prediction accuracy on the test sample {test_accuracy:.3f}\")\n",
        "print(f\"🤖 Loss function value on test sample {test_loss:.3f}\")"
      ]
    },
    {
      "cell_type": "code",
      "execution_count": null,
      "metadata": {
        "colab": {
          "base_uri": "https://localhost:8080/",
          "height": 470
        },
        "id": "RW1V8_Qtdnf-",
        "outputId": "f7464748-6539-449f-df9d-2c02a954e249"
      },
      "outputs": [
        {
          "data": {
            "image/png": "[encoded data removed]",
            "text/plain": [
              "<Figure size 640x480 with 1 Axes>"
            ]
          },
          "metadata": {},
          "output_type": "display_data"
        }
      ],
      "source": [
        "plt.plot(list(range(1, ЧИСЛО_ЭПОХ+1)), history.history['accuracy'])\n",
        "plt.xlabel(\"Эпохи\")\n",
        "plt.ylabel(\"Точность на обучающей выборке\")\n",
        "plt.grid(linestyle=\"--\")\n",
        "plt.show()"
      ]
    },
    {
      "cell_type": "markdown",
      "metadata": {
        "id": "lYEE-A2TL1X5"
      },
      "source": [
        "## 📚 Ссылки\n",
        "\n",
        "* [Ещё практикумы по нейронным сетям](https://colab.research.google.com/github/MerkulovDaniil/sber219/blob/main/notebooks/10_1.ipynb)\n",
        "* [TensorFlow sandbox](https://playground.tensorflow.org)\n",
        "* [Запуск TensorFlow на GPU](http://learningtensorflow.com/lesson10/)\n",
        "* [Визуализация модели](https://www.codesofinterest.com/2017/05/visualizing-keras-models-updated.html)\n",
        "* [Официальная документация](https://keras.io/) - библиотека отлично документирована\n",
        "* [Keras в конкретных примерах](https://github.com/tmheo/keras_exercise) - 25 отличных jupyter notebooks\n",
        "* [Упражнения и примеры в Keras и TensorFlow](https://github.com/leriomaggio/deep-learning-keras-tensorflow)"
      ]
    },
    {
      "cell_type": "code",
      "execution_count": null,
      "metadata": {
        "id": "0zj9_SPpzGuI"
      },
      "outputs": [],
      "source": []
    }
  ],
  "metadata": {
    "accelerator": "GPU",
    "colab": {
      "provenance": [],
      "toc_visible": true
    },
    "kernelspec": {
      "display_name": "Python 3",
      "name": "python3"
    },
    "language_info": {
      "codemirror_mode": {
        "name": "ipython",
        "version": 3
      },
      "file_extension": ".py",
      "mimetype": "text/x-python",
      "name": "python",
      "nbconvert_exporter": "python",
      "pygments_lexer": "ipython3",
      "version": "3.9.17"
    }
  },
  "nbformat": 4,
  "nbformat_minor": 0
}