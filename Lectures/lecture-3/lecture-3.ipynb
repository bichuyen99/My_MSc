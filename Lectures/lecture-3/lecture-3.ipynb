{
 "cells": [
  {
   "cell_type": "markdown",
   "metadata": {
    "slideshow": {
     "slide_type": "slide"
    }
   },
   "source": [
    "# Lecture 3:  Training neural networks (better)"
   ]
  },
  {
   "cell_type": "markdown",
   "metadata": {
    "slideshow": {
     "slide_type": "slide"
    }
   },
   "source": [
    "## Previous lecture: Basic concepts\n",
    "- Motivation of using convolutions (and connection to classical image processing)\n",
    "- Basic building blocks of a CNN \n",
    "- Overview of the main architectures (LeNet, AlexNet, VGG, ResNet, Inception, EfficientNet, MobileNet)\n"
   ]
  },
  {
   "cell_type": "markdown",
   "metadata": {
    "slideshow": {
     "slide_type": "slide"
    }
   },
   "source": [
    "## Todays lecture\n",
    "\n",
    "- SGD optimization methods (SGD with momentum, Adam, ...)\n",
    "- Problems with training deep models: vanishing gradients, catastrophic forgetting\n",
    "- Effect of initializations\n",
    "- Normalizations \n",
    "- Early stopping \n",
    "- Interesting properties of loss surfaces of DNN models\n"
   ]
  },
  {
   "cell_type": "markdown",
   "metadata": {
    "slideshow": {
     "slide_type": "slide"
    }
   },
   "source": [
    "## SGD\n",
    "\n",
    "As discussed, the basic method for optimization for deep neural networks is stochastic gradient descent **SGD**.\n",
    "\n",
    "$$g(\\theta) = \\frac{1}{B} \\sum_{k=1}^B l(y_{i_k}, \\hat{y}_{i_k})$$\n",
    "\n",
    "$$\\theta_{k+1} = \\theta_k - \\alpha_k \\nabla_{\\theta} g(\\theta_k),$$\n",
    "\n",
    "The **gradient descent** is not optimal even if the function $f$ is convex.\n",
    "\n",
    "Typical DNN optimization is non-convex!\n",
    "\n",
    "\n",
    "Many challenges!"
   ]
  },
  {
   "cell_type": "markdown",
   "metadata": {
    "slideshow": {
     "slide_type": "slide"
    }
   },
   "source": [
    "## Main challenges in optimization\n",
    "\n",
    "- Design better optimization methods in terms of convergence\n",
    "- Design better optimization methods in terms of generalization\n",
    "- Understand why those methods work and which scenarios\n",
    "- Can be architecture-dependent and dataset-dependent."
   ]
  },
  {
   "cell_type": "markdown",
   "metadata": {
    "slideshow": {
     "slide_type": "slide"
    }
   },
   "source": [
    "## SGD with momentum\n",
    "\n",
    "One approach of speeding up the computations is the idea of momentum.\n",
    "\n",
    "<img src=\"SGD-1.jpeg\" width=\"80%\">\n"
   ]
  },
  {
   "cell_type": "markdown",
   "metadata": {
    "slideshow": {
     "slide_type": "slide"
    }
   },
   "source": [
    "## There are many ways ...\n",
    "\n",
    "There are many way and forms of momentum. Pytorch implementation is different from other frameworks and Nesterov momentum.\n",
    "\n",
    "$$v_{k+1} = \\mu v_k + g_{k+1}, \\quad p_{k+1} = p_k - \\alpha \\cdot v_{k+1}.$$\n",
    "\n",
    "Sutskever paper in 2013 proposed\n",
    "\n",
    "$$v_{k+1} = \\mu v_k + \\alpha \\cdot g_{k+1}, \\quad p_{k+1} = p_k - v_{k+1}.$$\n",
    "\n",
    "The initial idea of momentum has been proposed by Y. Nesterov in 1983 for convex tasks.\n",
    "\n",
    "\n",
    "$$\\phi_{k+1} = \\theta_k - \\alpha_k \\nabla_{\\theta} g(\\theta), \\quad \\theta_{k+1} = \\theta_k - \\mu_k (\\phi_{k+1} - \\phi_k).$$\n",
    "\n",
    "NAG has been shown to be **optimal** for convex functions."
   ]
  },
  {
   "cell_type": "markdown",
   "metadata": {
    "slideshow": {
     "slide_type": "slide"
    }
   },
   "source": [
    "## Adaptive gradient\n",
    "\n",
    "Duchi et. al 2011 introduced Adagrad.\n",
    "\n",
    "The overall formula is typically written as\n",
    "\n",
    "$$\\theta_{k+1} = \\theta_k - \\alpha \\mathrm{diag}(\\varepsilon I + G_k)^{-1/2} g_k,$$\n",
    "\n",
    "$$G_k = \\sum_{s=1}^k g_s g^{\\top}_s.$$\n",
    "\n",
    "\n",
    "Basically, we estimate very roughly the correlation between gradients and try to **decorrelate it**\n",
    "\n",
    "One can replace averaging with exponential weighted average (AdaDelta).\n",
    "\n",
    "\n",
    "\n"
   ]
  },
  {
   "cell_type": "markdown",
   "metadata": {
    "slideshow": {
     "slide_type": "slide"
    }
   },
   "source": [
    "## Adam\n",
    "\n",
    "Adam is superpopular optimization method and a method of choice for training many DNN.\n",
    "\n",
    "$m_{k+1} = \\beta_1 m_k + (1-\\beta_1) g_k$\n",
    "\n",
    "$v_{k+1} = \\beta_2 v_k + (1-\\beta_2) g_k^2$\n",
    "\n",
    "$\\hat{m}_{k+1} = \\frac{m_{k+1}}{1-\\beta_1^{k+1}}$\n",
    "\n",
    "$\\hat{v}_{k+1} = \\frac{v_{k+1}}{1-\\beta_2^{k+1}}$\n",
    "\n",
    "$\\theta_{k+1} = \\theta_k - \\frac{\\eta}{\\sqrt{\\hat{v}_{k+1}}+\\epsilon} \\hat{m}_{k+1}$\n",
    "\n",
    "where $m_k$ and $v_k$ are the first and second moment estimates of the gradients up to iteration $k$, $\\beta_1$ and $\\beta_2$ are the exponential decay rates for the moment estimates, $\\hat{m}_{k+1}$ and $\\hat{v}_{k+1}$ are bias-corrected moment estimates, and $\\epsilon$ is a small constant to prevent division by zero. The Adam optimizer combines the benefits of momentum and adaptive learning rates to achieve faster convergence and better generalization.\n",
    "\n",
    "\n",
    "**Fun facts**:\n",
    "There exist examples where vanilla Adam does not converge.\n",
    "There are some (not very popular) alternatives."
   ]
  },
  {
   "cell_type": "markdown",
   "metadata": {
    "slideshow": {
     "slide_type": "slide"
    }
   },
   "source": [
    "## Recent: LION optimizer\n",
    "\n",
    "[Symbolic Discovery of Optimization Algorithms](https://arxiv.org/abs/2302.06675)\n",
    "\n",
    "A very smart search through all possible algorithms using genetic algorithms (here interp is just convex combination with parameter). Note, that only the sign of the update is used. \n",
    "\n",
    "<img src=\"lion.png\" width=\"40%\">\n"
   ]
  },
  {
   "cell_type": "markdown",
   "metadata": {
    "slideshow": {
     "slide_type": "slide"
    }
   },
   "source": [
    "## Comparison of optimization methods with advantages and disadvantages\n",
    "\n",
    "- All of the standard methods are compatible if properly tuned.\n",
    "- In practice, people use **learning rate scheduling** of different types\n",
    "- SGD is much more sensitive to it, can generalize better\n",
    "- SGD has less memory (2 vectors stored vs 3 for Adam), but it can be remedied.\n",
    "\n",
    "No systematic analysis for non-convex case, almost systematic in the convex case.\n",
    "\n",
    "Very interesting models for the noise and the effect of clipping (present in Adam, see work by Gasnikov et. al.).\n",
    "\n",
    "Potentially, this could be an explanation why Adam-type method works."
   ]
  },
  {
   "cell_type": "markdown",
   "metadata": {
    "slideshow": {
     "slide_type": "slide"
    }
   },
   "source": [
    "## Explanation of the problems with training deep models\n",
    "\n",
    "Vanishing Gradients and Catastrophic Forgetting\n"
   ]
  },
  {
   "cell_type": "markdown",
   "metadata": {
    "slideshow": {
     "slide_type": "slide"
    }
   },
   "source": [
    "## Vanishing gradients: when gradients become very small and slow down learning\n",
    "\n",
    "- Vanishing gradients is a phenomenon that occurs in deep neural networks during training.\n",
    "- It happens when the gradients of the loss function with respect to the weights and biases of the lower layers become very small.\n",
    "- This can happen because the gradients are multiplied by the weights of each layer during backpropagation, and if these weights are small, the gradients can become exponentially smaller as they propagate through the network.\n",
    "- The lower layers of the network may not receive enough information to update their parameters effectively, which can lead to slow or ineffective training.\n",
    "- Vanishing gradients can be mitigated by using activation functions that have non-zero derivatives, initializing the weights carefully, or using techniques such as batch normalization or residual connections."
   ]
  },
  {
   "cell_type": "markdown",
   "metadata": {
    "slideshow": {
     "slide_type": "slide"
    }
   },
   "source": [
    "## Importance of normalization in deep neural networks\n",
    "\n",
    "\n",
    "\n",
    "One of the important techniques to tackle the problem of vanishing gradients are normalization layers.\n",
    "\n",
    "The first layer has been **Batch Normalization**"
   ]
  },
  {
   "cell_type": "markdown",
   "metadata": {
    "slideshow": {
     "slide_type": "slide"
    }
   },
   "source": [
    "## Batch Normalization\n",
    "\n",
    "Let $x$ be minibatch,\n",
    "\n",
    "$$\\mathrm{BN}(\\mathbf{x}) = \\boldsymbol{\\gamma} \\odot \\frac{\\mathbf{x} - \\hat{\\boldsymbol{\\mu}}_\\mathcal{B}}{\\hat{\\boldsymbol{\\sigma}}_\\mathcal{B}} + \\boldsymbol{\\beta}.$$\n",
    "\n",
    "Here $\\hat{\\boldsymbol{\\mu}}$ are sample mean and $\\hat{\\boldsymbol{\\sigma}}$, respectively for the minibatch.\n"
   ]
  },
  {
   "cell_type": "markdown",
   "metadata": {
    "slideshow": {
     "slide_type": "slide"
    }
   },
   "source": [
    "## Batch Normalization: details\n",
    "\n",
    "For FC layers, apply the scheme described above;\n",
    "\n",
    "For convolutional layers, store one mean and one variance for a **channel** (for pure convolutional networks it is useful because we can use for different size).\n",
    "\n",
    "On the inference and train, the models are evaluated in a different way. \n",
    "\n",
    "We compute the sample mean and variance over entire dataset and fix them, i.e. BN is now just a simple linear transformation.\n"
   ]
  },
  {
   "cell_type": "markdown",
   "metadata": {
    "slideshow": {
     "slide_type": "slide"
    }
   },
   "source": [
    "## Layer Normalization\n",
    "\n",
    "For convolutional layers, BN is defined even of batch size = 1.\n",
    "\n",
    "This lead to the development of layer normalization, which is defined as\n",
    "\n",
    "$$\\mathbf{x} \\rightarrow \\mathrm{LN}(\\mathbf{x}) =  \\frac{\\mathbf{x} - \\hat{\\mu}}{\\hat\\sigma},$$\n",
    "\n",
    "$$\\hat{\\mu} \\stackrel{\\mathrm{def}}{=} \\frac{1}{n} \\sum_{i=1}^n x_i \\text{ and }\n",
    "\\hat{\\sigma}^2 \\stackrel{\\mathrm{def}}{=} \\frac{1}{n} \\sum_{i=1}^n (x_i - \\hat{\\mu})^2 + \\epsilon.$$\n",
    "\n",
    "We just make the mean value and variance accross activations (not batch) equal to $0$ and $1$, respectively."
   ]
  },
  {
   "cell_type": "markdown",
   "metadata": {
    "slideshow": {
     "slide_type": "slide"
    }
   },
   "source": [
    "## Instance Normalization\n",
    "\n",
    "Proposed by D. Ulyanov et. al:\n",
    "\n",
    "This prevents instance-specific mean and covariance shift simplifying the learning process. Intuitively, the normalization process allows to remove instance-specific contrast information from the content image in a task like image stylization, which simplifies generation.\n",
    "\n",
    "\n",
    "\n",
    "$$y_{tijk} =  \\frac{x_{tijk} - \\mu_{ti}}{\\sqrt{\\sigma_{ti}^2 + \\epsilon}}, \\quad \\mu_{ti} = \\frac{1}{HW}\\sum_{l=1}^W \\sum_{m=1}^H x_{tilm}, \\quad  \\sigma_{ti}^2 = \\frac{1}{HW}\\sum_{l=1}^W \\sum_{m=1}^H (x_{tilm} - \\mu_{ti})^2.$$\n",
    "\n",
    "<img src=\"instance.png\" width=\"40%\">\n"
   ]
  },
  {
   "cell_type": "markdown",
   "metadata": {
    "slideshow": {
     "slide_type": "slide"
    }
   },
   "source": [
    "## Catastrophic forgetting: when a model forgets previously learned information when learning new information\n",
    "\n",
    "\n",
    "- Catastrophic forgetting is a phenomenon that occurs in machine learning models, particularly in neural networks, where the model forgets previously learned information when it is trained on new data. T\n",
    "- This happens because the model updates its weights and biases based on the new data, which can cause it to overwrite the previously learned information. "
   ]
  },
  {
   "cell_type": "markdown",
   "metadata": {
    "slideshow": {
     "slide_type": "slide"
    }
   },
   "source": [
    "## (Practical) solutions\n",
    "\n",
    "In practice, people can do the following:\n",
    "- Train on the new data and sometimes mix the old data in (for example, mixing the gradients with some weights)\n",
    "- Another solution is just to add regularization to the distance between new and old weights.\n",
    "- Could be actually important in such tasks as distillation."
   ]
  },
  {
   "cell_type": "markdown",
   "metadata": {
    "slideshow": {
     "slide_type": "slide"
    }
   },
   "source": [
    "## Techniques to mitigate these problems, such as skip connections and continual learning\n"
   ]
  },
  {
   "cell_type": "markdown",
   "metadata": {
    "slideshow": {
     "slide_type": "slide"
    }
   },
   "source": [
    "## Importance of initialization in deep neural networks\n",
    "\n",
    "In optimization, we need to initialize the parameters at the start.\n",
    "\n",
    "If we initialize badly, we may have vanishing gradients in the beginning. \n",
    "\n",
    "Typically, weights have been initialized to uniform or Gaussians.\n",
    "\n",
    "Glorot and Bengio proposed to scale the initial distributions to get better results (2016)\n"
   ]
  },
  {
   "cell_type": "markdown",
   "metadata": {
    "slideshow": {
     "slide_type": "slide"
    }
   },
   "source": [
    "## Idea of initialization\n",
    "\n",
    "Suppose we have a linear network\n",
    "\n",
    "$$y = W_L \\ldots W_1 x.$$\n",
    "\n",
    "Then, we would like to have the mean and variance after one multiplication. \n",
    "\n",
    "We can initialize bias to $0$ and $W_i$ to be $N(0, \\sigma_i)$, $\\sigma_i \\sim \\frac{1}{n_i}$, where $n_i$ is the width of the $i$-th layer.\n",
    "\n",
    "This method works well for activation functions which have linear region around $0$, i.e. tanh activations.\n",
    "\n",
    "For ReLU you have to use different method."
   ]
  },
  {
   "cell_type": "markdown",
   "metadata": {
    "slideshow": {
     "slide_type": "slide"
    }
   },
   "source": [
    "## He initialization\n",
    "\n",
    "He initialization involves setting the initial weights to random values drawn from a normal distribution with mean 0 and variance $\\frac{2}{n_{in}}$, where $n_{in}$ is the number of input connections to the layer. The formula for He initialization can be written as:\n",
    "\n",
    "$$W \\sim \\mathcal{N}(0, \\frac{2}{n_{in}})$$\n",
    "\n",
    "<img src=\"he.png\" width=\"40%\">\n"
   ]
  },
  {
   "cell_type": "markdown",
   "metadata": {
    "slideshow": {
     "slide_type": "slide"
    }
   },
   "source": [
    "##  Early Stopping\n",
    "\n",
    "Deep learning may overfit too much.\n",
    "\n",
    "Thus, besides train and test it is important to dedicate some samples to the **validation set** and monitor the convergence on it, and stop if it is starting to grow.\n",
    "\n",
    "<img src=\"early.png\" width=\"40%\">\n"
   ]
  },
  {
   "cell_type": "markdown",
   "metadata": {
    "slideshow": {
     "slide_type": "slide"
    }
   },
   "source": [
    "## Loss Surfaces\n",
    "\n",
    "Do we understand why the methods work and how they converge?\n",
    "\n",
    "**Short answer**: No.\n",
    "\n",
    "We can visualize the minima:\n",
    "\n",
    "- [Understanding Generalization through Visualizations](https://arxiv.org/pdf/1906.03291.pdf)\n",
    "\n",
    "<img src=\"minefield-1.png\" width=\"60%\">\n",
    "\n"
   ]
  },
  {
   "cell_type": "markdown",
   "metadata": {
    "slideshow": {
     "slide_type": "slide"
    }
   },
   "source": [
    "## Common hypothesis\n",
    "\n",
    "SGD finds **wider minima** (easy to believe under certain assumptions), which generalize better (not clear).\n",
    "\n",
    "You can formulate many interesting experiments to do that will be counter-intuitive.\n",
    "\n",
    "Some more advanced facts: the **distribution of noise** in SGD is different for CNN and transformer models."
   ]
  },
  {
   "cell_type": "markdown",
   "metadata": {
    "slideshow": {
     "slide_type": "slide"
    }
   },
   "source": [
    "## Double descent phenomena\n",
    "\n",
    "A systematically observed phenomena for training larger models.\n",
    "The convergence has three stages: classical, interpolation, and then **modern regime**.\n",
    "\n",
    "M. Belkin has analyzed this for kernel-type methods. \n",
    "\n",
    "<img src=\"modeldd.svg\" width=\"60%\">\n"
   ]
  },
  {
   "cell_type": "markdown",
   "metadata": {
    "slideshow": {
     "slide_type": "slide"
    }
   },
   "source": [
    "## Take home message\n",
    "\n",
    "- SGD optimization methods (SGD with momentum, Adam, ...)\n",
    "- Problems with training deep models: vanishing gradients, catastrophic forgetting\n",
    "- Effect of initializations\n",
    "- Normalizations \n",
    "- Early stopping \n",
    "- Interesting properties of loss surfaces of DNN models\n",
    "\n"
   ]
  },
  {
   "cell_type": "markdown",
   "metadata": {
    "slideshow": {
     "slide_type": "slide"
    }
   },
   "source": [
    "## Next lecture: СV tasks\n",
    "- object detection\n",
    "- semantic segmentation \n",
    "- transfer learning"
   ]
  }
 ],
 "metadata": {
  "anaconda-cloud": {},
  "celltoolbar": "Слайд-шоу",
  "kernelspec": {
   "display_name": "Python 3 (ipykernel)",
   "language": "python",
   "name": "python3"
  },
  "language_info": {
   "codemirror_mode": {
    "name": "ipython",
    "version": 3
   },
   "file_extension": ".py",
   "mimetype": "text/x-python",
   "name": "python",
   "nbconvert_exporter": "python",
   "pygments_lexer": "ipython3",
   "version": "3.11.0"
  },
  "nav_menu": {},
  "rise": {
   "scroll": true,
   "theme": "sky",
   "transition": "zoom"
  },
  "toc": {
   "navigate_menu": true,
   "number_sections": false,
   "sideBar": true,
   "threshold": 6,
   "toc_cell": false,
   "toc_section_display": "block",
   "toc_window_display": false
  }
 },
 "nbformat": 4,
 "nbformat_minor": 1
}
