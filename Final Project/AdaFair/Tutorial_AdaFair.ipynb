{
  "nbformat": 4,
  "nbformat_minor": 0,
  "metadata": {
    "colab": {
      "provenance": []
    },
    "kernelspec": {
      "name": "python3",
      "display_name": "Python 3"
    },
    "language_info": {
      "name": "python"
    }
  },
  "cells": [
    {
      "cell_type": "code",
      "source": [
        "import pandas as pd\n",
        "from sklearn.datasets import make_moons\n",
        "from sklearn.metrics import classification_report\n",
        "from AdaFair import AdaFair\n",
        "from sklearn.tree import DecisionTreeClassifier\n",
        "from sklearn.metrics import balanced_accuracy_score, f1_score\n",
        "from sklearn.model_selection import train_test_split"
      ],
      "metadata": {
        "id": "PWuFMGkQowPr"
      },
      "execution_count": 5,
      "outputs": []
    },
    {
      "cell_type": "markdown",
      "source": [
        "# Toy example"
      ],
      "metadata": {
        "id": "dS86IqPuyYQx"
      }
    },
    {
      "cell_type": "code",
      "source": [
        "X, y = make_moons(n_samples=1000, noise=0.3, random_state=0)\n",
        "X_train, X_test, y_train, y_test = train_test_split(X, y, test_size=0.33, random_state=0)"
      ],
      "metadata": {
        "id": "eXyRJID1pdFn"
      },
      "execution_count": 6,
      "outputs": []
    },
    {
      "cell_type": "code",
      "source": [
        "# Select parameters\n",
        "base_clf = DecisionTreeClassifier(max_depth=2)\n",
        "n_ests = 100\n",
        "Adafair = AdaFair(base_clf = base_clf, n_ests = n_ests)\n",
        "Adafair.fit(X_train, y_train)\n",
        "\n",
        "predicitons = Adafair.predict(X_test)\n",
        "\n",
        "print('balanced_accuracy_score: ', balanced_accuracy_score(y_test, predicitons), 'f1_score: ', f1_score(y_test, predicitons))\n",
        "print()\n",
        "print(classification_report(y_test, predicitons))"
      ],
      "metadata": {
        "colab": {
          "base_uri": "https://localhost:8080/"
        },
        "id": "yrT5SywJpij6",
        "outputId": "3b20c952-0a22-49e4-db49-8bd8e2141a22"
      },
      "execution_count": 7,
      "outputs": [
        {
          "output_type": "stream",
          "name": "stdout",
          "text": [
            "balanced_accuracy_score:  0.6225340729583777 f1_score:  0.411214953271028\n",
            "\n",
            "              precision    recall  f1-score   support\n",
            "\n",
            "           0       0.57      0.98      0.72       163\n",
            "           1       0.94      0.26      0.41       167\n",
            "\n",
            "    accuracy                           0.62       330\n",
            "   macro avg       0.75      0.62      0.56       330\n",
            "weighted avg       0.75      0.62      0.56       330\n",
            "\n"
          ]
        }
      ]
    },
    {
      "cell_type": "markdown",
      "source": [
        "# Our Dataset with Imbalanced classes"
      ],
      "metadata": {
        "id": "pJheAoE5ysYR"
      }
    },
    {
      "cell_type": "code",
      "source": [
        "import os, sys\n",
        "\n",
        "path = sys.path[0].replace('AdaFair', 'data')\n",
        "data_name = path + '\\\\' +  os.listdir(path)[0]"
      ],
      "metadata": {
        "id": "9bqJklLrygEx"
      },
      "execution_count": 17,
      "outputs": []
    },
    {
      "cell_type": "code",
      "source": [
        "df = pd.read_csv(data_name)\n",
        "y = df['Class-label']\n",
        "X = df.drop('Class-label', axis=1)\n",
        "X = pd.get_dummies(X)\n",
        "\n",
        "\n",
        "X_train, X_test, y_train, y_test = train_test_split(X, y, test_size=0.33, random_state=0)"
      ],
      "metadata": {
        "id": "8WkurVUfyzWT"
      },
      "execution_count": 20,
      "outputs": []
    },
    {
      "cell_type": "code",
      "source": [
        "for depth in [3, 5, 7, 20]:\n",
        "\n",
        "    base_clf = DecisionTreeClassifier(max_depth=depth)\n",
        "    n_ests = 100\n",
        "    Adafair = AdaFair(base_clf = base_clf, n_ests = n_ests)\n",
        "    Adafair.fit(X_train, y_train)\n",
        "\n",
        "    predicitons = Adafair.predict(X_test)\n",
        "    \n",
        "    print(\"Base estimator's depth: \", depth)\n",
        "    print('balanced_accuracy_score: ', balanced_accuracy_score(y_test, predicitons), 'f1_score: ', f1_score(y_test, predicitons))\n",
        "    print()\n",
        "    print(classification_report(y_test, predicitons))\n",
        "    print()"
      ],
      "metadata": {
        "colab": {
          "base_uri": "https://localhost:8080/"
        },
        "id": "Ei6KPvh8zng4",
        "outputId": "b6a8e59a-304c-410e-fb8d-27671c5e7189"
      },
      "execution_count": 22,
      "outputs": [
        {
          "output_type": "stream",
          "name": "stdout",
          "text": [
            "Base estimator's depth:  3\n",
            "balanced_accuracy_score:  0.6242158862164228 f1_score:  0.3986105080330004\n",
            "\n",
            "              precision    recall  f1-score   support\n",
            "\n",
            "           0       0.80      1.00      0.89     11243\n",
            "           1       0.98      0.25      0.40      3665\n",
            "\n",
            "    accuracy                           0.81     14908\n",
            "   macro avg       0.89      0.62      0.64     14908\n",
            "weighted avg       0.85      0.81      0.77     14908\n",
            "\n",
            "\n",
            "Base estimator's depth:  5\n",
            "balanced_accuracy_score:  0.7157651770348177 f1_score:  0.5939032936229852\n",
            "\n",
            "              precision    recall  f1-score   support\n",
            "\n",
            "           0       0.85      0.97      0.90     11243\n",
            "           1       0.83      0.46      0.59      3665\n",
            "\n",
            "    accuracy                           0.84     14908\n",
            "   macro avg       0.84      0.72      0.75     14908\n",
            "weighted avg       0.84      0.84      0.83     14908\n",
            "\n",
            "\n",
            "Base estimator's depth:  7\n",
            "balanced_accuracy_score:  0.7581169741633387 f1_score:  0.6576207005364468\n",
            "\n",
            "              precision    recall  f1-score   support\n",
            "\n",
            "           0       0.87      0.95      0.91     11243\n",
            "           1       0.78      0.57      0.66      3665\n",
            "\n",
            "    accuracy                           0.85     14908\n",
            "   macro avg       0.83      0.76      0.78     14908\n",
            "weighted avg       0.85      0.85      0.85     14908\n",
            "\n",
            "\n",
            "Base estimator's depth:  20\n",
            "balanced_accuracy_score:  0.7550851771464531 f1_score:  0.6479435236341314\n",
            "\n",
            "              precision    recall  f1-score   support\n",
            "\n",
            "           0       0.87      0.93      0.90     11243\n",
            "           1       0.74      0.58      0.65      3665\n",
            "\n",
            "    accuracy                           0.85     14908\n",
            "   macro avg       0.81      0.76      0.77     14908\n",
            "weighted avg       0.84      0.85      0.84     14908\n",
            "\n",
            "\n"
          ]
        }
      ]
    }
  ]
}