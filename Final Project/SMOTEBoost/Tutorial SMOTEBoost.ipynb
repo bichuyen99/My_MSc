{
 "cells": [
  {
   "cell_type": "code",
   "execution_count": 1,
   "metadata": {},
   "outputs": [],
   "source": [
    "import pandas as pd\n",
    "from sklearn.datasets import make_moons\n",
    "from sklearn.metrics import classification_report\n",
    "from SMOTEBoost import SMOTEBoostClassifier\n",
    "from sklearn.tree import DecisionTreeClassifier\n",
    "from sklearn.metrics import balanced_accuracy_score, f1_score\n",
    "from sklearn.model_selection import train_test_split"
   ]
  },
  {
   "cell_type": "markdown",
   "metadata": {},
   "source": [
    "# Toy example"
   ]
  },
  {
   "cell_type": "code",
   "execution_count": 2,
   "metadata": {
    "scrolled": false
   },
   "outputs": [],
   "source": [
    "X, y = make_moons(n_samples=1000, noise=0.3, random_state=0)\n",
    "X_train, X_test, y_trian, y_test = train_test_split(X, y, test_size=0.33, random_state=0)"
   ]
  },
  {
   "cell_type": "code",
   "execution_count": 3,
   "metadata": {
    "scrolled": true
   },
   "outputs": [
    {
     "name": "stdout",
     "output_type": "stream",
     "text": [
      "balanced_accuracy_score:  0.8971015025164395 f1_score:  0.896969696969697\n",
      "\n",
      "              precision    recall  f1-score   support\n",
      "\n",
      "           0       0.89      0.91      0.90       163\n",
      "           1       0.91      0.89      0.90       167\n",
      "\n",
      "    accuracy                           0.90       330\n",
      "   macro avg       0.90      0.90      0.90       330\n",
      "weighted avg       0.90      0.90      0.90       330\n",
      "\n"
     ]
    }
   ],
   "source": [
    "smote = SMOTEBoostClassifier()\n",
    "smote.fit(X_train, y_trian)\n",
    "\n",
    "\n",
    "predicitons = smote.predict(X_test)\n",
    "\n",
    "print('balanced_accuracy_score: ', balanced_accuracy_score(y_test, predicitons), 'f1_score: ', f1_score(y_test, predicitons))\n",
    "print()\n",
    "print(classification_report(y_test, predicitons))"
   ]
  },
  {
   "cell_type": "markdown",
   "metadata": {},
   "source": [
    "# Dataset adult.csv with Imbalanced classes"
   ]
  },
  {
   "cell_type": "code",
   "execution_count": 4,
   "metadata": {},
   "outputs": [],
   "source": [
    "import os, sys\n",
    "\n",
    "path = sys.path[0].replace('SMOTEBoost', 'datasets')\n",
    "data_name = path + '\\\\' +  os.listdir(path)[0]\n",
    "\n",
    "df = pd.read_csv(data_name)\n",
    "y = (df[' income'] == ' >50K').astype(int)\n",
    "\n",
    "X = df.drop(' income', axis=1)\n",
    "X = pd.get_dummies(X)\n",
    "\n",
    "\n",
    "X_train, X_test, y_train, y_test = train_test_split(X, y, test_size=0.33, random_state=0)"
   ]
  },
  {
   "cell_type": "markdown",
   "metadata": {},
   "source": [
    "## Vary the parameter: depth of base estimator"
   ]
  },
  {
   "cell_type": "code",
   "execution_count": 27,
   "metadata": {},
   "outputs": [
    {
     "name": "stdout",
     "output_type": "stream",
     "text": [
      "Base estimator's depth:  3\n",
      "balanced_accuracy_score:  0.7418891827166849 f1_score:  0.6266548984995587\n",
      "\n",
      "              precision    recall  f1-score   support\n",
      "\n",
      "           0       0.87      0.94      0.90      8151\n",
      "           1       0.73      0.55      0.63      2595\n",
      "\n",
      "    accuracy                           0.84     10746\n",
      "   macro avg       0.80      0.74      0.76     10746\n",
      "weighted avg       0.83      0.84      0.83     10746\n",
      "\n",
      "\n",
      "Base estimator's depth:  5\n",
      "balanced_accuracy_score:  0.738545999178795 f1_score:  0.624180790960452\n",
      "\n",
      "              precision    recall  f1-score   support\n",
      "\n",
      "           0       0.86      0.94      0.90      8151\n",
      "           1       0.75      0.53      0.62      2595\n",
      "\n",
      "    accuracy                           0.85     10746\n",
      "   macro avg       0.81      0.74      0.76     10746\n",
      "weighted avg       0.84      0.85      0.84     10746\n",
      "\n",
      "\n",
      "Base estimator's depth:  7\n",
      "balanced_accuracy_score:  0.762060614570502 f1_score:  0.6598253275109169\n",
      "\n",
      "              precision    recall  f1-score   support\n",
      "\n",
      "           0       0.88      0.94      0.91      8151\n",
      "           1       0.76      0.58      0.66      2595\n",
      "\n",
      "    accuracy                           0.86     10746\n",
      "   macro avg       0.82      0.76      0.78     10746\n",
      "weighted avg       0.85      0.86      0.85     10746\n",
      "\n",
      "\n",
      "Base estimator's depth:  20\n",
      "balanced_accuracy_score:  0.7658553190040869 f1_score:  0.6457364341085271\n",
      "\n",
      "              precision    recall  f1-score   support\n",
      "\n",
      "           0       0.89      0.89      0.89      8151\n",
      "           1       0.65      0.64      0.65      2595\n",
      "\n",
      "    accuracy                           0.83     10746\n",
      "   macro avg       0.77      0.77      0.77     10746\n",
      "weighted avg       0.83      0.83      0.83     10746\n",
      "\n",
      "\n"
     ]
    }
   ],
   "source": [
    "for depth in [3, 5, 7, 20]:\n",
    "\n",
    "    smote = SMOTEBoostClassifier(DecisionTreeClassifier(max_depth=depth))\n",
    "    smote.fit(X_train, y_train)\n",
    "    \n",
    "    predicitons = smote.predict(X_test)\n",
    "    \n",
    "    print(\"Base estimator's depth: \", depth)\n",
    "    print('balanced_accuracy_score: ', balanced_accuracy_score(y_test, predicitons), 'f1_score: ', f1_score(y_test, predicitons))\n",
    "    print()\n",
    "    print(classification_report(y_test, predicitons))\n",
    "    print()"
   ]
  },
  {
   "cell_type": "markdown",
   "metadata": {},
   "source": [
    "## Vary the parameter: number of syntatic samples"
   ]
  },
  {
   "cell_type": "code",
   "execution_count": 22,
   "metadata": {},
   "outputs": [
    {
     "name": "stdout",
     "output_type": "stream",
     "text": [
      "Number of syntatic samples:  3\n",
      "balanced_accuracy_score:  0.7511306460500254 f1_score:  0.6432049579459939\n",
      "\n",
      "              precision    recall  f1-score   support\n",
      "\n",
      "           0       0.87      0.94      0.91      8151\n",
      "           1       0.76      0.56      0.64      2595\n",
      "\n",
      "    accuracy                           0.85     10746\n",
      "   macro avg       0.81      0.75      0.77     10746\n",
      "weighted avg       0.84      0.85      0.84     10746\n",
      "\n",
      "\n",
      "Number of syntatic samples:  10\n",
      "balanced_accuracy_score:  0.7511306460500254 f1_score:  0.6432049579459939\n",
      "\n",
      "              precision    recall  f1-score   support\n",
      "\n",
      "           0       0.87      0.94      0.91      8151\n",
      "           1       0.76      0.56      0.64      2595\n",
      "\n",
      "    accuracy                           0.85     10746\n",
      "   macro avg       0.81      0.75      0.77     10746\n",
      "weighted avg       0.84      0.85      0.84     10746\n",
      "\n",
      "\n",
      "Number of syntatic samples:  20\n",
      "balanced_accuracy_score:  0.7511306460500254 f1_score:  0.6432049579459939\n",
      "\n",
      "              precision    recall  f1-score   support\n",
      "\n",
      "           0       0.87      0.94      0.91      8151\n",
      "           1       0.76      0.56      0.64      2595\n",
      "\n",
      "    accuracy                           0.85     10746\n",
      "   macro avg       0.81      0.75      0.77     10746\n",
      "weighted avg       0.84      0.85      0.84     10746\n",
      "\n",
      "\n",
      "Number of syntatic samples:  100\n",
      "balanced_accuracy_score:  0.7390626916942706 f1_score:  0.6249717769248138\n",
      "\n",
      "              precision    recall  f1-score   support\n",
      "\n",
      "           0       0.86      0.94      0.90      8151\n",
      "           1       0.75      0.53      0.62      2595\n",
      "\n",
      "    accuracy                           0.85     10746\n",
      "   macro avg       0.81      0.74      0.76     10746\n",
      "weighted avg       0.84      0.85      0.84     10746\n",
      "\n",
      "\n"
     ]
    }
   ],
   "source": [
    "for _n_syn_samples in [3, 10, 20, 100]:\n",
    "\n",
    "    smote = SMOTEBoostClassifier(n_syn_samples=_n_syn_samples)\n",
    "    smote.fit(X_train, y_train)\n",
    "    \n",
    "    predicitons = smote.predict(X_test)\n",
    "    \n",
    "    print(\"Number of syntatic samples: \", _n_syn_samples)\n",
    "    print('balanced_accuracy_score: ', balanced_accuracy_score(y_test, predicitons), 'f1_score: ', f1_score(y_test, predicitons))\n",
    "    print()\n",
    "    print(classification_report(y_test, predicitons))\n",
    "    print()"
   ]
  },
  {
   "cell_type": "markdown",
   "metadata": {},
   "source": [
    "## Vary the parameter: number of base estimator"
   ]
  },
  {
   "cell_type": "code",
   "execution_count": 23,
   "metadata": {},
   "outputs": [
    {
     "name": "stdout",
     "output_type": "stream",
     "text": [
      "Number of base estimators:  3\n",
      "balanced_accuracy_score:  0.7387386774061553 f1_score:  0.6244916403072751\n",
      "\n",
      "              precision    recall  f1-score   support\n",
      "\n",
      "           0       0.86      0.94      0.90      8151\n",
      "           1       0.75      0.53      0.62      2595\n",
      "\n",
      "    accuracy                           0.85     10746\n",
      "   macro avg       0.81      0.74      0.76     10746\n",
      "weighted avg       0.84      0.85      0.84     10746\n",
      "\n",
      "\n",
      "Number of base estimators:  10\n",
      "balanced_accuracy_score:  0.7387386774061553 f1_score:  0.6244916403072751\n",
      "\n",
      "              precision    recall  f1-score   support\n",
      "\n",
      "           0       0.86      0.94      0.90      8151\n",
      "           1       0.75      0.53      0.62      2595\n",
      "\n",
      "    accuracy                           0.85     10746\n",
      "   macro avg       0.81      0.74      0.76     10746\n",
      "weighted avg       0.84      0.85      0.84     10746\n",
      "\n",
      "\n",
      "Number of base estimators:  20\n",
      "balanced_accuracy_score:  0.7387386774061553 f1_score:  0.6244916403072751\n",
      "\n",
      "              precision    recall  f1-score   support\n",
      "\n",
      "           0       0.86      0.94      0.90      8151\n",
      "           1       0.75      0.53      0.62      2595\n",
      "\n",
      "    accuracy                           0.85     10746\n",
      "   macro avg       0.81      0.74      0.76     10746\n",
      "weighted avg       0.84      0.85      0.84     10746\n",
      "\n",
      "\n",
      "Number of base estimators:  100\n",
      "balanced_accuracy_score:  0.7387386774061553 f1_score:  0.6244916403072751\n",
      "\n",
      "              precision    recall  f1-score   support\n",
      "\n",
      "           0       0.86      0.94      0.90      8151\n",
      "           1       0.75      0.53      0.62      2595\n",
      "\n",
      "    accuracy                           0.85     10746\n",
      "   macro avg       0.81      0.74      0.76     10746\n",
      "weighted avg       0.84      0.85      0.84     10746\n",
      "\n",
      "\n"
     ]
    }
   ],
   "source": [
    "for _n_estimators in [3, 10, 20, 100]:\n",
    "\n",
    "    smote = SMOTEBoostClassifier(n_estimators=_n_estimators)\n",
    "    smote.fit(X_train, y_train)\n",
    "    \n",
    "    predicitons = smote.predict(X_test)\n",
    "    \n",
    "    print(\"Number of base estimators: \", _n_estimators)\n",
    "    print('balanced_accuracy_score: ', balanced_accuracy_score(y_test, predicitons), 'f1_score: ', f1_score(y_test, predicitons))\n",
    "    print()\n",
    "    print(classification_report(y_test, predicitons))\n",
    "    print()"
   ]
  },
  {
   "cell_type": "markdown",
   "metadata": {},
   "source": [
    "## Vary the parameter: number of neighbours"
   ]
  },
  {
   "cell_type": "code",
   "execution_count": 25,
   "metadata": {},
   "outputs": [
    {
     "name": "stdout",
     "output_type": "stream",
     "text": [
      "Number of neighbors:  100\n",
      "balanced_accuracy_score:  0.7387386774061553 f1_score:  0.6244916403072751\n",
      "\n",
      "              precision    recall  f1-score   support\n",
      "\n",
      "           0       0.86      0.94      0.90      8151\n",
      "           1       0.75      0.53      0.62      2595\n",
      "\n",
      "    accuracy                           0.85     10746\n",
      "   macro avg       0.81      0.74      0.76     10746\n",
      "weighted avg       0.84      0.85      0.84     10746\n",
      "\n",
      "\n",
      "Number of neighbors:  100\n",
      "balanced_accuracy_score:  0.738545999178795 f1_score:  0.624180790960452\n",
      "\n",
      "              precision    recall  f1-score   support\n",
      "\n",
      "           0       0.86      0.94      0.90      8151\n",
      "           1       0.75      0.53      0.62      2595\n",
      "\n",
      "    accuracy                           0.85     10746\n",
      "   macro avg       0.81      0.74      0.76     10746\n",
      "weighted avg       0.84      0.85      0.84     10746\n",
      "\n",
      "\n",
      "Number of neighbors:  100\n",
      "balanced_accuracy_score:  0.738545999178795 f1_score:  0.624180790960452\n",
      "\n",
      "              precision    recall  f1-score   support\n",
      "\n",
      "           0       0.86      0.94      0.90      8151\n",
      "           1       0.75      0.53      0.62      2595\n",
      "\n",
      "    accuracy                           0.85     10746\n",
      "   macro avg       0.81      0.74      0.76     10746\n",
      "weighted avg       0.84      0.85      0.84     10746\n",
      "\n",
      "\n"
     ]
    }
   ],
   "source": [
    "for _k_neighbors in [3, 10, 20]:\n",
    "\n",
    "    smote = SMOTEBoostClassifier(k_neighbors=_k_neighbors)\n",
    "    smote.fit(X_train, y_train)\n",
    "    \n",
    "    predicitons = smote.predict(X_test)\n",
    "    \n",
    "    print(\"Number of neighbors: \", _n_estimators)\n",
    "    print('balanced_accuracy_score: ', balanced_accuracy_score(y_test, predicitons), 'f1_score: ', f1_score(y_test, predicitons))\n",
    "    print()\n",
    "    print(classification_report(y_test, predicitons))\n",
    "    print()"
   ]
  }
 ],
 "metadata": {
  "kernelspec": {
   "display_name": "Python 3",
   "language": "python",
   "name": "python3"
  },
  "language_info": {
   "codemirror_mode": {
    "name": "ipython",
    "version": 3
   },
   "file_extension": ".py",
   "mimetype": "text/x-python",
   "name": "python",
   "nbconvert_exporter": "python",
   "pygments_lexer": "ipython3",
   "version": "3.7.6"
  }
 },
 "nbformat": 4,
 "nbformat_minor": 4
}
