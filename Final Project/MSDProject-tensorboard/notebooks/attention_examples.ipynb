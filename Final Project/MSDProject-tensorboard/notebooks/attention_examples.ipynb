{
 "cells": [
  {
   "cell_type": "code",
   "execution_count": 2,
   "metadata": {},
   "outputs": [],
   "source": [
    "from datetime import datetime\n",
    "\n",
    "import torch\n",
    "import torch.nn as nn\n",
    "\n",
    "import os\n",
    "import sys\n",
    "\n",
    "module_path = os.path.abspath(os.path.join('..'))\n",
    "if module_path not in sys.path:\n",
    "    sys.path.append(module_path)\n",
    "\n",
    "from src.models import BaselineEncoder, Performer, PerformerAttention, InformerAttention"
   ]
  },
  {
   "cell_type": "code",
   "execution_count": 3,
   "metadata": {},
   "outputs": [],
   "source": [
    "device = 'cuda'\n",
    "\n",
    "hidden_size = 128\n",
    "num_heads = 4\n",
    "num_layers = 12\n",
    "dim_feedforward = num_heads * hidden_size\n",
    "\n",
    "bs = 16\n",
    "L = 2 ** 10\n",
    "\n",
    "x = torch.randn(bs, L, hidden_size, device=device)\n",
    "att = torch.ones(bs, L, device=device) > 0"
   ]
  },
  {
   "cell_type": "code",
   "execution_count": 4,
   "metadata": {},
   "outputs": [
    {
     "name": "stdout",
     "output_type": "stream",
     "text": [
      "torch.Size([16, 1024, 128])\n",
      "0:00:01.772717\n"
     ]
    }
   ],
   "source": [
    "attention = nn.MultiheadAttention(hidden_size, num_heads, batch_first=True)\n",
    "model = BaselineEncoder(attention, hidden_size, num_layers, dim_feedforward).to(device)\n",
    "\n",
    "start = datetime.now()\n",
    "print(model(x, att)[0].shape)\n",
    "print(datetime.now() - start)"
   ]
  },
  {
   "cell_type": "code",
   "execution_count": 6,
   "metadata": {},
   "outputs": [
    {
     "name": "stdout",
     "output_type": "stream",
     "text": [
      "torch.Size([16, 1024, 128])\n",
      "0:00:00.024001\n"
     ]
    }
   ],
   "source": [
    "attention = PerformerAttention(hidden_dim=hidden_size, num_heads=num_heads)\n",
    "model = BaselineEncoder(attention, hidden_size, num_layers, dim_feedforward).to(device)\n",
    "\n",
    "start = datetime.now()\n",
    "print(model(x, att)[0].shape)\n",
    "print(datetime.now() - start)"
   ]
  },
  {
   "cell_type": "code",
   "execution_count": 4,
   "metadata": {},
   "outputs": [
    {
     "name": "stderr",
     "output_type": "stream",
     "text": [
      "C:\\Users\\Константин\\AppData\\Roaming\\Python\\Python38\\site-packages\\torch\\functional.py:478: UserWarning: torch.meshgrid: in an upcoming release, it will be required to pass the indexing argument. (Triggered internally at  C:\\actions-runner\\_work\\pytorch\\pytorch\\builder\\windows\\pytorch\\aten\\src\\ATen\\native\\TensorShape.cpp:2895.)\n",
      "  return _VF.meshgrid(tensors, **kwargs)  # type: ignore[attr-defined]\n"
     ]
    }
   ],
   "source": [
    "config = {\n",
    "    'head_size': hidden_size  // num_heads, \n",
    "    'length': L, \n",
    "    'target_len': 70, \n",
    "    'attn_func': 'softmax', \n",
    "    'attn_num_basis': 100, \n",
    "    'attn_drop': 0.1, \n",
    "    'infinite_memory': True, \n",
    "    'n_layers': num_layers, \n",
    "    'n_heads': num_heads, \n",
    "    'd_model': hidden_size, \n",
    "    'mask': True, \n",
    "    'mask_type': 'cnn', \n",
    "    'kl_regularizer': True, \n",
    "    'sigma_0': 0, \n",
    "    'mu_0': 0,\n",
    "    'share_mask': True,\n",
    "    'device': 'cpu'\n",
    "}\n",
    "\n",
    "attention = InformerAttention(**config)\n",
    "# model = BaselineEncoder(attention, hidden_size, num_layers, dim_feedforward).to(device)\n",
    "\n",
    "start = datetime.now()\n",
    "print(model(x, att)[0].shape)\n",
    "print(datetime.now() - start)"
   ]
  },
  {
   "cell_type": "code",
   "execution_count": 9,
   "metadata": {},
   "outputs": [
    {
     "name": "stdout",
     "output_type": "stream",
     "text": [
      "torch.Size([16, 1024, 128])\n",
      "0:00:00.069004\n"
     ]
    }
   ],
   "source": [
    "config = {\n",
    "    'dim': hidden_size,\n",
    "    'depth': num_layers,\n",
    "    'heads': num_heads,\n",
    "    'dim_head': hidden_size\n",
    "}\n",
    "\n",
    "model = Performer(**config).to(device)\n",
    "start = datetime.now()\n",
    "print(model(x).shape)\n",
    "print(datetime.now() - start)"
   ]
  }
 ],
 "metadata": {
  "kernelspec": {
   "display_name": "Python 3",
   "language": "python",
   "name": "python3"
  },
  "language_info": {
   "codemirror_mode": {
    "name": "ipython",
    "version": 3
   },
   "file_extension": ".py",
   "mimetype": "text/x-python",
   "name": "python",
   "nbconvert_exporter": "python",
   "pygments_lexer": "ipython3",
   "version": "3.8.9"
  },
  "orig_nbformat": 4,
  "vscode": {
   "interpreter": {
    "hash": "9c58ffa32c99c578e8acdfbbc3e57db633e36b9c510beace1b112c995cc0311f"
   }
  }
 },
 "nbformat": 4,
 "nbformat_minor": 2
}
