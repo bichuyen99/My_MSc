{
 "cells": [
  {
   "cell_type": "code",
   "execution_count": 1,
   "id": "791ce8e2-0e36-450f-a3d5-85658bd6de24",
   "metadata": {
    "tags": []
   },
   "outputs": [],
   "source": [
    "!pip install torch torchvision -q"
   ]
  },
  {
   "cell_type": "code",
   "execution_count": 2,
   "id": "dbd7d285-61b0-4059-945b-e8761759725d",
   "metadata": {
    "tags": []
   },
   "outputs": [],
   "source": [
    "import os\n",
    "from PIL import Image\n",
    "import gc\n",
    "\n",
    "import torch\n",
    "import torchvision\n",
    "import torch.nn as nn\n",
    "import torchvision.transforms as transforms\n",
    "from torch.utils.data import Dataset, DataLoader\n",
    "from sklearn.metrics import accuracy_score, f1_score\n",
    "import torch.nn.functional as F\n",
    "\n",
    "\n",
    "import numpy as np\n",
    "import pandas as pd\n",
    "import matplotlib.pyplot as plt\n",
    "import seaborn as sns\n",
    "\n",
    "import sklearn\n",
    "from sklearn.metrics import average_precision_score\n",
    "\n",
    "\n",
    "import random\n",
    "import warnings\n",
    "from tqdm import tqdm\n",
    "warnings.filterwarnings(\"ignore\")"
   ]
  },
  {
   "cell_type": "code",
   "execution_count": 3,
   "id": "353b60a5-4d08-4c2d-8d31-9f2ea7a3d9d9",
   "metadata": {
    "tags": []
   },
   "outputs": [],
   "source": [
    "def seed_everything(seed=42):\n",
    "    random.seed(seed)\n",
    "    os.environ['PYTHONHASHSEED'] = str(seed)\n",
    "    np.random.seed(seed)\n",
    "    torch.manual_seed(seed)\n",
    "    torch.backends.cudnn.deterministic = True\n",
    "    torch.backends.cudnn.benchmark = False\n",
    "    \n",
    "seed_everything()"
   ]
  },
  {
   "cell_type": "markdown",
   "id": "e04b2e22-9ecd-41ad-8f2b-36143f7968c0",
   "metadata": {},
   "source": [
    "### Multi-class probplem"
   ]
  },
  {
   "cell_type": "markdown",
   "id": "b9b8e8a3-7b84-41a4-a4a0-504de3479100",
   "metadata": {},
   "source": [
    "### Resnet training"
   ]
  },
  {
   "cell_type": "code",
   "execution_count": 8,
   "id": "53450e48-2a50-490b-8dab-ef8db32bb9b2",
   "metadata": {
    "tags": []
   },
   "outputs": [
    {
     "name": "stdout",
     "output_type": "stream",
     "text": [
      "Tue May 23 11:48:34 2023       \n",
      "+-----------------------------------------------------------------------------+\n",
      "| NVIDIA-SMI 515.105.01   Driver Version: 515.105.01   CUDA Version: 11.7     |\n",
      "|-------------------------------+----------------------+----------------------+\n",
      "| GPU  Name        Persistence-M| Bus-Id        Disp.A | Volatile Uncorr. ECC |\n",
      "| Fan  Temp  Perf  Pwr:Usage/Cap|         Memory-Usage | GPU-Util  Compute M. |\n",
      "|                               |                      |               MIG M. |\n",
      "|===============================+======================+======================|\n",
      "|   0  NVIDIA GeForce ...  Off  | 00000000:41:00.0 Off |                  N/A |\n",
      "|  0%   20C    P8    14W / 370W |    895MiB / 24576MiB |      0%      Default |\n",
      "|                               |                      |                  N/A |\n",
      "+-------------------------------+----------------------+----------------------+\n",
      "|   1  NVIDIA GeForce ...  Off  | 00000000:61:00.0 Off |                  N/A |\n",
      "|  0%   20C    P8    11W / 370W |   7135MiB / 24576MiB |      0%      Default |\n",
      "|                               |                      |                  N/A |\n",
      "+-------------------------------+----------------------+----------------------+\n",
      "|   2  NVIDIA GeForce ...  Off  | 00000000:A1:00.0 Off |                  N/A |\n",
      "|  0%   20C    P8    14W / 370W |   1783MiB / 24576MiB |      0%      Default |\n",
      "|                               |                      |                  N/A |\n",
      "+-------------------------------+----------------------+----------------------+\n",
      "|   3  NVIDIA GeForce ...  Off  | 00000000:E1:00.0 Off |                  N/A |\n",
      "|  0%   19C    P8    12W / 370W |      2MiB / 24576MiB |      0%      Default |\n",
      "|                               |                      |                  N/A |\n",
      "+-------------------------------+----------------------+----------------------+\n",
      "                                                                               \n",
      "+-----------------------------------------------------------------------------+\n",
      "| Processes:                                                                  |\n",
      "|  GPU   GI   CI        PID   Type   Process name                  GPU Memory |\n",
      "|        ID   ID                                                   Usage      |\n",
      "|=============================================================================|\n",
      "+-----------------------------------------------------------------------------+\n"
     ]
    }
   ],
   "source": [
    "!nvidia-smi"
   ]
  },
  {
   "cell_type": "code",
   "execution_count": 9,
   "id": "6980a321-0db4-4017-9a37-e7d4cb8f2780",
   "metadata": {
    "tags": []
   },
   "outputs": [],
   "source": [
    "def clean():\n",
    "    torch.cuda.empty_cache()\n",
    "    gc.collect()"
   ]
  },
  {
   "cell_type": "code",
   "execution_count": 10,
   "id": "b7c088bf-c55e-42ba-9d30-dc0ec85225b8",
   "metadata": {
    "tags": []
   },
   "outputs": [],
   "source": [
    "clean()"
   ]
  },
  {
   "cell_type": "code",
   "execution_count": 11,
   "id": "3b1a1c42-7247-4692-8cc1-e620a0a8512b",
   "metadata": {
    "tags": []
   },
   "outputs": [],
   "source": [
    "os.environ['CUDA_VISIABLE_DEVICES']='3'"
   ]
  },
  {
   "cell_type": "code",
   "execution_count": 12,
   "id": "30edafdf-6845-4446-aed5-0d0008e8e56e",
   "metadata": {
    "tags": []
   },
   "outputs": [],
   "source": [
    "device = torch.device('cuda')"
   ]
  },
  {
   "cell_type": "markdown",
   "id": "9e952232-ad01-4dad-8685-2fc83010c2a7",
   "metadata": {},
   "source": [
    "### Efficientnet"
   ]
  },
  {
   "cell_type": "code",
   "execution_count": 135,
   "id": "b134addb-469a-4110-8c12-deecc9e8fd10",
   "metadata": {
    "tags": []
   },
   "outputs": [],
   "source": [
    "from effnet.efficientnet import efficientnet\n",
    "\n",
    "from utils.trainer import Trainer\n",
    "from data.multi_class_build_data import build_dataloader\n",
    "\n",
    "BATCH_SIZE=8\n",
    "\n",
    "transfrom = transforms.Compose([\n",
    "    transforms.ToTensor(),\n",
    "    transforms.Normalize(0.5, 0.5)\n",
    "])\n",
    "\n",
    "train_dataloader, test_dataloader, trainset_len, testset_len, NUM_CLASS = build_dataloader(transfrom, BATCH_SIZE)"
   ]
  },
  {
   "cell_type": "code",
   "execution_count": 136,
   "id": "53055a26-6025-4b07-9b99-a04d9335a712",
   "metadata": {
    "tags": []
   },
   "outputs": [],
   "source": [
    "criteriation=nn.CrossEntropyLoss()"
   ]
  },
  {
   "cell_type": "code",
   "execution_count": 144,
   "id": "f276ea2e-af42-4770-9b65-d533b3f86b4f",
   "metadata": {
    "tags": []
   },
   "outputs": [],
   "source": [
    "effnet = efficientnet()\n",
    "effnet.classifier[1] = nn.Linear(1280, NUM_CLASS)"
   ]
  },
  {
   "cell_type": "code",
   "execution_count": 145,
   "id": "8c940df9-490a-426c-b31a-76c2e016b9ff",
   "metadata": {
    "tags": []
   },
   "outputs": [],
   "source": [
    "effnet = effnet.to(device)"
   ]
  },
  {
   "cell_type": "code",
   "execution_count": 146,
   "id": "baea5822-4efa-4e93-9023-b479d2edeae9",
   "metadata": {
    "tags": []
   },
   "outputs": [],
   "source": [
    "optimizer = torch.optim.Adam(effnet.parameters(), lr=1e-4)"
   ]
  },
  {
   "cell_type": "markdown",
   "id": "99d1c881-c007-4f1b-8382-ae2470a3a02a",
   "metadata": {},
   "source": [
    "### Training "
   ]
  },
  {
   "cell_type": "code",
   "execution_count": 147,
   "id": "db05f3b9-db4b-4597-8a2b-9dcb0bab5f7d",
   "metadata": {
    "tags": []
   },
   "outputs": [],
   "source": [
    "NAME = 'effnet'\n",
    "\n",
    "trainer = Trainer(effnet, \n",
    "                  criteriation,\n",
    "                  device,\n",
    "                  train_dataloader,\n",
    "                  test_dataloader,\n",
    "                  trainset_len,\n",
    "                  testset_len,\n",
    "                  optimizer,\n",
    "                  epochs=2,\n",
    "                  path_output='multi_class_output/{name}.pt'.format(name=NAME),\n",
    "                  multi_label=False\n",
    "                 )"
   ]
  },
  {
   "cell_type": "code",
   "execution_count": 148,
   "id": "92089531-75f8-45d1-b960-3271fb067f9a",
   "metadata": {
    "tags": []
   },
   "outputs": [
    {
     "name": "stdout",
     "output_type": "stream",
     "text": [
      "[1]/[2] Epoch starts\n",
      "\t Batch train loss: 1.4173368215560913, accuracy 0.125\n",
      "\t Batch train loss: 0.6500968933105469, accuracy 0.625\n",
      "\t Batch train loss: 0.6747581362724304, accuracy 0.875\n",
      "\t Batch train loss: 1.0785253047943115, accuracy 0.5\n",
      "\t Batch train loss: 0.22702595591545105, accuracy 0.875\n",
      "[1]/[2] End epoch: train loss: 0.693294952304126, val loss: 0.3635874504292515\n",
      "\t Epoch train accuracy: 0.6995078921318054, val accuracy: 0.8468033775633294\n",
      "\n",
      "[2]/[2] Epoch starts\n",
      "\t Batch train loss: 0.24580885469913483, accuracy 0.875\n",
      "\t Batch train loss: 0.37618398666381836, accuracy 0.875\n",
      "\t Batch train loss: 0.242514967918396, accuracy 0.875\n",
      "\t Batch train loss: 0.17320388555526733, accuracy 0.875\n",
      "\t Batch train loss: 0.1986524909734726, accuracy 0.875\n",
      "[2]/[2] End epoch: train loss: 0.2528687315517201, val loss: 0.3794699323693939\n",
      "\t Epoch train accuracy: 0.908406138420105, val accuracy: 0.8584640128669079\n",
      "\n"
     ]
    }
   ],
   "source": [
    "trainer.training()"
   ]
  },
  {
   "cell_type": "markdown",
   "id": "1f9c9a2d-e919-4444-8b70-cc6bb554c165",
   "metadata": {},
   "source": [
    "### Evaluate model"
   ]
  },
  {
   "cell_type": "code",
   "execution_count": 149,
   "id": "f855a594-54e2-4dc7-b6fd-bc791a7b39eb",
   "metadata": {
    "tags": []
   },
   "outputs": [],
   "source": [
    "effnet.load_state_dict(torch.load(f'multi_class_output/effnet.pt')['model_state_dict'])\n",
    "effnet = effnet.to(device)"
   ]
  },
  {
   "cell_type": "code",
   "execution_count": 150,
   "id": "deae28ef-5529-4a85-be81-38a8c555e0e8",
   "metadata": {
    "tags": []
   },
   "outputs": [],
   "source": [
    "trainer = Trainer(effnet, \n",
    "                  criteriation,\n",
    "                  device,\n",
    "                  train_dataloader,\n",
    "                  test_dataloader,\n",
    "                  trainset_len,\n",
    "                  testset_len,\n",
    "                  path_output='multi_class_output/{name}.pt'.format(name=NAME),\n",
    "                  multi_label=False\n",
    "                 )"
   ]
  },
  {
   "cell_type": "code",
   "execution_count": 151,
   "id": "cb895a39-fd71-4bd5-b145-4d33adbaebfb",
   "metadata": {
    "tags": []
   },
   "outputs": [],
   "source": [
    "_, _, preds = trainer.val()"
   ]
  },
  {
   "cell_type": "code",
   "execution_count": 152,
   "id": "b62de6c4-1d0f-4eaa-8f23-d9c296d874a0",
   "metadata": {
    "tags": []
   },
   "outputs": [],
   "source": [
    "prediciton = pd.DataFrame([preds[0].cpu().numpy(), preds[1].cpu().numpy()]).T\n",
    "prediciton.rename = ['labels', 'predictions']\n",
    "\n",
    "prediciton.to_csv('multi_class_output/{name}.csv'.format(name=NAME), index=False)"
   ]
  },
  {
   "cell_type": "markdown",
   "id": "96382bfd-31aa-4a51-864c-8b4c3505917f",
   "metadata": {},
   "source": [
    "### Multi-label problem"
   ]
  },
  {
   "cell_type": "code",
   "execution_count": 153,
   "id": "706eb803-c928-4a66-9b3e-190ad38f3d5c",
   "metadata": {
    "tags": []
   },
   "outputs": [],
   "source": [
    "data = pd.read_csv('sample_labels.csv')\n",
    "data['lables'] = data['Finding Labels'].str.split('|')\n",
    "\n",
    "labels = []\n",
    "for lable in data['lables'].values:\n",
    "    labels.extend(lable)   \n",
    "    \n",
    "labels = pd.DataFrame(labels, columns=['labels'])"
   ]
  },
  {
   "cell_type": "markdown",
   "id": "776bbfb2-8ae9-49ba-82b4-b8b0b01b2aa4",
   "metadata": {},
   "source": [
    "### Losses"
   ]
  },
  {
   "cell_type": "code",
   "execution_count": 154,
   "id": "10fd9ffb-17e4-4969-a385-6386c4c0c7fe",
   "metadata": {
    "tags": []
   },
   "outputs": [],
   "source": [
    "weights = 1 / (labels.value_counts()/ labels.shape[0])\n",
    "weights = torch.tensor(weights.reset_index().sort_values(by='labels')[0].values)\n",
    "\n",
    "class WeightedMultilabel(nn.Module):  \n",
    "    def __init__(self, weights: torch.Tensor):  \n",
    "        super(WeightedMultilabel, self).__init__()  \n",
    "        self.cerition = nn.BCEWithLogitsLoss(reduction='none')  \n",
    "        self.weights = weights  \n",
    "  \n",
    "    def forward(self, outputs, targets):  \n",
    "        loss = self.cerition(outputs, targets)  \n",
    "        return (loss * self.weights).mean()  \n",
    "\n",
    "weights = weights.to(device)\n",
    "\n",
    "criteriation = WeightedMultilabel(weights)"
   ]
  },
  {
   "cell_type": "code",
   "execution_count": 156,
   "id": "e015cea8-8927-4d2f-887d-926156ce1896",
   "metadata": {
    "tags": []
   },
   "outputs": [],
   "source": [
    "from utils.trainer import Trainer\n",
    "from data.multi_label_build_data import build_dataloader\n",
    "from effnet.blocks import SamePadConv2d\n",
    "\n",
    "\n",
    "BATCH_SIZE=4\n",
    "\n",
    "transfrom = transforms.Compose([\n",
    "    transforms.Resize(256),\n",
    "    transforms.RandomRotation(30),\n",
    "    transforms.ColorJitter(0.5),\n",
    "    transforms.ToTensor(),\n",
    "    transforms.Normalize(0.5, 0.5)\n",
    "])\n",
    "\n",
    "train_dataloader, test_dataloader, trainset_len, testset_len, NUM_CLASS = build_dataloader(transfrom, BATCH_SIZE)"
   ]
  },
  {
   "cell_type": "code",
   "execution_count": 158,
   "id": "ad1e804a-518c-4753-8f05-c91d550a935d",
   "metadata": {
    "tags": []
   },
   "outputs": [],
   "source": [
    "del effnet\n",
    "effnet = efficientnet()\n",
    "effnet.classifier[1] = nn.Linear(1280, NUM_CLASS)"
   ]
  },
  {
   "cell_type": "code",
   "execution_count": 173,
   "id": "1577d9d2-d770-41f9-8d60-4ff7fe1e09bb",
   "metadata": {
    "tags": []
   },
   "outputs": [],
   "source": [
    "effnet.features[0][0] = SamePadConv2d(1, 32, 3, 2)"
   ]
  },
  {
   "cell_type": "code",
   "execution_count": 174,
   "id": "08bac1d1-b6b4-435f-8d87-9c5f21f36819",
   "metadata": {
    "tags": []
   },
   "outputs": [],
   "source": [
    "effnet = effnet.to(device)"
   ]
  },
  {
   "cell_type": "code",
   "execution_count": 175,
   "id": "42fca761-b6ec-4bb5-a15e-a1335f69b20a",
   "metadata": {
    "tags": []
   },
   "outputs": [],
   "source": [
    "optimizer = torch.optim.Adam(effnet.parameters(), lr=1e-4)"
   ]
  },
  {
   "cell_type": "code",
   "execution_count": 176,
   "id": "fe54a0c9-f461-4299-b9eb-27c524da78f6",
   "metadata": {
    "tags": []
   },
   "outputs": [],
   "source": [
    "NAME = 'effnet'\n",
    "\n",
    "trainer = Trainer(effnet , \n",
    "                  criteriation,\n",
    "                  device,\n",
    "                  train_dataloader,\n",
    "                  test_dataloader,\n",
    "                  trainset_len,\n",
    "                  testset_len,\n",
    "                  optimizer,\n",
    "                  epochs=5,\n",
    "                  path_output='multi_label_output/{name}.pt'.format(name=NAME),\n",
    "                  multi_label=True\n",
    "                 )"
   ]
  },
  {
   "cell_type": "code",
   "execution_count": 177,
   "id": "0ee56368-dde0-4cac-9f45-a013934a1ecb",
   "metadata": {
    "tags": []
   },
   "outputs": [
    {
     "name": "stdout",
     "output_type": "stream",
     "text": [
      "[1]/[5] Epoch starts\n",
      "\t Batch train loss: 69.15490364463922, accuracy 0.1598151848151848\n",
      "\t Batch train loss: 50.426439402602576, accuracy 0.8333333333333333\n",
      "\t Batch train loss: 49.835138517160864, accuracy 0.7083333333333334\n",
      "\t Batch train loss: 49.70812711591691, accuracy 0.5834821428571428\n",
      "\t Batch train loss: 49.66802338512578, accuracy 0.6129629629629629\n",
      "[1]/[5] End epoch: train loss: 50.88828334548714, val loss: 49.64276266034121\n",
      "\t Epoch train accuracy: 0.6645671908974975, val accuracy: 0.672954740026551\n",
      "\n",
      "[2]/[5] Epoch starts\n",
      "\t Batch train loss: 49.643475355910496, accuracy 0.6674603174603175\n",
      "\t Batch train loss: 49.62960854456948, accuracy 0.6375\n",
      "\t Batch train loss: 49.605470529265446, accuracy 1.0\n",
      "\t Batch train loss: 49.60904559464066, accuracy 0.7666666666666666\n",
      "\t Batch train loss: 49.604250253061586, accuracy 0.5736111111111112\n",
      "[2]/[5] End epoch: train loss: 49.62056342002089, val loss: 49.605529587336456\n",
      "\t Epoch train accuracy: 0.6804248909457943, val accuracy: 0.6749370505101995\n",
      "\n",
      "[3]/[5] Epoch starts\n",
      "\t Batch train loss: 49.612303055644375, accuracy 0.4259920634920635\n",
      "\t Batch train loss: 49.598943839523905, accuracy 0.6581196581196581\n",
      "\t Batch train loss: 49.58950966768002, accuracy 0.875\n",
      "\t Batch train loss: 49.597701215541825, accuracy 0.6662457912457912\n",
      "\t Batch train loss: 49.59685566485988, accuracy 0.625\n",
      "[3]/[5] End epoch: train loss: 49.60002465105239, val loss: 49.596969242957854\n",
      "\t Epoch train accuracy: 0.6805241402760913, val accuracy: 0.6752200774000506\n",
      "\n",
      "[4]/[5] Epoch starts\n",
      "\t Batch train loss: 49.592980977964864, accuracy 0.875\n",
      "\t Batch train loss: 49.60193312259573, accuracy 0.6666666666666666\n",
      "\t Batch train loss: 49.59065359774136, accuracy 0.5400641025641025\n",
      "\t Batch train loss: 49.60394426381266, accuracy 0.4178571428571428\n",
      "\t Batch train loss: 49.60460255951134, accuracy 0.43154761904761907\n",
      "[4]/[5] End epoch: train loss: 49.594403094951915, val loss: 49.593783000369875\n",
      "\t Epoch train accuracy: 0.680777851369785, val accuracy: 0.6754348913302972\n",
      "\n",
      "[5]/[5] Epoch starts\n",
      "\t Batch train loss: 49.60313693702397, accuracy 0.6333333333333333\n",
      "\t Batch train loss: 49.58781970449137, accuracy 0.875\n",
      "\t Batch train loss: 49.580985829915015, accuracy 0.7847222222222222\n",
      "\t Batch train loss: 49.607178570573424, accuracy 0.38522727272727275\n",
      "\t Batch train loss: 49.60034004328456, accuracy 0.6542207792207793\n",
      "[5]/[5] End epoch: train loss: 49.59205686787693, val loss: 49.59368271028742\n",
      "\t Epoch train accuracy: 0.6802372106092838, val accuracy: 0.6728708759027671\n",
      "\n"
     ]
    }
   ],
   "source": [
    "trainer.training()"
   ]
  },
  {
   "cell_type": "markdown",
   "id": "3a05da17-e6d8-43d6-9c0d-dadcf6cd724d",
   "metadata": {},
   "source": [
    "### Evaluate model"
   ]
  },
  {
   "cell_type": "code",
   "execution_count": 179,
   "id": "60f0444e-e086-499d-9ade-5e127b5b830c",
   "metadata": {
    "tags": []
   },
   "outputs": [],
   "source": [
    "effnet.load_state_dict(torch.load(f'multi_label_output/effnet.pt')['model_state_dict'])\n",
    "effnet = effnet.to(device)"
   ]
  },
  {
   "cell_type": "code",
   "execution_count": 180,
   "id": "66db2f56-f5f1-463a-aa43-b031a51e2359",
   "metadata": {
    "tags": []
   },
   "outputs": [],
   "source": [
    "trainer = Trainer(effnet , \n",
    "                  criteriation,\n",
    "                  device,\n",
    "                  train_dataloader,\n",
    "                  test_dataloader,\n",
    "                  trainset_len,\n",
    "                  testset_len,\n",
    "                  path_output='multi_label_output/{name}.pt'.format(name=NAME),\n",
    "                  multi_label=True\n",
    "                 )"
   ]
  },
  {
   "cell_type": "code",
   "execution_count": 181,
   "id": "f5f27dfa-0456-4dfc-b276-58905da88210",
   "metadata": {
    "tags": []
   },
   "outputs": [],
   "source": [
    "_, _, preds = trainer.val()"
   ]
  },
  {
   "cell_type": "code",
   "execution_count": 182,
   "id": "4a79b654-c80f-4fb5-b857-db67e7629118",
   "metadata": {
    "tags": []
   },
   "outputs": [],
   "source": [
    "pd.DataFrame(preds[0].cpu().numpy()).to_csv('multi_label_output/true_{name}.csv'.format(name=NAME), index=False)\n",
    "pd.DataFrame(preds[1].cpu().numpy()).to_csv('multi_label_output/pred_{name}.csv'.format(name=NAME), index=False)"
   ]
  },
  {
   "cell_type": "code",
   "execution_count": null,
   "id": "d581be29-5bd2-4038-b1bf-d8a318fcf499",
   "metadata": {},
   "outputs": [],
   "source": []
  }
 ],
 "metadata": {
  "kernelspec": {
   "display_name": "Python 3 (ipykernel)",
   "language": "python",
   "name": "python3"
  },
  "language_info": {
   "codemirror_mode": {
    "name": "ipython",
    "version": 3
   },
   "file_extension": ".py",
   "mimetype": "text/x-python",
   "name": "python",
   "nbconvert_exporter": "python",
   "pygments_lexer": "ipython3",
   "version": "3.10.9"
  }
 },
 "nbformat": 4,
 "nbformat_minor": 5
}
