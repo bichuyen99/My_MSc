{
 "cells": [
  {
   "cell_type": "code",
   "execution_count": 1,
   "id": "791ce8e2-0e36-450f-a3d5-85658bd6de24",
   "metadata": {
    "tags": []
   },
   "outputs": [],
   "source": [
    "!pip install torch torchvision gdown -q"
   ]
  },
  {
   "cell_type": "code",
   "execution_count": 1,
   "id": "dbd7d285-61b0-4059-945b-e8761759725d",
   "metadata": {
    "tags": []
   },
   "outputs": [],
   "source": [
    "# import gdown\n",
    "import os\n",
    "from PIL import Image\n",
    "import gc\n",
    "\n",
    "import torch\n",
    "import torchvision\n",
    "import torch.nn as nn\n",
    "import torchvision.transforms as transforms\n",
    "from torch.utils.data import Dataset, DataLoader\n",
    "from sklearn.metrics import accuracy_score, f1_score\n",
    "import torch.nn.functional as F\n",
    "\n",
    "\n",
    "import numpy as np\n",
    "import pandas as pd\n",
    "import matplotlib.pyplot as plt\n",
    "import seaborn as sns\n",
    "\n",
    "import sklearn\n",
    "from sklearn.metrics import average_precision_score\n",
    "\n",
    "\n",
    "import random\n",
    "import warnings\n",
    "from tqdm import tqdm\n",
    "warnings.filterwarnings(\"ignore\")"
   ]
  },
  {
   "cell_type": "code",
   "execution_count": 2,
   "id": "353b60a5-4d08-4c2d-8d31-9f2ea7a3d9d9",
   "metadata": {
    "tags": []
   },
   "outputs": [],
   "source": [
    "def seed_everything(seed=42):\n",
    "    random.seed(seed)\n",
    "    os.environ['PYTHONHASHSEED'] = str(seed)\n",
    "    np.random.seed(seed)\n",
    "    torch.manual_seed(seed)\n",
    "    torch.backends.cudnn.deterministic = True\n",
    "    torch.backends.cudnn.benchmark = False\n",
    "    \n",
    "seed_everything()"
   ]
  },
  {
   "cell_type": "markdown",
   "id": "e04b2e22-9ecd-41ad-8f2b-36143f7968c0",
   "metadata": {},
   "source": [
    "### Multi-class probplem"
   ]
  },
  {
   "cell_type": "markdown",
   "id": "045c84bf-71dd-4919-ba00-1b65bc7ee6f0",
   "metadata": {},
   "source": [
    "gdown.download(\"https://drive.google.com/file/d/1q8Jc3LyQfNxuzAAvIQFAcwrgliHRijix/view?usp=share_link\",\"./class_data.zip\", quiet=False, fuzzy=True)\n",
    "!unzip -q ./class_data.zip"
   ]
  },
  {
   "cell_type": "markdown",
   "id": "b9b8e8a3-7b84-41a4-a4a0-504de3479100",
   "metadata": {},
   "source": [
    "### Resnet training"
   ]
  },
  {
   "cell_type": "code",
   "execution_count": 3,
   "id": "a33356ce-125b-4587-a725-203fd63a5235",
   "metadata": {
    "tags": []
   },
   "outputs": [],
   "source": [
    "if not os.path.exists('multi_class_output'):\n",
    "    os.mkdir('multi_class_output')\n",
    "else:\n",
    "    print('multi_class_output exists')"
   ]
  },
  {
   "cell_type": "code",
   "execution_count": 3,
   "id": "53450e48-2a50-490b-8dab-ef8db32bb9b2",
   "metadata": {
    "tags": []
   },
   "outputs": [
    {
     "name": "stdout",
     "output_type": "stream",
     "text": [
      "Wed May 24 14:50:58 2023       \n",
      "+-----------------------------------------------------------------------------+\n",
      "| NVIDIA-SMI 515.105.01   Driver Version: 515.105.01   CUDA Version: 11.7     |\n",
      "|-------------------------------+----------------------+----------------------+\n",
      "| GPU  Name        Persistence-M| Bus-Id        Disp.A | Volatile Uncorr. ECC |\n",
      "| Fan  Temp  Perf  Pwr:Usage/Cap|         Memory-Usage | GPU-Util  Compute M. |\n",
      "|                               |                      |               MIG M. |\n",
      "|===============================+======================+======================|\n",
      "|   0  NVIDIA GeForce ...  Off  | 00000000:41:00.0 Off |                  N/A |\n",
      "|  0%   20C    P8    14W / 370W |   1602MiB / 24576MiB |      0%      Default |\n",
      "|                               |                      |                  N/A |\n",
      "+-------------------------------+----------------------+----------------------+\n",
      "|   1  NVIDIA GeForce ...  Off  | 00000000:61:00.0 Off |                  N/A |\n",
      "|  0%   20C    P8    12W / 370W |      2MiB / 24576MiB |      0%      Default |\n",
      "|                               |                      |                  N/A |\n",
      "+-------------------------------+----------------------+----------------------+\n",
      "|   2  NVIDIA GeForce ...  Off  | 00000000:A1:00.0 Off |                  N/A |\n",
      "|  0%   20C    P8    15W / 370W |   4254MiB / 24576MiB |      0%      Default |\n",
      "|                               |                      |                  N/A |\n",
      "+-------------------------------+----------------------+----------------------+\n",
      "|   3  NVIDIA GeForce ...  Off  | 00000000:E1:00.0 Off |                  N/A |\n",
      "|  0%   20C    P8    12W / 370W |   3636MiB / 24576MiB |      0%      Default |\n",
      "|                               |                      |                  N/A |\n",
      "+-------------------------------+----------------------+----------------------+\n",
      "                                                                               \n",
      "+-----------------------------------------------------------------------------+\n",
      "| Processes:                                                                  |\n",
      "|  GPU   GI   CI        PID   Type   Process name                  GPU Memory |\n",
      "|        ID   ID                                                   Usage      |\n",
      "|=============================================================================|\n",
      "+-----------------------------------------------------------------------------+\n"
     ]
    }
   ],
   "source": [
    "!nvidia-smi"
   ]
  },
  {
   "cell_type": "code",
   "execution_count": 4,
   "id": "6980a321-0db4-4017-9a37-e7d4cb8f2780",
   "metadata": {
    "tags": []
   },
   "outputs": [],
   "source": [
    "def clean():\n",
    "    torch.cuda.empty_cache()\n",
    "    gc.collect()"
   ]
  },
  {
   "cell_type": "code",
   "execution_count": 5,
   "id": "b7c088bf-c55e-42ba-9d30-dc0ec85225b8",
   "metadata": {
    "tags": []
   },
   "outputs": [],
   "source": [
    "clean()"
   ]
  },
  {
   "cell_type": "code",
   "execution_count": 6,
   "id": "3b1a1c42-7247-4692-8cc1-e620a0a8512b",
   "metadata": {
    "tags": []
   },
   "outputs": [],
   "source": [
    "os.environ['CUDA_VISIABLE_DEVICES']='0'"
   ]
  },
  {
   "cell_type": "code",
   "execution_count": 7,
   "id": "30edafdf-6845-4446-aed5-0d0008e8e56e",
   "metadata": {
    "tags": []
   },
   "outputs": [],
   "source": [
    "device = torch.device('cuda')"
   ]
  },
  {
   "cell_type": "markdown",
   "id": "9e952232-ad01-4dad-8685-2fc83010c2a7",
   "metadata": {},
   "source": [
    "### VIT"
   ]
  },
  {
   "cell_type": "code",
   "execution_count": 13,
   "id": "b134addb-469a-4110-8c12-deecc9e8fd10",
   "metadata": {
    "tags": []
   },
   "outputs": [],
   "source": [
    "from transformer.vit import Transformer\n",
    "from utils.trainer import Trainer\n",
    "from data.multi_class_build_data import build_dataloader\n",
    "\n",
    "BATCH_SIZE=8\n",
    "\n",
    "transfrom = transforms.Compose([\n",
    "    transforms.ToTensor(),\n",
    "    transforms.Normalize(0.5, 0.5)\n",
    "])\n",
    "\n",
    "train_dataloader, test_dataloader, trainset_len, testset_len, NUM_CLASS = build_dataloader(transfrom, BATCH_SIZE)"
   ]
  },
  {
   "cell_type": "code",
   "execution_count": 14,
   "id": "53055a26-6025-4b07-9b99-a04d9335a712",
   "metadata": {
    "tags": []
   },
   "outputs": [],
   "source": [
    "criteriation=nn.CrossEntropyLoss()"
   ]
  },
  {
   "cell_type": "code",
   "execution_count": 27,
   "id": "43e78280-da18-4e60-a7ca-9b60749e36c0",
   "metadata": {
    "tags": []
   },
   "outputs": [],
   "source": [
    "del transformer"
   ]
  },
  {
   "cell_type": "code",
   "execution_count": 28,
   "id": "dc0ce50b-9051-436b-b627-22359ace3f90",
   "metadata": {
    "tags": []
   },
   "outputs": [],
   "source": [
    "transformer = Transformer(img_size=(240, 320),\n",
    "                          patch_size=(8, 8),\n",
    "                          in_channels=3,\n",
    "                          n_classes=NUM_CLASS,\n",
    "                          embed_dim=128,\n",
    "                          depth=6,\n",
    "                          n_heads=16,\n",
    "                          mlp_ratio=4.,\n",
    "                          qkv_bias=True,\n",
    "                          p=0.3,\n",
    "                          attn_p=0.3\n",
    "                         )"
   ]
  },
  {
   "cell_type": "code",
   "execution_count": 29,
   "id": "458e6c90-811c-4606-95ff-20046af388d5",
   "metadata": {
    "tags": []
   },
   "outputs": [],
   "source": [
    "transformer = transformer.to(device)"
   ]
  },
  {
   "cell_type": "code",
   "execution_count": 30,
   "id": "baea5822-4efa-4e93-9023-b479d2edeae9",
   "metadata": {
    "tags": []
   },
   "outputs": [],
   "source": [
    "optimizer = torch.optim.Adam(transformer.parameters(), lr=0.001)"
   ]
  },
  {
   "cell_type": "markdown",
   "id": "99d1c881-c007-4f1b-8382-ae2470a3a02a",
   "metadata": {},
   "source": [
    "### Training "
   ]
  },
  {
   "cell_type": "code",
   "execution_count": 31,
   "id": "db05f3b9-db4b-4597-8a2b-9dcb0bab5f7d",
   "metadata": {
    "tags": []
   },
   "outputs": [],
   "source": [
    "NAME = 'vit'\n",
    "\n",
    "trainer = Trainer(transformer , \n",
    "                  criteriation,\n",
    "                  device,\n",
    "                  train_dataloader,\n",
    "                  test_dataloader,\n",
    "                  trainset_len,\n",
    "                  testset_len,\n",
    "                  optimizer,\n",
    "                  epochs=15,\n",
    "                  path_output='multi_class_output/{name}.pt'.format(name=NAME),\n",
    "                  multi_label=False\n",
    "                 )"
   ]
  },
  {
   "cell_type": "code",
   "execution_count": 32,
   "id": "92089531-75f8-45d1-b960-3271fb067f9a",
   "metadata": {
    "tags": []
   },
   "outputs": [
    {
     "name": "stdout",
     "output_type": "stream",
     "text": [
      "[1]/[15] Epoch starts\n",
      "\t Batch train loss: 1.3357994556427002, accuracy 0.5\n",
      "\t Batch train loss: 1.210110068321228, accuracy 0.75\n",
      "\t Batch train loss: 1.4499282836914062, accuracy 0.0\n",
      "\t Batch train loss: 1.3471124172210693, accuracy 0.25\n",
      "\t Batch train loss: 1.3717551231384277, accuracy 0.125\n",
      "[1]/[15] End epoch: train loss: 1.4011189888744118, val loss: 1.3740252954297436\n",
      "\t Epoch train accuracy: 0.26343274116516113, val accuracy: 0.3848009650180941\n",
      "\n",
      "[2]/[15] Epoch starts\n",
      "\t Batch train loss: 1.3988792896270752, accuracy 0.25\n",
      "\t Batch train loss: 1.3680224418640137, accuracy 0.125\n",
      "\t Batch train loss: 1.3078628778457642, accuracy 0.375\n",
      "\t Batch train loss: 1.3001596927642822, accuracy 0.25\n",
      "\t Batch train loss: 0.7891972661018372, accuracy 0.5\n",
      "[2]/[15] End epoch: train loss: 1.3344319776273748, val loss: 1.2783650968225309\n",
      "\t Epoch train accuracy: 0.3253992199897766, val accuracy: 0.41777241656614394\n",
      "\n",
      "[3]/[15] Epoch starts\n",
      "\t Batch train loss: 1.392845630645752, accuracy 0.125\n",
      "\t Batch train loss: 1.0620441436767578, accuracy 0.75\n",
      "\t Batch train loss: 0.6402531862258911, accuracy 0.75\n",
      "\t Batch train loss: 0.46242833137512207, accuracy 0.75\n",
      "\t Batch train loss: 0.5022188425064087, accuracy 0.75\n",
      "[3]/[15] End epoch: train loss: 0.952639490422851, val loss: 0.5421443029962537\n",
      "\t Epoch train accuracy: 0.5690469145774841, val accuracy: 0.7792521109770808\n",
      "\n",
      "[4]/[15] Epoch starts\n",
      "\t Batch train loss: 0.6434846520423889, accuracy 0.75\n",
      "\t Batch train loss: 0.5570954084396362, accuracy 0.75\n",
      "\t Batch train loss: 0.4515022337436676, accuracy 0.875\n",
      "\t Batch train loss: 0.1263628602027893, accuracy 1.0\n",
      "\t Batch train loss: 0.20369195938110352, accuracy 0.875\n",
      "[4]/[15] End epoch: train loss: 0.488827468257742, val loss: 0.7291513191103127\n",
      "\t Epoch train accuracy: 0.8076729774475098, val accuracy: 0.8403699236027342\n",
      "\n",
      "[5]/[15] Epoch starts\n",
      "\t Batch train loss: 0.17815706133842468, accuracy 0.875\n",
      "\t Batch train loss: 0.5025500059127808, accuracy 0.75\n",
      "\t Batch train loss: 0.4854081869125366, accuracy 0.75\n",
      "\t Batch train loss: 0.18944084644317627, accuracy 1.0\n",
      "\t Batch train loss: 0.1374129205942154, accuracy 1.0\n",
      "[5]/[15] End epoch: train loss: 0.38795395371516006, val loss: 0.6723599681714707\n",
      "\t Epoch train accuracy: 0.8484483361244202, val accuracy: 0.8451950140731805\n",
      "\n",
      "[6]/[15] Epoch starts\n",
      "\t Batch train loss: 0.3992791473865509, accuracy 0.75\n",
      "\t Batch train loss: 0.8712702393531799, accuracy 0.625\n",
      "\t Batch train loss: 0.319479376077652, accuracy 0.875\n",
      "\t Batch train loss: 0.4697808623313904, accuracy 0.75\n",
      "\t Batch train loss: 0.0914594903588295, accuracy 1.0\n",
      "[6]/[15] End epoch: train loss: 0.3066951554858614, val loss: 0.5494825833540249\n",
      "\t Epoch train accuracy: 0.8820929527282715, val accuracy: 0.8371531966224367\n",
      "\n",
      "[7]/[15] Epoch starts\n",
      "\t Batch train loss: 0.11825965344905853, accuracy 1.0\n",
      "\t Batch train loss: 0.6034262776374817, accuracy 0.75\n",
      "\t Batch train loss: 0.508795976638794, accuracy 0.75\n",
      "\t Batch train loss: 0.12220313400030136, accuracy 0.875\n",
      "\t Batch train loss: 0.0991305261850357, accuracy 1.0\n",
      "[7]/[15] End epoch: train loss: 0.3016362003417119, val loss: 0.35740663665685235\n",
      "\t Epoch train accuracy: 0.8807873725891113, val accuracy: 0.8693204664254122\n",
      "\n",
      "[8]/[15] Epoch starts\n",
      "\t Batch train loss: 0.22714340686798096, accuracy 0.875\n",
      "\t Batch train loss: 0.21125982701778412, accuracy 0.875\n",
      "\t Batch train loss: 0.17989906668663025, accuracy 1.0\n",
      "\t Batch train loss: 0.09112432599067688, accuracy 1.0\n",
      "\t Batch train loss: 0.09472517669200897, accuracy 1.0\n",
      "[8]/[15] End epoch: train loss: 0.2739041152156637, val loss: 0.5165194934431384\n",
      "\t Epoch train accuracy: 0.8929396271705627, val accuracy: 0.8536389223964616\n",
      "\n",
      "[9]/[15] Epoch starts\n",
      "\t Batch train loss: 0.1782047301530838, accuracy 1.0\n",
      "\t Batch train loss: 0.185508131980896, accuracy 1.0\n",
      "\t Batch train loss: 0.5709058046340942, accuracy 0.75\n",
      "\t Batch train loss: 0.10475168377161026, accuracy 1.0\n",
      "\t Batch train loss: 0.07806490361690521, accuracy 1.0\n",
      "[9]/[15] End epoch: train loss: 0.23403982981868096, val loss: 0.3331048641402106\n",
      "\t Epoch train accuracy: 0.9040875434875488, val accuracy: 0.8777643747486932\n",
      "\n",
      "[10]/[15] Epoch starts\n",
      "\t Batch train loss: 0.600123405456543, accuracy 0.75\n",
      "\t Batch train loss: 0.05490785837173462, accuracy 1.0\n",
      "\t Batch train loss: 0.4899693429470062, accuracy 0.875\n",
      "\t Batch train loss: 0.2978344261646271, accuracy 0.875\n",
      "\t Batch train loss: 0.6116520166397095, accuracy 0.625\n",
      "[10]/[15] End epoch: train loss: 0.23372171328855668, val loss: 0.44520798090808256\n",
      "\t Epoch train accuracy: 0.9083057045936584, val accuracy: 0.8580619219943707\n",
      "\n",
      "[11]/[15] Epoch starts\n",
      "\t Batch train loss: 0.09770190715789795, accuracy 1.0\n",
      "\t Batch train loss: 0.8410337567329407, accuracy 0.75\n",
      "\t Batch train loss: 0.15651866793632507, accuracy 1.0\n",
      "\t Batch train loss: 0.04353128373622894, accuracy 1.0\n",
      "\t Batch train loss: 0.19288775324821472, accuracy 0.875\n",
      "[11]/[15] End epoch: train loss: 0.2030068527344243, val loss: 0.7131264720133214\n",
      "\t Epoch train accuracy: 0.9187505841255188, val accuracy: 0.8536389223964616\n",
      "\n",
      "[12]/[15] Epoch starts\n",
      "\t Batch train loss: 0.01842738315463066, accuracy 1.0\n",
      "\t Batch train loss: 0.17505262792110443, accuracy 0.875\n",
      "\t Batch train loss: 0.018511541187763214, accuracy 1.0\n",
      "\t Batch train loss: 0.14250457286834717, accuracy 0.875\n",
      "\t Batch train loss: 0.0655505433678627, accuracy 1.0\n",
      "[12]/[15] End epoch: train loss: 0.20322965404703291, val loss: 0.482999272654028\n",
      "\t Epoch train accuracy: 0.92176353931427, val accuracy: 0.8942501005227181\n",
      "\n",
      "[13]/[15] Epoch starts\n",
      "\t Batch train loss: 0.05770073086023331, accuracy 1.0\n",
      "\t Batch train loss: 0.025691479444503784, accuracy 1.0\n",
      "\t Batch train loss: 0.3178256154060364, accuracy 0.875\n",
      "\t Batch train loss: 0.12497596442699432, accuracy 1.0\n",
      "\t Batch train loss: 0.45067325234413147, accuracy 0.875\n",
      "[13]/[15] End epoch: train loss: 0.16907667053074538, val loss: 0.5009923502579785\n",
      "\t Epoch train accuracy: 0.9326102137565613, val accuracy: 0.8673100120627262\n",
      "\n",
      "[14]/[15] Epoch starts\n",
      "\t Batch train loss: 0.588480532169342, accuracy 0.75\n",
      "\t Batch train loss: 0.21742236614227295, accuracy 0.875\n",
      "\t Batch train loss: 0.23067674040794373, accuracy 0.875\n",
      "\t Batch train loss: 0.08538039773702621, accuracy 1.0\n",
      "\t Batch train loss: 0.5652574300765991, accuracy 0.875\n",
      "[14]/[15] End epoch: train loss: 0.1711680204637945, val loss: 0.47840012924250247\n",
      "\t Epoch train accuracy: 0.9323089122772217, val accuracy: 0.8769601930036188\n",
      "\n",
      "[15]/[15] Epoch starts\n",
      "\t Batch train loss: 0.011934920214116573, accuracy 1.0\n",
      "\t Batch train loss: 0.7592939734458923, accuracy 0.75\n",
      "\t Batch train loss: 0.5595612525939941, accuracy 0.875\n",
      "\t Batch train loss: 0.00371686858125031, accuracy 1.0\n",
      "\t Batch train loss: 0.15670835971832275, accuracy 0.875\n",
      "[15]/[15] End epoch: train loss: 0.15728620328080684, val loss: 0.39766746326565044\n",
      "\t Epoch train accuracy: 0.9375313520431519, val accuracy: 0.8568556493767592\n",
      "\n"
     ]
    }
   ],
   "source": [
    "trainer.training()"
   ]
  },
  {
   "cell_type": "markdown",
   "id": "1f9c9a2d-e919-4444-8b70-cc6bb554c165",
   "metadata": {},
   "source": [
    "### Evaluate model"
   ]
  },
  {
   "cell_type": "code",
   "execution_count": 33,
   "id": "f855a594-54e2-4dc7-b6fd-bc791a7b39eb",
   "metadata": {
    "tags": []
   },
   "outputs": [],
   "source": [
    "transformer.load_state_dict(torch.load(f'multi_class_output/vit.pt')['model_state_dict'])\n",
    "transformer = transformer.to(device)"
   ]
  },
  {
   "cell_type": "code",
   "execution_count": 34,
   "id": "cb895a39-fd71-4bd5-b145-4d33adbaebfb",
   "metadata": {
    "tags": []
   },
   "outputs": [],
   "source": [
    "_, _, preds = trainer.val()"
   ]
  },
  {
   "cell_type": "code",
   "execution_count": 35,
   "id": "b62de6c4-1d0f-4eaa-8f23-d9c296d874a0",
   "metadata": {
    "tags": []
   },
   "outputs": [],
   "source": [
    "prediciton = pd.DataFrame([preds[0].cpu().numpy(), preds[1].cpu().numpy()]).T\n",
    "prediciton.rename = ['labels', 'predictions']\n",
    "\n",
    "prediciton.to_csv('multi_class_output/{name}.csv'.format(name=NAME), index=False)"
   ]
  },
  {
   "cell_type": "markdown",
   "id": "96382bfd-31aa-4a51-864c-8b4c3505917f",
   "metadata": {},
   "source": [
    "### Multi-label problem"
   ]
  },
  {
   "cell_type": "code",
   "execution_count": 53,
   "id": "be5bc2ae-4021-4ccc-8685-26bb1a365abc",
   "metadata": {
    "tags": []
   },
   "outputs": [
    {
     "name": "stderr",
     "output_type": "stream",
     "text": [
      "Downloading...\n",
      "From (uriginal): https://drive.google.com/uc?id=15aX9gKeSlGoUJBHAQGqkL5euq0kDKkwg\n",
      "From (redirected): https://drive.google.com/uc?id=15aX9gKeSlGoUJBHAQGqkL5euq0kDKkwg&confirm=t&uuid=e2edee54-c278-4706-a7ab-fe137a692663\n",
      "To: /home/jovyan/work/label_data.zip\n",
      "100%|██████████████████████████████████████████████████████████████████████████████| 4.51G/4.51G [00:52<00:00, 86.0MB/s]\n"
     ]
    },
    {
     "name": "stdout",
     "output_type": "stream",
     "text": [
      "replace sample/images/00000013_005.png? [y]es, [n]o, [A]ll, [N]one, [r]ename: ^C\n"
     ]
    }
   ],
   "source": [
    "gdown.download(\"https://drive.google.com/file/d/15aX9gKeSlGoUJBHAQGqkL5euq0kDKkwg/view?usp=share_link\",\"./label_data.zip\", quiet=False, fuzzy=True)\n",
    "!unzip -q ./label_data.zip"
   ]
  },
  {
   "cell_type": "code",
   "execution_count": 66,
   "id": "1d2a83f8-7aab-4efc-9506-075065e2692f",
   "metadata": {
    "tags": []
   },
   "outputs": [],
   "source": [
    "# Clean dataset: RUN ONLY ONCE\n",
    "data = pd.read_csv('sample_labels.csv')\n",
    "data['lables'] = data['Finding Labels'].str.split('|')\n",
    "data['Image Index'] = './sample/images/' + data['Image Index']\n",
    "\n",
    "chen = []\n",
    "for path_img in data['Image Index'].values:\n",
    "    img = Image.open(path_img)\n",
    "    chen.append(transforms.ToTensor()(img).shape)\n",
    "\n",
    "bad_img = data.loc[pd.DataFrame(chen)[0] > 1, 'Image Index'].values\n",
    "\n",
    "for path_img in bad_img:\n",
    "    img = plt.imread(path_img)\n",
    "    img = img[:, :, 0]\n",
    "    img = Image.fromarray(np.uint8(img * 255), 'L')\n",
    "    img.save(path_img,\"PNG\")"
   ]
  },
  {
   "cell_type": "code",
   "execution_count": 7,
   "id": "bddfe218-cfbc-4c95-903d-31875f208dcf",
   "metadata": {
    "tags": []
   },
   "outputs": [],
   "source": [
    "if not os.path.exists('multi_label_output'):\n",
    "    os.mkdir('multi_label_output')\n",
    "else:\n",
    "    print('multi_label_output exists')"
   ]
  },
  {
   "cell_type": "markdown",
   "id": "776bbfb2-8ae9-49ba-82b4-b8b0b01b2aa4",
   "metadata": {},
   "source": [
    "### Losses"
   ]
  },
  {
   "cell_type": "code",
   "execution_count": 24,
   "id": "f98564fa-3560-4c92-b78f-f080c901daac",
   "metadata": {
    "tags": []
   },
   "outputs": [],
   "source": [
    "criteriation = nn.BCELoss()"
   ]
  },
  {
   "cell_type": "code",
   "execution_count": 25,
   "id": "e015cea8-8927-4d2f-887d-926156ce1896",
   "metadata": {
    "tags": []
   },
   "outputs": [],
   "source": [
    "from utils.trainer import Trainer\n",
    "from data.multi_label_build_data import build_dataloader\n",
    "\n",
    "BATCH_SIZE=4\n",
    "\n",
    "transfrom = transforms.Compose([\n",
    "    transforms.Resize(256),\n",
    "    transforms.RandomRotation(30),\n",
    "    transforms.ToTensor(),\n",
    "    transforms.Normalize(0.5, 0.5)\n",
    "])\n",
    "\n",
    "train_dataloader, test_dataloader, trainset_len, testset_len, NUM_CLASS, _ = build_dataloader(transfrom, BATCH_SIZE)"
   ]
  },
  {
   "cell_type": "code",
   "execution_count": 39,
   "id": "e45d473a-4a06-4a64-ac40-7e74019e5989",
   "metadata": {
    "collapsed": true,
    "jupyter": {
     "outputs_hidden": true
    },
    "tags": []
   },
   "outputs": [
    {
     "ename": "NameError",
     "evalue": "name 'transformer' is not defined",
     "output_type": "error",
     "traceback": [
      "\u001b[0;31m---------------------------------------------------------------------------\u001b[0m",
      "\u001b[0;31mNameError\u001b[0m                                 Traceback (most recent call last)",
      "Cell \u001b[0;32mIn[39], line 1\u001b[0m\n\u001b[0;32m----> 1\u001b[0m \u001b[38;5;28;01mdel\u001b[39;00m transformer\n",
      "\u001b[0;31mNameError\u001b[0m: name 'transformer' is not defined"
     ]
    }
   ],
   "source": [
    "del transformer"
   ]
  },
  {
   "cell_type": "code",
   "execution_count": 40,
   "id": "ad1e804a-518c-4753-8f05-c91d550a935d",
   "metadata": {
    "tags": []
   },
   "outputs": [],
   "source": [
    "from transformer.vit import Transformer\n",
    "\n",
    "transformer = Transformer(img_size=(256, 256),\n",
    "                          patch_size=(8, 8),\n",
    "                          in_channels=1,\n",
    "                          n_classes=NUM_CLASS,\n",
    "                          embed_dim=128,\n",
    "                          depth=6,\n",
    "                          n_heads=16,\n",
    "                          mlp_ratio=4.,\n",
    "                          qkv_bias=True,\n",
    "                          p=0.3,\n",
    "                          attn_p=0.3\n",
    "                         )"
   ]
  },
  {
   "cell_type": "code",
   "execution_count": 41,
   "id": "08bac1d1-b6b4-435f-8d87-9c5f21f36819",
   "metadata": {
    "tags": []
   },
   "outputs": [],
   "source": [
    "transformer = transformer.to(device)"
   ]
  },
  {
   "cell_type": "code",
   "execution_count": 42,
   "id": "42fca761-b6ec-4bb5-a15e-a1335f69b20a",
   "metadata": {
    "tags": []
   },
   "outputs": [],
   "source": [
    "optimizer = torch.optim.Adam(transformer.parameters(), lr=1e-5)"
   ]
  },
  {
   "cell_type": "code",
   "execution_count": 44,
   "id": "fe54a0c9-f461-4299-b9eb-27c524da78f6",
   "metadata": {
    "tags": []
   },
   "outputs": [],
   "source": [
    "NAME = 'vit'\n",
    "\n",
    "trainer = Trainer(transformer , \n",
    "                  criteriation,\n",
    "                  device,\n",
    "                  train_dataloader,\n",
    "                  test_dataloader,\n",
    "                  trainset_len,\n",
    "                  testset_len,\n",
    "                  optimizer,\n",
    "                  epochs=5,\n",
    "                  path_output='multi_label_output/{name}.pt'.format(name=NAME),\n",
    "                  multi_label=True\n",
    "                 )"
   ]
  },
  {
   "cell_type": "code",
   "execution_count": 45,
   "id": "0ee56368-dde0-4cac-9f45-a013934a1ecb",
   "metadata": {
    "tags": []
   },
   "outputs": [
    {
     "name": "stdout",
     "output_type": "stream",
     "text": [
      "[1]/[5] Epoch starts\n",
      "\t Batch train loss: 0.6775388717651367, accuracy 0.16578282828282828\n",
      "\t Batch train loss: 0.26068487763404846, accuracy 0.6875\n",
      "\t Batch train loss: 0.2822982370853424, accuracy 0.5736111111111112\n",
      "\t Batch train loss: 0.2744353115558624, accuracy 0.570570054945055\n",
      "\t Batch train loss: 0.23051714897155762, accuracy 0.55625\n",
      "[1]/[5] End epoch: train loss: 0.2877248962055746, val loss: 0.24431942653220004\n",
      "\t Epoch train accuracy: 0.6409968074371633, val accuracy: 0.6777713761277544\n",
      "\n",
      "[2]/[5] Epoch starts\n",
      "\t Batch train loss: 0.21742796897888184, accuracy 0.8317307692307693\n",
      "\t Batch train loss: 0.18469057977199554, accuracy 0.75\n",
      "\t Batch train loss: 0.2709471583366394, accuracy 0.6954365079365079\n",
      "\t Batch train loss: 0.1874898225069046, accuracy 0.675\n",
      "\t Batch train loss: 0.2830275297164917, accuracy 0.4294642857142857\n",
      "[2]/[5] End epoch: train loss: 0.23002267916133437, val loss: 0.22716593518387942\n",
      "\t Epoch train accuracy: 0.6874971193049308, val accuracy: 0.6825996264778602\n",
      "\n",
      "[3]/[5] Epoch starts\n",
      "\t Batch train loss: 0.2447616010904312, accuracy 0.5817307692307692\n",
      "\t Batch train loss: 0.31355756521224976, accuracy 0.3334415584415584\n",
      "\t Batch train loss: 0.20353566110134125, accuracy 0.5669642857142857\n",
      "\t Batch train loss: 0.48596256971359253, accuracy 0.5178174603174603\n",
      "\t Batch train loss: 0.19031882286071777, accuracy 0.6333333333333333\n",
      "[3]/[5] End epoch: train loss: 0.21827298605289214, val loss: 0.22171059528649864\n",
      "\t Epoch train accuracy: 0.691532639199028, val accuracy: 0.6829046478020607\n",
      "\n",
      "[4]/[5] Epoch starts\n",
      "\t Batch train loss: 0.266669899225235, accuracy 0.6581439393939393\n",
      "\t Batch train loss: 0.3305171728134155, accuracy 0.5287698412698413\n",
      "\t Batch train loss: 0.13566520810127258, accuracy 0.8333333333333334\n",
      "\t Batch train loss: 0.2557399868965149, accuracy 0.6178571428571428\n",
      "\t Batch train loss: 0.22969196736812592, accuracy 0.7166666666666667\n",
      "[4]/[5] End epoch: train loss: 0.2145211797959297, val loss: 0.21967839740755088\n",
      "\t Epoch train accuracy: 0.6916667030789103, val accuracy: 0.682860232079679\n",
      "\n",
      "[5]/[5] Epoch starts\n",
      "\t Batch train loss: 0.08540738373994827, accuracy 1.0\n",
      "\t Batch train loss: 0.14927630126476288, accuracy 0.8\n",
      "\t Batch train loss: 0.2515418231487274, accuracy 0.6168154761904762\n",
      "\t Batch train loss: 0.2596263289451599, accuracy 0.4625\n",
      "\t Batch train loss: 0.24285927414894104, accuracy 0.5868055555555556\n",
      "[5]/[5] End epoch: train loss: 0.21299342926728684, val loss: 0.2190403057317134\n",
      "\t Epoch train accuracy: 0.6926560997899183, val accuracy: 0.6835611663834233\n",
      "\n"
     ]
    }
   ],
   "source": [
    "trainer.training()"
   ]
  },
  {
   "cell_type": "markdown",
   "id": "3a05da17-e6d8-43d6-9c0d-dadcf6cd724d",
   "metadata": {},
   "source": [
    "### Evaluate model"
   ]
  },
  {
   "cell_type": "code",
   "execution_count": 46,
   "id": "60f0444e-e086-499d-9ade-5e127b5b830c",
   "metadata": {
    "tags": []
   },
   "outputs": [],
   "source": [
    "transformer.load_state_dict(torch.load(f'multi_label_output/vit.pt')['model_state_dict'])\n",
    "transformer = transformer.to(device)"
   ]
  },
  {
   "cell_type": "code",
   "execution_count": 47,
   "id": "66db2f56-f5f1-463a-aa43-b031a51e2359",
   "metadata": {
    "tags": []
   },
   "outputs": [],
   "source": [
    "trainer = Trainer(transformer , \n",
    "                  criteriation,\n",
    "                  device,\n",
    "                  train_dataloader,\n",
    "                  test_dataloader,\n",
    "                  trainset_len,\n",
    "                  testset_len,\n",
    "                  path_output='multi_label_output/{name}.pt'.format(name=NAME),\n",
    "                  multi_label=True\n",
    "                 )"
   ]
  },
  {
   "cell_type": "code",
   "execution_count": 48,
   "id": "f5f27dfa-0456-4dfc-b276-58905da88210",
   "metadata": {
    "tags": []
   },
   "outputs": [],
   "source": [
    "_, _, preds = trainer.val()"
   ]
  },
  {
   "cell_type": "code",
   "execution_count": 49,
   "id": "4a79b654-c80f-4fb5-b857-db67e7629118",
   "metadata": {
    "tags": []
   },
   "outputs": [],
   "source": [
    "pd.DataFrame(preds[0].cpu().numpy()).to_csv('multi_label_output/true_{name}.csv'.format(name=NAME), index=False)\n",
    "pd.DataFrame(preds[1].cpu().numpy()).to_csv('multi_label_output/pred_{name}.csv'.format(name=NAME), index=False)"
   ]
  },
  {
   "cell_type": "code",
   "execution_count": null,
   "id": "57fb6069-bdc2-4a0f-b697-d0a7c483c1af",
   "metadata": {},
   "outputs": [],
   "source": []
  }
 ],
 "metadata": {
  "kernelspec": {
   "display_name": "Python 3 (ipykernel)",
   "language": "python",
   "name": "python3"
  },
  "language_info": {
   "codemirror_mode": {
    "name": "ipython",
    "version": 3
   },
   "file_extension": ".py",
   "mimetype": "text/x-python",
   "name": "python",
   "nbconvert_exporter": "python",
   "pygments_lexer": "ipython3",
   "version": "3.10.9"
  }
 },
 "nbformat": 4,
 "nbformat_minor": 5
}
