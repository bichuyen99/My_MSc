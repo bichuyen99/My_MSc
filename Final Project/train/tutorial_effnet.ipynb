{
 "cells": [
  {
   "cell_type": "code",
   "execution_count": 1,
   "id": "791ce8e2-0e36-450f-a3d5-85658bd6de24",
   "metadata": {
    "tags": []
   },
   "outputs": [],
   "source": [
    "!pip install torch torchvision -q"
   ]
  },
  {
   "cell_type": "code",
   "execution_count": 2,
   "id": "dbd7d285-61b0-4059-945b-e8761759725d",
   "metadata": {
    "tags": []
   },
   "outputs": [],
   "source": [
    "import os\n",
    "from PIL import Image\n",
    "import gc\n",
    "\n",
    "import torch\n",
    "import torchvision\n",
    "import torch.nn as nn\n",
    "import torchvision.transforms as transforms\n",
    "from torch.utils.data import Dataset, DataLoader\n",
    "from sklearn.metrics import accuracy_score, f1_score\n",
    "import torch.nn.functional as F\n",
    "\n",
    "\n",
    "import numpy as np\n",
    "import pandas as pd\n",
    "import matplotlib.pyplot as plt\n",
    "import seaborn as sns\n",
    "\n",
    "import sklearn\n",
    "from sklearn.metrics import average_precision_score\n",
    "\n",
    "\n",
    "import random\n",
    "import warnings\n",
    "from tqdm import tqdm\n",
    "warnings.filterwarnings(\"ignore\")"
   ]
  },
  {
   "cell_type": "code",
   "execution_count": 3,
   "id": "353b60a5-4d08-4c2d-8d31-9f2ea7a3d9d9",
   "metadata": {
    "tags": []
   },
   "outputs": [],
   "source": [
    "def seed_everything(seed=42):\n",
    "    random.seed(seed)\n",
    "    os.environ['PYTHONHASHSEED'] = str(seed)\n",
    "    np.random.seed(seed)\n",
    "    torch.manual_seed(seed)\n",
    "    torch.backends.cudnn.deterministic = True\n",
    "    torch.backends.cudnn.benchmark = False\n",
    "    \n",
    "seed_everything()"
   ]
  },
  {
   "cell_type": "markdown",
   "id": "e04b2e22-9ecd-41ad-8f2b-36143f7968c0",
   "metadata": {},
   "source": [
    "### Multi-class probplem"
   ]
  },
  {
   "cell_type": "markdown",
   "id": "b9b8e8a3-7b84-41a4-a4a0-504de3479100",
   "metadata": {},
   "source": [
    "### Resnet training"
   ]
  },
  {
   "cell_type": "code",
   "execution_count": 3,
   "id": "53450e48-2a50-490b-8dab-ef8db32bb9b2",
   "metadata": {
    "tags": []
   },
   "outputs": [
    {
     "name": "stdout",
     "output_type": "stream",
     "text": [
      "Thu May 25 10:29:58 2023       \n",
      "+-----------------------------------------------------------------------------+\n",
      "| NVIDIA-SMI 515.105.01   Driver Version: 515.105.01   CUDA Version: 11.7     |\n",
      "|-------------------------------+----------------------+----------------------+\n",
      "| GPU  Name        Persistence-M| Bus-Id        Disp.A | Volatile Uncorr. ECC |\n",
      "| Fan  Temp  Perf  Pwr:Usage/Cap|         Memory-Usage | GPU-Util  Compute M. |\n",
      "|                               |                      |               MIG M. |\n",
      "|===============================+======================+======================|\n",
      "|   0  NVIDIA GeForce ...  Off  | 00000000:41:00.0 Off |                  N/A |\n",
      "|  0%   34C    P8    14W / 370W |   1602MiB / 24576MiB |      0%      Default |\n",
      "|                               |                      |                  N/A |\n",
      "+-------------------------------+----------------------+----------------------+\n",
      "|   1  NVIDIA GeForce ...  Off  | 00000000:61:00.0 Off |                  N/A |\n",
      "|  0%   20C    P8    12W / 370W |      2MiB / 24576MiB |      0%      Default |\n",
      "|                               |                      |                  N/A |\n",
      "+-------------------------------+----------------------+----------------------+\n",
      "|   2  NVIDIA GeForce ...  Off  | 00000000:A1:00.0 Off |                  N/A |\n",
      "|  0%   20C    P8    16W / 370W |   4254MiB / 24576MiB |      0%      Default |\n",
      "|                               |                      |                  N/A |\n",
      "+-------------------------------+----------------------+----------------------+\n",
      "|   3  NVIDIA GeForce ...  Off  | 00000000:E1:00.0 Off |                  N/A |\n",
      "|  0%   19C    P8    13W / 370W |   2525MiB / 24576MiB |      0%      Default |\n",
      "|                               |                      |                  N/A |\n",
      "+-------------------------------+----------------------+----------------------+\n",
      "                                                                               \n",
      "+-----------------------------------------------------------------------------+\n",
      "| Processes:                                                                  |\n",
      "|  GPU   GI   CI        PID   Type   Process name                  GPU Memory |\n",
      "|        ID   ID                                                   Usage      |\n",
      "|=============================================================================|\n",
      "+-----------------------------------------------------------------------------+\n"
     ]
    }
   ],
   "source": [
    "!nvidia-smi"
   ]
  },
  {
   "cell_type": "code",
   "execution_count": 4,
   "id": "6980a321-0db4-4017-9a37-e7d4cb8f2780",
   "metadata": {
    "tags": []
   },
   "outputs": [],
   "source": [
    "def clean():\n",
    "    torch.cuda.empty_cache()\n",
    "    gc.collect()"
   ]
  },
  {
   "cell_type": "code",
   "execution_count": 5,
   "id": "b7c088bf-c55e-42ba-9d30-dc0ec85225b8",
   "metadata": {
    "tags": []
   },
   "outputs": [],
   "source": [
    "clean()"
   ]
  },
  {
   "cell_type": "code",
   "execution_count": 6,
   "id": "3b1a1c42-7247-4692-8cc1-e620a0a8512b",
   "metadata": {
    "tags": []
   },
   "outputs": [],
   "source": [
    "os.environ['CUDA_VISIABLE_DEVICES']='0'"
   ]
  },
  {
   "cell_type": "code",
   "execution_count": 7,
   "id": "30edafdf-6845-4446-aed5-0d0008e8e56e",
   "metadata": {
    "tags": []
   },
   "outputs": [],
   "source": [
    "device = torch.device('cuda')"
   ]
  },
  {
   "cell_type": "markdown",
   "id": "9e952232-ad01-4dad-8685-2fc83010c2a7",
   "metadata": {},
   "source": [
    "### Efficientnet"
   ]
  },
  {
   "cell_type": "code",
   "execution_count": 8,
   "id": "b134addb-469a-4110-8c12-deecc9e8fd10",
   "metadata": {
    "tags": []
   },
   "outputs": [],
   "source": [
    "from effnet.efficientnet import efficientnet\n",
    "\n",
    "from utils.trainer import Trainer\n",
    "from data.multi_class_build_data import build_dataloader\n",
    "\n",
    "BATCH_SIZE=8\n",
    "\n",
    "transfrom = transforms.Compose([\n",
    "    transforms.ToTensor(),\n",
    "    transforms.Normalize(0.5, 0.5)\n",
    "])\n",
    "\n",
    "train_dataloader, test_dataloader, trainset_len, testset_len, NUM_CLASS = build_dataloader(transfrom, BATCH_SIZE)"
   ]
  },
  {
   "cell_type": "code",
   "execution_count": 9,
   "id": "53055a26-6025-4b07-9b99-a04d9335a712",
   "metadata": {
    "tags": []
   },
   "outputs": [],
   "source": [
    "criteriation=nn.CrossEntropyLoss()"
   ]
  },
  {
   "cell_type": "code",
   "execution_count": 10,
   "id": "f276ea2e-af42-4770-9b65-d533b3f86b4f",
   "metadata": {
    "tags": []
   },
   "outputs": [],
   "source": [
    "effnet = efficientnet()\n",
    "effnet.classifier[1] = nn.Linear(1280, NUM_CLASS)"
   ]
  },
  {
   "cell_type": "code",
   "execution_count": 11,
   "id": "8c940df9-490a-426c-b31a-76c2e016b9ff",
   "metadata": {
    "tags": []
   },
   "outputs": [],
   "source": [
    "effnet = effnet.to(device)"
   ]
  },
  {
   "cell_type": "code",
   "execution_count": 12,
   "id": "baea5822-4efa-4e93-9023-b479d2edeae9",
   "metadata": {
    "tags": []
   },
   "outputs": [],
   "source": [
    "optimizer = torch.optim.Adam(effnet.parameters(), lr=2e-4)"
   ]
  },
  {
   "cell_type": "markdown",
   "id": "99d1c881-c007-4f1b-8382-ae2470a3a02a",
   "metadata": {},
   "source": [
    "### Training "
   ]
  },
  {
   "cell_type": "code",
   "execution_count": 13,
   "id": "db05f3b9-db4b-4597-8a2b-9dcb0bab5f7d",
   "metadata": {
    "tags": []
   },
   "outputs": [],
   "source": [
    "NAME = 'effnet'\n",
    "\n",
    "trainer = Trainer(effnet, \n",
    "                  criteriation,\n",
    "                  device,\n",
    "                  train_dataloader,\n",
    "                  test_dataloader,\n",
    "                  trainset_len,\n",
    "                  testset_len,\n",
    "                  optimizer,\n",
    "                  epochs=10,\n",
    "                  path_output='multi_class_output/{name}.pt'.format(name=NAME),\n",
    "                  multi_label=False\n",
    "                 )"
   ]
  },
  {
   "cell_type": "code",
   "execution_count": 14,
   "id": "92089531-75f8-45d1-b960-3271fb067f9a",
   "metadata": {
    "tags": []
   },
   "outputs": [
    {
     "name": "stdout",
     "output_type": "stream",
     "text": [
      "[1]/[10] Epoch starts\n",
      "\t Batch train loss: 1.3502655029296875, accuracy 0.5\n",
      "\t Batch train loss: 1.2573304176330566, accuracy 0.25\n",
      "\t Batch train loss: 1.4425299167633057, accuracy 0.125\n",
      "\t Batch train loss: 1.2826417684555054, accuracy 0.25\n",
      "\t Batch train loss: 1.1898739337921143, accuracy 0.375\n",
      "[1]/[10] End epoch: train loss: 1.3860933586238222, val loss: 1.3264076586919087\n",
      "\t Epoch train accuracy: 0.2869338095188141, val accuracy: 0.3425814234016888\n",
      "\n",
      "[2]/[10] Epoch starts\n",
      "\t Batch train loss: 1.2382407188415527, accuracy 0.375\n",
      "\t Batch train loss: 1.3837764263153076, accuracy 0.25\n",
      "\t Batch train loss: 1.375807762145996, accuracy 0.375\n",
      "\t Batch train loss: 1.0662955045700073, accuracy 0.625\n",
      "\t Batch train loss: 1.0794336795806885, accuracy 0.375\n",
      "[2]/[10] End epoch: train loss: 1.2539523417563925, val loss: 1.146808701223957\n",
      "\t Epoch train accuracy: 0.38103845715522766, val accuracy: 0.6079613992762364\n",
      "\n",
      "[3]/[10] Epoch starts\n",
      "\t Batch train loss: 1.4752596616744995, accuracy 0.25\n",
      "\t Batch train loss: 1.2325488328933716, accuracy 0.375\n",
      "\t Batch train loss: 0.7593300342559814, accuracy 0.5\n",
      "\t Batch train loss: 1.04410719871521, accuracy 0.375\n",
      "\t Batch train loss: 0.9049077033996582, accuracy 0.625\n",
      "[3]/[10] End epoch: train loss: 1.1041549538062305, val loss: 0.6710918984594214\n",
      "\t Epoch train accuracy: 0.4768504500389099, val accuracy: 0.7571371129875352\n",
      "\n",
      "[4]/[10] Epoch starts\n",
      "\t Batch train loss: 1.2131595611572266, accuracy 0.375\n",
      "\t Batch train loss: 0.9797171354293823, accuracy 0.5\n",
      "\t Batch train loss: 1.4454501867294312, accuracy 0.25\n",
      "\t Batch train loss: 0.9786177277565002, accuracy 0.5\n",
      "\t Batch train loss: 1.509276270866394, accuracy 0.25\n",
      "[4]/[10] End epoch: train loss: 1.0269283907916564, val loss: 0.4401423434978167\n",
      "\t Epoch train accuracy: 0.5196344256401062, val accuracy: 0.8576598311218335\n",
      "\n",
      "[5]/[10] Epoch starts\n",
      "\t Batch train loss: 0.9244495630264282, accuracy 0.5\n",
      "\t Batch train loss: 0.8179581165313721, accuracy 0.75\n",
      "\t Batch train loss: 0.8598886132240295, accuracy 0.625\n",
      "\t Batch train loss: 0.8590370416641235, accuracy 0.5\n",
      "\t Batch train loss: 0.9386032223701477, accuracy 0.5\n",
      "[5]/[10] End epoch: train loss: 0.9922722734647833, val loss: 0.4935343825090924\n",
      "\t Epoch train accuracy: 0.5427337288856506, val accuracy: 0.8681141938078005\n",
      "\n",
      "[6]/[10] Epoch starts\n",
      "\t Batch train loss: 0.5851760506629944, accuracy 0.875\n",
      "\t Batch train loss: 0.9843838214874268, accuracy 0.375\n",
      "\t Batch train loss: 0.6638662815093994, accuracy 0.625\n",
      "\t Batch train loss: 0.7626926898956299, accuracy 0.5\n",
      "\t Batch train loss: 0.83449786901474, accuracy 0.5\n",
      "[6]/[10] End epoch: train loss: 0.9314802639381682, val loss: 0.44497568945197824\n",
      "\t Epoch train accuracy: 0.5740684866905212, val accuracy: 0.9312424607961399\n",
      "\n",
      "[7]/[10] Epoch starts\n",
      "\t Batch train loss: 0.7738888263702393, accuracy 0.625\n",
      "\t Batch train loss: 0.4191305637359619, accuracy 0.875\n",
      "\t Batch train loss: 0.7797359228134155, accuracy 0.625\n",
      "\t Batch train loss: 0.6612130999565125, accuracy 0.75\n",
      "\t Batch train loss: 0.9032385349273682, accuracy 0.625\n",
      "[7]/[10] End epoch: train loss: 0.9101531847875928, val loss: 0.4089050776103102\n",
      "\t Epoch train accuracy: 0.5876267552375793, val accuracy: 0.9155609167671894\n",
      "\n",
      "[8]/[10] Epoch starts\n",
      "\t Batch train loss: 0.7701036334037781, accuracy 0.625\n",
      "\t Batch train loss: 1.1211034059524536, accuracy 0.5\n",
      "\t Batch train loss: 0.6843562126159668, accuracy 0.625\n",
      "\t Batch train loss: 1.1093738079071045, accuracy 0.375\n",
      "\t Batch train loss: 1.2909612655639648, accuracy 0.5\n",
      "[8]/[10] End epoch: train loss: 0.8873815891540852, val loss: 0.6321183934329946\n",
      "\t Epoch train accuracy: 0.592045783996582, val accuracy: 0.8387615601125854\n",
      "\n",
      "[9]/[10] Epoch starts\n",
      "\t Batch train loss: 1.0464156866073608, accuracy 0.625\n",
      "\t Batch train loss: 1.197790265083313, accuracy 0.5\n",
      "\t Batch train loss: 0.21442390978336334, accuracy 1.0\n",
      "\t Batch train loss: 1.1939237117767334, accuracy 0.5\n",
      "\t Batch train loss: 0.7727929949760437, accuracy 0.625\n",
      "[9]/[10] End epoch: train loss: 0.8518273246160195, val loss: 0.4342167520461957\n",
      "\t Epoch train accuracy: 0.6159485578536987, val accuracy: 0.8910333735424206\n",
      "\n",
      "[10]/[10] Epoch starts\n",
      "\t Batch train loss: 0.7583988904953003, accuracy 0.625\n",
      "\t Batch train loss: 0.5940815210342407, accuracy 0.625\n",
      "\t Batch train loss: 0.6896195411682129, accuracy 0.75\n",
      "\t Batch train loss: 0.9841231107711792, accuracy 0.375\n",
      "\t Batch train loss: 0.8328297138214111, accuracy 0.875\n",
      "[10]/[10] End epoch: train loss: 0.8470513750789179, val loss: 0.4292534631319347\n",
      "\t Epoch train accuracy: 0.6155468225479126, val accuracy: 0.8954563731403297\n",
      "\n"
     ]
    }
   ],
   "source": [
    "trainer.training()"
   ]
  },
  {
   "cell_type": "markdown",
   "id": "1f9c9a2d-e919-4444-8b70-cc6bb554c165",
   "metadata": {},
   "source": [
    "### Evaluate model"
   ]
  },
  {
   "cell_type": "code",
   "execution_count": 18,
   "id": "f855a594-54e2-4dc7-b6fd-bc791a7b39eb",
   "metadata": {
    "tags": []
   },
   "outputs": [],
   "source": [
    "effnet.load_state_dict(torch.load(f'multi_class_output/effnet.pt')['model_state_dict'])\n",
    "effnet = effnet.to(device)"
   ]
  },
  {
   "cell_type": "code",
   "execution_count": 19,
   "id": "deae28ef-5529-4a85-be81-38a8c555e0e8",
   "metadata": {
    "tags": []
   },
   "outputs": [],
   "source": [
    "trainer = Trainer(effnet, \n",
    "                  criteriation,\n",
    "                  device,\n",
    "                  train_dataloader,\n",
    "                  test_dataloader,\n",
    "                  trainset_len,\n",
    "                  testset_len,\n",
    "                  path_output='multi_class_output/{name}.pt'.format(name=NAME),\n",
    "                  multi_label=False\n",
    "                 )"
   ]
  },
  {
   "cell_type": "code",
   "execution_count": 20,
   "id": "cb895a39-fd71-4bd5-b145-4d33adbaebfb",
   "metadata": {
    "tags": []
   },
   "outputs": [],
   "source": [
    "_, _, preds = trainer.val()"
   ]
  },
  {
   "cell_type": "code",
   "execution_count": 21,
   "id": "b62de6c4-1d0f-4eaa-8f23-d9c296d874a0",
   "metadata": {
    "tags": []
   },
   "outputs": [],
   "source": [
    "prediciton = pd.DataFrame([preds[0].cpu().numpy(), preds[1].cpu().numpy()]).T\n",
    "prediciton.rename = ['labels', 'predictions']\n",
    "\n",
    "prediciton.to_csv('multi_class_output/{name}.csv'.format(name=NAME), index=False)"
   ]
  },
  {
   "cell_type": "markdown",
   "id": "96382bfd-31aa-4a51-864c-8b4c3505917f",
   "metadata": {},
   "source": [
    "### Multi-label problem"
   ]
  },
  {
   "cell_type": "code",
   "execution_count": 22,
   "id": "706eb803-c928-4a66-9b3e-190ad38f3d5c",
   "metadata": {
    "tags": []
   },
   "outputs": [],
   "source": [
    "data = pd.read_csv('sample_labels.csv')\n",
    "data['lables'] = data['Finding Labels'].str.split('|')\n",
    "\n",
    "labels = []\n",
    "for lable in data['lables'].values:\n",
    "    labels.extend(lable)   \n",
    "    \n",
    "labels = pd.DataFrame(labels, columns=['labels'])"
   ]
  },
  {
   "cell_type": "markdown",
   "id": "776bbfb2-8ae9-49ba-82b4-b8b0b01b2aa4",
   "metadata": {},
   "source": [
    "### Losses"
   ]
  },
  {
   "cell_type": "code",
   "execution_count": 24,
   "id": "c117a356-f15a-4dcb-b1ff-0cf315863a78",
   "metadata": {
    "tags": []
   },
   "outputs": [],
   "source": [
    "criteriation =  nn.BCELoss()"
   ]
  },
  {
   "cell_type": "code",
   "execution_count": 8,
   "id": "e015cea8-8927-4d2f-887d-926156ce1896",
   "metadata": {
    "tags": []
   },
   "outputs": [],
   "source": [
    "from utils.trainer import Trainer\n",
    "from data.multi_label_build_data import build_dataloader\n",
    "from effnet.blocks import SamePadConv2d\n",
    "from effnet.efficientnet import efficientnet\n",
    "\n",
    "\n",
    "BATCH_SIZE=4\n",
    "\n",
    "transfrom = transforms.Compose([\n",
    "    transforms.Resize(256),\n",
    "    transforms.RandomRotation(30),\n",
    "    transforms.ColorJitter(0.5),\n",
    "    transforms.ToTensor(),\n",
    "    transforms.Normalize(0.5, 0.5)\n",
    "])\n",
    "\n",
    "train_dataloader, test_dataloader, trainset_len, testset_len, NUM_CLASS, weights = build_dataloader(transfrom, BATCH_SIZE)"
   ]
  },
  {
   "cell_type": "code",
   "execution_count": 33,
   "id": "04d50547-58ea-4977-a85f-47e93455027b",
   "metadata": {
    "tags": []
   },
   "outputs": [],
   "source": [
    "del effnet"
   ]
  },
  {
   "cell_type": "code",
   "execution_count": 10,
   "id": "c1701001-da15-4a94-971f-f16b66ea6eaf",
   "metadata": {
    "tags": []
   },
   "outputs": [],
   "source": [
    "effnet = efficientnet()\n",
    "effnet.classifier[1] = nn.Linear(1280, NUM_CLASS)\n",
    "\n",
    "effnet.features[0][0] = SamePadConv2d(1, 32, 3, 2)"
   ]
  },
  {
   "cell_type": "code",
   "execution_count": 33,
   "id": "8dd2d3b5-4f41-4660-a57e-fc10f191293d",
   "metadata": {
    "tags": []
   },
   "outputs": [],
   "source": [
    "effnet = effnet.to(device)"
   ]
  },
  {
   "cell_type": "code",
   "execution_count": 33,
   "id": "0d5d10e2-a174-486c-a88b-d562b5a40a34",
   "metadata": {
    "tags": []
   },
   "outputs": [],
   "source": [
    "optimizer = torch.optim.Adam(effnet.parameters(), lr=1e-4)\n",
    "\n",
    "NAME = 'effnet'\n",
    "\n",
    "trainer = Trainer(effnet , \n",
    "                  criteriation,\n",
    "                  device,\n",
    "                  train_dataloader,\n",
    "                  test_dataloader,\n",
    "                  trainset_len,\n",
    "                  testset_len,\n",
    "                  optimizer,\n",
    "                  epochs=10,\n",
    "                  path_output='multi_label_output/{name}.pt'.format(name=NAME),\n",
    "                  multi_label=True\n",
    "                 )"
   ]
  },
  {
   "cell_type": "code",
   "execution_count": 39,
   "id": "0ee56368-dde0-4cac-9f45-a013934a1ecb",
   "metadata": {
    "tags": []
   },
   "outputs": [
    {
     "name": "stdout",
     "output_type": "stream",
     "text": [
      "[1]/[10] Epoch starts\n",
      "\t Batch train loss: 0.6880797147750854, accuracy 0.31971153846153844\n",
      "\t Batch train loss: 0.2369377315044403, accuracy 0.43452380952380953\n",
      "\t Batch train loss: 0.2643577456474304, accuracy 0.5770833333333334\n",
      "\t Batch train loss: 0.1693349927663803, accuracy 0.675\n",
      "\t Batch train loss: 0.17834052443504333, accuracy 0.8107142857142857\n",
      "[1]/[10] End epoch: train loss: 0.2641569006203808, val loss: 0.768161729911972\n",
      "\t Epoch train accuracy: 0.670088741646833, val accuracy: 0.6765324064543512\n",
      "\n",
      "[2]/[10] Epoch starts\n",
      "\t Batch train loss: 0.30318698287010193, accuracy 0.6217261904761905\n",
      "\t Batch train loss: 0.3578703999519348, accuracy 0.525\n",
      "\t Batch train loss: 0.20415224134922028, accuracy 0.5875\n",
      "\t Batch train loss: 0.35156458616256714, accuracy 0.8019688644688645\n",
      "\t Batch train loss: 0.12280049920082092, accuracy 0.875\n",
      "[2]/[10] End epoch: train loss: 0.22381317974665227, val loss: 0.4186122650364713\n",
      "\t Epoch train accuracy: 0.6895479717441803, val accuracy: 0.6697175925142027\n",
      "\n",
      "[3]/[10] Epoch starts\n",
      "\t Batch train loss: 0.18815550208091736, accuracy 0.7291666666666666\n",
      "\t Batch train loss: 0.2203264981508255, accuracy 0.8472222222222222\n",
      "\t Batch train loss: 0.5045175552368164, accuracy 0.1954059829059829\n",
      "\t Batch train loss: 0.20262770354747772, accuracy 0.8722222222222222\n",
      "\t Batch train loss: 0.36067304015159607, accuracy 0.3734217171717171\n",
      "[3]/[10] End epoch: train loss: 0.21925309705926954, val loss: 0.5810581514689\n",
      "\t Epoch train accuracy: 0.6891948205393035, val accuracy: 0.6813580449352082\n",
      "\n",
      "[4]/[10] Epoch starts\n",
      "\t Batch train loss: 0.3332826495170593, accuracy 0.625297619047619\n",
      "\t Batch train loss: 0.0978856161236763, accuracy 1.0\n",
      "\t Batch train loss: 0.16706757247447968, accuracy 0.7083333333333333\n",
      "\t Batch train loss: 0.15739670395851135, accuracy 0.6875\n",
      "\t Batch train loss: 0.117564857006073, accuracy 0.8333333333333333\n",
      "[4]/[10] End epoch: train loss: 0.21798331009903082, val loss: 0.5914345179339757\n",
      "\t Epoch train accuracy: 0.6904397522973333, val accuracy: 0.6782638575122963\n",
      "\n",
      "[5]/[10] Epoch starts\n",
      "\t Batch train loss: 0.156930610537529, accuracy 0.75\n",
      "\t Batch train loss: 0.2110554426908493, accuracy 0.4875\n",
      "\t Batch train loss: 0.20698226988315582, accuracy 0.8194444444444444\n",
      "\t Batch train loss: 0.19124267995357513, accuracy 0.6\n",
      "\t Batch train loss: 0.08619065582752228, accuracy 1.0\n",
      "[5]/[10] End epoch: train loss: 0.21775936120861483, val loss: 0.30759358140123827\n",
      "\t Epoch train accuracy: 0.6900220477498704, val accuracy: 0.6828174271461516\n",
      "\n",
      "[6]/[10] Epoch starts\n",
      "\t Batch train loss: 0.42593759298324585, accuracy 0.5397321428571429\n",
      "\t Batch train loss: 0.2352243959903717, accuracy 0.6086309523809523\n",
      "\t Batch train loss: 0.10804218053817749, accuracy 0.875\n",
      "\t Batch train loss: 0.1140851378440857, accuracy 0.8333333333333334\n",
      "\t Batch train loss: 0.2108190357685089, accuracy 0.8421717171717171\n",
      "[6]/[10] End epoch: train loss: 0.21615450565133207, val loss: 0.23095668452882426\n",
      "\t Epoch train accuracy: 0.6914637189888017, val accuracy: 0.6829296326051455\n",
      "\n",
      "[7]/[10] Epoch starts\n",
      "\t Batch train loss: 0.24971520900726318, accuracy 0.47916666666666663\n",
      "\t Batch train loss: 0.2498326152563095, accuracy 0.5\n",
      "\t Batch train loss: 0.15290801227092743, accuracy 0.8958333333333333\n",
      "\t Batch train loss: 0.273028165102005, accuracy 0.5631868131868132\n",
      "\t Batch train loss: 0.20543408393859863, accuracy 0.6041666666666666\n",
      "[7]/[10] End epoch: train loss: 0.21706527318709937, val loss: 0.42224782382340165\n",
      "\t Epoch train accuracy: 0.6910658592173166, val accuracy: 0.6814574439173012\n",
      "\n",
      "[8]/[10] Epoch starts\n",
      "\t Batch train loss: 0.3319966793060303, accuracy 0.6534722222222222\n",
      "\t Batch train loss: 0.2360069453716278, accuracy 0.8607142857142858\n",
      "\t Batch train loss: 0.1703733205795288, accuracy 0.8625\n",
      "\t Batch train loss: 0.17731693387031555, accuracy 0.8482142857142857\n",
      "\t Batch train loss: 0.3902643918991089, accuracy 0.5572916666666666\n",
      "[8]/[10] End epoch: train loss: 0.2170989688573075, val loss: 0.24103074102939082\n",
      "\t Epoch train accuracy: 0.6910170254618415, val accuracy: 0.6821490641796172\n",
      "\n",
      "[9]/[10] Epoch starts\n",
      "\t Batch train loss: 0.1611482799053192, accuracy 0.7777777777777778\n",
      "\t Batch train loss: 0.13123057782649994, accuracy 0.875\n",
      "\t Batch train loss: 0.24709275364875793, accuracy 0.5625\n",
      "\t Batch train loss: 0.18293936550617218, accuracy 0.6607142857142857\n",
      "\t Batch train loss: 0.24973826110363007, accuracy 0.7166666666666667\n",
      "[9]/[10] End epoch: train loss: 0.21594393891900146, val loss: 0.22744129618744463\n",
      "\t Epoch train accuracy: 0.6914396188476454, val accuracy: 0.6825323110001968\n",
      "\n",
      "[10]/[10] Epoch starts\n",
      "\t Batch train loss: 0.24448372423648834, accuracy 0.4567307692307692\n",
      "\t Batch train loss: 0.22152510285377502, accuracy 0.6979166666666666\n",
      "\t Batch train loss: 0.48622599244117737, accuracy 0.4718253968253968\n",
      "\t Batch train loss: 0.08235102146863937, accuracy 1.0\n",
      "\t Batch train loss: 0.21891038119792938, accuracy 0.63125\n",
      "[10]/[10] End epoch: train loss: 0.2158790540685223, val loss: 0.7367574200790977\n",
      "\t Epoch train accuracy: 0.6914961736826291, val accuracy: 0.6805566926218132\n",
      "\n"
     ]
    }
   ],
   "source": [
    "trainer.training()"
   ]
  },
  {
   "cell_type": "markdown",
   "id": "4a09fb3a-ca13-4b81-a83e-054f5bc214f9",
   "metadata": {
    "tags": []
   },
   "source": [
    "### Focal"
   ]
  },
  {
   "cell_type": "code",
   "execution_count": 69,
   "id": "87a56311-b8c1-4b48-a651-105dc989fc08",
   "metadata": {
    "tags": []
   },
   "outputs": [],
   "source": [
    "class WeightedMultilabel(nn.Module):  \n",
    "    def __init__(self, weights: torch.Tensor):  \n",
    "        super(WeightedMultilabel, self).__init__()  \n",
    "        self.cerition = nn.BCELoss(reduction='none')  \n",
    "        self.weights = weights  \n",
    "  \n",
    "    def forward(self, outputs, targets):  \n",
    "        loss = self.cerition(outputs, targets)  \n",
    "        return (loss * self.weights).mean()  "
   ]
  },
  {
   "cell_type": "code",
   "execution_count": 71,
   "id": "280f784a-3bb4-4a9f-a16a-3e3d67096e00",
   "metadata": {
    "tags": []
   },
   "outputs": [],
   "source": [
    "weights = weights.to(device)"
   ]
  },
  {
   "cell_type": "code",
   "execution_count": 72,
   "id": "bc90f87a-54c7-44c7-a582-ebcea1b1961c",
   "metadata": {
    "tags": []
   },
   "outputs": [],
   "source": [
    "criteriation = WeightedMultilabel(weights)"
   ]
  },
  {
   "cell_type": "code",
   "execution_count": 73,
   "id": "924ca1d3-0d0b-4f45-9da5-29fab45be45f",
   "metadata": {
    "tags": []
   },
   "outputs": [],
   "source": [
    "del effnet"
   ]
  },
  {
   "cell_type": "code",
   "execution_count": 74,
   "id": "e0372d0e-76d4-4306-ad00-b3bf3886fca0",
   "metadata": {
    "tags": []
   },
   "outputs": [],
   "source": [
    "effnet = efficientnet()\n",
    "effnet.classifier[1] = nn.Linear(1280, NUM_CLASS)\n",
    "effnet.features[0][0] = SamePadConv2d(1, 32, 3, 2)"
   ]
  },
  {
   "cell_type": "code",
   "execution_count": 75,
   "id": "7c531e7c-c13f-47fb-a0d6-1f05a32ce102",
   "metadata": {
    "tags": []
   },
   "outputs": [],
   "source": [
    "effnet = effnet.to(device)"
   ]
  },
  {
   "cell_type": "code",
   "execution_count": 76,
   "id": "f4683c39-78df-4071-a062-8c436b357db1",
   "metadata": {
    "tags": []
   },
   "outputs": [],
   "source": [
    "optimizer = torch.optim.Adam(effnet.parameters(), lr=1e-4)"
   ]
  },
  {
   "cell_type": "code",
   "execution_count": 77,
   "id": "f91f64f7-0c79-431b-a660-9b93e1d62296",
   "metadata": {
    "tags": []
   },
   "outputs": [],
   "source": [
    "NAME = 'effnet_focal'\n",
    "\n",
    "trainer = Trainer(effnet , \n",
    "                  criteriation,\n",
    "                  device,\n",
    "                  train_dataloader,\n",
    "                  test_dataloader,\n",
    "                  trainset_len,\n",
    "                  testset_len,\n",
    "                  optimizer,\n",
    "                  epochs=10,\n",
    "                  path_output='multi_label_output/{name}.pt'.format(name=NAME),\n",
    "                  multi_label=True\n",
    "                 )"
   ]
  },
  {
   "cell_type": "code",
   "execution_count": 78,
   "id": "e72d63d5-99d8-4466-9431-1ac310117c84",
   "metadata": {
    "tags": []
   },
   "outputs": [
    {
     "name": "stdout",
     "output_type": "stream",
     "text": [
      "[1]/[10] Epoch starts\n",
      "\t Batch train loss: 51.64650156964188, accuracy 0.30862470862470864\n",
      "\t Batch train loss: 15.696557153410076, accuracy 0.5625\n",
      "\t Batch train loss: 6.025534986873829, accuracy 0.6083333333333334\n",
      "\t Batch train loss: 17.786056907131204, accuracy 0.4461399711399711\n",
      "\t Batch train loss: 6.034664337969898, accuracy 0.49603174603174605\n",
      "[1]/[10] End epoch: train loss: 9.355495370521558, val loss: 6.923498458618368\n",
      "\t Epoch train accuracy: 0.6761730445635123, val accuracy: 0.6827294329468727\n",
      "\n",
      "[2]/[10] Epoch starts\n",
      "\t Batch train loss: 8.03415521270672, accuracy 0.36339285714285713\n",
      "\t Batch train loss: 2.78274725960867, accuracy 0.7847222222222222\n",
      "\t Batch train loss: 7.686811124783851, accuracy 0.4801587301587302\n",
      "\t Batch train loss: 5.804737982952142, accuracy 0.5857142857142857\n",
      "\t Batch train loss: 4.362739393921555, accuracy 0.4895833333333333\n",
      "[2]/[10] End epoch: train loss: 5.947070115186447, val loss: 4.803368586107251\n",
      "\t Epoch train accuracy: 0.6897559254168593, val accuracy: 0.6798174356370164\n",
      "\n",
      "[3]/[10] Epoch starts\n",
      "\t Batch train loss: 14.685853142542197, accuracy 0.5595238095238095\n",
      "\t Batch train loss: 3.0268633893211203, accuracy 0.6041666666666666\n",
      "\t Batch train loss: 3.1943360671594823, accuracy 0.5857142857142856\n",
      "\t Batch train loss: 9.423321462820763, accuracy 0.6174450549450549\n",
      "\t Batch train loss: 2.3730585968045093, accuracy 0.7916666666666666\n",
      "[3]/[10] End epoch: train loss: 5.743158110132224, val loss: 4.82761015078563\n",
      "\t Epoch train accuracy: 0.6889519538432588, val accuracy: 0.6838755817892749\n",
      "\n",
      "[4]/[10] Epoch starts\n",
      "\t Batch train loss: 3.570815321436891, accuracy 0.8229166666666666\n",
      "\t Batch train loss: 3.3341917119710947, accuracy 0.71875\n",
      "\t Batch train loss: 2.5960902635240424, accuracy 0.675\n",
      "\t Batch train loss: 2.4424381223421565, accuracy 0.8\n",
      "\t Batch train loss: 1.894849195437729, accuracy 0.875\n",
      "[4]/[10] End epoch: train loss: 5.60356444912029, val loss: 5.252777871771074\n",
      "\t Epoch train accuracy: 0.6906265169138635, val accuracy: 0.6829987639644196\n",
      "\n",
      "[5]/[10] Epoch starts\n",
      "\t Batch train loss: 1.9061630123613558, accuracy 0.8333333333333333\n",
      "\t Batch train loss: 5.810697875905373, accuracy 0.564236111111111\n",
      "\t Batch train loss: 3.9030551189025355, accuracy 0.8107142857142857\n",
      "\t Batch train loss: 3.1283868946220377, accuracy 0.43749999999999994\n",
      "\t Batch train loss: 1.9175121528081276, accuracy 0.875\n",
      "[5]/[10] End epoch: train loss: 5.565340780100033, val loss: 4.912673280834157\n",
      "\t Epoch train accuracy: 0.6907414109590805, val accuracy: 0.6779331379130665\n",
      "\n",
      "[6]/[10] Epoch starts\n",
      "\t Batch train loss: 1.195116676984531, accuracy 1.0\n",
      "\t Batch train loss: 14.46863025903128, accuracy 0.6178571428571429\n",
      "\t Batch train loss: 6.213449958044903, accuracy 0.7692307692307693\n",
      "\t Batch train loss: 2.8058936572698587, accuracy 0.625\n",
      "\t Batch train loss: 17.35752734499361, accuracy 0.14612470862470864\n",
      "[6]/[10] End epoch: train loss: 5.575946737316528, val loss: 14.241131802283228\n",
      "\t Epoch train accuracy: 0.6901834205341534, val accuracy: 0.6800510348012578\n",
      "\n",
      "[7]/[10] Epoch starts\n",
      "\t Batch train loss: 9.995083114427407, accuracy 0.6331439393939394\n",
      "\t Batch train loss: 3.1720519160799707, accuracy 0.7513888888888889\n",
      "\t Batch train loss: 1.6286472190758066, accuracy 0.875\n",
      "\t Batch train loss: 1.9898355444240907, accuracy 0.875\n",
      "\t Batch train loss: 4.39253829987349, accuracy 0.8352272727272727\n",
      "[7]/[10] End epoch: train loss: 5.549733776380861, val loss: 12.667953289388326\n",
      "\t Epoch train accuracy: 0.6913589882671339, val accuracy: 0.6765243042383988\n",
      "\n",
      "[8]/[10] Epoch starts\n",
      "\t Batch train loss: 2.7042228637811965, accuracy 0.8333333333333334\n",
      "\t Batch train loss: 8.338779947313174, accuracy 0.6474867724867724\n",
      "\t Batch train loss: 5.063205872141369, accuracy 0.3634920634920635\n",
      "\t Batch train loss: 2.504136440709235, accuracy 0.7916666666666666\n",
      "\t Batch train loss: 3.169979749434714, accuracy 0.7777777777777778\n",
      "[8]/[10] End epoch: train loss: 5.56071453390066, val loss: 8.39989836603608\n",
      "\t Epoch train accuracy: 0.6900066209441904, val accuracy: 0.6828885548488582\n",
      "\n",
      "[9]/[10] Epoch starts\n",
      "\t Batch train loss: 7.022881928623195, accuracy 0.5380208333333334\n",
      "\t Batch train loss: 6.732187196162304, accuracy 0.7935606060606061\n",
      "\t Batch train loss: 4.472246920133885, accuracy 0.6840277777777778\n",
      "\t Batch train loss: 8.15223906449685, accuracy 0.6215277777777778\n",
      "\t Batch train loss: 1.7994218621186926, accuracy 0.7083333333333333\n",
      "[9]/[10] End epoch: train loss: 5.5536025412743575, val loss: 8.959810882776072\n",
      "\t Epoch train accuracy: 0.6909121920605034, val accuracy: 0.6805252576494771\n",
      "\n",
      "[10]/[10] Epoch starts\n",
      "\t Batch train loss: 1.7760905053333922, accuracy 0.8125\n",
      "\t Batch train loss: 7.125276464280352, accuracy 0.6666666666666666\n",
      "\t Batch train loss: 9.089185732996077, accuracy 0.5921717171717171\n",
      "\t Batch train loss: 2.446163176738069, accuracy 0.8416666666666667\n",
      "\t Batch train loss: 6.728230460613887, accuracy 0.5347222222222222\n",
      "[10]/[10] End epoch: train loss: 5.504734365588311, val loss: 5.973777517623274\n",
      "\t Epoch train accuracy: 0.6903474214760247, val accuracy: 0.6813444364057656\n",
      "\n"
     ]
    }
   ],
   "source": [
    "trainer.training()"
   ]
  },
  {
   "cell_type": "markdown",
   "id": "3a05da17-e6d8-43d6-9c0d-dadcf6cd724d",
   "metadata": {},
   "source": [
    "### Evaluate model"
   ]
  },
  {
   "cell_type": "code",
   "execution_count": 16,
   "id": "cf89c6fa-fe40-4df3-86e5-a21d286f2e41",
   "metadata": {
    "tags": []
   },
   "outputs": [],
   "source": [
    "criteriation =  nn.BCELoss()\n",
    "NAME='effnet'"
   ]
  },
  {
   "cell_type": "code",
   "execution_count": 17,
   "id": "60f0444e-e086-499d-9ade-5e127b5b830c",
   "metadata": {
    "tags": []
   },
   "outputs": [],
   "source": [
    "effnet.load_state_dict(torch.load(f'multi_label_output/effnet.pt')['model_state_dict'])\n",
    "effnet = effnet.to(device)"
   ]
  },
  {
   "cell_type": "code",
   "execution_count": 18,
   "id": "66db2f56-f5f1-463a-aa43-b031a51e2359",
   "metadata": {
    "tags": []
   },
   "outputs": [],
   "source": [
    "trainer = Trainer(effnet , \n",
    "                  criteriation,\n",
    "                  device,\n",
    "                  train_dataloader,\n",
    "                  test_dataloader,\n",
    "                  trainset_len,\n",
    "                  testset_len,\n",
    "                  path_output='multi_label_output/{name}.pt'.format(name=NAME),\n",
    "                  multi_label=True\n",
    "                 )"
   ]
  },
  {
   "cell_type": "code",
   "execution_count": 19,
   "id": "f5f27dfa-0456-4dfc-b276-58905da88210",
   "metadata": {
    "tags": []
   },
   "outputs": [],
   "source": [
    "_, _, preds = trainer.val()"
   ]
  },
  {
   "cell_type": "code",
   "execution_count": 21,
   "id": "4a79b654-c80f-4fb5-b857-db67e7629118",
   "metadata": {
    "tags": []
   },
   "outputs": [],
   "source": [
    "pd.DataFrame(preds[0].cpu().numpy()).to_csv('multi_label_output/true_{name}.csv'.format(name=NAME), index=False)\n",
    "pd.DataFrame(preds[1].cpu().numpy()).to_csv('multi_label_output/pred_{name}.csv'.format(name=NAME), index=False)"
   ]
  },
  {
   "cell_type": "code",
   "execution_count": null,
   "id": "f904e923-f6ce-4a1a-a130-db1f442e74c3",
   "metadata": {},
   "outputs": [],
   "source": []
  }
 ],
 "metadata": {
  "kernelspec": {
   "display_name": "Python 3 (ipykernel)",
   "language": "python",
   "name": "python3"
  },
  "language_info": {
   "codemirror_mode": {
    "name": "ipython",
    "version": 3
   },
   "file_extension": ".py",
   "mimetype": "text/x-python",
   "name": "python",
   "nbconvert_exporter": "python",
   "pygments_lexer": "ipython3",
   "version": "3.10.9"
  }
 },
 "nbformat": 4,
 "nbformat_minor": 5
}
