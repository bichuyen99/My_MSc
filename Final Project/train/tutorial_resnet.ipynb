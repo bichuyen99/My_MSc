{
  "cells": [
    {
      "cell_type": "code",
      "execution_count": 1,
      "metadata": {
        "id": "791ce8e2-0e36-450f-a3d5-85658bd6de24"
      },
      "outputs": [],
      "source": [
        "!pip install torch torchvision gdown -q"
      ],
      "id": "791ce8e2-0e36-450f-a3d5-85658bd6de24"
    },
    {
      "cell_type": "code",
      "execution_count": 20,
      "metadata": {
        "id": "dbd7d285-61b0-4059-945b-e8761759725d"
      },
      "outputs": [],
      "source": [
        "import gdown\n",
        "import os\n",
        "from PIL import Image\n",
        "import gc\n",
        "\n",
        "import torch\n",
        "import torchvision\n",
        "import torch.nn as nn\n",
        "import torchvision.transforms as transforms\n",
        "from torch.utils.data import Dataset, DataLoader\n",
        "from sklearn.metrics import accuracy_score, f1_score\n",
        "import torch.nn.functional as F\n",
        "\n",
        "import numpy as np\n",
        "import pandas as pd\n",
        "import matplotlib.pyplot as plt\n",
        "import seaborn as sns\n",
        "\n",
        "import sklearn\n",
        "from sklearn.metrics import average_precision_score\n",
        "\n",
        "\n",
        "import random\n",
        "import warnings\n",
        "from tqdm import tqdm\n",
        "warnings.filterwarnings(\"ignore\")\n",
        "\n",
        "from resnet.ResNet import resnet18, resnet152\n",
        "from utils.trainer import Trainer"
      ],
      "id": "dbd7d285-61b0-4059-945b-e8761759725d"
    },
    {
      "cell_type": "code",
      "execution_count": 12,
      "metadata": {
        "id": "353b60a5-4d08-4c2d-8d31-9f2ea7a3d9d9"
      },
      "outputs": [],
      "source": [
        "def seed_everything(seed=42):\n",
        "    random.seed(seed)\n",
        "    os.environ['PYTHONHASHSEED'] = str(seed)\n",
        "    np.random.seed(seed)\n",
        "    torch.manual_seed(seed)\n",
        "    torch.backends.cudnn.deterministic = True\n",
        "    torch.backends.cudnn.benchmark = False\n",
        "    \n",
        "seed_everything()"
      ],
      "id": "353b60a5-4d08-4c2d-8d31-9f2ea7a3d9d9"
    },
    {
      "cell_type": "code",
      "execution_count": 5,
      "metadata": {
        "id": "6980a321-0db4-4017-9a37-e7d4cb8f2780"
      },
      "outputs": [],
      "source": [
        "def clean():\n",
        "    torch.cuda.empty_cache()\n",
        "    gc.collect()"
      ],
      "id": "6980a321-0db4-4017-9a37-e7d4cb8f2780"
    },
    {
      "cell_type": "code",
      "execution_count": 6,
      "metadata": {
        "id": "b7c088bf-c55e-42ba-9d30-dc0ec85225b8"
      },
      "outputs": [],
      "source": [
        "clean()"
      ],
      "id": "b7c088bf-c55e-42ba-9d30-dc0ec85225b8"
    },
    {
      "cell_type": "code",
      "execution_count": 7,
      "metadata": {
        "id": "3b1a1c42-7247-4692-8cc1-e620a0a8512b"
      },
      "outputs": [],
      "source": [
        "os.environ['CUDA_VISIABLE_DEVICES']='0'"
      ],
      "id": "3b1a1c42-7247-4692-8cc1-e620a0a8512b"
    },
    {
      "cell_type": "code",
      "execution_count": 3,
      "metadata": {
        "id": "30edafdf-6845-4446-aed5-0d0008e8e56e"
      },
      "outputs": [],
      "source": [
        "device = torch.device('cuda')"
      ],
      "id": "30edafdf-6845-4446-aed5-0d0008e8e56e"
    },
    {
      "cell_type": "code",
      "execution_count": null,
      "metadata": {
        "colab": {
          "base_uri": "https://localhost:8080/"
        },
        "outputId": "254da64f-de2d-495f-d20c-85169fed617e",
        "id": "v3GWuiOxZz_P"
      },
      "outputs": [
        {
          "output_type": "stream",
          "name": "stdout",
          "text": [
            "Tue May 23 10:01:11 2023       \n",
            "+-----------------------------------------------------------------------------+\n",
            "| NVIDIA-SMI 525.85.12    Driver Version: 525.85.12    CUDA Version: 12.0     |\n",
            "|-------------------------------+----------------------+----------------------+\n",
            "| GPU  Name        Persistence-M| Bus-Id        Disp.A | Volatile Uncorr. ECC |\n",
            "| Fan  Temp  Perf  Pwr:Usage/Cap|         Memory-Usage | GPU-Util  Compute M. |\n",
            "|                               |                      |               MIG M. |\n",
            "|===============================+======================+======================|\n",
            "|   0  Tesla T4            Off  | 00000000:00:04.0 Off |                    0 |\n",
            "| N/A   46C    P8     9W /  70W |      0MiB / 15360MiB |      0%      Default |\n",
            "|                               |                      |                  N/A |\n",
            "+-------------------------------+----------------------+----------------------+\n",
            "                                                                               \n",
            "+-----------------------------------------------------------------------------+\n",
            "| Processes:                                                                  |\n",
            "|  GPU   GI   CI        PID   Type   Process name                  GPU Memory |\n",
            "|        ID   ID                                                   Usage      |\n",
            "|=============================================================================|\n",
            "|  No running processes found                                                 |\n",
            "+-----------------------------------------------------------------------------+\n"
          ]
        }
      ],
      "source": [
        "!nvidia-smi"
      ],
      "id": "v3GWuiOxZz_P"
    },
    {
      "cell_type": "markdown",
      "metadata": {
        "id": "cB9bn0MHZz_O"
      },
      "source": [
        "## Multi-class problem"
      ],
      "id": "cB9bn0MHZz_O"
    },
    {
      "cell_type": "code",
      "execution_count": null,
      "metadata": {
        "colab": {
          "base_uri": "https://localhost:8080/"
        },
        "outputId": "135d396c-bd16-4b8e-f5e2-173010b984c5",
        "id": "vHZx04VkZz_P"
      },
      "outputs": [
        {
          "output_type": "stream",
          "name": "stderr",
          "text": [
            "Downloading...\n",
            "From: https://drive.google.com/uc?id=1q8Jc3LyQfNxuzAAvIQFAcwrgliHRijix\n",
            "To: /content/class_data.zip\n",
            "100%|██████████| 113M/113M [00:03<00:00, 33.2MB/s]\n"
          ]
        }
      ],
      "source": [
        "gdown.download(\"https://drive.google.com/file/d/1q8Jc3LyQfNxuzAAvIQFAcwrgliHRijix/view?usp=share_link\",\"./class_data.zip\", quiet=False, fuzzy=True)\n",
        "!unzip -q ./class_data.zip"
      ],
      "id": "vHZx04VkZz_P"
    },
    {
      "cell_type": "code",
      "execution_count": null,
      "metadata": {
        "id": "4_ycaMawZz_P"
      },
      "outputs": [],
      "source": [
        "if not os.path.exists('multi_class_output'):\n",
        "    os.mkdir('multi_class_output')\n",
        "else:\n",
        "    print('multi_class_output exists')"
      ],
      "id": "4_ycaMawZz_P"
    },
    {
      "cell_type": "code",
      "execution_count": null,
      "metadata": {
        "id": "di_eCcjbZz_Q"
      },
      "outputs": [],
      "source": [
        "from dl2023_project.data.multi_class_build_data import build_dataloader\n",
        "\n",
        "BATCH_SIZE=8\n",
        "\n",
        "transfrom = transforms.Compose([\n",
        "    transforms.ToTensor(),\n",
        "    transforms.Normalize(0.5, 0.5)\n",
        "])\n",
        "\n",
        "train_dataloader, test_dataloader, trainset_len, testset_len, NUM_CLASS = build_dataloader(transfrom, BATCH_SIZE)"
      ],
      "id": "di_eCcjbZz_Q"
    },
    {
      "cell_type": "markdown",
      "metadata": {
        "id": "Pyb09LXqZz_Q"
      },
      "source": [
        "### ResNet18"
      ],
      "id": "Pyb09LXqZz_Q"
    },
    {
      "cell_type": "markdown",
      "metadata": {
        "id": "7lxPJY4oZz_Q"
      },
      "source": [
        "#### Training "
      ],
      "id": "7lxPJY4oZz_Q"
    },
    {
      "cell_type": "code",
      "execution_count": null,
      "metadata": {
        "id": "wxDvK5F5Zz_Q"
      },
      "outputs": [],
      "source": [
        "criteriation=nn.CrossEntropyLoss()"
      ],
      "id": "wxDvK5F5Zz_Q"
    },
    {
      "cell_type": "code",
      "execution_count": null,
      "metadata": {
        "id": "TYxWiOE1Zz_Q"
      },
      "outputs": [],
      "source": [
        "resnet_18 = resnet18(num_channels=3, num_classes = NUM_CLASS).cuda()"
      ],
      "id": "TYxWiOE1Zz_Q"
    },
    {
      "cell_type": "code",
      "execution_count": null,
      "metadata": {
        "id": "ftHfs65rZz_Q"
      },
      "outputs": [],
      "source": [
        "optimizer = torch.optim.Adam(resnet_18.parameters(), lr=0.001)"
      ],
      "id": "ftHfs65rZz_Q"
    },
    {
      "cell_type": "code",
      "execution_count": null,
      "metadata": {
        "id": "PoxsMjoeZz_Q"
      },
      "outputs": [],
      "source": [
        "NAME = 'ResNet18'\n",
        "\n",
        "trainer = Trainer(resnet_18, \n",
        "                  criteriation,\n",
        "                  device,\n",
        "                  train_dataloader,\n",
        "                  test_dataloader,\n",
        "                  trainset_len,\n",
        "                  testset_len,\n",
        "                  optimizer,\n",
        "                  epochs=9,\n",
        "                  path_output='multi_class_output/{name}.pt'.format(name=NAME),\n",
        "                  multi_label=False\n",
        "                 )"
      ],
      "id": "PoxsMjoeZz_Q"
    },
    {
      "cell_type": "code",
      "execution_count": null,
      "metadata": {
        "colab": {
          "base_uri": "https://localhost:8080/"
        },
        "outputId": "4a061e16-3271-4c96-8a0b-479427af4a90",
        "id": "EGyqusEhZz_R"
      },
      "outputs": [
        {
          "output_type": "stream",
          "name": "stdout",
          "text": [
            "[1]/[9] Epoch starts\n",
            "\t Batch train loss: 1.291607141494751, accuracy 0.5\n",
            "\t Batch train loss: 0.876563310623169, accuracy 0.875\n",
            "\t Batch train loss: 0.7487624883651733, accuracy 0.625\n",
            "\t Batch train loss: 0.331017404794693, accuracy 1.0\n",
            "\t Batch train loss: 0.4691700041294098, accuracy 0.75\n",
            "[1]/[9] End epoch: train loss: 0.8049032932258315, val loss: 0.5470364188289139\n",
            "\t Epoch train accuracy: 0.6466807126998901, val accuracy: 0.748291113791717\n",
            "\n",
            "[2]/[9] Epoch starts\n",
            "\t Batch train loss: 0.62690669298172, accuracy 0.75\n",
            "\t Batch train loss: 0.207528755068779, accuracy 1.0\n",
            "\t Batch train loss: 0.5875141024589539, accuracy 0.875\n",
            "\t Batch train loss: 0.41516542434692383, accuracy 0.75\n",
            "\t Batch train loss: 0.1472444236278534, accuracy 0.875\n",
            "[2]/[9] End epoch: train loss: 0.43726888004317394, val loss: 0.25218140699560593\n",
            "\t Epoch train accuracy: 0.8256502747535706, val accuracy: 0.8982710092480901\n",
            "\n",
            "[3]/[9] Epoch starts\n",
            "\t Batch train loss: 0.2986351549625397, accuracy 0.75\n",
            "\t Batch train loss: 0.9785733222961426, accuracy 0.625\n",
            "\t Batch train loss: 0.1043933853507042, accuracy 1.0\n",
            "\t Batch train loss: 0.12602871656417847, accuracy 1.0\n",
            "\t Batch train loss: 0.46452873945236206, accuracy 0.75\n",
            "[3]/[9] End epoch: train loss: 0.3098621552091167, val loss: 0.7433216140800026\n",
            "\t Epoch train accuracy: 0.8765692114830017, val accuracy: 0.7563329312424608\n",
            "\n",
            "[4]/[9] Epoch starts\n",
            "\t Batch train loss: 0.02387189492583275, accuracy 1.0\n",
            "\t Batch train loss: 0.23530422151088715, accuracy 0.875\n",
            "\t Batch train loss: 0.08656484633684158, accuracy 1.0\n",
            "\t Batch train loss: 0.10195451974868774, accuracy 1.0\n",
            "\t Batch train loss: 0.22728146612644196, accuracy 0.875\n",
            "[4]/[9] End epoch: train loss: 0.2360102059525391, val loss: 0.45433632258985435\n",
            "\t Epoch train accuracy: 0.9111177921295166, val accuracy: 0.8082026537997588\n",
            "\n",
            "[5]/[9] Epoch starts\n",
            "\t Batch train loss: 0.14937593042850494, accuracy 1.0\n",
            "\t Batch train loss: 0.216882586479187, accuracy 0.875\n",
            "\t Batch train loss: 0.2631351351737976, accuracy 0.875\n",
            "\t Batch train loss: 0.2421126365661621, accuracy 0.875\n",
            "\t Batch train loss: 0.017668720334768295, accuracy 1.0\n",
            "[5]/[9] End epoch: train loss: 0.1819703194034112, val loss: 0.5578893887737675\n",
            "\t Epoch train accuracy: 0.9295972585678101, val accuracy: 0.8383594692400482\n",
            "\n",
            "[6]/[9] Epoch starts\n",
            "\t Batch train loss: 0.03816978633403778, accuracy 1.0\n",
            "\t Batch train loss: 0.1385888159275055, accuracy 1.0\n",
            "\t Batch train loss: 0.020340509712696075, accuracy 1.0\n",
            "\t Batch train loss: 0.15733063220977783, accuracy 0.875\n",
            "\t Batch train loss: 0.03541308641433716, accuracy 1.0\n",
            "[6]/[9] End epoch: train loss: 0.15718067613423492, val loss: 0.2631063146077864\n",
            "\t Epoch train accuracy: 0.9402430057525635, val accuracy: 0.8970647366304785\n",
            "\n",
            "[7]/[9] Epoch starts\n",
            "\t Batch train loss: 0.04453869163990021, accuracy 1.0\n",
            "\t Batch train loss: 0.008757272735238075, accuracy 1.0\n",
            "\t Batch train loss: 0.7848961353302002, accuracy 0.75\n",
            "\t Batch train loss: 0.0028638686053454876, accuracy 1.0\n",
            "\t Batch train loss: 0.05147053301334381, accuracy 1.0\n",
            "[7]/[9] End epoch: train loss: 0.13717403038394313, val loss: 0.47784806083715964\n",
            "\t Epoch train accuracy: 0.950386643409729, val accuracy: 0.8508242862887012\n",
            "\n",
            "[8]/[9] Epoch starts\n",
            "\t Batch train loss: 0.1735040694475174, accuracy 0.875\n",
            "\t Batch train loss: 0.12046438455581665, accuracy 1.0\n",
            "\t Batch train loss: 0.010903241112828255, accuracy 1.0\n",
            "\t Batch train loss: 0.03454284742474556, accuracy 1.0\n",
            "\t Batch train loss: 0.09246367961168289, accuracy 1.0\n",
            "[8]/[9] End epoch: train loss: 0.10970709106127362, val loss: 0.463425207449071\n",
            "\t Epoch train accuracy: 0.9610323905944824, val accuracy: 0.8580619219943707\n",
            "\n",
            "[9]/[9] Epoch starts\n",
            "\t Batch train loss: 0.0064374711364507675, accuracy 1.0\n",
            "\t Batch train loss: 0.026269474998116493, accuracy 1.0\n",
            "\t Batch train loss: 0.05273013189435005, accuracy 1.0\n",
            "\t Batch train loss: 0.0032679885625839233, accuracy 1.0\n",
            "\t Batch train loss: 0.0011584293097257614, accuracy 1.0\n",
            "[9]/[9] End epoch: train loss: 0.10487251217358282, val loss: 0.1771221633521299\n",
            "\t Epoch train accuracy: 0.9638445377349854, val accuracy: 0.9324487334137516\n",
            "\n"
          ]
        }
      ],
      "source": [
        "trainer.training()"
      ],
      "id": "EGyqusEhZz_R"
    },
    {
      "cell_type": "markdown",
      "metadata": {
        "id": "fL2bQzntZz_R"
      },
      "source": [
        "#### Evaluate model"
      ],
      "id": "fL2bQzntZz_R"
    },
    {
      "cell_type": "code",
      "execution_count": null,
      "metadata": {
        "id": "InYoOKTzZz_R"
      },
      "outputs": [],
      "source": [
        "# save cuda memory\n",
        "# culd skip\n",
        "\n",
        "del resnet_18\n",
        "\n",
        "resnet_18 = resnet18(num_channels=3, num_classes = NUM_CLASS).cuda()"
      ],
      "id": "InYoOKTzZz_R"
    },
    {
      "cell_type": "code",
      "execution_count": null,
      "metadata": {
        "id": "cDs-zhoHZz_R"
      },
      "outputs": [],
      "source": [
        "resnet_18.load_state_dict(torch.load(f'multi_class_output/ResNet18.pt')['model_state_dict'])\n",
        "resnet_18 = resnet_18.to(device)"
      ],
      "id": "cDs-zhoHZz_R"
    },
    {
      "cell_type": "code",
      "execution_count": null,
      "metadata": {
        "id": "Xdk_G8C_Zz_R"
      },
      "outputs": [],
      "source": [
        "_, _, preds = trainer.val()"
      ],
      "id": "Xdk_G8C_Zz_R"
    },
    {
      "cell_type": "code",
      "execution_count": null,
      "metadata": {
        "id": "ZK3jkSDOZz_R"
      },
      "outputs": [],
      "source": [
        "prediciton = pd.DataFrame([preds[0].cpu().numpy(), preds[1].cpu().numpy()]).T\n",
        "prediciton.rename = ['labels', 'predictions']\n",
        "\n",
        "prediciton.to_csv('multi_class_output/{name}.csv'.format(name=NAME), index=False)"
      ],
      "id": "ZK3jkSDOZz_R"
    },
    {
      "cell_type": "markdown",
      "metadata": {
        "id": "eWPg0dIpZz_R"
      },
      "source": [
        "### ResNet152\n"
      ],
      "id": "eWPg0dIpZz_R"
    },
    {
      "cell_type": "markdown",
      "metadata": {
        "id": "UkPh92ekZz_R"
      },
      "source": [
        "#### Training "
      ],
      "id": "UkPh92ekZz_R"
    },
    {
      "cell_type": "code",
      "execution_count": null,
      "metadata": {
        "id": "NcNJ97pPZz_R"
      },
      "outputs": [],
      "source": [
        "resnet_152 = resnet152(num_channels=3, num_classes = NUM_CLASS).cuda()"
      ],
      "id": "NcNJ97pPZz_R"
    },
    {
      "cell_type": "code",
      "execution_count": null,
      "metadata": {
        "id": "m-cODi54Zz_R"
      },
      "outputs": [],
      "source": [
        "optimizer = torch.optim.Adam(resnet_152.parameters(), lr=0.001)"
      ],
      "id": "m-cODi54Zz_R"
    },
    {
      "cell_type": "code",
      "execution_count": null,
      "metadata": {
        "id": "fz0Ixuc1Zz_R"
      },
      "outputs": [],
      "source": [
        "NAME = 'ResNet152'\n",
        "\n",
        "trainer = Trainer(resnet_152, \n",
        "                  criteriation,\n",
        "                  device,\n",
        "                  train_dataloader,\n",
        "                  test_dataloader,\n",
        "                  trainset_len,\n",
        "                  testset_len,\n",
        "                  optimizer,\n",
        "                  epochs=9,\n",
        "                  path_output='multi_class_output/{name}.pt'.format(name=NAME),\n",
        "                  multi_label=False\n",
        "                 )"
      ],
      "id": "fz0Ixuc1Zz_R"
    },
    {
      "cell_type": "code",
      "execution_count": null,
      "metadata": {
        "colab": {
          "base_uri": "https://localhost:8080/"
        },
        "outputId": "39100b1e-6e1a-41a2-8452-531f715afdf8",
        "id": "lizL5MmZZz_R"
      },
      "outputs": [
        {
          "output_type": "stream",
          "name": "stdout",
          "text": [
            "[1]/[9] Epoch starts\n",
            "\t Batch train loss: 1.8190600872039795, accuracy 0.125\n",
            "\t Batch train loss: 1.3815158605575562, accuracy 0.5\n",
            "\t Batch train loss: 1.3088819980621338, accuracy 0.625\n",
            "\t Batch train loss: 0.7719427347183228, accuracy 0.75\n",
            "\t Batch train loss: 1.051823377609253, accuracy 0.375\n",
            "[1]/[9] End epoch: train loss: 1.1932808447161916, val loss: 0.6726938046484421\n",
            "\t Epoch train accuracy: 0.42643365263938904, val accuracy: 0.6690792119018898\n",
            "\n",
            "[2]/[9] Epoch starts\n",
            "\t Batch train loss: 0.8099243640899658, accuracy 0.625\n",
            "\t Batch train loss: 0.4338819980621338, accuracy 0.75\n",
            "\t Batch train loss: 0.26415908336639404, accuracy 1.0\n",
            "\t Batch train loss: 1.016061544418335, accuracy 0.625\n",
            "\t Batch train loss: 0.3886076807975769, accuracy 1.0\n",
            "[2]/[9] End epoch: train loss: 0.6480698689011741, val loss: 0.9630211943404855\n",
            "\t Epoch train accuracy: 0.7109571099281311, val accuracy: 0.6980297547245677\n",
            "\n",
            "[3]/[9] Epoch starts\n",
            "\t Batch train loss: 0.09475422650575638, accuracy 1.0\n",
            "\t Batch train loss: 0.8294437527656555, accuracy 0.75\n",
            "\t Batch train loss: 0.44574880599975586, accuracy 0.875\n",
            "\t Batch train loss: 0.512022078037262, accuracy 0.625\n",
            "\t Batch train loss: 0.3037164807319641, accuracy 1.0\n",
            "[3]/[9] End epoch: train loss: 0.4986804211859221, val loss: 0.8017059462447594\n",
            "\t Epoch train accuracy: 0.8016470670700073, val accuracy: 0.6248492159227985\n",
            "\n",
            "[4]/[9] Epoch starts\n",
            "\t Batch train loss: 0.10267835855484009, accuracy 1.0\n",
            "\t Batch train loss: 0.27326709032058716, accuracy 1.0\n",
            "\t Batch train loss: 0.2407798320055008, accuracy 0.875\n",
            "\t Batch train loss: 0.3994048535823822, accuracy 0.625\n",
            "\t Batch train loss: 0.9910501837730408, accuracy 0.625\n",
            "[4]/[9] End epoch: train loss: 0.4264430118713667, val loss: 0.6643074739277344\n",
            "\t Epoch train accuracy: 0.8346891403198242, val accuracy: 0.7957378367511058\n",
            "\n",
            "[5]/[9] Epoch starts\n",
            "\t Batch train loss: 0.4416828751564026, accuracy 0.875\n",
            "\t Batch train loss: 0.28287604451179504, accuracy 0.875\n",
            "\t Batch train loss: 0.39811408519744873, accuracy 0.75\n",
            "\t Batch train loss: 0.04975777864456177, accuracy 1.0\n",
            "\t Batch train loss: 0.917862057685852, accuracy 0.625\n",
            "[5]/[9] End epoch: train loss: 0.37954230849446213, val loss: 0.6288885683818188\n",
            "\t Epoch train accuracy: 0.8476448655128479, val accuracy: 0.7736228387615601\n",
            "\n",
            "[6]/[9] Epoch starts\n",
            "\t Batch train loss: 0.03194152191281319, accuracy 1.0\n",
            "\t Batch train loss: 0.29263779520988464, accuracy 0.875\n",
            "\t Batch train loss: 0.11058437079191208, accuracy 1.0\n",
            "\t Batch train loss: 0.42764756083488464, accuracy 0.75\n",
            "\t Batch train loss: 0.6427865624427795, accuracy 0.75\n",
            "[6]/[9] End epoch: train loss: 0.325574584738538, val loss: 0.6913461953313937\n",
            "\t Epoch train accuracy: 0.8795821666717529, val accuracy: 0.7366304784881383\n",
            "\n",
            "[7]/[9] Epoch starts\n",
            "\t Batch train loss: 0.453667551279068, accuracy 0.875\n",
            "\t Batch train loss: 0.7673917412757874, accuracy 0.75\n",
            "\t Batch train loss: 0.2949308753013611, accuracy 0.875\n",
            "\t Batch train loss: 0.06481959670782089, accuracy 1.0\n",
            "\t Batch train loss: 0.022836392745375633, accuracy 1.0\n",
            "[7]/[9] End epoch: train loss: 0.2993390986311833, val loss: 0.51958336861584\n",
            "\t Epoch train accuracy: 0.8887214660644531, val accuracy: 0.8206674708484117\n",
            "\n",
            "[8]/[9] Epoch starts\n",
            "\t Batch train loss: 0.31986942887306213, accuracy 1.0\n",
            "\t Batch train loss: 0.3102054297924042, accuracy 0.875\n",
            "\t Batch train loss: 0.1128561869263649, accuracy 1.0\n",
            "\t Batch train loss: 0.25085926055908203, accuracy 0.875\n",
            "\t Batch train loss: 0.014399307779967785, accuracy 1.0\n",
            "[8]/[9] End epoch: train loss: 0.22387732557050358, val loss: 0.3616570182795035\n",
            "\t Epoch train accuracy: 0.9177463054656982, val accuracy: 0.8717330116606353\n",
            "\n",
            "[9]/[9] Epoch starts\n",
            "\t Batch train loss: 0.029192207381129265, accuracy 1.0\n",
            "\t Batch train loss: 0.6983399987220764, accuracy 0.625\n",
            "\t Batch train loss: 0.07463507354259491, accuracy 1.0\n",
            "\t Batch train loss: 0.2964726686477661, accuracy 0.75\n",
            "\t Batch train loss: 0.28686845302581787, accuracy 0.875\n",
            "[9]/[9] End epoch: train loss: 0.21916120154038596, val loss: 0.21952199058626778\n",
            "\t Epoch train accuracy: 0.9178467392921448, val accuracy: 0.914756735022115\n",
            "\n"
          ]
        }
      ],
      "source": [
        "trainer.training()"
      ],
      "id": "lizL5MmZZz_R"
    },
    {
      "cell_type": "markdown",
      "metadata": {
        "id": "BsrPSgrRZz_R"
      },
      "source": [
        "#### Evaluate model"
      ],
      "id": "BsrPSgrRZz_R"
    },
    {
      "cell_type": "code",
      "execution_count": null,
      "metadata": {
        "id": "1W-hYkppZz_S"
      },
      "outputs": [],
      "source": [
        "# save cuda memory\n",
        "# culd skip\n",
        "\n",
        "del resnet_152\n",
        "\n",
        "resnet_152 = resnet152(num_channels=3, num_classes = NUM_CLASS).cuda()"
      ],
      "id": "1W-hYkppZz_S"
    },
    {
      "cell_type": "code",
      "execution_count": null,
      "metadata": {
        "id": "phUnoIuqZz_S"
      },
      "outputs": [],
      "source": [
        "resnet_152.load_state_dict(torch.load(f'multi_class_output/ResNet152.pt')['model_state_dict'])\n",
        "resnet_152 = resnet_152.to(device)"
      ],
      "id": "phUnoIuqZz_S"
    },
    {
      "cell_type": "code",
      "execution_count": null,
      "metadata": {
        "id": "1gD7KoyiZz_S"
      },
      "outputs": [],
      "source": [
        "_, _, preds = trainer.val()"
      ],
      "id": "1gD7KoyiZz_S"
    },
    {
      "cell_type": "code",
      "execution_count": null,
      "metadata": {
        "id": "asWKzUu5Zz_S"
      },
      "outputs": [],
      "source": [
        "prediciton = pd.DataFrame([preds[0].cpu().numpy(), preds[1].cpu().numpy()]).T\n",
        "prediciton.rename = ['labels', 'predictions']\n",
        "\n",
        "prediciton.to_csv('multi_class_output/{name}.csv'.format(name=NAME), index=False)"
      ],
      "id": "asWKzUu5Zz_S"
    },
    {
      "cell_type": "markdown",
      "metadata": {
        "id": "2TlLlo5vZz_S"
      },
      "source": [
        "### Metrics"
      ],
      "id": "2TlLlo5vZz_S"
    },
    {
      "cell_type": "code",
      "execution_count": null,
      "metadata": {
        "id": "OwandS2CZz_S"
      },
      "outputs": [],
      "source": [
        "models = [resnet_18, resnet_152]\n",
        "models_name = ['resnet18: ', 'resnet152: ']"
      ],
      "id": "OwandS2CZz_S"
    },
    {
      "cell_type": "code",
      "execution_count": null,
      "metadata": {
        "id": "tA-IHYSTZz_S"
      },
      "outputs": [],
      "source": [
        "metrics = [met for met in os.listdir('multi_class_output') if met[-12:]=='_metrics.csv']"
      ],
      "id": "tA-IHYSTZz_S"
    },
    {
      "cell_type": "code",
      "execution_count": null,
      "metadata": {
        "colab": {
          "base_uri": "https://localhost:8080/",
          "height": 887
        },
        "outputId": "3b32c0dc-40a9-4ed4-face-63ff25a4935b",
        "id": "BxnP7eh7Zz_S"
      },
      "outputs": [
        {
          "output_type": "display_data",
          "data": {
            "text/plain": [
              "<Figure size 640x480 with 1 Axes>"
            ],
            "image/png": "[encoded data removed]"
          },
          "metadata": {}
        },
        {
          "output_type": "display_data",
          "data": {
            "text/plain": [
              "<Figure size 640x480 with 1 Axes>"
            ],
            "image/png": "[encoded data removed]"
          },
          "metadata": {}
        }
      ],
      "source": [
        "for metric_file_name in metrics:\n",
        "    \n",
        "    path_metric = os.path.join('multi_class_output', metric_file_name)\n",
        "    metric_file = pd.read_csv(path_metric)\n",
        "    \n",
        "    train_loss = metric_file['train_loss']\n",
        "    val_loss = metric_file['val_loss']\n",
        "    plt.plot(np.arange(len(train_loss)), train_loss, label='train_loss')\n",
        "    plt.plot(np.arange(len(val_loss)), val_loss, label='val_loss')\n",
        "    plt.legend()\n",
        "    plt.title(f'Loss of {metric_file_name[:-12]}')\n",
        "    plt.show()"
      ],
      "id": "BxnP7eh7Zz_S"
    },
    {
      "cell_type": "code",
      "execution_count": null,
      "metadata": {
        "colab": {
          "base_uri": "https://localhost:8080/",
          "height": 452
        },
        "outputId": "610b1b92-add0-442d-a5f7-b666e3f63da2",
        "id": "hM0GJswyZz_S"
      },
      "outputs": [
        {
          "output_type": "display_data",
          "data": {
            "text/plain": [
              "<Figure size 640x480 with 1 Axes>"
            ],
            "image/png": "[encoded data removed]"
          },
          "metadata": {}
        }
      ],
      "source": [
        "for metric_file_name in metrics:\n",
        "    \n",
        "    path_metric = os.path.join('multi_class_output', metric_file_name)\n",
        "    metric_file = pd.read_csv(path_metric)\n",
        "    \n",
        "    val_accuracy = metric_file['val accuracy']\n",
        "    plt.plot(np.arange(len(val_accuracy)), val_accuracy, label=metric_file_name[:-12])\n",
        "    plt.legend()\n",
        "    plt.title('Accuracy')"
      ],
      "id": "hM0GJswyZz_S"
    },
    {
      "cell_type": "markdown",
      "metadata": {
        "id": "z_zS4V6qvv9m"
      },
      "source": [
        "## Multi-label problem"
      ],
      "id": "z_zS4V6qvv9m"
    },
    {
      "cell_type": "code",
      "execution_count": 19,
      "metadata": {
        "colab": {
          "base_uri": "https://localhost:8080/"
        },
        "id": "be5bc2ae-4021-4ccc-8685-26bb1a365abc",
        "outputId": "af6f85a6-edc7-4637-ce82-1fef28e70d66"
      },
      "outputs": [
        {
          "output_type": "stream",
          "name": "stderr",
          "text": [
            "Downloading...\n",
            "From: https://drive.google.com/uc?id=15aX9gKeSlGoUJBHAQGqkL5euq0kDKkwg\n",
            "To: /content/label_data.zip\n",
            "100%|██████████| 4.51G/4.51G [01:00<00:00, 74.8MB/s]\n"
          ]
        }
      ],
      "source": [
        "gdown.download(\"https://drive.google.com/file/d/15aX9gKeSlGoUJBHAQGqkL5euq0kDKkwg/view?usp=share_link\",\"./label_data.zip\", quiet=False, fuzzy=True)\n",
        "!unzip -q ./label_data.zip"
      ],
      "id": "be5bc2ae-4021-4ccc-8685-26bb1a365abc"
    },
    {
      "cell_type": "code",
      "execution_count": 21,
      "metadata": {
        "id": "1d2a83f8-7aab-4efc-9506-075065e2692f"
      },
      "outputs": [],
      "source": [
        "# Clean dataset: RUN ONLY ONCE\n",
        "data = pd.read_csv('sample_labels.csv')\n",
        "data['lables'] = data['Finding Labels'].str.split('|')\n",
        "data['Image Index'] = './sample/images/' + data['Image Index']\n",
        "\n",
        "chen = []\n",
        "for path_img in data['Image Index'].values:\n",
        "    img = Image.open(path_img)\n",
        "    chen.append(transforms.ToTensor()(img).shape)\n",
        "\n",
        "bad_img = data.loc[pd.DataFrame(chen)[0] > 1, 'Image Index'].values\n",
        "\n",
        "for path_img in bad_img:\n",
        "    img = plt.imread(path_img)\n",
        "    img = img[:, :, 0]\n",
        "    img = Image.fromarray(np.uint8(img * 255), 'L')\n",
        "    img.save(path_img,\"PNG\")"
      ],
      "id": "1d2a83f8-7aab-4efc-9506-075065e2692f"
    },
    {
      "cell_type": "code",
      "execution_count": 22,
      "metadata": {
        "id": "bddfe218-cfbc-4c95-903d-31875f208dcf"
      },
      "outputs": [],
      "source": [
        "if not os.path.exists('multi_label_output'):\n",
        "    os.mkdir('multi_label_output')\n",
        "else:\n",
        "    print('multi_label_output exists')"
      ],
      "id": "bddfe218-cfbc-4c95-903d-31875f208dcf"
    },
    {
      "cell_type": "code",
      "execution_count": 23,
      "metadata": {
        "id": "6LQ6ZXnFvv9n"
      },
      "outputs": [],
      "source": [
        "from dl2023_project.data.multi_label_build_data import build_dataloader\n",
        "\n",
        "BATCH_SIZE=4\n",
        "\n",
        "transfrom = transforms.Compose([\n",
        "    transforms.Resize(256),\n",
        "    transforms.RandomRotation(30),\n",
        "    transforms.ToTensor(),\n",
        "    transforms.Normalize(0.5, 0.5)\n",
        "])\n",
        "\n",
        "train_dataloader, test_dataloader, trainset_len, testset_len, NUM_CLASS = build_dataloader(transfrom, BATCH_SIZE)"
      ],
      "id": "6LQ6ZXnFvv9n"
    },
    {
      "cell_type": "markdown",
      "metadata": {
        "id": "WCPXBXeR0QCT"
      },
      "source": [
        "### Resnet18"
      ],
      "id": "WCPXBXeR0QCT"
    },
    {
      "cell_type": "markdown",
      "metadata": {
        "id": "4at2dGqS0Uxm"
      },
      "source": [
        "#### Training"
      ],
      "id": "4at2dGqS0Uxm"
    },
    {
      "cell_type": "code",
      "execution_count": 24,
      "metadata": {
        "id": "Tuhf3Rkdvv9n"
      },
      "outputs": [],
      "source": [
        "resnet_18 = resnet18(num_channels = 1, num_classes = NUM_CLASS).cuda()"
      ],
      "id": "Tuhf3Rkdvv9n"
    },
    {
      "cell_type": "code",
      "execution_count": 25,
      "metadata": {
        "id": "iEExRWXdvv9n"
      },
      "outputs": [],
      "source": [
        "criteriation = nn.BCELoss()"
      ],
      "id": "iEExRWXdvv9n"
    },
    {
      "cell_type": "code",
      "execution_count": 26,
      "metadata": {
        "id": "kWfYtYhJvv9n"
      },
      "outputs": [],
      "source": [
        "optimizer = torch.optim.Adam(resnet_18.parameters(), lr=1e-5)"
      ],
      "id": "kWfYtYhJvv9n"
    },
    {
      "cell_type": "code",
      "execution_count": 27,
      "metadata": {
        "id": "DLd-dm_Ivv9n"
      },
      "outputs": [],
      "source": [
        "NAME = 'ResNet18'\n",
        "\n",
        "trainer = Trainer(resnet_18, \n",
        "                  criteriation,\n",
        "                  device,\n",
        "                  train_dataloader,\n",
        "                  test_dataloader,\n",
        "                  trainset_len,\n",
        "                  testset_len,\n",
        "                  optimizer,\n",
        "                  epochs=9,\n",
        "                  path_output='multi_label_output/{name}.pt'.format(name=NAME),\n",
        "                  multi_label=True\n",
        "                 )"
      ],
      "id": "DLd-dm_Ivv9n"
    },
    {
      "cell_type": "code",
      "source": [
        "trainer.training()"
      ],
      "metadata": {
        "colab": {
          "base_uri": "https://localhost:8080/"
        },
        "id": "h--B3lk1GLdI",
        "outputId": "a993f412-d799-4706-9244-a1b70fc5df00"
      },
      "id": "h--B3lk1GLdI",
      "execution_count": 28,
      "outputs": [
        {
          "output_type": "stream",
          "name": "stdout",
          "text": [
            "[1]/[9] Epoch starts\n",
            "\t Batch train loss: 0.7123063206672668, accuracy 0.775\n",
            "\t Batch train loss: 0.4618370532989502, accuracy 0.7291423853923854\n",
            "\t Batch train loss: 0.27301883697509766, accuracy 0.6944444444444444\n",
            "\t Batch train loss: 0.12007353454828262, accuracy 1.0\n",
            "\t Batch train loss: 0.12593820691108704, accuracy 0.875\n",
            "[1]/[9] End epoch: train loss: 0.28669271814318137, val loss: 0.2223302671198968\n",
            "\t Epoch train accuracy: 0.6748530085979914, val accuracy: 0.6808953100043644\n",
            "\n",
            "[2]/[9] Epoch starts\n",
            "\t Batch train loss: 0.10321743041276932, accuracy 1.0\n",
            "\t Batch train loss: 0.30806151032447815, accuracy 0.5157738095238096\n",
            "\t Batch train loss: 0.2010999470949173, accuracy 0.6875\n",
            "\t Batch train loss: 0.13898228108882904, accuracy 0.8125\n",
            "\t Batch train loss: 0.32747340202331543, accuracy 0.6509920634920635\n",
            "[2]/[9] End epoch: train loss: 0.21182893254153573, val loss: 0.21184227073251086\n",
            "\t Epoch train accuracy: 0.6922770775466277, val accuracy: 0.6839646125094385\n",
            "\n",
            "[3]/[9] Epoch starts\n",
            "\t Batch train loss: 0.08994845300912857, accuracy 1.0\n",
            "\t Batch train loss: 0.19148579239845276, accuracy 0.8972222222222223\n",
            "\t Batch train loss: 0.338234543800354, accuracy 0.35673076923076924\n",
            "\t Batch train loss: 0.31440556049346924, accuracy 0.6499999999999999\n",
            "\t Batch train loss: 0.15842483937740326, accuracy 0.7708333333333333\n",
            "[3]/[9] End epoch: train loss: 0.20820426186224822, val loss: 0.21235570005480994\n",
            "\t Epoch train accuracy: 0.6926073950793654, val accuracy: 0.6827998085190324\n",
            "\n",
            "[4]/[9] Epoch starts\n",
            "\t Batch train loss: 0.2092522531747818, accuracy 0.4419642857142857\n",
            "\t Batch train loss: 0.2755497694015503, accuracy 0.6361111111111111\n",
            "\t Batch train loss: 0.2185383290052414, accuracy 0.7291666666666666\n",
            "\t Batch train loss: 0.1327648162841797, accuracy 0.8333333333333333\n",
            "\t Batch train loss: 0.19088919460773468, accuracy 0.625\n",
            "[4]/[9] End epoch: train loss: 0.2071779761426026, val loss: 0.21196970441789897\n",
            "\t Epoch train accuracy: 0.6935394221369696, val accuracy: 0.6673433260910959\n",
            "\n",
            "[5]/[9] Epoch starts\n",
            "\t Batch train loss: 0.19072824716567993, accuracy 0.7847222222222222\n",
            "\t Batch train loss: 0.3079375922679901, accuracy 0.47756410256410253\n",
            "\t Batch train loss: 0.1907418966293335, accuracy 0.675\n",
            "\t Batch train loss: 0.29849734902381897, accuracy 0.46875\n",
            "\t Batch train loss: 0.1340627670288086, accuracy 0.8333333333333333\n",
            "[5]/[9] End epoch: train loss: 0.2058479161631968, val loss: 0.21195144228052337\n",
            "\t Epoch train accuracy: 0.6942944684862191, val accuracy: 0.6690789143621436\n",
            "\n",
            "[6]/[9] Epoch starts\n",
            "\t Batch train loss: 0.16832894086837769, accuracy 0.78125\n",
            "\t Batch train loss: 0.1348126232624054, accuracy 0.8958333333333333\n",
            "\t Batch train loss: 0.3817002773284912, accuracy 0.41944444444444445\n",
            "\t Batch train loss: 0.10216821730136871, accuracy 0.875\n",
            "\t Batch train loss: 0.2851497530937195, accuracy 0.38541666666666663\n",
            "[6]/[9] End epoch: train loss: 0.20465403815509217, val loss: 0.20865060681980652\n",
            "\t Epoch train accuracy: 0.6923888641883141, val accuracy: 0.6815564583350042\n",
            "\n",
            "[7]/[9] Epoch starts\n",
            "\t Batch train loss: 0.21903948485851288, accuracy 0.7449494949494949\n",
            "\t Batch train loss: 0.083182692527771, accuracy 1.0\n",
            "\t Batch train loss: 0.161302849650383, accuracy 0.6875\n",
            "\t Batch train loss: 0.18891656398773193, accuracy 0.7440476190476191\n",
            "\t Batch train loss: 0.18823671340942383, accuracy 0.6815476190476191\n",
            "[7]/[9] End epoch: train loss: 0.204206293455866, val loss: 0.21414902487920928\n",
            "\t Epoch train accuracy: 0.694989162412797, val accuracy: 0.6401839040052688\n",
            "\n",
            "[8]/[9] Epoch starts\n",
            "\t Batch train loss: 0.2979443073272705, accuracy 0.4782828282828283\n",
            "\t Batch train loss: 0.4203726351261139, accuracy 0.5294642857142857\n",
            "\t Batch train loss: 0.25414159893989563, accuracy 0.494047619047619\n",
            "\t Batch train loss: 0.09693821519613266, accuracy 0.875\n",
            "\t Batch train loss: 0.2023625373840332, accuracy 0.6685606060606061\n",
            "[8]/[9] End epoch: train loss: 0.20292407813478872, val loss: 0.2085394995747322\n",
            "\t Epoch train accuracy: 0.6941492662104226, val accuracy: 0.6781992576261086\n",
            "\n",
            "[9]/[9] Epoch starts\n",
            "\t Batch train loss: 0.251559317111969, accuracy 0.6267361111111112\n",
            "\t Batch train loss: 0.3591102957725525, accuracy 0.49583333333333335\n",
            "\t Batch train loss: 0.17870332300662994, accuracy 0.65\n",
            "\t Batch train loss: 0.18119493126869202, accuracy 0.5852272727272727\n",
            "\t Batch train loss: 0.38327205181121826, accuracy 0.40767045454545453\n",
            "[9]/[9] End epoch: train loss: 0.20181368938423985, val loss: 0.21058866347250238\n",
            "\t Epoch train accuracy: 0.6953107345368851, val accuracy: 0.672661072160403\n",
            "\n"
          ]
        }
      ]
    },
    {
      "cell_type": "markdown",
      "metadata": {
        "id": "H4kKJ9urvv9n"
      },
      "source": [
        "#### Evaluate model"
      ],
      "id": "H4kKJ9urvv9n"
    },
    {
      "cell_type": "code",
      "source": [
        "del resnet_18\n",
        "\n",
        "resnet_18 = resnet18(num_channels=1, num_classes = NUM_CLASS).cuda()"
      ],
      "metadata": {
        "id": "PzhYfQPpKPtb"
      },
      "id": "PzhYfQPpKPtb",
      "execution_count": null,
      "outputs": []
    },
    {
      "cell_type": "code",
      "execution_count": null,
      "metadata": {
        "id": "_H53kz69vv9n"
      },
      "outputs": [],
      "source": [
        "resnet_18.load_state_dict(torch.load(f'multi_label_output/ResNet18.pt')['model_state_dict'])\n",
        "resnet_18 = resnet_18.to(device)"
      ],
      "id": "_H53kz69vv9n"
    },
    {
      "cell_type": "code",
      "execution_count": null,
      "metadata": {
        "id": "Hr32tZ2Zvv9o"
      },
      "outputs": [],
      "source": [
        "trainer = Trainer(resnet_18, \n",
        "                  criteriation,\n",
        "                  device,\n",
        "                  train_dataloader,\n",
        "                  test_dataloader,\n",
        "                  trainset_len,\n",
        "                  testset_len,\n",
        "                  path_output='multi_label_output/{name}.pt'.format(name=NAME),\n",
        "                  multi_label=True\n",
        "                 )"
      ],
      "id": "Hr32tZ2Zvv9o"
    },
    {
      "cell_type": "code",
      "execution_count": null,
      "metadata": {
        "id": "PaO7SSguvv9o"
      },
      "outputs": [],
      "source": [
        "_, _, preds = trainer.val()"
      ],
      "id": "PaO7SSguvv9o"
    },
    {
      "cell_type": "code",
      "execution_count": null,
      "metadata": {
        "id": "EzJ9Z_21vv9o"
      },
      "outputs": [],
      "source": [
        "pd.DataFrame(preds[0].cpu().numpy()).to_csv('multi_label_output/true_{name}.csv'.format(name=NAME), index=False)\n",
        "pd.DataFrame(preds[1].cpu().numpy()).to_csv('multi_label_output/pred_{name}.csv'.format(name=NAME), index=False)"
      ],
      "id": "EzJ9Z_21vv9o"
    },
    {
      "cell_type": "markdown",
      "metadata": {
        "id": "96382bfd-31aa-4a51-864c-8b4c3505917f"
      },
      "source": [
        "### Resnet152"
      ],
      "id": "96382bfd-31aa-4a51-864c-8b4c3505917f"
    },
    {
      "cell_type": "markdown",
      "metadata": {
        "id": "-vyfJzdb0fQQ"
      },
      "source": [
        "#### Training"
      ],
      "id": "-vyfJzdb0fQQ"
    },
    {
      "cell_type": "code",
      "execution_count": 34,
      "metadata": {
        "id": "ad1e804a-518c-4753-8f05-c91d550a935d"
      },
      "outputs": [],
      "source": [
        "resnet_152 = resnet152(num_channels = 1, num_classes = NUM_CLASS).cuda()"
      ],
      "id": "ad1e804a-518c-4753-8f05-c91d550a935d"
    },
    {
      "cell_type": "code",
      "execution_count": 35,
      "metadata": {
        "id": "f98564fa-3560-4c92-b78f-f080c901daac"
      },
      "outputs": [],
      "source": [
        "criteriation = nn.BCELoss()"
      ],
      "id": "f98564fa-3560-4c92-b78f-f080c901daac"
    },
    {
      "cell_type": "code",
      "execution_count": 36,
      "metadata": {
        "id": "42fca761-b6ec-4bb5-a15e-a1335f69b20a"
      },
      "outputs": [],
      "source": [
        "optimizer = torch.optim.Adam(resnet_152.parameters(), lr=1e-5)"
      ],
      "id": "42fca761-b6ec-4bb5-a15e-a1335f69b20a"
    },
    {
      "cell_type": "code",
      "execution_count": 37,
      "metadata": {
        "id": "fe54a0c9-f461-4299-b9eb-27c524da78f6"
      },
      "outputs": [],
      "source": [
        "NAME = 'ResNet152'\n",
        "\n",
        "trainer = Trainer(resnet_152, \n",
        "                  criteriation,\n",
        "                  device,\n",
        "                  train_dataloader,\n",
        "                  test_dataloader,\n",
        "                  trainset_len,\n",
        "                  testset_len,\n",
        "                  optimizer,\n",
        "                  epochs=9,\n",
        "                  path_output='multi_label_output/{name}.pt'.format(name=NAME),\n",
        "                  multi_label=True\n",
        "                 )"
      ],
      "id": "fe54a0c9-f461-4299-b9eb-27c524da78f6"
    },
    {
      "cell_type": "code",
      "source": [
        "trainer.training()"
      ],
      "metadata": {
        "colab": {
          "base_uri": "https://localhost:8080/"
        },
        "id": "nDrOz7T8Q18m",
        "outputId": "814e4ccc-fc42-4b0e-c83e-46de342c4e1d"
      },
      "id": "nDrOz7T8Q18m",
      "execution_count": 38,
      "outputs": [
        {
          "output_type": "stream",
          "name": "stdout",
          "text": [
            "[1]/[9] Epoch starts\n",
            "\t Batch train loss: 0.7543862462043762, accuracy 0.11079198579198579\n",
            "\t Batch train loss: 0.24188853800296783, accuracy 0.75\n",
            "\t Batch train loss: 0.0900890976190567, accuracy 1.0\n",
            "\t Batch train loss: 0.12543728947639465, accuracy 0.8125\n",
            "\t Batch train loss: 0.11215081810951233, accuracy 0.875\n",
            "[1]/[9] End epoch: train loss: 0.2391643797939305, val loss: 0.21904556816784426\n",
            "\t Epoch train accuracy: 0.661185211501822, val accuracy: 0.68172412032247\n",
            "\n",
            "[2]/[9] Epoch starts\n",
            "\t Batch train loss: 0.0930955782532692, accuracy 1.0\n",
            "\t Batch train loss: 0.18433599174022675, accuracy 0.65625\n",
            "\t Batch train loss: 0.13223296403884888, accuracy 0.8125\n",
            "\t Batch train loss: 0.20087340474128723, accuracy 0.7958333333333334\n",
            "\t Batch train loss: 0.14445145428180695, accuracy 0.8125\n",
            "[2]/[9] End epoch: train loss: 0.21295472240966298, val loss: 0.22025280506960734\n",
            "\t Epoch train accuracy: 0.6912104334691922, val accuracy: 0.6807031808760176\n",
            "\n",
            "[3]/[9] Epoch starts\n",
            "\t Batch train loss: 0.17673039436340332, accuracy 0.5982142857142857\n",
            "\t Batch train loss: 0.17706166207790375, accuracy 0.6458333333333333\n",
            "\t Batch train loss: 0.21278150379657745, accuracy 0.4375\n",
            "\t Batch train loss: 0.24457167088985443, accuracy 0.5803571428571429\n",
            "\t Batch train loss: 0.19330082833766937, accuracy 0.80625\n",
            "[3]/[9] End epoch: train loss: 0.21321925669908523, val loss: 0.2203993899789269\n",
            "\t Epoch train accuracy: 0.6913783700786018, val accuracy: 0.676951487488954\n",
            "\n",
            "[4]/[9] Epoch starts\n",
            "\t Batch train loss: 0.09479030221700668, accuracy 1.0\n",
            "\t Batch train loss: 0.21270932257175446, accuracy 0.6607142857142857\n",
            "\t Batch train loss: 0.2536681592464447, accuracy 0.6977272727272728\n",
            "\t Batch train loss: 0.10817887634038925, accuracy 0.875\n",
            "\t Batch train loss: 0.20162783563137054, accuracy 0.675\n",
            "[4]/[9] End epoch: train loss: 0.21244469905809946, val loss: 0.2225058398589186\n",
            "\t Epoch train accuracy: 0.6917255213200031, val accuracy: 0.6668811888214208\n",
            "\n",
            "[5]/[9] Epoch starts\n",
            "\t Batch train loss: 0.18198831379413605, accuracy 0.6666666666666667\n",
            "\t Batch train loss: 0.12258465588092804, accuracy 0.875\n",
            "\t Batch train loss: 0.1259925812482834, accuracy 0.875\n",
            "\t Batch train loss: 0.12062559276819229, accuracy 0.875\n",
            "\t Batch train loss: 0.16274893283843994, accuracy 0.75\n",
            "[5]/[9] End epoch: train loss: 0.21235408950908527, val loss: 0.21844237518765158\n",
            "\t Epoch train accuracy: 0.6913501166037405, val accuracy: 0.6814504680405662\n",
            "\n",
            "[6]/[9] Epoch starts\n",
            "\t Batch train loss: 0.2136380523443222, accuracy 0.64375\n",
            "\t Batch train loss: 0.21110332012176514, accuracy 0.6294642857142857\n",
            "\t Batch train loss: 0.44322410225868225, accuracy 0.507638888888889\n",
            "\t Batch train loss: 0.14649620652198792, accuracy 0.6875\n",
            "\t Batch train loss: 0.08308838307857513, accuracy 1.0\n",
            "[6]/[9] End epoch: train loss: 0.21192993206224314, val loss: 0.219384777850665\n",
            "\t Epoch train accuracy: 0.6920139047408923, val accuracy: 0.6643130361807882\n",
            "\n",
            "[7]/[9] Epoch starts\n",
            "\t Batch train loss: 0.176719531416893, accuracy 0.7232142857142857\n",
            "\t Batch train loss: 0.26362884044647217, accuracy 0.5817307692307692\n",
            "\t Batch train loss: 0.1443304568529129, accuracy 0.775\n",
            "\t Batch train loss: 0.1771526038646698, accuracy 0.7727272727272727\n",
            "\t Batch train loss: 0.10884235799312592, accuracy 0.8333333333333333\n",
            "[7]/[9] End epoch: train loss: 0.2112992543772843, val loss: 0.21702649291142834\n",
            "\t Epoch train accuracy: 0.6912560768612683, val accuracy: 0.6732019003974846\n",
            "\n",
            "[8]/[9] Epoch starts\n",
            "\t Batch train loss: 0.1996748298406601, accuracy 0.6477272727272727\n",
            "\t Batch train loss: 0.10784443467855453, accuracy 0.8333333333333333\n",
            "\t Batch train loss: 0.1327831745147705, accuracy 0.8\n",
            "\t Batch train loss: 0.0818709135055542, accuracy 1.0\n",
            "\t Batch train loss: 0.2804514467716217, accuracy 0.681060606060606\n",
            "[8]/[9] End epoch: train loss: 0.2108813592422766, val loss: 0.21775193870014425\n",
            "\t Epoch train accuracy: 0.692202976263177, val accuracy: 0.6769278719925463\n",
            "\n",
            "[9]/[9] Epoch starts\n",
            "\t Batch train loss: 0.21651972830295563, accuracy 0.65625\n",
            "\t Batch train loss: 0.20141324400901794, accuracy 0.5852272727272727\n",
            "\t Batch train loss: 0.20676779747009277, accuracy 0.7023809523809523\n",
            "\t Batch train loss: 0.18814079463481903, accuracy 0.7375\n",
            "\t Batch train loss: 0.21972927451133728, accuracy 0.5357142857142857\n",
            "[9]/[9] End epoch: train loss: 0.21033099764332988, val loss: 0.2152439619196009\n",
            "\t Epoch train accuracy: 0.6911092344832596, val accuracy: 0.6818046396313568\n",
            "\n"
          ]
        }
      ]
    },
    {
      "cell_type": "markdown",
      "metadata": {
        "id": "3a05da17-e6d8-43d6-9c0d-dadcf6cd724d"
      },
      "source": [
        "#### Evaluate model"
      ],
      "id": "3a05da17-e6d8-43d6-9c0d-dadcf6cd724d"
    },
    {
      "cell_type": "code",
      "source": [
        "del resnet_152\n",
        "\n",
        "resnet_152 = resnet152(num_channels=1, num_classes = NUM_CLASS).cuda()"
      ],
      "metadata": {
        "id": "5EOcl9HuL_mW"
      },
      "id": "5EOcl9HuL_mW",
      "execution_count": 39,
      "outputs": []
    },
    {
      "cell_type": "code",
      "execution_count": 40,
      "metadata": {
        "id": "60f0444e-e086-499d-9ade-5e127b5b830c"
      },
      "outputs": [],
      "source": [
        "resnet_152.load_state_dict(torch.load(f'multi_label_output/ResNet152.pt')['model_state_dict'])\n",
        "resnet_152 = resnet_152.to(device)"
      ],
      "id": "60f0444e-e086-499d-9ade-5e127b5b830c"
    },
    {
      "cell_type": "code",
      "execution_count": 41,
      "metadata": {
        "id": "66db2f56-f5f1-463a-aa43-b031a51e2359"
      },
      "outputs": [],
      "source": [
        "trainer = Trainer(resnet_152, \n",
        "                  criteriation,\n",
        "                  device,\n",
        "                  train_dataloader,\n",
        "                  test_dataloader,\n",
        "                  trainset_len,\n",
        "                  testset_len,\n",
        "                  path_output='multi_label_output/{name}.pt'.format(name=NAME),\n",
        "                  multi_label=True\n",
        "                 )"
      ],
      "id": "66db2f56-f5f1-463a-aa43-b031a51e2359"
    },
    {
      "cell_type": "code",
      "execution_count": 42,
      "metadata": {
        "id": "f5f27dfa-0456-4dfc-b276-58905da88210"
      },
      "outputs": [],
      "source": [
        "_, _, preds = trainer.val()"
      ],
      "id": "f5f27dfa-0456-4dfc-b276-58905da88210"
    },
    {
      "cell_type": "code",
      "execution_count": 43,
      "metadata": {
        "id": "4a79b654-c80f-4fb5-b857-db67e7629118"
      },
      "outputs": [],
      "source": [
        "pd.DataFrame(preds[0].cpu().numpy()).to_csv('multi_label_output/true_{name}.csv'.format(name=NAME), index=False)\n",
        "pd.DataFrame(preds[1].cpu().numpy()).to_csv('multi_label_output/pred_{name}.csv'.format(name=NAME), index=False)"
      ],
      "id": "4a79b654-c80f-4fb5-b857-db67e7629118"
    },
    {
      "cell_type": "markdown",
      "metadata": {
        "id": "FrNkqCUC3eY3"
      },
      "source": [
        "### Metrics"
      ],
      "id": "FrNkqCUC3eY3"
    },
    {
      "cell_type": "code",
      "execution_count": 44,
      "metadata": {
        "id": "_1qFoTQP20jb"
      },
      "outputs": [],
      "source": [
        "metrics = [met for met in os.listdir('multi_label_output') if met[-12:]=='_metrics.csv']"
      ],
      "id": "_1qFoTQP20jb"
    },
    {
      "cell_type": "code",
      "execution_count": 45,
      "metadata": {
        "colab": {
          "base_uri": "https://localhost:8080/",
          "height": 887
        },
        "id": "RJyU1g9y2wA2",
        "outputId": "7a2ecd40-7bf1-45f8-89eb-ab8d2010e9f4"
      },
      "outputs": [
        {
          "output_type": "display_data",
          "data": {
            "text/plain": [
              "<Figure size 640x480 with 1 Axes>"
            ],
            "image/png": "[encoded data removed]"
          },
          "metadata": {}
        },
        {
          "output_type": "display_data",
          "data": {
            "text/plain": [
              "<Figure size 640x480 with 1 Axes>"
            ],
            "image/png": "[encoded data removed]"
          },
          "metadata": {}
        }
      ],
      "source": [
        "for metric_file_name in metrics:\n",
        "    \n",
        "    path_metric = os.path.join('multi_label_output', metric_file_name)\n",
        "    metric_file = pd.read_csv(path_metric)\n",
        "    \n",
        "    train_loss = metric_file['train_loss']\n",
        "    val_loss = metric_file['val_loss']\n",
        "    plt.plot(np.arange(len(train_loss)), train_loss, label='train_loss')\n",
        "    plt.plot(np.arange(len(val_loss)), val_loss, label='val_loss')\n",
        "    plt.legend()\n",
        "    plt.title(f'Loss of {metric_file_name[:-12]}')\n",
        "    plt.show()"
      ],
      "id": "RJyU1g9y2wA2"
    },
    {
      "cell_type": "code",
      "execution_count": 46,
      "metadata": {
        "id": "todpBav93BgI",
        "colab": {
          "base_uri": "https://localhost:8080/",
          "height": 452
        },
        "outputId": "5c08bcfe-6601-4fe5-eb12-bf81177b7efa"
      },
      "outputs": [
        {
          "output_type": "display_data",
          "data": {
            "text/plain": [
              "<Figure size 640x480 with 1 Axes>"
            ],
            "image/png": "[encoded data removed]"
          },
          "metadata": {}
        }
      ],
      "source": [
        "for metric_file_name in metrics:\n",
        "    \n",
        "    path_metric = os.path.join('multi_label_output', metric_file_name)\n",
        "    metric_file = pd.read_csv(path_metric)\n",
        "    \n",
        "    val_accuracy = metric_file['val accuracy']\n",
        "    plt.plot(np.arange(len(val_accuracy)), val_accuracy, label=metric_file_name[:-12])\n",
        "    plt.legend()\n",
        "    plt.title('Accuracy')"
      ],
      "id": "todpBav93BgI"
    }
  ],
  "metadata": {
    "accelerator": "GPU",
    "colab": {
      "provenance": []
    },
    "gpuClass": "standard",
    "kernelspec": {
      "display_name": "Python 3 (ipykernel)",
      "language": "python",
      "name": "python3"
    },
    "language_info": {
      "codemirror_mode": {
        "name": "ipython",
        "version": 3
      },
      "file_extension": ".py",
      "mimetype": "text/x-python",
      "name": "python",
      "nbconvert_exporter": "python",
      "pygments_lexer": "ipython3",
      "version": "3.10.9"
    }
  },
  "nbformat": 4,
  "nbformat_minor": 5
}
